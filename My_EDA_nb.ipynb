{
 "cells": [
  {
   "cell_type": "markdown",
   "metadata": {},
   "source": [
    "# Recommender System\n",
    "\n",
    "### What this project does\n",
    "### What this project doesn't do"
   ]
  },
  {
   "cell_type": "code",
   "execution_count": null,
   "metadata": {},
   "outputs": [],
   "source": [
    "# For working on Google Colab\n",
    "# !curl -O http://files.grouplens.org/datasets/movielens/ml-100k.zip\n",
    "# !curl -O https://files.grouplens.org/datasets/movielens/ml-10m.zip\n",
    "# !unzip ml-10m.zip\n",
    "# !cd ml-10M100K/"
   ]
  },
  {
   "cell_type": "code",
   "execution_count": 31,
   "metadata": {},
   "outputs": [],
   "source": [
    "import numpy as np\n",
    "import pandas as pd\n",
    "import scipy.sparse as sparse\n",
    "from sklearn.model_selection import train_test_split\n",
    "import matplotlib.pyplot as plt\n",
    "%matplotlib inline"
   ]
  },
  {
   "cell_type": "markdown",
   "metadata": {},
   "source": [
    "Until now, I've encountered two types of data objects in the Pandas library—DataFrames and Series, and here is a [Scaler Topics article on core components of Pandas](https://www.scaler.com/topics/pandas/core-components-of-pandas/), confirming that these two are the important ones (for single-dimensional, and two-dimensional data respectively), apart from a third object type, `Panel` (for three-dimensional data).\n",
    "\n",
    "Here's a micro-article attempting to list the organisation of files in Pandas' architecture: [Discover Pandas Library Architecture – File Hierarchy in Pandas](https://data-flair.training/blogs/pandas-library-architecture/)\n"
   ]
  },
  {
   "cell_type": "code",
   "execution_count": 32,
   "metadata": {},
   "outputs": [],
   "source": [
    "ratings_df = pd.read_csv(\"./ml-latest-small/ratings.csv\")\n",
    "# ratings_df = pd.read_csv(\"./ml-10M100K/ratings.dat\", delimiter='::', names=['userId', 'movieId', 'rating', 'timestamp'])\n",
    "# ratings_df = pd.read_csv(\"./anime-ratings-matrix-factorization-v-10/anime ratings dataset/rating.csv\")"
   ]
  },
  {
   "cell_type": "code",
   "execution_count": 33,
   "metadata": {},
   "outputs": [
    {
     "data": {
      "text/html": [
       "<div>\n",
       "<style scoped>\n",
       "    .dataframe tbody tr th:only-of-type {\n",
       "        vertical-align: middle;\n",
       "    }\n",
       "\n",
       "    .dataframe tbody tr th {\n",
       "        vertical-align: top;\n",
       "    }\n",
       "\n",
       "    .dataframe thead th {\n",
       "        text-align: right;\n",
       "    }\n",
       "</style>\n",
       "<table border=\"1\" class=\"dataframe\">\n",
       "  <thead>\n",
       "    <tr style=\"text-align: right;\">\n",
       "      <th></th>\n",
       "      <th>userId</th>\n",
       "      <th>movieId</th>\n",
       "      <th>rating</th>\n",
       "      <th>timestamp</th>\n",
       "    </tr>\n",
       "  </thead>\n",
       "  <tbody>\n",
       "    <tr>\n",
       "      <th>0</th>\n",
       "      <td>1</td>\n",
       "      <td>1</td>\n",
       "      <td>4.0</td>\n",
       "      <td>964982703</td>\n",
       "    </tr>\n",
       "    <tr>\n",
       "      <th>1</th>\n",
       "      <td>1</td>\n",
       "      <td>3</td>\n",
       "      <td>4.0</td>\n",
       "      <td>964981247</td>\n",
       "    </tr>\n",
       "    <tr>\n",
       "      <th>2</th>\n",
       "      <td>1</td>\n",
       "      <td>6</td>\n",
       "      <td>4.0</td>\n",
       "      <td>964982224</td>\n",
       "    </tr>\n",
       "    <tr>\n",
       "      <th>3</th>\n",
       "      <td>1</td>\n",
       "      <td>47</td>\n",
       "      <td>5.0</td>\n",
       "      <td>964983815</td>\n",
       "    </tr>\n",
       "    <tr>\n",
       "      <th>4</th>\n",
       "      <td>1</td>\n",
       "      <td>50</td>\n",
       "      <td>5.0</td>\n",
       "      <td>964982931</td>\n",
       "    </tr>\n",
       "  </tbody>\n",
       "</table>\n",
       "</div>"
      ],
      "text/plain": [
       "   userId  movieId  rating  timestamp\n",
       "0       1        1     4.0  964982703\n",
       "1       1        3     4.0  964981247\n",
       "2       1        6     4.0  964982224\n",
       "3       1       47     5.0  964983815\n",
       "4       1       50     5.0  964982931"
      ]
     },
     "execution_count": 33,
     "metadata": {},
     "output_type": "execute_result"
    }
   ],
   "source": [
    "ratings_df.head()"
   ]
  },
  {
   "cell_type": "code",
   "execution_count": 34,
   "metadata": {},
   "outputs": [
    {
     "name": "stdout",
     "output_type": "stream",
     "text": [
      "<class 'pandas.core.frame.DataFrame'>\n",
      "RangeIndex: 100836 entries, 0 to 100835\n",
      "Data columns (total 4 columns):\n",
      " #   Column     Non-Null Count   Dtype  \n",
      "---  ------     --------------   -----  \n",
      " 0   userId     100836 non-null  int64  \n",
      " 1   movieId    100836 non-null  int64  \n",
      " 2   rating     100836 non-null  float64\n",
      " 3   timestamp  100836 non-null  int64  \n",
      "dtypes: float64(1), int64(3)\n",
      "memory usage: 3.1 MB\n"
     ]
    }
   ],
   "source": [
    "ratings_df.info()"
   ]
  },
  {
   "cell_type": "code",
   "execution_count": 35,
   "metadata": {},
   "outputs": [
    {
     "name": "stdout",
     "output_type": "stream",
     "text": [
      "There are 9724 movies and 610 users in the dataset\n"
     ]
    }
   ],
   "source": [
    "# num_movies = pd.DataFrame(ratings_df['movieId'].unique()).count().values[0]       #this is a tad more convoluted way\n",
    "# num_users = pd.DataFrame(ratings_df['userId'].unique()).count().values[0]\n",
    "num_movies = ratings_df['movieId'].unique().shape[0]                                #better way\n",
    "num_users = ratings_df['userId'].unique().shape[0]\n",
    "print(f\"There are {num_movies} movies and {num_users} users in the dataset\")"
   ]
  },
  {
   "cell_type": "code",
   "execution_count": 36,
   "metadata": {},
   "outputs": [
    {
     "name": "stdout",
     "output_type": "stream",
     "text": [
      "There are 0 user IDs exceeding 610.\n",
      "There are 4334 movie IDs exceeding 9724.\n"
     ]
    }
   ],
   "source": [
    "print(f\"There are {ratings_df.loc[ratings_df.userId > num_users].userId.unique().shape[0]} user IDs exceeding {num_users}.\")\n",
    "print(f\"There are {ratings_df.loc[ratings_df.movieId > num_movies].movieId.unique().shape[0]} movie IDs exceeding {num_movies}.\")"
   ]
  },
  {
   "cell_type": "markdown",
   "metadata": {},
   "source": [
    "It seems that the user IDs are contiguous, while the move IDs are not. We might have to consider making them contiguous."
   ]
  },
  {
   "cell_type": "code",
   "execution_count": 37,
   "metadata": {},
   "outputs": [
    {
     "data": {
      "text/html": [
       "<div>\n",
       "<style scoped>\n",
       "    .dataframe tbody tr th:only-of-type {\n",
       "        vertical-align: middle;\n",
       "    }\n",
       "\n",
       "    .dataframe tbody tr th {\n",
       "        vertical-align: top;\n",
       "    }\n",
       "\n",
       "    .dataframe thead th {\n",
       "        text-align: right;\n",
       "    }\n",
       "</style>\n",
       "<table border=\"1\" class=\"dataframe\">\n",
       "  <thead>\n",
       "    <tr style=\"text-align: right;\">\n",
       "      <th></th>\n",
       "      <th>count</th>\n",
       "      <th>mean</th>\n",
       "      <th>std</th>\n",
       "      <th>min</th>\n",
       "      <th>25%</th>\n",
       "      <th>50%</th>\n",
       "      <th>75%</th>\n",
       "      <th>max</th>\n",
       "    </tr>\n",
       "  </thead>\n",
       "  <tbody>\n",
       "    <tr>\n",
       "      <th>userId</th>\n",
       "      <td>100836.0</td>\n",
       "      <td>3.261276e+02</td>\n",
       "      <td>1.826185e+02</td>\n",
       "      <td>1.0</td>\n",
       "      <td>1.770000e+02</td>\n",
       "      <td>3.250000e+02</td>\n",
       "      <td>4.770000e+02</td>\n",
       "      <td>6.100000e+02</td>\n",
       "    </tr>\n",
       "    <tr>\n",
       "      <th>movieId</th>\n",
       "      <td>100836.0</td>\n",
       "      <td>1.943530e+04</td>\n",
       "      <td>3.553099e+04</td>\n",
       "      <td>1.0</td>\n",
       "      <td>1.199000e+03</td>\n",
       "      <td>2.991000e+03</td>\n",
       "      <td>8.122000e+03</td>\n",
       "      <td>1.936090e+05</td>\n",
       "    </tr>\n",
       "    <tr>\n",
       "      <th>rating</th>\n",
       "      <td>100836.0</td>\n",
       "      <td>3.501557e+00</td>\n",
       "      <td>1.042529e+00</td>\n",
       "      <td>0.5</td>\n",
       "      <td>3.000000e+00</td>\n",
       "      <td>3.500000e+00</td>\n",
       "      <td>4.000000e+00</td>\n",
       "      <td>5.000000e+00</td>\n",
       "    </tr>\n",
       "    <tr>\n",
       "      <th>timestamp</th>\n",
       "      <td>100836.0</td>\n",
       "      <td>1.205946e+09</td>\n",
       "      <td>2.162610e+08</td>\n",
       "      <td>828124615.0</td>\n",
       "      <td>1.019124e+09</td>\n",
       "      <td>1.186087e+09</td>\n",
       "      <td>1.435994e+09</td>\n",
       "      <td>1.537799e+09</td>\n",
       "    </tr>\n",
       "  </tbody>\n",
       "</table>\n",
       "</div>"
      ],
      "text/plain": [
       "              count          mean           std          min           25%  \\\n",
       "userId     100836.0  3.261276e+02  1.826185e+02          1.0  1.770000e+02   \n",
       "movieId    100836.0  1.943530e+04  3.553099e+04          1.0  1.199000e+03   \n",
       "rating     100836.0  3.501557e+00  1.042529e+00          0.5  3.000000e+00   \n",
       "timestamp  100836.0  1.205946e+09  2.162610e+08  828124615.0  1.019124e+09   \n",
       "\n",
       "                    50%           75%           max  \n",
       "userId     3.250000e+02  4.770000e+02  6.100000e+02  \n",
       "movieId    2.991000e+03  8.122000e+03  1.936090e+05  \n",
       "rating     3.500000e+00  4.000000e+00  5.000000e+00  \n",
       "timestamp  1.186087e+09  1.435994e+09  1.537799e+09  "
      ]
     },
     "execution_count": 37,
     "metadata": {},
     "output_type": "execute_result"
    }
   ],
   "source": [
    "ratings_df.describe().T"
   ]
  },
  {
   "cell_type": "code",
   "execution_count": 38,
   "metadata": {},
   "outputs": [
    {
     "data": {
      "text/html": [
       "<div>\n",
       "<style scoped>\n",
       "    .dataframe tbody tr th:only-of-type {\n",
       "        vertical-align: middle;\n",
       "    }\n",
       "\n",
       "    .dataframe tbody tr th {\n",
       "        vertical-align: top;\n",
       "    }\n",
       "\n",
       "    .dataframe thead th {\n",
       "        text-align: right;\n",
       "    }\n",
       "</style>\n",
       "<table border=\"1\" class=\"dataframe\">\n",
       "  <thead>\n",
       "    <tr style=\"text-align: right;\">\n",
       "      <th>rating</th>\n",
       "      <th>4.0</th>\n",
       "      <th>3.0</th>\n",
       "      <th>5.0</th>\n",
       "      <th>3.5</th>\n",
       "      <th>4.5</th>\n",
       "      <th>2.0</th>\n",
       "      <th>2.5</th>\n",
       "      <th>1.0</th>\n",
       "      <th>1.5</th>\n",
       "      <th>0.5</th>\n",
       "    </tr>\n",
       "  </thead>\n",
       "  <tbody>\n",
       "    <tr>\n",
       "      <th>count</th>\n",
       "      <td>26818</td>\n",
       "      <td>20047</td>\n",
       "      <td>13211</td>\n",
       "      <td>13136</td>\n",
       "      <td>8551</td>\n",
       "      <td>7551</td>\n",
       "      <td>5550</td>\n",
       "      <td>2811</td>\n",
       "      <td>1791</td>\n",
       "      <td>1370</td>\n",
       "    </tr>\n",
       "  </tbody>\n",
       "</table>\n",
       "</div>"
      ],
      "text/plain": [
       "rating    4.0    3.0    5.0    3.5   4.5   2.0   2.5   1.0   1.5   0.5\n",
       "count   26818  20047  13211  13136  8551  7551  5550  2811  1791  1370"
      ]
     },
     "execution_count": 38,
     "metadata": {},
     "output_type": "execute_result"
    }
   ],
   "source": [
    "pd.Series.value_counts(ratings_df['rating']).to_frame().T"
   ]
  },
  {
   "cell_type": "code",
   "execution_count": 39,
   "metadata": {},
   "outputs": [],
   "source": [
    "# plt.hist(ratings_df['rating'], bins=[(i-1)/2 for i in range(0, 12)])\n",
    "# plt.hist(ratings_df['rating'], bins=[i-0.5 for i in range(-1,12)])  #for anime ratings dataset"
   ]
  },
  {
   "cell_type": "code",
   "execution_count": 40,
   "metadata": {},
   "outputs": [
    {
     "name": "stdout",
     "output_type": "stream",
     "text": [
      "userId       0\n",
      "movieId      0\n",
      "rating       0\n",
      "timestamp    0\n",
      "dtype: int64 \n",
      "\n",
      "<class 'pandas.core.series.Series'>\n"
     ]
    }
   ],
   "source": [
    "print( ratings_df.isna().sum() , \"\\n\")\n",
    "print( type(ratings_df.isna().sum()) )"
   ]
  },
  {
   "cell_type": "code",
   "execution_count": 41,
   "metadata": {},
   "outputs": [
    {
     "name": "stdout",
     "output_type": "stream",
     "text": [
      "100836\n"
     ]
    },
    {
     "data": {
      "text/plain": [
       "100836"
      ]
     },
     "execution_count": 41,
     "metadata": {},
     "output_type": "execute_result"
    }
   ],
   "source": [
    "print( len(ratings_df.duplicated(subset=['userId', 'movieId'])) )\n",
    "len(np.where( ratings_df.duplicated(subset=['userId', 'movieId']) == False )[0])"
   ]
  },
  {
   "cell_type": "markdown",
   "metadata": {},
   "source": [
    "There don't seem to be any duplicates *shruggie"
   ]
  },
  {
   "cell_type": "code",
   "execution_count": 42,
   "metadata": {},
   "outputs": [
    {
     "data": {
      "text/plain": [
       "array([[0., 1., 0., 0.],\n",
       "       [0., 0., 0., 0.],\n",
       "       [0., 0., 0., 2.]])"
      ]
     },
     "execution_count": 42,
     "metadata": {},
     "output_type": "execute_result"
    }
   ],
   "source": [
    "toy = np.zeros((3,4))\n",
    "toy[0,1] = 1\n",
    "toy[2,3] = 2\n",
    "toy"
   ]
  },
  {
   "cell_type": "code",
   "execution_count": 43,
   "metadata": {},
   "outputs": [
    {
     "name": "stdout",
     "output_type": "stream",
     "text": [
      "[1. 2.]\n",
      "2\n",
      "(array([0, 2], dtype=int32), array([1, 3], dtype=int32))\n"
     ]
    }
   ],
   "source": [
    "toy_csc = sparse.csc_matrix(toy)\n",
    "print( toy_csc.data )\n",
    "print( toy_csc.nnz )  # nnz => no. of non-zero (entries)\n",
    "print( toy_csc.nonzero() )"
   ]
  },
  {
   "cell_type": "code",
   "execution_count": 44,
   "metadata": {},
   "outputs": [
    {
     "data": {
      "text/plain": [
       "matrix([[0., 1., 0., 0.],\n",
       "        [0., 0., 0., 0.],\n",
       "        [0., 0., 0., 4.]])"
      ]
     },
     "execution_count": 44,
     "metadata": {},
     "output_type": "execute_result"
    }
   ],
   "source": [
    "toy_csc.power(2).todense()"
   ]
  },
  {
   "cell_type": "code",
   "execution_count": 45,
   "metadata": {},
   "outputs": [],
   "source": [
    "############################################################################\n",
    "## This was an attempt to write a general function to make IDs contiguous ##\n",
    "############################################################################\n",
    "\n",
    "# def make_id_contiguous(df:pd.DataFrame, id:str):\n",
    "#        old_new_id = np.zeros(df[id].max()+1)\n",
    "#        for new_id, old_id in enumerate(df[id].unique()):\n",
    "#               old_new_id[old_id] = new_id\n",
    "              \n",
    "#        import re\n",
    "#        RE_WORDS = re.compile(r'''\n",
    "#                      # Find words in a string. Order matters!\n",
    "#                      [A-Z]+(?=[A-Z][a-z]) |  # All upper case before a capitalized word\n",
    "#                      [A-Z]?[a-z]+ |  # Capitalized words / all lower case\n",
    "#                      [A-Z]+ |  # All upper case\n",
    "#                      \\d+  # Numbers\n",
    "#                      ''', re.VERBOSE)\n",
    "#        id_split = RE_WORDS.findall(id)\n",
    "#        print(id_split)\n",
    "#        print(np.where(id_split == 'Id'))\n",
    "#        # id_split[np.where(id_split == 'Id')] = 'newId'\n",
    "#        new_id_name = \"\".join(i for i in id_split)\n",
    "\n",
    "#        df[new_id_name] = old_new_id[df[id]]\n",
    "#        df = df.astype({new_id_name: 'int64'})\n",
    "#        print( df.head(), \"\\n\" )\n",
    "#        return old_new_id\n",
    "\n",
    "# make_id_contiguous(ratings_df, 'movieId')"
   ]
  },
  {
   "cell_type": "code",
   "execution_count": 46,
   "metadata": {},
   "outputs": [
    {
     "name": "stdout",
     "output_type": "stream",
     "text": [
      "   userId  movieId  rating  timestamp  userNewId\n",
      "0       1        1     4.0  964982703          0\n",
      "1       1        3     4.0  964981247          0\n",
      "2       1        6     4.0  964982224          0\n",
      "3       1       47     5.0  964983815          0\n",
      "4       1       50     5.0  964982931          0 \n",
      "\n",
      "       userId  userNewId\n",
      "22684     156        155\n",
      "22685     156        155\n",
      "22686     156        155\n",
      "22687     156        155\n",
      "22688     156        155\n",
      "...       ...        ...\n",
      "23077     156        155\n",
      "23078     156        155\n",
      "23079     156        155\n",
      "23080     156        155\n",
      "23081     156        155\n",
      "\n",
      "[398 rows x 2 columns] \n",
      "\n",
      "There are 610 users and correspondingly 610.0 contiguous user IDs now\n"
     ]
    }
   ],
   "source": [
    "user_old_new_id = np.zeros(ratings_df[\"userId\"].max()+1)\n",
    "for new_id, old_id in enumerate(ratings_df['userId'].unique()):\n",
    "       user_old_new_id[old_id] = new_id\n",
    "       \n",
    "ratings_df['userNewId'] = user_old_new_id[ratings_df['userId']]\n",
    "ratings_df = ratings_df.astype({'userNewId': 'int64'})\n",
    "\n",
    "print( ratings_df.head(), \"\\n\" )\n",
    "# now just to check that we did it correctly, a movieId should be mapped to the same movieNewId\n",
    "print( ratings_df.loc[ratings_df.userId == 156][['userId', 'userNewId']], \"\\n\" ) \n",
    "print(f\"There are {num_users} users and correspondingly {max(user_old_new_id)+1} contiguous user IDs now\")"
   ]
  },
  {
   "cell_type": "code",
   "execution_count": 47,
   "metadata": {},
   "outputs": [
    {
     "name": "stdout",
     "output_type": "stream",
     "text": [
      "   userId  movieId  rating  timestamp  userNewId  movieNewId\n",
      "0       1        1     4.0  964982703          0           0\n",
      "1       1        3     4.0  964981247          0           1\n",
      "2       1        6     4.0  964982224          0           2\n",
      "3       1       47     5.0  964983815          0           3\n",
      "4       1       50     5.0  964982931          0           4 \n",
      "\n",
      "       movieId  movieNewId\n",
      "17007      156        4463\n",
      "96137      156        4463\n",
      "97391      156        4463 \n",
      "\n",
      "There are 9724 movies and correspondingly 9724.0 contiguous movie IDs now\n"
     ]
    }
   ],
   "source": [
    "movie_old_new_id = np.zeros(ratings_df[\"movieId\"].max()+1)\n",
    "for new_id, old_id in enumerate(ratings_df['movieId'].unique()):\n",
    "       movie_old_new_id[old_id] = new_id\n",
    "       \n",
    "ratings_df['movieNewId'] = movie_old_new_id[ratings_df['movieId']]\n",
    "ratings_df = ratings_df.astype({'movieNewId': 'int64'})\n",
    "\n",
    "print( ratings_df.head(), \"\\n\" )\n",
    "# now just to check that we did it correctly, a movieId should be mapped to the same movieNewId\n",
    "print( ratings_df.loc[ratings_df.movieId == 156][['movieId', 'movieNewId']], \"\\n\" ) \n",
    "print(f\"There are {num_movies} movies and correspondingly {max(movie_old_new_id)+1} contiguous movie IDs now\")"
   ]
  },
  {
   "cell_type": "code",
   "execution_count": 48,
   "metadata": {},
   "outputs": [
    {
     "name": "stdout",
     "output_type": "stream",
     "text": [
      "       userId  movieId  rating   timestamp  userNewId  movieNewId\n",
      "0         509     7347     3.0  1435994597        508        4285\n",
      "1         326    71462     4.0  1322252335        325        5629\n",
      "2          57     2115     3.0   965798155         56         134\n",
      "3         610     1127     4.0  1479544102        609          66\n",
      "4         462     2409     2.0  1174438249        461        1172\n",
      "...       ...      ...     ...         ...        ...         ...\n",
      "80663      42     4005     4.0   996259059         41        1873\n",
      "80664     364      141     4.0   869443367        363         524\n",
      "80665     480     6867     4.0  1179163171        479        2240\n",
      "80666       6      981     3.0   845556567          5         712\n",
      "80667     103     6711     5.0  1431957425        102        2046\n",
      "\n",
      "[80668 rows x 6 columns]\n",
      "       userId  movieId  rating   timestamp  userNewId  movieNewId\n",
      "0         432    77866     4.5  1335139641        431        4730\n",
      "1         288      474     3.0   978465565        287         474\n",
      "2         599     4351     3.0  1498524542        598        2631\n",
      "3          42     2987     4.0   996262677         41         194\n",
      "4          75     1610     4.0  1158989841         74         727\n",
      "...       ...      ...     ...         ...        ...         ...\n",
      "20163     380     5048     2.0  1494268065        379         279\n",
      "20164     434    54272     3.5  1270606860        433        1269\n",
      "20165     226     5989     4.5  1162428551        225         765\n",
      "20166     607     1320     3.0   963080497        606        2750\n",
      "20167     567      750     3.0  1525287719        566         722\n",
      "\n",
      "[20168 rows x 6 columns]\n",
      "(80668, 6) (20168, 6)\n"
     ]
    }
   ],
   "source": [
    "train_df, test_df = train_test_split(ratings_df, test_size=0.2, random_state=42)  #setting random_state ensures consistent splitting every time\n",
    "\n",
    "train_df = train_df.reset_index(drop=True)\n",
    "test_df = test_df.reset_index(drop=True)\n",
    "print(train_df)\n",
    "print(test_df)\n",
    "print( np.shape(train_df), np.shape(test_df) )"
   ]
  },
  {
   "cell_type": "markdown",
   "metadata": {},
   "source": [
    "Since we've chosen to make the movie IDs contiguous by mapping them to new ones, splitting the DataFrame makes creating smaller-dimensional matrix representations of the training or test sets difficult, because, say, the indices chosen in the training set can still lie out of bounds of its smaller matrix's size (similar logic holds for the test set).\n",
    "\n",
    "Instead, let's just work with the full ratings matrix, with the test entries zeroed out in the training matrix (and vice versa), which wouldn't be a bother to the memory anyway because we're using a sparse representation!"
   ]
  },
  {
   "cell_type": "code",
   "execution_count": 49,
   "metadata": {},
   "outputs": [
    {
     "name": "stdout",
     "output_type": "stream",
     "text": [
      "There are 80668 & 20168 non-zero elements in the train and test sparse matrices respectively.\n",
      " 611 9725\n"
     ]
    }
   ],
   "source": [
    "train = sparse.csc_matrix( (train_df['rating'].values, (train_df['userId'].values, train_df['movieNewId'].values)),\\\n",
    "                                 shape=(num_users+1, num_movies+1) )\n",
    "test = sparse.csc_matrix(  (test_df['rating'].values, (test_df['userId'].values, test_df['movieNewId'].values)),\\\n",
    "                                 shape=(num_users+1, num_movies+1))\n",
    "\n",
    "print(f\"There are {train.nnz} & {test.nnz} non-zero elements in the train and test sparse matrices respectively.\\n\", test.shape[0],train.shape[1] )\n",
    "# train.to_dense()\n",
    "# print( train )"
   ]
  },
  {
   "cell_type": "markdown",
   "metadata": {},
   "source": [
    "Lemme check once that the test and train matrix elements are indeed mutually exclusive (zero, non-zero in their matrices respectively).\n",
    "\n",
    "The cell below seems to show all's good"
   ]
  },
  {
   "cell_type": "code",
   "execution_count": 50,
   "metadata": {},
   "outputs": [],
   "source": [
    "for i in zip(test.nonzero()[0], test.nonzero()[1]):\n",
    "       if( train[i[0],i[1]] != 0 ):\n",
    "              print(\"Hah!\")\n",
    "for i in zip(train.nonzero()[0], train.nonzero()[1]):\n",
    "       if( test[i[0],i[1]] != 0 ):\n",
    "              print(\"Hah!\")"
   ]
  },
  {
   "cell_type": "code",
   "execution_count": 51,
   "metadata": {},
   "outputs": [],
   "source": [
    "# print( np.sort(train_df['userId'].values) )\n",
    "# print( mf.p_nnz_idx, \"\\n\" )\n",
    "\n",
    "# print( np.sort(train_df['movieNewId'].values) )\n",
    "# print( np.sort(mf.q_nnz_idx ) )\n",
    "# print( np.sort(train_df['userId'].values) == mf.p_nnz_idx )\n",
    "# print( np.sort(train_df['movieNewId'].values) == np.sort(mf.q_nnz_idx), \"\\n\" )\n",
    "\n",
    "# print( np.where( np.sort(train_df['userId'].values) != train.nonzero()[0]) )\n",
    "# print( np.where( np.sort(train_df['movieNewId'].values) != np.sort( train.nonzero()[1]) ) )\n",
    "# print( np.where( np.sort(train_df['movieNewId'].values) != np.sort(mf.q_nnz_idx)) )\n"
   ]
  },
  {
   "cell_type": "markdown",
   "metadata": {},
   "source": [
    "Hmmm, so the row indices seem to be all good, ~~but the column indices are playing foul.~~ as do the column indices.\n",
    "\n",
    "Wasted quite the time pursuing this!\n",
    "\n",
    "We have used the list `train_df['movieNewId'].values` as the column indices needed to generate R, but upon querying back these column indices, ~~they're coming out wrong!~~\n",
    "Previously, I wasn ony sorting the `train_df['movieNewId'].values` list, and not the list `mf.q_nnz_idx` for comparison. Upon sorting both, they indeed come out to be the same.\n",
    "***"
   ]
  },
  {
   "cell_type": "markdown",
   "metadata": {},
   "source": [
    "## Matrix Factorisation Class\n",
    "Below, I furnish a Matrix Factorisation Python class that implements:\n",
    "- gradient descent\n",
    "- (pending) gradient descent with user and item biases\n",
    "- (pending) sgd\n",
    "- (pending) ALS\n",
    "to learn the embeddings.\n",
    "\n",
    "My current implementation of gradient descent considers the loss function for explicit ratings, i.e. solely over observed values.\n",
    "Still need to implement the Koren et al. approach capturing implicit ratings from the entire matrix.\n",
    "\n",
    "The regularised loss I've used for explicit ratings: $$L(R, P, Q) = \\frac{1}{N}\\underset{(i,j):r_{ui}≠Nan}{\\sum} (r_{ui} - p_u^T\\cdot q_i)^2 + \\lambda(\\sum_u{||p_u||^2} + \\sum_i{||q_i||^2})$$\n",
    "It's a squared error (SE) loss function with regularisation terms. I wonder how using the Mean SE or RMSE would change the behaviour. ~~Conceptually, it shouldn't..~~ Oh how pathetically wrong I was! Not providing the required normalisation on the gradient terms just blew the cost up! I wonder why not providing the normalisation to the gradient calculation blows up the cost. The two seem unrelated, except, not!\n",
    "\n",
    "Still need to add the user and item bias terms to SGD and GD\n",
    "\n",
    "I could provide an option for choosing to provide explicit or implicit data. That way, when one chooses explicit data, I can internally use either of sgd or gd as default (still need to choose which), and when one chooses implicit data, I can choose either ALS or CG."
   ]
  },
  {
   "cell_type": "code",
   "execution_count": 144,
   "metadata": {},
   "outputs": [],
   "source": [
    "class MatrixFactorisation():\n",
    "       def __init__(self, R:sparse.csc_matrix, k:int, verbose:bool=False ):\n",
    "              self.R = R           # R is the \"ratings\" matrix to be factorised\n",
    "              self.k = k           # hyperparameter k is the number of latent factors desired in the factorised embeddings\n",
    "              self.m, self.n = R.shape\n",
    "              self.P = np.random.rand(self.m, k)        # initialising the first factor embedding (of \"users\")\n",
    "              self.Q = np.random.rand(self.n, k)        # initialising the second factor embedding (of \"items\")\n",
    "              self.p_nnz_idx, self.q_nnz_idx = R.nonzero()        # row and col indices in R matrix respectively, of non-zero elements\n",
    "              self.train_mse_at_epochs = []\n",
    "              self.test_mse_at_epochs = []\n",
    "              self.verbose = verbose\n",
    "              self.verbose_epoch_intvl = 50\n",
    "\n",
    "       def __predict_observed(self):\n",
    "              R_predicted = np.sum( np.multiply(self.P[self.p_nnz_idx], self.Q[self.q_nnz_idx]), axis=1 )       #calculating the products only for the nonzero \"observed\" rating entries\n",
    "              R_predicted = sparse.csc_matrix( (R_predicted, (self.p_nnz_idx, self.q_nnz_idx)), shape=(self.m,self.n))              \n",
    "              # R_predicted = self.P @ self.Q.T\n",
    "              # R_predicted = sparse.csc_matrix(R_predicted)\n",
    "              return R_predicted\n",
    "\n",
    "       # def error\n",
    "\n",
    "       def gradients(self, R, _lambda):\n",
    "              \"\"\"\n",
    "              returns gradients w.r.t the elements of the embedding vectors, along with the errors\n",
    "              \"\"\"\n",
    "              R_predicted = self.__predict_observed()\n",
    "              error = R - R_predicted\n",
    "              norm_factor = -2 / self.R.shape[0]  #this factor is crucial! Can't be 1 (i.e. we can't leave the gradients unnormalised, else cost diverges!)\n",
    "              grad_P = norm_factor * (error*self.Q) + 2*(_lambda*self.P)\n",
    "              grad_Q = norm_factor * (error.T*self.P) + 2*(_lambda*self.Q)\n",
    "              return grad_P, grad_Q, error\n",
    "\n",
    "       def gradient_descent(self, iterations=2000, learning_rate = 0.3, _lambda=0.0002, validation:sparse.csc_matrix=None, verbose=False):\n",
    "              \"\"\"\n",
    "              Returns user and item embedding matrices by learning their entries via gradient descent.\n",
    "\n",
    "              Optionally provide a sparse matrix with validation data, to compute the validation performance (measured by mse) over time\n",
    "              \"\"\"\n",
    "              self.verbose = verbose\n",
    "\n",
    "              grad_P, grad_Q, error = self.gradients(self.R, _lambda)\n",
    "              v_P = grad_P\n",
    "              v_Q = grad_Q\n",
    "              beta = 0.8    # momentum constant\n",
    "              train_mse = error.power(2).sum()/self.R.shape[0]\n",
    "              # print(\"train mse:\", train_mse)\n",
    "              self.train_mse_at_epochs.append( [1, train_mse] )\n",
    "              for i in range(iterations):\n",
    "                     grad_P, grad_Q, error = self.gradients(self.R, _lambda)\n",
    "                     v_P = beta*v_P + (1-beta)*grad_P   \n",
    "                     v_Q = beta*v_Q + (1-beta)*grad_Q\n",
    "                     self.P = self.P - learning_rate*v_P       # Grad Desc update rule\n",
    "                     self.Q = self.Q - learning_rate*v_Q       # Grad Desc update rule\n",
    "                     # print(\"train mse:\", error.power(2).sum()/self.R.shape[0] )  #print mse at each iteration\n",
    "                     if(not (i+1)%self.verbose_epoch_intvl):\n",
    "                            self.save_train_mse(i, error)\n",
    "                            self.save_test_mse(i, validation=validation)\n",
    "              return self.P, self.Q\n",
    "\n",
    "       def save_train_mse(self, i, error):\n",
    "              train_mse = error.power(2).sum()/self.R.shape[0]\n",
    "              self.train_mse_at_epochs.append( [i+1, train_mse])\n",
    "              if(self.verbose):\n",
    "                     print(\"\\niteration/epoch\", i+1, \":\")\n",
    "                     print(\"train mse:\", train_mse)\n",
    "\n",
    "       def save_test_mse(self, i, validation=None):\n",
    "              if(validation != None):\n",
    "                     valdn_p_nnz_idx, valdn_q_nnz_idx = validation.nonzero()\n",
    "                     valdn_predicted = np.sum( np.multiply(self.P[valdn_p_nnz_idx], self.Q[valdn_q_nnz_idx]), axis=1 )       #calculating the products only for the nonzero \"observed\" rating entries\n",
    "                     valdn_predicted = sparse.csc_matrix( (valdn_predicted, (valdn_p_nnz_idx, valdn_q_nnz_idx)), shape=(self.m,self.n))\n",
    "                     valdn_error = validation - valdn_predicted\n",
    "                     test_mse = valdn_error.power(2).sum()/self.R.shape[0]\n",
    "                     self.test_mse_at_epochs.append([i+1, test_mse])\n",
    "                     if(self.verbose):\n",
    "                            print(\"iteration\", i+1, \":\")\n",
    "                            print(\"test mse:\", test_mse)\n",
    "\n",
    "       def sgd(self, epochs=30, learning_rate=0.003, _lambda=0.0002, verbose=False):\n",
    "              self.verbose = verbose\n",
    "              beta = 0.8\n",
    "\n",
    "              num_samples = len(self.p_nnz_idx)\n",
    "              training_indices = np.arange(num_samples)\n",
    "              # I couldn't have shuffled the array p_nnz_idx itself, cuz that would require shuffling q_nnx_idx in a corresponding manner\n",
    "\n",
    "              for epoch in range(epochs):\n",
    "                     np.random.shuffle(training_indices)       #stochasticity must be ensured properly!\n",
    "                     for i in training_indices:         #We need to update all users and items at least once in each iteration\n",
    "                            p_idx = self.p_nnz_idx[i]\n",
    "                            q_idx = self.q_nnz_idx[i]\n",
    "\n",
    "                            R_ij = self.R[p_idx, q_idx]\n",
    "                            P_i = self.P[p_idx]\n",
    "                            Q_j = self.Q[q_idx]\n",
    "\n",
    "                            R_predicted_ij = P_i.dot(Q_j.T)\n",
    "                            error_ij = R_ij - R_predicted_ij\n",
    "                            grad_P_i = -2*(error_ij * Q_j) + 2*(_lambda * self.P[p_idx])\n",
    "                            grad_Q_j = -2*(error_ij * P_i) + 2*(_lambda * self.Q[q_idx])\n",
    "\n",
    "                            v_P_i = beta*v_P_i + (1-beta)*grad_P_i if epoch!=0 else grad_P_i\n",
    "                            v_Q_j = beta*v_Q_j + (1-beta)*grad_Q_j if epoch!=0 else grad_Q_j\n",
    "       \n",
    "                            self.P[p_idx] -= learning_rate * v_P_i\n",
    "                            self.Q[q_idx] -= learning_rate * v_Q_j\n",
    "                            # self.P[p_idx] -= learning_rate* grad_P_i\n",
    "                            # self.Q[q_idx] -= learning_rate* grad_Q_j\n",
    "\n",
    "                     if(not (epoch+1)%(self.verbose_epoch_intvl/10)):\n",
    "                            R_predicted = np.sum( np.multiply(self.P[self.p_nnz_idx], self.Q[self.q_nnz_idx]), axis=1 )       #calculating the products only for the nonzero \"observed\" rating entries\n",
    "                            R_predicted = sparse.csc_matrix( (R_predicted, (self.p_nnz_idx, self.q_nnz_idx)), shape=(self.m,self.n))\n",
    "                            error = self.R - R_predicted\n",
    "                            self.save_train_mse(epoch, error)\n",
    "                            # self.save_test_mse(i, validation=validation)\n",
    "              return self.P, self.Q\n",
    "\n",
    "       # def als(self):\n",
    "\n",
    "\n",
    "       def plot_learning_curve(self, validation=None):\n",
    "              if(validation != None):\n",
    "                     test_mse_arr = np.array(self.test_mse_at_epochs)\n",
    "                     plt.plot(test_mse_arr[:,0], test_mse_arr[:,1], label='Test')\n",
    "              train_mse_arr = np.array(self.train_mse_at_epochs)\n",
    "              plt.plot(train_mse_arr[:,0], train_mse_arr[:,1], label='Train')\n",
    "              plt.xticks(fontsize=16)\n",
    "              plt.yticks(fontsize=16)\n",
    "              plt.xlabel('iterations', fontsize=12)\n",
    "              plt.ylabel('MSE', fontsize=12)\n",
    "              plt.legend(loc='best', fontsize=9)\n"
   ]
  },
  {
   "cell_type": "code",
   "execution_count": 145,
   "metadata": {},
   "outputs": [
    {
     "name": "stdout",
     "output_type": "stream",
     "text": [
      "(611, 10) (9725, 10)\n"
     ]
    }
   ],
   "source": [
    "mf = MatrixFactorisation(train, 10)\n",
    "print( np.shape(mf.P), np.shape(mf.Q) )\n",
    "# print( mf.P )"
   ]
  },
  {
   "cell_type": "code",
   "execution_count": 146,
   "metadata": {},
   "outputs": [
    {
     "name": "stdout",
     "output_type": "stream",
     "text": [
      "\n",
      "iteration/epoch 5 :\n",
      "train mse: 83.09331615351753\n",
      "\n",
      "iteration/epoch 10 :\n",
      "train mse: 72.79574992151512\n",
      "\n",
      "iteration/epoch 15 :\n",
      "train mse: 64.25545147251358\n",
      "\n",
      "iteration/epoch 20 :\n",
      "train mse: 58.183056203614726\n",
      "\n",
      "iteration/epoch 25 :\n",
      "train mse: 53.31928838902393\n",
      "\n",
      "iteration/epoch 30 :\n",
      "train mse: 49.98963478700182\n",
      "\n",
      "iteration/epoch 35 :\n",
      "train mse: 47.38552314481957\n",
      "\n",
      "iteration/epoch 40 :\n",
      "train mse: 46.07747934591072\n",
      "\n",
      "iteration/epoch 45 :\n",
      "train mse: 44.58463557722569\n",
      "\n",
      "iteration/epoch 50 :\n",
      "train mse: 42.89514270391427\n",
      "\n",
      "iteration/epoch 55 :\n",
      "train mse: 42.45748471494602\n",
      "\n",
      "iteration/epoch 60 :\n",
      "train mse: 41.40558263545444\n",
      "\n",
      "iteration/epoch 65 :\n",
      "train mse: 40.632415973855935\n",
      "\n",
      "iteration/epoch 70 :\n",
      "train mse: 39.61179790511118\n",
      "\n",
      "iteration/epoch 75 :\n",
      "train mse: 39.52759215675407\n",
      "\n",
      "iteration/epoch 80 :\n",
      "train mse: 38.47094051221577\n",
      "\n",
      "iteration/epoch 85 :\n",
      "train mse: 38.28939865845357\n",
      "\n",
      "iteration/epoch 90 :\n",
      "train mse: 37.70902552616321\n",
      "\n",
      "iteration/epoch 95 :\n",
      "train mse: 37.44939414158219\n",
      "\n",
      "iteration/epoch 100 :\n",
      "train mse: 37.34323969843039\n",
      "(611, 10)\n"
     ]
    }
   ],
   "source": [
    "P, Q = mf.sgd(epochs=100, learning_rate=0.03, verbose=True)\n",
    "print(np.shape(P))"
   ]
  },
  {
   "cell_type": "code",
   "execution_count": 154,
   "metadata": {},
   "outputs": [
    {
     "name": "stdout",
     "output_type": "stream",
     "text": [
      "(611, 10) (9725, 10)\n"
     ]
    }
   ],
   "source": [
    "mf = MatrixFactorisation(train, 10)\n",
    "print( np.shape(mf.P), np.shape(mf.Q) )\n",
    "# print( mf.P )"
   ]
  },
  {
   "cell_type": "code",
   "execution_count": 155,
   "metadata": {},
   "outputs": [
    {
     "name": "stdout",
     "output_type": "stream",
     "text": [
      "\n",
      "iteration/epoch 50 :\n",
      "train mse: 81.68773059328453\n",
      "iteration 50 :\n",
      "test mse: 27.66804778641565\n",
      "\n",
      "iteration/epoch 100 :\n",
      "train mse: 70.40378845794781\n",
      "iteration 100 :\n",
      "test mse: 28.36181768450393\n",
      "\n",
      "iteration/epoch 150 :\n",
      "train mse: 60.52374349553295\n",
      "iteration 150 :\n",
      "test mse: 29.67463014745175\n",
      "\n",
      "iteration/epoch 200 :\n",
      "train mse: 53.24056589510223\n",
      "iteration 200 :\n",
      "test mse: 30.913172472606924\n",
      "\n",
      "iteration/epoch 250 :\n",
      "train mse: 48.21880618255489\n",
      "iteration 250 :\n",
      "test mse: 31.924692159794752\n",
      "\n",
      "iteration/epoch 300 :\n",
      "train mse: 44.65527413615498\n",
      "iteration 300 :\n",
      "test mse: 32.76444635377466\n",
      "\n",
      "iteration/epoch 350 :\n",
      "train mse: 42.01790762580858\n",
      "iteration 350 :\n",
      "test mse: 33.48648001319414\n",
      "\n",
      "iteration/epoch 400 :\n",
      "train mse: 39.99222992960685\n",
      "iteration 400 :\n",
      "test mse: 34.12830669943971\n",
      "\n",
      "iteration/epoch 450 :\n",
      "train mse: 38.38913933098061\n",
      "iteration 450 :\n",
      "test mse: 34.71506554118437\n",
      "\n",
      "iteration/epoch 500 :\n",
      "train mse: 37.09081562238351\n",
      "iteration 500 :\n",
      "test mse: 35.2622132301113\n"
     ]
    }
   ],
   "source": [
    "P, Q = mf.gradient_descent(iterations=500, learning_rate=0.4, _lambda=0, validation=test, verbose=True)\n",
    "# print(np.shape(P))"
   ]
  },
  {
   "cell_type": "code",
   "execution_count": 157,
   "metadata": {},
   "outputs": [
    {
     "data": {
      "image/png": "[encoded data removed]",
      "text/plain": [
       "<Figure size 640x480 with 1 Axes>"
      ]
     },
     "metadata": {},
     "output_type": "display_data"
    }
   ],
   "source": [
    "# print( np.array(mf.train_mse_at_epochs)[:,1] )\n",
    "# mf.plot_learning_curve(validation=True)\n",
    "mf.plot_learning_curve(validation=True)"
   ]
  },
  {
   "cell_type": "code",
   "execution_count": null,
   "metadata": {},
   "outputs": [],
   "source": [
    "# help = np.zeros((mf.P.shape[0], mf.Q.T.shape[1]))\n",
    "# print(np.shape(help))\n",
    "\n",
    "# for i in range(mf.P.shape[0]):\n",
    "#        for j in range(mf.Q.T.shape[1]):\n",
    "#               for k in range(mf.k):\n",
    "#                      help[i][j] += mf.P[i][k] * mf.Q.T[k][j]\n",
    "\n",
    "# print(help)"
   ]
  },
  {
   "cell_type": "code",
   "execution_count": 84,
   "metadata": {},
   "outputs": [
    {
     "name": "stdout",
     "output_type": "stream",
     "text": [
      "[[0.64097652 0.81445084 0.50816506 ... 0.79183397 0.88573296 0.29639769]\n",
      " [0.81819179 1.43911481 0.76782272 ... 0.93953074 0.90698471 0.67049783]\n",
      " [0.46768566 0.83350486 0.72810256 ... 0.88206096 0.83578143 0.90009087]\n",
      " ...\n",
      " [0.02789206 0.87064953 0.01057161 ... 0.42721098 0.3386313  1.09833671]\n",
      " [1.18448325 0.31793441 0.59854647 ... 0.75894204 0.67857728 0.94034587]\n",
      " [0.76909415 0.60740241 0.6678389  ... 0.95757274 0.86713029 0.544421  ]] \n",
      "\n",
      "\n",
      "\n",
      " [[0.88105647 0.32218538 1.03716174 ... 0.25000874 0.40175541 0.07859848]\n",
      " [0.23276371 0.43378731 0.45605363 ... 0.29271171 0.60647119 0.48138692]\n",
      " [0.36089094 0.26952669 0.51511856 ... 0.55837359 1.36594245 0.43949882]\n",
      " ...\n",
      " [0.61211538 0.18337519 0.8626645  ... 0.29695985 0.83776925 0.27549677]\n",
      " [0.18773088 0.94658377 0.81863825 ... 0.38696764 0.19148674 0.58730196]\n",
      " [0.50225012 0.96257021 0.35507013 ... 0.50855224 0.42503991 0.23540146]]\n"
     ]
    }
   ],
   "source": [
    "# help2 = mf.P @ mf.Q.T\n",
    "print(mf.P,\"\\n\\n\\n\\n\", mf.Q)"
   ]
  },
  {
   "cell_type": "code",
   "execution_count": 63,
   "metadata": {},
   "outputs": [
    {
     "data": {
      "text/plain": [
       "matrix([[0. , 0. , 0. , ..., 0. , 0. , 0. ],\n",
       "        [4. , 4. , 4. , ..., 0. , 0. , 0. ],\n",
       "        [0. , 0. , 0. , ..., 0. , 0. , 0. ],\n",
       "        ...,\n",
       "        [2.5, 2. , 0. , ..., 0. , 0. , 0. ],\n",
       "        [3. , 0. , 0. , ..., 0. , 0. , 0. ],\n",
       "        [5. , 0. , 0. , ..., 3.5, 3.5, 0. ]])"
      ]
     },
     "execution_count": 63,
     "metadata": {},
     "output_type": "execute_result"
    }
   ],
   "source": [
    "train.todense()"
   ]
  },
  {
   "cell_type": "code",
   "execution_count": 136,
   "metadata": {},
   "outputs": [
    {
     "name": "stdout",
     "output_type": "stream",
     "text": [
      "<class 'numpy.ndarray'> <class 'numpy.ndarray'> (array([  1,   1,   1, ..., 610, 610, 610]), array([   0,    1,    2, ..., 9721, 9722, 9723]))\n",
      "[[0.   0.   0.   ... 0.   0.   0.  ]\n",
      " [4.75 3.85 4.26 ... 0.   0.   0.  ]\n",
      " [0.   0.   0.   ... 0.   0.   0.  ]\n",
      " ...\n",
      " [2.72 2.52 0.   ... 0.   0.   0.  ]\n",
      " [3.14 0.   0.   ... 0.   0.   0.  ]\n",
      " [4.04 0.   0.   ... 3.34 3.6  0.  ]]\n"
     ]
    }
   ],
   "source": [
    "predictions = mf.P.dot(mf.Q.T)\n",
    "mask = np.zeros_like(train.toarray())\n",
    "print(type(predictions), type(train.toarray()), train.toarray().nonzero())\n",
    "mask[train.toarray().nonzero()] = 1\n",
    "\n",
    "# Mask out unknown ratings as 0 for ease of comparison.\n",
    "print(np.round(predictions * mask, 2))\n"
   ]
  },
  {
   "cell_type": "code",
   "execution_count": null,
   "metadata": {},
   "outputs": [],
   "source": []
  }
 ],
 "metadata": {
  "kernelspec": {
   "display_name": "RecSys_Env",
   "language": "python",
   "name": "recsys_env"
  },
  "language_info": {
   "codemirror_mode": {
    "name": "ipython",
    "version": 3
   },
   "file_extension": ".py",
   "mimetype": "text/x-python",
   "name": "python",
   "nbconvert_exporter": "python",
   "pygments_lexer": "ipython3",
   "version": "3.10.5"
  }
 },
 "nbformat": 4,
 "nbformat_minor": 2
}
