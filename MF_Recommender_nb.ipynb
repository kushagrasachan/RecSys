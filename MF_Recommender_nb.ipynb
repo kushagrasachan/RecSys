{
 "cells": [
  {
   "cell_type": "markdown",
   "metadata": {},
   "source": [
    "# Recommender System\n",
    "\n",
    "### What this project does\n",
    "### What this project doesn't do"
   ]
  },
  {
   "cell_type": "code",
   "execution_count": null,
   "metadata": {},
   "outputs": [],
   "source": [
    "# For working on Google Colab\n",
    "# !curl -O http://files.grouplens.org/datasets/movielens/ml-latest-small.zip\n",
    "# !unzip ml-latest-small.zip\n",
    "# !cd ml-latest-small/\n",
    "\n",
    "# !curl -O https://files.grouplens.org/datasets/movielens/ml-10m.zip\n",
    "# !unzip ml-10m.zip\n",
    "# !cd ml-10M100K/"
   ]
  },
  {
   "cell_type": "code",
   "execution_count": 6,
   "metadata": {},
   "outputs": [
    {
     "name": "stdout",
     "output_type": "stream",
     "text": [
      "Enabling notebook extension jupyter-js-widgets/extension...\n",
      "      - Validating: \u001b[32mOK\u001b[0m\n"
     ]
    }
   ],
   "source": [
    "import numpy as np\n",
    "import pandas as pd\n",
    "import scipy.sparse as sparse\n",
    "from sklearn.model_selection import train_test_split\n",
    "import matplotlib.pyplot as plt\n",
    "import time\n",
    "from tqdm.notebook import trange, tqdm\n",
    "import ipywidgets\n",
    "!jupyter nbextension enable --py widgetsnbextension\n",
    "%matplotlib inline"
   ]
  },
  {
   "cell_type": "markdown",
   "metadata": {},
   "source": [
    "Until now, I've encountered two types of data objects in the Pandas library—DataFrames and Series, and here is a [Scaler Topics article on core components of Pandas](https://www.scaler.com/topics/pandas/core-components-of-pandas/), confirming that these two are the important ones (for single-dimensional, and two-dimensional data respectively), apart from a third object type, `Panel` (for three-dimensional data).\n",
    "\n",
    "Here's a micro-article attempting to list the organisation of files in Pandas' architecture: [Discover Pandas Library Architecture – File Hierarchy in Pandas](https://data-flair.training/blogs/pandas-library-architecture/)\n"
   ]
  },
  {
   "cell_type": "code",
   "execution_count": 7,
   "metadata": {},
   "outputs": [],
   "source": [
    "ratings_df = pd.read_csv(\"./ml-latest-small/ratings.csv\")\n",
    "# ratings_df = pd.read_csv(\"./ml-10M100K/ratings.dat\", delimiter='::', names=['userId', 'movieId', 'rating', 'timestamp'])\n",
    "# ratings_df = pd.read_csv(\"./anime-ratings-matrix-factorization-v-10/anime ratings dataset/rating.csv\")"
   ]
  },
  {
   "cell_type": "code",
   "execution_count": 8,
   "metadata": {},
   "outputs": [
    {
     "data": {
      "text/html": [
       "<div>\n",
       "<style scoped>\n",
       "    .dataframe tbody tr th:only-of-type {\n",
       "        vertical-align: middle;\n",
       "    }\n",
       "\n",
       "    .dataframe tbody tr th {\n",
       "        vertical-align: top;\n",
       "    }\n",
       "\n",
       "    .dataframe thead th {\n",
       "        text-align: right;\n",
       "    }\n",
       "</style>\n",
       "<table border=\"1\" class=\"dataframe\">\n",
       "  <thead>\n",
       "    <tr style=\"text-align: right;\">\n",
       "      <th></th>\n",
       "      <th>userId</th>\n",
       "      <th>movieId</th>\n",
       "      <th>rating</th>\n",
       "      <th>timestamp</th>\n",
       "    </tr>\n",
       "  </thead>\n",
       "  <tbody>\n",
       "    <tr>\n",
       "      <th>0</th>\n",
       "      <td>1</td>\n",
       "      <td>1</td>\n",
       "      <td>4.0</td>\n",
       "      <td>964982703</td>\n",
       "    </tr>\n",
       "    <tr>\n",
       "      <th>1</th>\n",
       "      <td>1</td>\n",
       "      <td>3</td>\n",
       "      <td>4.0</td>\n",
       "      <td>964981247</td>\n",
       "    </tr>\n",
       "    <tr>\n",
       "      <th>2</th>\n",
       "      <td>1</td>\n",
       "      <td>6</td>\n",
       "      <td>4.0</td>\n",
       "      <td>964982224</td>\n",
       "    </tr>\n",
       "    <tr>\n",
       "      <th>3</th>\n",
       "      <td>1</td>\n",
       "      <td>47</td>\n",
       "      <td>5.0</td>\n",
       "      <td>964983815</td>\n",
       "    </tr>\n",
       "    <tr>\n",
       "      <th>4</th>\n",
       "      <td>1</td>\n",
       "      <td>50</td>\n",
       "      <td>5.0</td>\n",
       "      <td>964982931</td>\n",
       "    </tr>\n",
       "  </tbody>\n",
       "</table>\n",
       "</div>"
      ],
      "text/plain": [
       "   userId  movieId  rating  timestamp\n",
       "0       1        1     4.0  964982703\n",
       "1       1        3     4.0  964981247\n",
       "2       1        6     4.0  964982224\n",
       "3       1       47     5.0  964983815\n",
       "4       1       50     5.0  964982931"
      ]
     },
     "execution_count": 8,
     "metadata": {},
     "output_type": "execute_result"
    }
   ],
   "source": [
    "ratings_df.head()"
   ]
  },
  {
   "cell_type": "code",
   "execution_count": 34,
   "metadata": {},
   "outputs": [
    {
     "name": "stdout",
     "output_type": "stream",
     "text": [
      "<class 'pandas.core.frame.DataFrame'>\n",
      "RangeIndex: 100836 entries, 0 to 100835\n",
      "Data columns (total 4 columns):\n",
      " #   Column     Non-Null Count   Dtype  \n",
      "---  ------     --------------   -----  \n",
      " 0   userId     100836 non-null  int64  \n",
      " 1   movieId    100836 non-null  int64  \n",
      " 2   rating     100836 non-null  float64\n",
      " 3   timestamp  100836 non-null  int64  \n",
      "dtypes: float64(1), int64(3)\n",
      "memory usage: 3.1 MB\n"
     ]
    }
   ],
   "source": [
    "ratings_df.info()"
   ]
  },
  {
   "cell_type": "code",
   "execution_count": 8,
   "metadata": {},
   "outputs": [
    {
     "name": "stdout",
     "output_type": "stream",
     "text": [
      "There are 9724 movies and 610 users in the dataset\n"
     ]
    }
   ],
   "source": [
    "# num_movies = pd.DataFrame(ratings_df['movieId'].unique()).count().values[0]       #this is a tad more convoluted way\n",
    "# num_users = pd.DataFrame(ratings_df['userId'].unique()).count().values[0]\n",
    "num_movies = ratings_df['movieId'].unique().shape[0]                                #better way\n",
    "num_users = ratings_df['userId'].unique().shape[0]\n",
    "print(f\"There are {num_movies} movies and {num_users} users in the dataset\")"
   ]
  },
  {
   "cell_type": "code",
   "execution_count": 36,
   "metadata": {},
   "outputs": [
    {
     "name": "stdout",
     "output_type": "stream",
     "text": [
      "There are 0 user IDs exceeding 610.\n",
      "There are 4334 movie IDs exceeding 9724.\n"
     ]
    }
   ],
   "source": [
    "print(f\"There are {ratings_df.loc[ratings_df.userId > num_users].userId.unique().shape[0]} user IDs exceeding {num_users}.\")\n",
    "print(f\"There are {ratings_df.loc[ratings_df.movieId > num_movies].movieId.unique().shape[0]} movie IDs exceeding {num_movies}.\")"
   ]
  },
  {
   "cell_type": "markdown",
   "metadata": {},
   "source": [
    "It seems that the user IDs are contiguous, while the move IDs are not. We might have to consider making them contiguous."
   ]
  },
  {
   "cell_type": "code",
   "execution_count": 37,
   "metadata": {},
   "outputs": [
    {
     "data": {
      "text/html": [
       "<div>\n",
       "<style scoped>\n",
       "    .dataframe tbody tr th:only-of-type {\n",
       "        vertical-align: middle;\n",
       "    }\n",
       "\n",
       "    .dataframe tbody tr th {\n",
       "        vertical-align: top;\n",
       "    }\n",
       "\n",
       "    .dataframe thead th {\n",
       "        text-align: right;\n",
       "    }\n",
       "</style>\n",
       "<table border=\"1\" class=\"dataframe\">\n",
       "  <thead>\n",
       "    <tr style=\"text-align: right;\">\n",
       "      <th></th>\n",
       "      <th>count</th>\n",
       "      <th>mean</th>\n",
       "      <th>std</th>\n",
       "      <th>min</th>\n",
       "      <th>25%</th>\n",
       "      <th>50%</th>\n",
       "      <th>75%</th>\n",
       "      <th>max</th>\n",
       "    </tr>\n",
       "  </thead>\n",
       "  <tbody>\n",
       "    <tr>\n",
       "      <th>userId</th>\n",
       "      <td>100836.0</td>\n",
       "      <td>3.261276e+02</td>\n",
       "      <td>1.826185e+02</td>\n",
       "      <td>1.0</td>\n",
       "      <td>1.770000e+02</td>\n",
       "      <td>3.250000e+02</td>\n",
       "      <td>4.770000e+02</td>\n",
       "      <td>6.100000e+02</td>\n",
       "    </tr>\n",
       "    <tr>\n",
       "      <th>movieId</th>\n",
       "      <td>100836.0</td>\n",
       "      <td>1.943530e+04</td>\n",
       "      <td>3.553099e+04</td>\n",
       "      <td>1.0</td>\n",
       "      <td>1.199000e+03</td>\n",
       "      <td>2.991000e+03</td>\n",
       "      <td>8.122000e+03</td>\n",
       "      <td>1.936090e+05</td>\n",
       "    </tr>\n",
       "    <tr>\n",
       "      <th>rating</th>\n",
       "      <td>100836.0</td>\n",
       "      <td>3.501557e+00</td>\n",
       "      <td>1.042529e+00</td>\n",
       "      <td>0.5</td>\n",
       "      <td>3.000000e+00</td>\n",
       "      <td>3.500000e+00</td>\n",
       "      <td>4.000000e+00</td>\n",
       "      <td>5.000000e+00</td>\n",
       "    </tr>\n",
       "    <tr>\n",
       "      <th>timestamp</th>\n",
       "      <td>100836.0</td>\n",
       "      <td>1.205946e+09</td>\n",
       "      <td>2.162610e+08</td>\n",
       "      <td>828124615.0</td>\n",
       "      <td>1.019124e+09</td>\n",
       "      <td>1.186087e+09</td>\n",
       "      <td>1.435994e+09</td>\n",
       "      <td>1.537799e+09</td>\n",
       "    </tr>\n",
       "  </tbody>\n",
       "</table>\n",
       "</div>"
      ],
      "text/plain": [
       "              count          mean           std          min           25%  \\\n",
       "userId     100836.0  3.261276e+02  1.826185e+02          1.0  1.770000e+02   \n",
       "movieId    100836.0  1.943530e+04  3.553099e+04          1.0  1.199000e+03   \n",
       "rating     100836.0  3.501557e+00  1.042529e+00          0.5  3.000000e+00   \n",
       "timestamp  100836.0  1.205946e+09  2.162610e+08  828124615.0  1.019124e+09   \n",
       "\n",
       "                    50%           75%           max  \n",
       "userId     3.250000e+02  4.770000e+02  6.100000e+02  \n",
       "movieId    2.991000e+03  8.122000e+03  1.936090e+05  \n",
       "rating     3.500000e+00  4.000000e+00  5.000000e+00  \n",
       "timestamp  1.186087e+09  1.435994e+09  1.537799e+09  "
      ]
     },
     "execution_count": 37,
     "metadata": {},
     "output_type": "execute_result"
    }
   ],
   "source": [
    "ratings_df.describe().T"
   ]
  },
  {
   "cell_type": "code",
   "execution_count": 38,
   "metadata": {},
   "outputs": [
    {
     "data": {
      "text/html": [
       "<div>\n",
       "<style scoped>\n",
       "    .dataframe tbody tr th:only-of-type {\n",
       "        vertical-align: middle;\n",
       "    }\n",
       "\n",
       "    .dataframe tbody tr th {\n",
       "        vertical-align: top;\n",
       "    }\n",
       "\n",
       "    .dataframe thead th {\n",
       "        text-align: right;\n",
       "    }\n",
       "</style>\n",
       "<table border=\"1\" class=\"dataframe\">\n",
       "  <thead>\n",
       "    <tr style=\"text-align: right;\">\n",
       "      <th>rating</th>\n",
       "      <th>4.0</th>\n",
       "      <th>3.0</th>\n",
       "      <th>5.0</th>\n",
       "      <th>3.5</th>\n",
       "      <th>4.5</th>\n",
       "      <th>2.0</th>\n",
       "      <th>2.5</th>\n",
       "      <th>1.0</th>\n",
       "      <th>1.5</th>\n",
       "      <th>0.5</th>\n",
       "    </tr>\n",
       "  </thead>\n",
       "  <tbody>\n",
       "    <tr>\n",
       "      <th>count</th>\n",
       "      <td>26818</td>\n",
       "      <td>20047</td>\n",
       "      <td>13211</td>\n",
       "      <td>13136</td>\n",
       "      <td>8551</td>\n",
       "      <td>7551</td>\n",
       "      <td>5550</td>\n",
       "      <td>2811</td>\n",
       "      <td>1791</td>\n",
       "      <td>1370</td>\n",
       "    </tr>\n",
       "  </tbody>\n",
       "</table>\n",
       "</div>"
      ],
      "text/plain": [
       "rating    4.0    3.0    5.0    3.5   4.5   2.0   2.5   1.0   1.5   0.5\n",
       "count   26818  20047  13211  13136  8551  7551  5550  2811  1791  1370"
      ]
     },
     "execution_count": 38,
     "metadata": {},
     "output_type": "execute_result"
    }
   ],
   "source": [
    "pd.Series.value_counts(ratings_df['rating']).to_frame().T"
   ]
  },
  {
   "cell_type": "code",
   "execution_count": 39,
   "metadata": {},
   "outputs": [],
   "source": [
    "# plt.hist(ratings_df['rating'], bins=[(i-1)/2 for i in range(0, 12)])\n",
    "# plt.hist(ratings_df['rating'], bins=[i-0.5 for i in range(-1,12)])  #for anime ratings dataset"
   ]
  },
  {
   "cell_type": "code",
   "execution_count": 40,
   "metadata": {},
   "outputs": [
    {
     "name": "stdout",
     "output_type": "stream",
     "text": [
      "userId       0\n",
      "movieId      0\n",
      "rating       0\n",
      "timestamp    0\n",
      "dtype: int64 \n",
      "\n",
      "<class 'pandas.core.series.Series'>\n"
     ]
    }
   ],
   "source": [
    "print( ratings_df.isna().sum() , \"\\n\")\n",
    "print( type(ratings_df.isna().sum()) )"
   ]
  },
  {
   "cell_type": "code",
   "execution_count": 41,
   "metadata": {},
   "outputs": [
    {
     "name": "stdout",
     "output_type": "stream",
     "text": [
      "100836\n"
     ]
    },
    {
     "data": {
      "text/plain": [
       "100836"
      ]
     },
     "execution_count": 41,
     "metadata": {},
     "output_type": "execute_result"
    }
   ],
   "source": [
    "print( len(ratings_df.duplicated(subset=['userId', 'movieId'])) )\n",
    "len(np.where( ratings_df.duplicated(subset=['userId', 'movieId']) == False )[0])"
   ]
  },
  {
   "cell_type": "markdown",
   "metadata": {},
   "source": [
    "There don't seem to be any duplicates *shruggie"
   ]
  },
  {
   "cell_type": "code",
   "execution_count": 42,
   "metadata": {},
   "outputs": [
    {
     "data": {
      "text/plain": [
       "array([[0., 1., 0., 0.],\n",
       "       [0., 0., 0., 0.],\n",
       "       [0., 0., 0., 2.]])"
      ]
     },
     "execution_count": 42,
     "metadata": {},
     "output_type": "execute_result"
    }
   ],
   "source": [
    "toy = np.zeros((3,4))\n",
    "toy[0,1] = 1\n",
    "toy[2,3] = 2\n",
    "toy"
   ]
  },
  {
   "cell_type": "code",
   "execution_count": 43,
   "metadata": {},
   "outputs": [
    {
     "name": "stdout",
     "output_type": "stream",
     "text": [
      "[1. 2.]\n",
      "2\n",
      "(array([0, 2], dtype=int32), array([1, 3], dtype=int32))\n"
     ]
    }
   ],
   "source": [
    "toy_csc = sparse.csc_matrix(toy)\n",
    "print( toy_csc.data )\n",
    "print( toy_csc.nnz )  # nnz => no. of non-zero (entries)\n",
    "print( toy_csc.nonzero() )"
   ]
  },
  {
   "cell_type": "code",
   "execution_count": 44,
   "metadata": {},
   "outputs": [
    {
     "data": {
      "text/plain": [
       "matrix([[0., 1., 0., 0.],\n",
       "        [0., 0., 0., 0.],\n",
       "        [0., 0., 0., 4.]])"
      ]
     },
     "execution_count": 44,
     "metadata": {},
     "output_type": "execute_result"
    }
   ],
   "source": [
    "toy_csc.power(2).todense()"
   ]
  },
  {
   "cell_type": "code",
   "execution_count": 45,
   "metadata": {},
   "outputs": [],
   "source": [
    "############################################################################\n",
    "## This was an attempt to write a general function to make IDs contiguous ##\n",
    "############################################################################\n",
    "\n",
    "# def make_id_contiguous(df:pd.DataFrame, id:str):\n",
    "#        old_new_id = np.zeros(df[id].max()+1)\n",
    "#        for new_id, old_id in enumerate(df[id].unique()):\n",
    "#               old_new_id[old_id] = new_id\n",
    "              \n",
    "#        import re\n",
    "#        RE_WORDS = re.compile(r'''\n",
    "#                      # Find words in a string. Order matters!\n",
    "#                      [A-Z]+(?=[A-Z][a-z]) |  # All upper case before a capitalized word\n",
    "#                      [A-Z]?[a-z]+ |  # Capitalized words / all lower case\n",
    "#                      [A-Z]+ |  # All upper case\n",
    "#                      \\d+  # Numbers\n",
    "#                      ''', re.VERBOSE)\n",
    "#        id_split = RE_WORDS.findall(id)\n",
    "#        print(id_split)\n",
    "#        print(np.where(id_split == 'Id'))\n",
    "#        # id_split[np.where(id_split == 'Id')] = 'newId'\n",
    "#        new_id_name = \"\".join(i for i in id_split)\n",
    "\n",
    "#        df[new_id_name] = old_new_id[df[id]]\n",
    "#        df = df.astype({new_id_name: 'int64'})\n",
    "#        print( df.head(), \"\\n\" )\n",
    "#        return old_new_id\n",
    "\n",
    "# make_id_contiguous(ratings_df, 'movieId')"
   ]
  },
  {
   "cell_type": "code",
   "execution_count": 10,
   "metadata": {},
   "outputs": [
    {
     "name": "stdout",
     "output_type": "stream",
     "text": [
      "   userId  movieId  rating  timestamp  userNewId\n",
      "0       1        1     4.0  964982703          0\n",
      "1       1        3     4.0  964981247          0\n",
      "2       1        6     4.0  964982224          0\n",
      "3       1       47     5.0  964983815          0\n",
      "4       1       50     5.0  964982931          0 \n",
      "\n",
      "       userId  userNewId\n",
      "22684     156        155\n",
      "22685     156        155\n",
      "22686     156        155\n",
      "22687     156        155\n",
      "22688     156        155\n",
      "...       ...        ...\n",
      "23077     156        155\n",
      "23078     156        155\n",
      "23079     156        155\n",
      "23080     156        155\n",
      "23081     156        155\n",
      "\n",
      "[398 rows x 2 columns] \n",
      "\n",
      "There are 610 users and correspondingly 610.0 contiguous user IDs now\n"
     ]
    }
   ],
   "source": [
    "user_old_new_id = np.zeros(ratings_df[\"userId\"].max()+1)\n",
    "for new_id, old_id in enumerate(ratings_df['userId'].unique()):\n",
    "       user_old_new_id[old_id] = new_id\n",
    "       \n",
    "ratings_df['userNewId'] = user_old_new_id[ratings_df['userId']]\n",
    "ratings_df = ratings_df.astype({'userNewId': 'int64'})\n",
    "\n",
    "print( ratings_df.head(), \"\\n\" )\n",
    "# now just to check that we did it correctly, a movieId should be mapped to the same movieNewId\n",
    "print( ratings_df.loc[ratings_df.userId == 156][['userId', 'userNewId']], \"\\n\" ) \n",
    "print(f\"There are {num_users} users and correspondingly {max(user_old_new_id)+1} contiguous user IDs now\")"
   ]
  },
  {
   "cell_type": "code",
   "execution_count": 11,
   "metadata": {},
   "outputs": [
    {
     "name": "stdout",
     "output_type": "stream",
     "text": [
      "   userId  movieId  rating  timestamp  userNewId  movieNewId\n",
      "0       1        1     4.0  964982703          0           0\n",
      "1       1        3     4.0  964981247          0           1\n",
      "2       1        6     4.0  964982224          0           2\n",
      "3       1       47     5.0  964983815          0           3\n",
      "4       1       50     5.0  964982931          0           4 \n",
      "\n",
      "       movieId  movieNewId\n",
      "17007      156        4463\n",
      "96137      156        4463\n",
      "97391      156        4463 \n",
      "\n",
      "There are 9724 movies and correspondingly 9724.0 contiguous movie IDs now\n"
     ]
    }
   ],
   "source": [
    "movie_old_new_id = np.zeros(ratings_df[\"movieId\"].max()+1)\n",
    "for new_id, old_id in enumerate(ratings_df['movieId'].unique()):\n",
    "       movie_old_new_id[old_id] = new_id\n",
    "       \n",
    "ratings_df['movieNewId'] = movie_old_new_id[ratings_df['movieId']]\n",
    "ratings_df = ratings_df.astype({'movieNewId': 'int64'})\n",
    "\n",
    "print( ratings_df.head(), \"\\n\" )\n",
    "# now just to check that we did it correctly, a movieId should be mapped to the same movieNewId\n",
    "print( ratings_df.loc[ratings_df.movieId == 156][['movieId', 'movieNewId']], \"\\n\" ) \n",
    "print(f\"There are {num_movies} movies and correspondingly {max(movie_old_new_id)+1} contiguous movie IDs now\")"
   ]
  },
  {
   "cell_type": "code",
   "execution_count": 12,
   "metadata": {},
   "outputs": [
    {
     "name": "stdout",
     "output_type": "stream",
     "text": [
      "       userId  movieId  rating   timestamp  userNewId  movieNewId\n",
      "0         509     7347     3.0  1435994597        508        4285\n",
      "1         326    71462     4.0  1322252335        325        5629\n",
      "2          57     2115     3.0   965798155         56         134\n",
      "3         610     1127     4.0  1479544102        609          66\n",
      "4         462     2409     2.0  1174438249        461        1172\n",
      "...       ...      ...     ...         ...        ...         ...\n",
      "80663      42     4005     4.0   996259059         41        1873\n",
      "80664     364      141     4.0   869443367        363         524\n",
      "80665     480     6867     4.0  1179163171        479        2240\n",
      "80666       6      981     3.0   845556567          5         712\n",
      "80667     103     6711     5.0  1431957425        102        2046\n",
      "\n",
      "[80668 rows x 6 columns]\n",
      "       userId  movieId  rating   timestamp  userNewId  movieNewId\n",
      "0         432    77866     4.5  1335139641        431        4730\n",
      "1         288      474     3.0   978465565        287         474\n",
      "2         599     4351     3.0  1498524542        598        2631\n",
      "3          42     2987     4.0   996262677         41         194\n",
      "4          75     1610     4.0  1158989841         74         727\n",
      "...       ...      ...     ...         ...        ...         ...\n",
      "20163     380     5048     2.0  1494268065        379         279\n",
      "20164     434    54272     3.5  1270606860        433        1269\n",
      "20165     226     5989     4.5  1162428551        225         765\n",
      "20166     607     1320     3.0   963080497        606        2750\n",
      "20167     567      750     3.0  1525287719        566         722\n",
      "\n",
      "[20168 rows x 6 columns]\n",
      "(80668, 6) (20168, 6)\n"
     ]
    }
   ],
   "source": [
    "train_df, test_df = train_test_split(ratings_df, test_size=0.2, random_state=42)  #setting random_state ensures consistent splitting every time\n",
    "\n",
    "train_df = train_df.reset_index(drop=True)\n",
    "test_df = test_df.reset_index(drop=True)\n",
    "print(train_df)\n",
    "print(test_df)\n",
    "print( np.shape(train_df), np.shape(test_df) )"
   ]
  },
  {
   "cell_type": "markdown",
   "metadata": {},
   "source": [
    "Since we've chosen to make the movie IDs contiguous by mapping them to new ones, splitting the DataFrame makes creating smaller-dimensional matrix representations of the training or test sets difficult, because, say, the indices chosen in the training set can still lie out of bounds of its smaller matrix's size (similar logic holds for the test set).\n",
    "\n",
    "Instead, let's just work with the full ratings matrix, with the test entries zeroed out in the training matrix (and vice versa), which wouldn't be a bother to the memory anyway because we're using a sparse representation!"
   ]
  },
  {
   "cell_type": "code",
   "execution_count": 13,
   "metadata": {},
   "outputs": [
    {
     "name": "stdout",
     "output_type": "stream",
     "text": [
      "There are 80668 & 20168 non-zero elements in the train and test sparse matrices respectively.\n",
      " 611 9725\n"
     ]
    }
   ],
   "source": [
    "train = sparse.csc_matrix( (train_df['rating'].values, (train_df['userNewId'].values, train_df['movieNewId'].values)),\\\n",
    "                                 shape=(num_users+1, num_movies+1) )\n",
    "test = sparse.csc_matrix(  (test_df['rating'].values, (test_df['userNewId'].values, test_df['movieNewId'].values)),\\\n",
    "                                 shape=(num_users+1, num_movies+1))\n",
    "\n",
    "print(f\"There are {train.nnz} & {test.nnz} non-zero elements in the train and test sparse matrices respectively.\\n\", test.shape[0],train.shape[1] )\n",
    "# train.to_dense()\n",
    "# print( train )"
   ]
  },
  {
   "cell_type": "markdown",
   "metadata": {},
   "source": [
    "Lemme check once that the test and train matrix elements are indeed mutually exclusive (zero, non-zero in their matrices respectively).\n",
    "\n",
    "The cell below seems to show all's good"
   ]
  },
  {
   "cell_type": "code",
   "execution_count": 50,
   "metadata": {},
   "outputs": [],
   "source": [
    "for i in zip(test.nonzero()[0], test.nonzero()[1]):\n",
    "       if( train[i[0],i[1]] != 0 ):\n",
    "              print(\"Hah!\")\n",
    "for i in zip(train.nonzero()[0], train.nonzero()[1]):\n",
    "       if( test[i[0],i[1]] != 0 ):\n",
    "              print(\"Hah!\")"
   ]
  },
  {
   "cell_type": "code",
   "execution_count": 14,
   "metadata": {},
   "outputs": [],
   "source": [
    "# print( np.sort(train_df['userId'].values) )\n",
    "# print( mf.p_nnz_idx, \"\\n\" )\n",
    "\n",
    "# print( np.sort(train_df['movieNewId'].values) )\n",
    "# print( np.sort(mf.q_nnz_idx ) )\n",
    "# print( np.sort(train_df['userId'].values) == mf.p_nnz_idx )\n",
    "# print( np.sort(train_df['movieNewId'].values) == np.sort(mf.q_nnz_idx), \"\\n\" )\n",
    "\n",
    "# print( np.where( np.sort(train_df['userId'].values) != train.nonzero()[0]) )\n",
    "# print( np.where( np.sort(train_df['movieNewId'].values) != np.sort( train.nonzero()[1]) ) )\n",
    "# print( np.where( np.sort(train_df['movieNewId'].values) != np.sort(mf.q_nnz_idx)) )\n"
   ]
  },
  {
   "cell_type": "markdown",
   "metadata": {},
   "source": [
    "Hmmm, so the row indices seem to be all good, ~~but the column indices are playing foul.~~ as do the column indices.\n",
    "\n",
    "Wasted quite the time pursuing this!\n",
    "\n",
    "We have used the list `train_df['movieNewId'].values` as the column indices needed to generate R, but upon querying back these column indices, ~~they're coming out wrong!~~\n",
    "Previously, I wasn ony sorting the `train_df['movieNewId'].values` list, and not the list `mf.q_nnz_idx` for comparison. Upon sorting both, they indeed come out to be the same.\n",
    "***"
   ]
  },
  {
   "cell_type": "markdown",
   "metadata": {},
   "source": [
    "## Matrix Factorisation Class\n",
    "Below, I furnish a Matrix Factorisation Python class that implements:\n",
    "- gradient descent\n",
    "- (pending) gradient descent with user and item biases\n",
    "- (pending) sgd\n",
    "- (pending) ALS\n",
    "to learn the embeddings.\n",
    "\n",
    "My current implementation of gradient descent considers the loss function for explicit ratings, i.e. solely over observed values.\n",
    "Still need to implement the Koren et al. approach capturing implicit ratings from the entire matrix.\n",
    "\n",
    "The regularised loss I've used for explicit ratings: $$L(R, P, Q) = \\frac{1}{N}\\underset{(i,j):r_{ui}≠Nan}{\\sum} (r_{ui} - p_u^T\\cdot q_i)^2 + \\lambda(\\sum_u{||p_u||^2} + \\sum_i{||q_i||^2})$$\n",
    "It's a squared error (SE) loss function with regularisation terms. I wonder how using the Mean SE or RMSE would change the behaviour. ~~Conceptually, it shouldn't..~~ Oh how pathetically wrong I was! Not providing the required normalisation on the gradient terms just blew the cost up! I wonder why not providing the normalisation to the gradient calculation blows up the cost. The two seem unrelated, except, not!\n",
    "\n",
    "Still need to add the user and item bias terms to SGD and GD\n",
    "\n",
    "I could provide an option for choosing to provide explicit or implicit data. That way, when one chooses explicit data, I can internally use either of sgd or gd as default (still need to choose which), and when one chooses implicit data, I can choose either ALS or CG."
   ]
  },
  {
   "cell_type": "code",
   "execution_count": 52,
   "metadata": {},
   "outputs": [],
   "source": [
    "class MatrixFactorisation():\n",
    "       def __init__(self, R:sparse.csc_matrix, k:int, verbose:bool=False ):\n",
    "              self.R = R           # R is the \"ratings\" matrix to be factorised\n",
    "              self.k = k           # hyperparameter k is the number of latent factors desired in the factorised embeddings\n",
    "              self.m, self.n = R.shape\n",
    "              self.P = np.random.rand(self.m, k)        # initialising the first factor embedding (of \"users\")\n",
    "              self.Q = np.random.rand(self.n, k)        # initialising the second factor embedding (of \"items\")\n",
    "              self.p_nnz_idx, self.q_nnz_idx = R.nonzero()        # row and col indices in R matrix respectively, of non-zero elements\n",
    "              self.train_mse_at_epochs = []\n",
    "              self.test_mse_at_epochs = []\n",
    "              self.verbose = verbose\n",
    "              self.verbose_epoch_intvl = 50\n",
    "\n",
    "       def __predict_observed(self):\n",
    "              \"\"\"\n",
    "              Returns predicted values as a sparse matrix, corresponding to indices of non-zero elements in matrix R to be factorised\n",
    "\n",
    "              Avoids constructing a dense prediction matrix produced via naïve dense matrix multiplication of factors.\n",
    "              Instead, produces predicted values by multiplying only the requisite factor vectors corresponding to non-zero entries in R.\n",
    "              \"\"\"\n",
    "              R_predicted = np.sum( np.multiply(self.P[self.p_nnz_idx], self.Q[self.q_nnz_idx]), axis=1 )       #calculating the products only for the nonzero \"observed\" rating entries: explicit MF\n",
    "              R_predicted = sparse.csc_matrix( (R_predicted, (self.p_nnz_idx, self.q_nnz_idx)), shape=(self.m,self.n))              \n",
    "              # R_predicted = self.P @ self.Q.T\n",
    "              # R_predicted = sparse.csc_matrix(R_predicted)\n",
    "              return R_predicted\n",
    "\n",
    "       def gradients(self, _lambda):\n",
    "              \"\"\"\n",
    "              Returns l2 gradients w.r.t the elements of the embedding vectors, along with the prediction errors\n",
    "              \"\"\"\n",
    "              R_predicted = self.__predict_observed()\n",
    "              error = self.R - R_predicted\n",
    "              norm_factor = -2 / self.m  #this factor is crucial! Can't be 1 (i.e. we can't leave the gradients unnormalised, else cost diverges!)\n",
    "              grad_P = norm_factor * (error*self.Q) + 2*(_lambda*self.P)\n",
    "              grad_Q = norm_factor * (error.T*self.P) + 2*(_lambda*self.Q)\n",
    "              return grad_P, grad_Q, error\n",
    "\n",
    "       def gradient_descent(self, iterations=2000, learning_rate = 0.3, _lambda=0.0002, validation:sparse.csc_matrix=None, verbose=False):\n",
    "              \"\"\"\n",
    "              Returns factor matrices for explicit data matrix by learning their entries via full-batch gradient descent.\n",
    "\n",
    "              Returned factor matrices P,Q represent user and item embeddings, for explicit ratings data R.\n",
    "                     R = P.Q^T\n",
    "\n",
    "              Optionally provide a sparse matrix with validation data, to compute the validation performance (measured by mse) over time\n",
    "              \"\"\"\n",
    "              self.verbose = verbose\n",
    "\n",
    "              grad_P, grad_Q, error = self.gradients(self.R, _lambda)\n",
    "              v_P = grad_P\n",
    "              v_Q = grad_Q\n",
    "              beta = 0.8    # momentum constant\n",
    "              train_mse = error.power(2).sum()/self.R.shape[0]\n",
    "              # print(\"train mse:\", train_mse)\n",
    "              self.train_mse_at_epochs.append( [1, train_mse] )\n",
    "              for i in range(iterations):\n",
    "                     grad_P, grad_Q, error = self.gradients(_lambda)\n",
    "                     v_P = beta*v_P + (1-beta)*grad_P   \n",
    "                     v_Q = beta*v_Q + (1-beta)*grad_Q\n",
    "                     self.P = self.P - learning_rate*v_P       # Grad Desc update rule\n",
    "                     self.Q = self.Q - learning_rate*v_Q       # Grad Desc update rule\n",
    "                     # print(\"train mse:\", error.power(2).sum()/self.R.shape[0] )  #print mse at each iteration\n",
    "                     if(not (i+1)%self.verbose_epoch_intvl):\n",
    "                            self.save_train_mse(i, error)\n",
    "                            self.save_test_mse(i, validation=validation)\n",
    "              return self.P, self.Q\n",
    "\n",
    "       def save_train_mse(self, i, error):\n",
    "              train_mse = error.power(2).sum()/self.R.shape[0]\n",
    "              self.train_mse_at_epochs.append( [i+1, train_mse])\n",
    "              if(self.verbose):\n",
    "                     print(\"\\niteration/epoch\", i+1, \":\")\n",
    "                     print(\"train mse:\", train_mse)\n",
    "\n",
    "       def save_test_mse(self, i, validation=None):\n",
    "              if(validation != None):\n",
    "                     valdn_p_nnz_idx, valdn_q_nnz_idx = validation.nonzero()\n",
    "                     valdn_predicted = np.sum( np.multiply(self.P[valdn_p_nnz_idx], self.Q[valdn_q_nnz_idx]), axis=1 )       #calculating the products only for the nonzero \"observed\" rating entries\n",
    "                     valdn_predicted = sparse.csc_matrix( (valdn_predicted, (valdn_p_nnz_idx, valdn_q_nnz_idx)), shape=(self.m,self.n))\n",
    "                     valdn_error = validation - valdn_predicted\n",
    "                     test_mse = valdn_error.power(2).sum()/self.R.shape[0]\n",
    "                     self.test_mse_at_epochs.append([i+1, test_mse])\n",
    "                     if(self.verbose):\n",
    "                            print(\"iteration\", i+1, \":\")\n",
    "                            print(\"test mse:\", test_mse)\n",
    "\n",
    "       def sgd(self, epochs=30, learning_rate=0.003, _lambda=0.0002, verbose=False):\n",
    "              \"\"\"\n",
    "              Returns factor matrices for explicit data matrix by learning their entries via stochastic gradient descent.\n",
    "\n",
    "              Returned factor matrices P,Q represent user and item embeddings, for explicit ratings data R.\n",
    "                     R = P.Q^T\n",
    "              \"\"\"\n",
    "              self.verbose = verbose\n",
    "              beta = 0.8\n",
    "\n",
    "              num_samples = len(self.p_nnz_idx)\n",
    "              training_indices = np.arange(num_samples)\n",
    "              # I couldn't have shuffled the array p_nnz_idx itself, cuz that would require shuffling q_nnx_idx in a corresponding manner\n",
    "\n",
    "              # with tqdm(total=100) as prog_bar:\n",
    "              for epoch in tqdm(range(epochs), desc=\"SGD epoch completion: \"):\n",
    "                     np.random.shuffle(training_indices)       #stochasticity must be ensured properly!\n",
    "                     for i in tqdm(training_indices, desc=f\"Finishing epoch: \"):         #We need to update all users and items at least once in each iteration\n",
    "                            p_idx = self.p_nnz_idx[i]\n",
    "                            q_idx = self.q_nnz_idx[i]\n",
    "\n",
    "                            R_ij = self.R[p_idx, q_idx]\n",
    "                            P_i = self.P[p_idx]\n",
    "                            Q_j = self.Q[q_idx]\n",
    "\n",
    "                            R_predicted_ij = P_i.dot(Q_j.T)\n",
    "                            error_ij = R_ij - R_predicted_ij\n",
    "                            grad_P_i = -2*(error_ij * Q_j) + 2*(_lambda * self.P[p_idx])\n",
    "                            grad_Q_j = -2*(error_ij * P_i) + 2*(_lambda * self.Q[q_idx])\n",
    "\n",
    "                            v_P_i = beta*v_P_i + (1-beta)*grad_P_i if epoch!=0 else grad_P_i\n",
    "                            v_Q_j = beta*v_Q_j + (1-beta)*grad_Q_j if epoch!=0 else grad_Q_j\n",
    "       \n",
    "                            self.P[p_idx] -= learning_rate * v_P_i\n",
    "                            self.Q[q_idx] -= learning_rate * v_Q_j\n",
    "                            # self.P[p_idx] -= learning_rate* grad_P_i\n",
    "                            # self.Q[q_idx] -= learning_rate* grad_Q_j\n",
    "\n",
    "                     if(not (epoch+1)%(self.verbose_epoch_intvl/10)):\n",
    "                            R_predicted = np.sum( np.multiply(self.P[self.p_nnz_idx], self.Q[self.q_nnz_idx]), axis=1 )       #calculating the products only for the nonzero \"observed\" rating entries\n",
    "                            R_predicted = sparse.csc_matrix( (R_predicted, (self.p_nnz_idx, self.q_nnz_idx)), shape=(self.m,self.n))\n",
    "                            error = self.R - R_predicted\n",
    "                            self.save_train_mse(epoch, error)\n",
    "                            # self.save_test_mse(i, validation=validation)\n",
    "              return self.P, self.Q\n",
    "\n",
    "       def als(self, epochs=10, alpha=40, _lambda=10, solver=\"cg\", verbose=False):\n",
    "              \"\"\"\n",
    "              Returns factor matrices for implicit data matrix by learning their entries via Alternating Least Squares method.\n",
    "\n",
    "              Returned factor matrices P,Q represent user and item embeddings, for binarised ratings data Phi derived from R.\n",
    "                     Phi[p,q] =    { 0    for R[p,q]=0\n",
    "                                   { 1    for R[p,q]>0\n",
    "              &      Phi = P.Q^T\n",
    "\n",
    "              Uses scipy.sparse.linalg's spsolve as its solver\n",
    "              \"\"\"\n",
    "              ## should I be making the following tradeoff for precomputed memory, to speed up implementation?\n",
    "              # Cp_array = []\n",
    "              # Cq_array = []\n",
    "              # for p in range(self.m):\n",
    "              #        C_p = sparse.diags(self.R[p].toarray(), [0])\n",
    "              #        Cp_array.append(C_p)\n",
    "              # for q in range(self.n):\n",
    "              #        C_q = sparse.diags(self.R[q].toarray(), [0])\n",
    "              #        Cq_array.append(C_q)\n",
    "              self.verbose = verbose\n",
    "              lambda_eye = _lambda * sparse.eye(self.k)\n",
    "\n",
    "              P = sparse.csc_matrix(self.P)\n",
    "              Q = sparse.csc_matrix(self.Q)\n",
    "\n",
    "              # the memory for this loop can further be optimised by eliminating the two similar loops with appropriate conditioning\n",
    "              for i in tqdm(range(epochs), desc=\"ALS iterations completion: \"):\n",
    "                     # Q = sparse.csc_matrix(self.Q)\n",
    "                     QTQ = Q.T.dot(Q)         #precomputation of Q.T.dot(Q) for all elements of P\n",
    "                     for p in tqdm(range(self.m), desc=\"Solving for P: \", leave=True):\n",
    "                            R_p = self.R[p].toarray()\n",
    "                            CpI = sparse.diags(alpha * R_p, [0])      #This acts as the (C^u - I) matrix in literature\n",
    "                            QTCpIQ = Q.T.dot(CpI).dot(Q)\n",
    "                            A = (QTQ + QTCpIQ) + lambda_eye\n",
    "\n",
    "                            phi = R_p.copy()\n",
    "                            phi[np.where(phi != 0)] = 1.0\n",
    "                            b = Q.T.dot(CpI + sparse.eye(self.n)).dot(sparse.csc_matrix(phi).T)       # why the last transpose on phi though?\n",
    "\n",
    "                            if(solver == \"lu\"):\n",
    "                                   P[p] = sparse.linalg.spsolve(A, b)\n",
    "                                   # self.P[p] = sparse.linalg.spsolve(A, b)\n",
    "                            if(solver == \"cg\"):\n",
    "                                   P[p], exitcode = sparse.linalg.cg(A, b.toarray())\n",
    "                                   if(exitcode):\n",
    "                                          print(f\"Conjugate Gradient Method couldn't converge properly, exited with convergence exitcode {exitcode}\")\n",
    "                     \n",
    "                     # P = sparse.csc_matrix(self.P)\n",
    "                     PTP = P.T.dot(P)         #precomputation of P.T.dot(P) for all elements of Q\n",
    "                     for q in tqdm(range(self.n), desc=\"Solving for Q: \"):\n",
    "                            R_q = self.R[:,q].T.toarray()\n",
    "                            CqI = sparse.diags(alpha * R_q, [0])      #This acts as the (C^u - I) matrix in literature\n",
    "                            PTCqIP = P.T.dot(CqI).dot(P)\n",
    "                            A = (PTP + PTCqIP) + lambda_eye\n",
    "\n",
    "                            phi = R_q.copy()\n",
    "                            phi[np.where(phi != 0)] = 1.0\n",
    "                            b = P.T.dot(CqI + sparse.eye(self.m)).dot(sparse.csc_matrix(phi).T)       # why the last transpose on phi though?\n",
    "\n",
    "                            if(solver == \"lu\"):\n",
    "                                   Q[q] = sparse.linalg.spsolve(A, b)\n",
    "                                   # self.Q[q] = sparse.linalg.spsolve(A, b)\n",
    "                            if(solver == \"cg\"):\n",
    "                                   Q[q], exitcode = sparse.linalg.cg(A, b.toarray())\n",
    "                                   if(exitcode):\n",
    "                                          print(f\"Conjugate Gradient Method couldn't converge properly, exited with convergence exitcode {exitcode}\")\n",
    "\n",
    "                     # Phi_predicted = np.sum( np.multiply(self.P[self.p_nnz_idx], self.Q[self.q_nnz_idx]), axis=1 )       #calculating the products only for the nonzero \"observed\" rating entries\n",
    "                     # Phi_predicted = sparse.csc_matrix( (Phi_predicted, (self.p_nnz_idx, self.q_nnz_idx)), shape=(self.m,self.n))\n",
    "                     Phi_predicted = np.sum( np.multiply(P.toarray()[self.p_nnz_idx], Q.toarray()[self.q_nnz_idx]), axis=1 )       #calculating the products only for the nonzero \"observed\" rating entries\n",
    "                     Phi_predicted = sparse.csc_matrix( (Phi_predicted, (self.p_nnz_idx, self.q_nnz_idx)), shape=(self.m,self.n))\n",
    "                     Phi = self.R\n",
    "                     Phi[Phi.nonzero()] = 1.0\n",
    "                     error = Phi - Phi_predicted\n",
    "                     self.save_train_mse(i, error)\n",
    "              self.P = P\n",
    "              self.Q = Q\n",
    "              return self.P, self.Q\n",
    "\n",
    "       def plot_learning_curve(self, validation=None):\n",
    "              if(validation != None):\n",
    "                     test_mse_arr = np.array(self.test_mse_at_epochs)\n",
    "                     plt.plot(test_mse_arr[:,0], test_mse_arr[:,1], label='Test')\n",
    "              train_mse_arr = np.array(self.train_mse_at_epochs)\n",
    "              plt.plot(train_mse_arr[:,0], train_mse_arr[:,1], label='Train')\n",
    "              plt.xticks(fontsize=16)\n",
    "              plt.yticks(fontsize=16)\n",
    "              plt.xlabel('iterations', fontsize=12)\n",
    "              plt.ylabel('MSE', fontsize=12)\n",
    "              plt.legend(loc='best', fontsize=9)\n"
   ]
  },
  {
   "cell_type": "code",
   "execution_count": 56,
   "metadata": {},
   "outputs": [
    {
     "name": "stdout",
     "output_type": "stream",
     "text": [
      "(611, 40) (9725, 40)\n"
     ]
    },
    {
     "data": {
      "application/vnd.jupyter.widget-view+json": {
       "model_id": "bf4ad6ec6bcb4e6ea83ab586b2d6f946",
       "version_major": 2,
       "version_minor": 0
      },
      "text/plain": [
       "ALS iterations completion:   0%|          | 0/10 [00:00<?, ?it/s]"
      ]
     },
     "metadata": {},
     "output_type": "display_data"
    },
    {
     "data": {
      "application/vnd.jupyter.widget-view+json": {
       "model_id": "3e9b97a3f6984d9f914a5e7a7e0081d7",
       "version_major": 2,
       "version_minor": 0
      },
      "text/plain": [
       "Solving for P:   0%|          | 0/611 [00:00<?, ?it/s]"
      ]
     },
     "metadata": {},
     "output_type": "display_data"
    },
    {
     "data": {
      "application/vnd.jupyter.widget-view+json": {
       "model_id": "eb22854a1a16459c90cd71cc2d89d111",
       "version_major": 2,
       "version_minor": 0
      },
      "text/plain": [
       "Solving for Q:   0%|          | 0/9725 [00:00<?, ?it/s]"
      ]
     },
     "metadata": {},
     "output_type": "display_data"
    },
    {
     "name": "stdout",
     "output_type": "stream",
     "text": [
      "\n",
      "iteration/epoch 1 :\n",
      "train mse: 20.999426257296133\n"
     ]
    },
    {
     "data": {
      "application/vnd.jupyter.widget-view+json": {
       "model_id": "8cc9b4efab5a4825994e8263f27cce57",
       "version_major": 2,
       "version_minor": 0
      },
      "text/plain": [
       "Solving for P:   0%|          | 0/611 [00:00<?, ?it/s]"
      ]
     },
     "metadata": {},
     "output_type": "display_data"
    },
    {
     "data": {
      "application/vnd.jupyter.widget-view+json": {
       "model_id": "a8bdd2074fda468b9d93278ec6184921",
       "version_major": 2,
       "version_minor": 0
      },
      "text/plain": [
       "Solving for Q:   0%|          | 0/9725 [00:00<?, ?it/s]"
      ]
     },
     "metadata": {},
     "output_type": "display_data"
    },
    {
     "name": "stdout",
     "output_type": "stream",
     "text": [
      "\n",
      "iteration/epoch 2 :\n",
      "train mse: 7.014405098211773\n"
     ]
    },
    {
     "data": {
      "application/vnd.jupyter.widget-view+json": {
       "model_id": "f54b1e41da3d467e90cfa667ea0a2360",
       "version_major": 2,
       "version_minor": 0
      },
      "text/plain": [
       "Solving for P:   0%|          | 0/611 [00:00<?, ?it/s]"
      ]
     },
     "metadata": {},
     "output_type": "display_data"
    },
    {
     "data": {
      "application/vnd.jupyter.widget-view+json": {
       "model_id": "5e255bbe11d741ba91adf45e0e728a0f",
       "version_major": 2,
       "version_minor": 0
      },
      "text/plain": [
       "Solving for Q:   0%|          | 0/9725 [00:00<?, ?it/s]"
      ]
     },
     "metadata": {},
     "output_type": "display_data"
    },
    {
     "name": "stdout",
     "output_type": "stream",
     "text": [
      "\n",
      "iteration/epoch 3 :\n",
      "train mse: 4.98455425168618\n"
     ]
    },
    {
     "data": {
      "application/vnd.jupyter.widget-view+json": {
       "model_id": "ffcf4b0fccdb47d294b5cc926fdaa5d0",
       "version_major": 2,
       "version_minor": 0
      },
      "text/plain": [
       "Solving for P:   0%|          | 0/611 [00:00<?, ?it/s]"
      ]
     },
     "metadata": {},
     "output_type": "display_data"
    },
    {
     "data": {
      "application/vnd.jupyter.widget-view+json": {
       "model_id": "d45c97716d6b4325b5364269ebdaf58c",
       "version_major": 2,
       "version_minor": 0
      },
      "text/plain": [
       "Solving for Q:   0%|          | 0/9725 [00:00<?, ?it/s]"
      ]
     },
     "metadata": {},
     "output_type": "display_data"
    },
    {
     "name": "stdout",
     "output_type": "stream",
     "text": [
      "\n",
      "iteration/epoch 4 :\n",
      "train mse: 4.172730007233119\n"
     ]
    },
    {
     "data": {
      "application/vnd.jupyter.widget-view+json": {
       "model_id": "8529e0ef7780483d84c18c94c35954f6",
       "version_major": 2,
       "version_minor": 0
      },
      "text/plain": [
       "Solving for P:   0%|          | 0/611 [00:00<?, ?it/s]"
      ]
     },
     "metadata": {},
     "output_type": "display_data"
    },
    {
     "data": {
      "application/vnd.jupyter.widget-view+json": {
       "model_id": "2aac1e9c9fe54606aee139442ac535be",
       "version_major": 2,
       "version_minor": 0
      },
      "text/plain": [
       "Solving for Q:   0%|          | 0/9725 [00:00<?, ?it/s]"
      ]
     },
     "metadata": {},
     "output_type": "display_data"
    },
    {
     "name": "stdout",
     "output_type": "stream",
     "text": [
      "\n",
      "iteration/epoch 5 :\n",
      "train mse: 3.717601008610088\n"
     ]
    },
    {
     "data": {
      "application/vnd.jupyter.widget-view+json": {
       "model_id": "f3d5aa1b0052408281c130e0be2cdbbe",
       "version_major": 2,
       "version_minor": 0
      },
      "text/plain": [
       "Solving for P:   0%|          | 0/611 [00:00<?, ?it/s]"
      ]
     },
     "metadata": {},
     "output_type": "display_data"
    },
    {
     "data": {
      "application/vnd.jupyter.widget-view+json": {
       "model_id": "a0a9e8578b2c4e5bac4fc7f2ff366c9a",
       "version_major": 2,
       "version_minor": 0
      },
      "text/plain": [
       "Solving for Q:   0%|          | 0/9725 [00:00<?, ?it/s]"
      ]
     },
     "metadata": {},
     "output_type": "display_data"
    },
    {
     "name": "stdout",
     "output_type": "stream",
     "text": [
      "\n",
      "iteration/epoch 6 :\n",
      "train mse: 3.4160149334637557\n"
     ]
    },
    {
     "data": {
      "application/vnd.jupyter.widget-view+json": {
       "model_id": "97294110ac82464285b7632fda86e4cf",
       "version_major": 2,
       "version_minor": 0
      },
      "text/plain": [
       "Solving for P:   0%|          | 0/611 [00:00<?, ?it/s]"
      ]
     },
     "metadata": {},
     "output_type": "display_data"
    },
    {
     "data": {
      "application/vnd.jupyter.widget-view+json": {
       "model_id": "27fcb0c8d8fd49559d6a710682c54ab5",
       "version_major": 2,
       "version_minor": 0
      },
      "text/plain": [
       "Solving for Q:   0%|          | 0/9725 [00:00<?, ?it/s]"
      ]
     },
     "metadata": {},
     "output_type": "display_data"
    },
    {
     "name": "stdout",
     "output_type": "stream",
     "text": [
      "\n",
      "iteration/epoch 7 :\n",
      "train mse: 3.1967135516039136\n"
     ]
    },
    {
     "data": {
      "application/vnd.jupyter.widget-view+json": {
       "model_id": "b48a617426ea4acebe475a2088fd59ee",
       "version_major": 2,
       "version_minor": 0
      },
      "text/plain": [
       "Solving for P:   0%|          | 0/611 [00:00<?, ?it/s]"
      ]
     },
     "metadata": {},
     "output_type": "display_data"
    },
    {
     "data": {
      "application/vnd.jupyter.widget-view+json": {
       "model_id": "794c5beb82f145de90ee7f7d4ab1f24a",
       "version_major": 2,
       "version_minor": 0
      },
      "text/plain": [
       "Solving for Q:   0%|          | 0/9725 [00:00<?, ?it/s]"
      ]
     },
     "metadata": {},
     "output_type": "display_data"
    },
    {
     "name": "stdout",
     "output_type": "stream",
     "text": [
      "\n",
      "iteration/epoch 8 :\n",
      "train mse: 3.027995315364981\n"
     ]
    },
    {
     "data": {
      "application/vnd.jupyter.widget-view+json": {
       "model_id": "34f4007361f3456fa459314649661704",
       "version_major": 2,
       "version_minor": 0
      },
      "text/plain": [
       "Solving for P:   0%|          | 0/611 [00:00<?, ?it/s]"
      ]
     },
     "metadata": {},
     "output_type": "display_data"
    },
    {
     "data": {
      "application/vnd.jupyter.widget-view+json": {
       "model_id": "972b7f05e8ee419b91cf0cb8f62d1d81",
       "version_major": 2,
       "version_minor": 0
      },
      "text/plain": [
       "Solving for Q:   0%|          | 0/9725 [00:00<?, ?it/s]"
      ]
     },
     "metadata": {},
     "output_type": "display_data"
    },
    {
     "name": "stdout",
     "output_type": "stream",
     "text": [
      "\n",
      "iteration/epoch 9 :\n",
      "train mse: 2.893324895510889\n"
     ]
    },
    {
     "data": {
      "application/vnd.jupyter.widget-view+json": {
       "model_id": "001ec8593a6c49f281df15cd6dc6f167",
       "version_major": 2,
       "version_minor": 0
      },
      "text/plain": [
       "Solving for P:   0%|          | 0/611 [00:00<?, ?it/s]"
      ]
     },
     "metadata": {},
     "output_type": "display_data"
    },
    {
     "data": {
      "application/vnd.jupyter.widget-view+json": {
       "model_id": "0c163c4680a74ec984992b03355a6f61",
       "version_major": 2,
       "version_minor": 0
      },
      "text/plain": [
       "Solving for Q:   0%|          | 0/9725 [00:00<?, ?it/s]"
      ]
     },
     "metadata": {},
     "output_type": "display_data"
    },
    {
     "name": "stdout",
     "output_type": "stream",
     "text": [
      "\n",
      "iteration/epoch 10 :\n",
      "train mse: 2.7831247153883703\n"
     ]
    }
   ],
   "source": [
    "mf = MatrixFactorisation(train, 40)\n",
    "print( np.shape(mf.P), np.shape(mf.Q) )\n",
    "P, Q = mf.als(solver=\"cg\", verbose=True)"
   ]
  },
  {
   "cell_type": "code",
   "execution_count": 145,
   "metadata": {},
   "outputs": [
    {
     "name": "stdout",
     "output_type": "stream",
     "text": [
      "(611, 10) (9725, 10)\n"
     ]
    }
   ],
   "source": [
    "mf = MatrixFactorisation(train, 10)\n",
    "print( np.shape(mf.P), np.shape(mf.Q) )\n",
    "# print( mf.P )"
   ]
  },
  {
   "cell_type": "code",
   "execution_count": 146,
   "metadata": {},
   "outputs": [
    {
     "name": "stdout",
     "output_type": "stream",
     "text": [
      "\n",
      "iteration/epoch 5 :\n",
      "train mse: 83.09331615351753\n",
      "\n",
      "iteration/epoch 10 :\n",
      "train mse: 72.79574992151512\n",
      "\n",
      "iteration/epoch 15 :\n",
      "train mse: 64.25545147251358\n",
      "\n",
      "iteration/epoch 20 :\n",
      "train mse: 58.183056203614726\n",
      "\n",
      "iteration/epoch 25 :\n",
      "train mse: 53.31928838902393\n",
      "\n",
      "iteration/epoch 30 :\n",
      "train mse: 49.98963478700182\n",
      "\n",
      "iteration/epoch 35 :\n",
      "train mse: 47.38552314481957\n",
      "\n",
      "iteration/epoch 40 :\n",
      "train mse: 46.07747934591072\n",
      "\n",
      "iteration/epoch 45 :\n",
      "train mse: 44.58463557722569\n",
      "\n",
      "iteration/epoch 50 :\n",
      "train mse: 42.89514270391427\n",
      "\n",
      "iteration/epoch 55 :\n",
      "train mse: 42.45748471494602\n",
      "\n",
      "iteration/epoch 60 :\n",
      "train mse: 41.40558263545444\n",
      "\n",
      "iteration/epoch 65 :\n",
      "train mse: 40.632415973855935\n",
      "\n",
      "iteration/epoch 70 :\n",
      "train mse: 39.61179790511118\n",
      "\n",
      "iteration/epoch 75 :\n",
      "train mse: 39.52759215675407\n",
      "\n",
      "iteration/epoch 80 :\n",
      "train mse: 38.47094051221577\n",
      "\n",
      "iteration/epoch 85 :\n",
      "train mse: 38.28939865845357\n",
      "\n",
      "iteration/epoch 90 :\n",
      "train mse: 37.70902552616321\n",
      "\n",
      "iteration/epoch 95 :\n",
      "train mse: 37.44939414158219\n",
      "\n",
      "iteration/epoch 100 :\n",
      "train mse: 37.34323969843039\n",
      "(611, 10)\n"
     ]
    }
   ],
   "source": [
    "P, Q = mf.sgd(epochs=100, learning_rate=0.03, verbose=True)\n",
    "print(np.shape(P))"
   ]
  },
  {
   "cell_type": "code",
   "execution_count": 154,
   "metadata": {},
   "outputs": [
    {
     "name": "stdout",
     "output_type": "stream",
     "text": [
      "(611, 10) (9725, 10)\n"
     ]
    }
   ],
   "source": [
    "mf = MatrixFactorisation(train, 10)\n",
    "print( np.shape(mf.P), np.shape(mf.Q) )\n",
    "# print( mf.P )"
   ]
  },
  {
   "cell_type": "code",
   "execution_count": 155,
   "metadata": {},
   "outputs": [
    {
     "name": "stdout",
     "output_type": "stream",
     "text": [
      "\n",
      "iteration/epoch 50 :\n",
      "train mse: 81.68773059328453\n",
      "iteration 50 :\n",
      "test mse: 27.66804778641565\n",
      "\n",
      "iteration/epoch 100 :\n",
      "train mse: 70.40378845794781\n",
      "iteration 100 :\n",
      "test mse: 28.36181768450393\n",
      "\n",
      "iteration/epoch 150 :\n",
      "train mse: 60.52374349553295\n",
      "iteration 150 :\n",
      "test mse: 29.67463014745175\n",
      "\n",
      "iteration/epoch 200 :\n",
      "train mse: 53.24056589510223\n",
      "iteration 200 :\n",
      "test mse: 30.913172472606924\n",
      "\n",
      "iteration/epoch 250 :\n",
      "train mse: 48.21880618255489\n",
      "iteration 250 :\n",
      "test mse: 31.924692159794752\n",
      "\n",
      "iteration/epoch 300 :\n",
      "train mse: 44.65527413615498\n",
      "iteration 300 :\n",
      "test mse: 32.76444635377466\n",
      "\n",
      "iteration/epoch 350 :\n",
      "train mse: 42.01790762580858\n",
      "iteration 350 :\n",
      "test mse: 33.48648001319414\n",
      "\n",
      "iteration/epoch 400 :\n",
      "train mse: 39.99222992960685\n",
      "iteration 400 :\n",
      "test mse: 34.12830669943971\n",
      "\n",
      "iteration/epoch 450 :\n",
      "train mse: 38.38913933098061\n",
      "iteration 450 :\n",
      "test mse: 34.71506554118437\n",
      "\n",
      "iteration/epoch 500 :\n",
      "train mse: 37.09081562238351\n",
      "iteration 500 :\n",
      "test mse: 35.2622132301113\n"
     ]
    }
   ],
   "source": [
    "P, Q = mf.gradient_descent(iterations=500, learning_rate=0.4, _lambda=0, validation=test, verbose=True)\n",
    "# print(np.shape(P))"
   ]
  },
  {
   "cell_type": "code",
   "execution_count": 57,
   "metadata": {},
   "outputs": [
    {
     "data": {
      "image/png": "[encoded data removed]",
      "text/plain": [
       "<Figure size 640x480 with 1 Axes>"
      ]
     },
     "metadata": {},
     "output_type": "display_data"
    }
   ],
   "source": [
    "# print( np.array(mf.train_mse_at_epochs)[:,1] )\n",
    "# mf.plot_learning_curve(validation=True)\n",
    "mf.plot_learning_curve(validation=None)"
   ]
  },
  {
   "cell_type": "code",
   "execution_count": null,
   "metadata": {},
   "outputs": [],
   "source": [
    "# help = np.zeros((mf.P.shape[0], mf.Q.T.shape[1]))\n",
    "# print(np.shape(help))\n",
    "\n",
    "# for i in range(mf.P.shape[0]):\n",
    "#        for j in range(mf.Q.T.shape[1]):\n",
    "#               for k in range(mf.k):\n",
    "#                      help[i][j] += mf.P[i][k] * mf.Q.T[k][j]\n",
    "\n",
    "# print(help)"
   ]
  },
  {
   "cell_type": "code",
   "execution_count": 84,
   "metadata": {},
   "outputs": [
    {
     "name": "stdout",
     "output_type": "stream",
     "text": [
      "[[0.64097652 0.81445084 0.50816506 ... 0.79183397 0.88573296 0.29639769]\n",
      " [0.81819179 1.43911481 0.76782272 ... 0.93953074 0.90698471 0.67049783]\n",
      " [0.46768566 0.83350486 0.72810256 ... 0.88206096 0.83578143 0.90009087]\n",
      " ...\n",
      " [0.02789206 0.87064953 0.01057161 ... 0.42721098 0.3386313  1.09833671]\n",
      " [1.18448325 0.31793441 0.59854647 ... 0.75894204 0.67857728 0.94034587]\n",
      " [0.76909415 0.60740241 0.6678389  ... 0.95757274 0.86713029 0.544421  ]] \n",
      "\n",
      "\n",
      "\n",
      " [[0.88105647 0.32218538 1.03716174 ... 0.25000874 0.40175541 0.07859848]\n",
      " [0.23276371 0.43378731 0.45605363 ... 0.29271171 0.60647119 0.48138692]\n",
      " [0.36089094 0.26952669 0.51511856 ... 0.55837359 1.36594245 0.43949882]\n",
      " ...\n",
      " [0.61211538 0.18337519 0.8626645  ... 0.29695985 0.83776925 0.27549677]\n",
      " [0.18773088 0.94658377 0.81863825 ... 0.38696764 0.19148674 0.58730196]\n",
      " [0.50225012 0.96257021 0.35507013 ... 0.50855224 0.42503991 0.23540146]]\n"
     ]
    }
   ],
   "source": [
    "# help2 = mf.P @ mf.Q.T\n",
    "print(mf.P,\"\\n\\n\\n\\n\", mf.Q)"
   ]
  },
  {
   "cell_type": "code",
   "execution_count": 58,
   "metadata": {},
   "outputs": [
    {
     "data": {
      "text/plain": [
       "matrix([[1., 1., 1., ..., 0., 0., 0.],\n",
       "        [0., 0., 0., ..., 0., 0., 0.],\n",
       "        [0., 0., 0., ..., 0., 0., 0.],\n",
       "        ...,\n",
       "        [1., 0., 0., ..., 0., 0., 0.],\n",
       "        [1., 0., 0., ..., 1., 1., 0.],\n",
       "        [0., 0., 0., ..., 0., 0., 0.]])"
      ]
     },
     "execution_count": 58,
     "metadata": {},
     "output_type": "execute_result"
    }
   ],
   "source": [
    "train.todense()"
   ]
  },
  {
   "cell_type": "code",
   "execution_count": 59,
   "metadata": {},
   "outputs": [
    {
     "name": "stdout",
     "output_type": "stream",
     "text": [
      "<class 'numpy.ndarray'> <class 'numpy.ndarray'> (array([  0,   0,   0, ..., 609, 609, 609]), array([   0,    1,    2, ..., 9721, 9722, 9723]))\n",
      "[[ 0.85  0.88  0.91 ...  0.    0.    0.  ]\n",
      " [ 0.    0.    0.   ...  0.    0.    0.  ]\n",
      " [ 0.   -0.   -0.   ... -0.   -0.    0.  ]\n",
      " ...\n",
      " [ 1.    0.    0.   ...  0.    0.    0.  ]\n",
      " [ 0.99 -0.    0.   ...  0.92  0.92  0.  ]\n",
      " [ 0.    0.    0.   ...  0.    0.    0.  ]] \n",
      "\n",
      "[[ 0.85  0.88  0.91 ...  0.    0.    0.  ]\n",
      " [ 0.59  0.27  0.25 ...  0.01  0.01  0.  ]\n",
      " [ 0.24 -0.25 -0.04 ... -0.02 -0.02  0.  ]\n",
      " ...\n",
      " [ 1.    0.5   0.5  ...  0.01  0.01  0.  ]\n",
      " [ 0.99 -0.03  0.47 ...  0.92  0.92  0.  ]\n",
      " [ 0.    0.    0.   ...  0.    0.    0.  ]]\n"
     ]
    }
   ],
   "source": [
    "predictions = mf.P.dot(mf.Q.T)\n",
    "mask = np.zeros_like(train.toarray())\n",
    "print(type(predictions.toarray()), type(train.toarray()), train.toarray().nonzero())\n",
    "mask[train.toarray().nonzero()] = 1\n",
    "\n",
    "# Mask out unknown ratings as 0 for ease of comparison.\n",
    "print(np.round(predictions.toarray() * mask, 2), \"\\n\")\n",
    "print(np.round(predictions.toarray(), 2) )\n",
    "######--------\n",
    "# predictions = mf.P.dot(mf.Q.T)\n",
    "# mask = np.zeros_like(train)\n",
    "# print(type(predictions.toarray()), type(train.toarray()), train.toarray().nonzero())\n",
    "# mask[train.nonzero()] = 1\n",
    "\n",
    "# # Mask out unknown ratings as 0 for ease of comparison.\n",
    "# print(np.round(predictions * mask, 2))"
   ]
  },
  {
   "cell_type": "code",
   "execution_count": null,
   "metadata": {},
   "outputs": [],
   "source": [
    "##### File saving and download utility for Colab\n",
    "\n",
    "# from google.colab import files\n",
    "\n",
    "# user_emb_df = pd.DataFrame(P)\n",
    "# user_emb_df.to_csv(\"saved_user_emb.csv\", delimiter=\"\\t\", index=True)\n",
    "# movie_emb_df = pd.DataFrame(Q)\n",
    "# movie_emb_df.to_csv(\"saved_movie_emb.csv\", delimiter=\"\\t\", index=True)\n",
    "\n",
    "# files.download(\"saved_user_emb.csv\")\n",
    "# files.download(\"saved_movie_emb.csv\")"
   ]
  }
 ],
 "metadata": {
  "kernelspec": {
   "display_name": "RecSys_Env",
   "language": "python",
   "name": "recsys_env"
  },
  "language_info": {
   "codemirror_mode": {
    "name": "ipython",
    "version": 3
   },
   "file_extension": ".py",
   "mimetype": "text/x-python",
   "name": "python",
   "nbconvert_exporter": "python",
   "pygments_lexer": "ipython3",
   "version": "3.10.5"
  }
 },
 "nbformat": 4,
 "nbformat_minor": 2
}
