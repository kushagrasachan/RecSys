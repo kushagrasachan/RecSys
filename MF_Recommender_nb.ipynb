{
 "cells": [
  {
   "cell_type": "markdown",
   "metadata": {},
   "source": [
    "# Recommender System using Matrix Factorisation\n",
    "\n",
    "<!-- ### What this project does -->\n",
    "\n",
    "<!-- ### What this project doesn't do -->"
   ]
  },
  {
   "cell_type": "code",
   "execution_count": 1,
   "metadata": {},
   "outputs": [],
   "source": [
    "####### For working on Google Colab #######\n",
    "# Uncomment the appropriate block below\n",
    "\n",
    "#### Download and unzip the 100k ratings Movielens dataset\n",
    "# !curl -O http://files.grouplens.org/datasets/movielens/ml-latest-small.zip\n",
    "# !unzip ml-latest-small.zip\n",
    "# !cd ml-latest-small/\n",
    "\n",
    "#### Download and unzip the 10 million ratings Movielens dataset\n",
    "# !curl -O https://files.grouplens.org/datasets/movielens/ml-10m.zip\n",
    "# !unzip ml-10m.zip\n",
    "# !cd ml-10M100K/"
   ]
  },
  {
   "cell_type": "code",
   "execution_count": 2,
   "metadata": {},
   "outputs": [
    {
     "name": "stdout",
     "output_type": "stream",
     "text": [
      "Enabling notebook extension jupyter-js-widgets/extension...\n",
      "      - Validating: \u001b[32mOK\u001b[0m\n"
     ]
    }
   ],
   "source": [
    "import numpy as np\n",
    "import pandas as pd\n",
    "import scipy.sparse as sparse\n",
    "from sklearn.model_selection import train_test_split\n",
    "import matplotlib.pyplot as plt\n",
    "import time\n",
    "from tqdm.notebook import trange, tqdm\n",
    "import ipywidgets\n",
    "!jupyter nbextension enable --py widgetsnbextension\n",
    "%matplotlib inline"
   ]
  },
  {
   "cell_type": "markdown",
   "metadata": {},
   "source": [
    "<!-- Until now, I've encountered two types of data objects in the Pandas library—DataFrames and Series, and here is a [Scaler Topics article on core components of Pandas](https://www.scaler.com/topics/pandas/core-components-of-pandas/), confirming that these two are the important ones (for single-dimensional, and two-dimensional data respectively), apart from a third object type, `Panel` (for three-dimensional data).\n",
    "\n",
    "Here's a micro-article attempting to list the organisation of files in Pandas' architecture: [Discover Pandas Library Architecture – File Hierarchy in Pandas](https://data-flair.training/blogs/pandas-library-architecture/) -->\n"
   ]
  },
  {
   "cell_type": "code",
   "execution_count": 3,
   "metadata": {},
   "outputs": [],
   "source": [
    "ratings_df = pd.read_csv(\"./ml-latest-small/ratings.csv\")\n",
    "# ratings_df = pd.read_csv(\"./ml-10M100K/ratings.dat\", delimiter='::', names=['userId', 'movieId', 'rating', 'timestamp'])\n",
    "# ratings_df = pd.read_csv(\"./anime-ratings-matrix-factorization-v-10/anime ratings dataset/rating.csv\")"
   ]
  },
  {
   "cell_type": "code",
   "execution_count": 4,
   "metadata": {},
   "outputs": [
    {
     "data": {
      "text/html": [
       "<div>\n",
       "<style scoped>\n",
       "    .dataframe tbody tr th:only-of-type {\n",
       "        vertical-align: middle;\n",
       "    }\n",
       "\n",
       "    .dataframe tbody tr th {\n",
       "        vertical-align: top;\n",
       "    }\n",
       "\n",
       "    .dataframe thead th {\n",
       "        text-align: right;\n",
       "    }\n",
       "</style>\n",
       "<table border=\"1\" class=\"dataframe\">\n",
       "  <thead>\n",
       "    <tr style=\"text-align: right;\">\n",
       "      <th></th>\n",
       "      <th>userId</th>\n",
       "      <th>movieId</th>\n",
       "      <th>rating</th>\n",
       "      <th>timestamp</th>\n",
       "    </tr>\n",
       "  </thead>\n",
       "  <tbody>\n",
       "    <tr>\n",
       "      <th>0</th>\n",
       "      <td>1</td>\n",
       "      <td>1</td>\n",
       "      <td>4.0</td>\n",
       "      <td>964982703</td>\n",
       "    </tr>\n",
       "    <tr>\n",
       "      <th>1</th>\n",
       "      <td>1</td>\n",
       "      <td>3</td>\n",
       "      <td>4.0</td>\n",
       "      <td>964981247</td>\n",
       "    </tr>\n",
       "    <tr>\n",
       "      <th>2</th>\n",
       "      <td>1</td>\n",
       "      <td>6</td>\n",
       "      <td>4.0</td>\n",
       "      <td>964982224</td>\n",
       "    </tr>\n",
       "    <tr>\n",
       "      <th>3</th>\n",
       "      <td>1</td>\n",
       "      <td>47</td>\n",
       "      <td>5.0</td>\n",
       "      <td>964983815</td>\n",
       "    </tr>\n",
       "    <tr>\n",
       "      <th>4</th>\n",
       "      <td>1</td>\n",
       "      <td>50</td>\n",
       "      <td>5.0</td>\n",
       "      <td>964982931</td>\n",
       "    </tr>\n",
       "  </tbody>\n",
       "</table>\n",
       "</div>"
      ],
      "text/plain": [
       "   userId  movieId  rating  timestamp\n",
       "0       1        1     4.0  964982703\n",
       "1       1        3     4.0  964981247\n",
       "2       1        6     4.0  964982224\n",
       "3       1       47     5.0  964983815\n",
       "4       1       50     5.0  964982931"
      ]
     },
     "execution_count": 4,
     "metadata": {},
     "output_type": "execute_result"
    }
   ],
   "source": [
    "ratings_df.head()"
   ]
  },
  {
   "cell_type": "code",
   "execution_count": 5,
   "metadata": {},
   "outputs": [
    {
     "name": "stdout",
     "output_type": "stream",
     "text": [
      "<class 'pandas.core.frame.DataFrame'>\n",
      "RangeIndex: 100836 entries, 0 to 100835\n",
      "Data columns (total 4 columns):\n",
      " #   Column     Non-Null Count   Dtype  \n",
      "---  ------     --------------   -----  \n",
      " 0   userId     100836 non-null  int64  \n",
      " 1   movieId    100836 non-null  int64  \n",
      " 2   rating     100836 non-null  float64\n",
      " 3   timestamp  100836 non-null  int64  \n",
      "dtypes: float64(1), int64(3)\n",
      "memory usage: 3.1 MB\n"
     ]
    }
   ],
   "source": [
    "ratings_df.info()"
   ]
  },
  {
   "cell_type": "code",
   "execution_count": 6,
   "metadata": {},
   "outputs": [
    {
     "name": "stdout",
     "output_type": "stream",
     "text": [
      "There are 9724 movies and 610 users in the dataset\n"
     ]
    }
   ],
   "source": [
    "# num_movies = pd.DataFrame(ratings_df['movieId'].unique()).count().values[0]       #this is a tad more convoluted way\n",
    "# num_users = pd.DataFrame(ratings_df['userId'].unique()).count().values[0]\n",
    "num_movies = ratings_df['movieId'].unique().shape[0]                                #better way\n",
    "num_users = ratings_df['userId'].unique().shape[0]\n",
    "print(f\"There are {num_movies} movies and {num_users} users in the dataset\")"
   ]
  },
  {
   "cell_type": "code",
   "execution_count": 7,
   "metadata": {},
   "outputs": [
    {
     "name": "stdout",
     "output_type": "stream",
     "text": [
      "There are 0 user IDs exceeding 610.\n",
      "There are 4334 movie IDs exceeding 9724.\n"
     ]
    }
   ],
   "source": [
    "print(f\"There are {ratings_df.loc[ratings_df.userId > num_users].userId.unique().shape[0]} user IDs exceeding {num_users}.\")\n",
    "print(f\"There are {ratings_df.loc[ratings_df.movieId > num_movies].movieId.unique().shape[0]} movie IDs exceeding {num_movies}.\")"
   ]
  },
  {
   "cell_type": "markdown",
   "metadata": {},
   "source": [
    "For the 100k ratings dataset: it seems that the user IDs are contiguous, while the movie IDs are not.\n",
    "\n",
    "For the 10M ratings dataset: both the user IDs and movie IDs are not contiguous.\n",
    "\n",
    "We shall make the requisite IDs contiguous in following blocks after some more EDA."
   ]
  },
  {
   "cell_type": "code",
   "execution_count": 8,
   "metadata": {},
   "outputs": [],
   "source": [
    "# ratings_df.describe().T"
   ]
  },
  {
   "cell_type": "code",
   "execution_count": 9,
   "metadata": {},
   "outputs": [],
   "source": [
    "# pd.Series.value_counts(ratings_df['rating']).to_frame().T"
   ]
  },
  {
   "cell_type": "code",
   "execution_count": 10,
   "metadata": {},
   "outputs": [],
   "source": [
    "# plt.hist(ratings_df['rating'], bins=[(i-1)/2 for i in range(0, 12)])\n",
    "# plt.hist(ratings_df['rating'], bins=[i-0.5 for i in range(-1,12)])  #for anime ratings dataset"
   ]
  },
  {
   "cell_type": "code",
   "execution_count": 11,
   "metadata": {},
   "outputs": [
    {
     "name": "stdout",
     "output_type": "stream",
     "text": [
      "userId       0\n",
      "movieId      0\n",
      "rating       0\n",
      "timestamp    0\n",
      "dtype: int64 \n",
      "\n",
      "<class 'pandas.core.series.Series'>\n"
     ]
    }
   ],
   "source": [
    "print( ratings_df.isna().sum() , \"\\n\")\n",
    "print( type(ratings_df.isna().sum()) )"
   ]
  },
  {
   "cell_type": "code",
   "execution_count": 12,
   "metadata": {},
   "outputs": [
    {
     "name": "stdout",
     "output_type": "stream",
     "text": [
      "100836\n"
     ]
    },
    {
     "data": {
      "text/plain": [
       "100836"
      ]
     },
     "execution_count": 12,
     "metadata": {},
     "output_type": "execute_result"
    }
   ],
   "source": [
    "print( len(ratings_df.duplicated(subset=['userId', 'movieId'])) )\n",
    "len(np.where( ratings_df.duplicated(subset=['userId', 'movieId']) == False )[0])"
   ]
  },
  {
   "cell_type": "markdown",
   "metadata": {},
   "source": [
    "There don't seem to be any duplicates *shruggie"
   ]
  },
  {
   "cell_type": "code",
   "execution_count": 13,
   "metadata": {},
   "outputs": [],
   "source": [
    "# toy = np.zeros((3,4))\n",
    "# toy[0,1] = 1\n",
    "# toy[2,3] = 2\n",
    "# toy"
   ]
  },
  {
   "cell_type": "code",
   "execution_count": 14,
   "metadata": {},
   "outputs": [],
   "source": [
    "# toy_csc = sparse.csc_matrix(toy)\n",
    "# print( toy_csc.data )\n",
    "# print( toy_csc.nnz )  # nnz => no. of non-zero (entries)\n",
    "# print( toy_csc.nonzero() )"
   ]
  },
  {
   "cell_type": "code",
   "execution_count": 15,
   "metadata": {},
   "outputs": [],
   "source": [
    "# toy_csc.power(2).todense()"
   ]
  },
  {
   "cell_type": "code",
   "execution_count": 16,
   "metadata": {},
   "outputs": [],
   "source": [
    "############################################################################\n",
    "## This was an unsuccessful attempt to write a general function to make IDs contiguous ##\n",
    "############################################################################\n",
    "\n",
    "# def make_id_contiguous(df:pd.DataFrame, id:str):\n",
    "#        old_new_id = np.zeros(df[id].max()+1)\n",
    "#        for new_id, old_id in enumerate(df[id].unique()):\n",
    "#               old_new_id[old_id] = new_id\n",
    "              \n",
    "#        import re\n",
    "#        RE_WORDS = re.compile(r'''\n",
    "#                      # Find words in a string. Order matters!\n",
    "#                      [A-Z]+(?=[A-Z][a-z]) |  # All upper case before a capitalized word\n",
    "#                      [A-Z]?[a-z]+ |  # Capitalized words / all lower case\n",
    "#                      [A-Z]+ |  # All upper case\n",
    "#                      \\d+  # Numbers\n",
    "#                      ''', re.VERBOSE)\n",
    "#        id_split = RE_WORDS.findall(id)\n",
    "#        print(id_split)\n",
    "#        print(np.where(id_split == 'Id'))\n",
    "#        # id_split[np.where(id_split == 'Id')] = 'newId'\n",
    "#        new_id_name = \"\".join(i for i in id_split)\n",
    "\n",
    "#        df[new_id_name] = old_new_id[df[id]]\n",
    "#        df = df.astype({new_id_name: 'int64'})\n",
    "#        print( df.head(), \"\\n\" )\n",
    "#        return old_new_id\n",
    "\n",
    "# make_id_contiguous(ratings_df, 'movieId')"
   ]
  },
  {
   "cell_type": "markdown",
   "metadata": {},
   "source": [
    "### Making the user and movie IDs contiguous"
   ]
  },
  {
   "cell_type": "code",
   "execution_count": 17,
   "metadata": {},
   "outputs": [
    {
     "name": "stdout",
     "output_type": "stream",
     "text": [
      "   userId  movieId  rating  timestamp  userNewId\n",
      "0       1        1     4.0  964982703          0\n",
      "1       1        3     4.0  964981247          0\n",
      "2       1        6     4.0  964982224          0\n",
      "3       1       47     5.0  964983815          0\n",
      "4       1       50     5.0  964982931          0 \n",
      "\n",
      "       userId  userNewId\n",
      "22684     156        155\n",
      "22685     156        155\n",
      "22686     156        155\n",
      "22687     156        155\n",
      "22688     156        155\n",
      "...       ...        ...\n",
      "23077     156        155\n",
      "23078     156        155\n",
      "23079     156        155\n",
      "23080     156        155\n",
      "23081     156        155\n",
      "\n",
      "[398 rows x 2 columns] \n",
      "\n",
      "There are 610 users and correspondingly 610.0 contiguous user IDs now\n"
     ]
    }
   ],
   "source": [
    "user_old_new_id = np.zeros(ratings_df[\"userId\"].max()+1)\n",
    "for new_id, old_id in enumerate(ratings_df['userId'].unique()):\n",
    "       user_old_new_id[old_id] = new_id\n",
    "       \n",
    "ratings_df['userNewId'] = user_old_new_id[ratings_df['userId']]\n",
    "ratings_df = ratings_df.astype({'userNewId': 'int64'})\n",
    "\n",
    "print( ratings_df.head(), \"\\n\" )\n",
    "# now just to check that we did it correctly, a movieId should be mapped to the same movieNewId\n",
    "print( ratings_df.loc[ratings_df.userId == 156][['userId', 'userNewId']], \"\\n\" ) \n",
    "print(f\"There are {num_users} users and correspondingly {max(user_old_new_id)+1} contiguous user IDs now\")"
   ]
  },
  {
   "cell_type": "code",
   "execution_count": 18,
   "metadata": {},
   "outputs": [
    {
     "name": "stdout",
     "output_type": "stream",
     "text": [
      "   userId  movieId  rating  timestamp  userNewId  movieNewId\n",
      "0       1        1     4.0  964982703          0           0\n",
      "1       1        3     4.0  964981247          0           1\n",
      "2       1        6     4.0  964982224          0           2\n",
      "3       1       47     5.0  964983815          0           3\n",
      "4       1       50     5.0  964982931          0           4 \n",
      "\n",
      "       movieId  movieNewId\n",
      "17007      156        4463\n",
      "96137      156        4463\n",
      "97391      156        4463 \n",
      "\n",
      "There are 9724 movies and correspondingly 9724.0 contiguous movie IDs now\n"
     ]
    }
   ],
   "source": [
    "movie_old_new_id = np.zeros(ratings_df[\"movieId\"].max()+1)\n",
    "for new_id, old_id in enumerate(ratings_df['movieId'].unique()):\n",
    "       movie_old_new_id[old_id] = new_id\n",
    "       \n",
    "ratings_df['movieNewId'] = movie_old_new_id[ratings_df['movieId']]\n",
    "ratings_df = ratings_df.astype({'movieNewId': 'int64'})\n",
    "\n",
    "print( ratings_df.head(), \"\\n\" )\n",
    "# now just to check that we did it correctly, a movieId should be mapped to the same movieNewId\n",
    "print( ratings_df.loc[ratings_df.movieId == 156][['movieId', 'movieNewId']], \"\\n\" ) \n",
    "print(f\"There are {num_movies} movies and correspondingly {max(movie_old_new_id)+1} contiguous movie IDs now\")"
   ]
  },
  {
   "cell_type": "code",
   "execution_count": 19,
   "metadata": {},
   "outputs": [
    {
     "name": "stdout",
     "output_type": "stream",
     "text": [
      "       userId  movieId  rating   timestamp  userNewId  movieNewId\n",
      "0         509     7347     3.0  1435994597        508        4285\n",
      "1         326    71462     4.0  1322252335        325        5629\n",
      "2          57     2115     3.0   965798155         56         134\n",
      "3         610     1127     4.0  1479544102        609          66\n",
      "4         462     2409     2.0  1174438249        461        1172\n",
      "...       ...      ...     ...         ...        ...         ...\n",
      "80663      42     4005     4.0   996259059         41        1873\n",
      "80664     364      141     4.0   869443367        363         524\n",
      "80665     480     6867     4.0  1179163171        479        2240\n",
      "80666       6      981     3.0   845556567          5         712\n",
      "80667     103     6711     5.0  1431957425        102        2046\n",
      "\n",
      "[80668 rows x 6 columns]\n",
      "       userId  movieId  rating   timestamp  userNewId  movieNewId\n",
      "0         432    77866     4.5  1335139641        431        4730\n",
      "1         288      474     3.0   978465565        287         474\n",
      "2         599     4351     3.0  1498524542        598        2631\n",
      "3          42     2987     4.0   996262677         41         194\n",
      "4          75     1610     4.0  1158989841         74         727\n",
      "...       ...      ...     ...         ...        ...         ...\n",
      "20163     380     5048     2.0  1494268065        379         279\n",
      "20164     434    54272     3.5  1270606860        433        1269\n",
      "20165     226     5989     4.5  1162428551        225         765\n",
      "20166     607     1320     3.0   963080497        606        2750\n",
      "20167     567      750     3.0  1525287719        566         722\n",
      "\n",
      "[20168 rows x 6 columns]\n",
      "(80668, 6) (20168, 6)\n"
     ]
    }
   ],
   "source": [
    "train_df, test_df = train_test_split(ratings_df, test_size=0.2, random_state=42)  #setting random_state ensures consistent splitting every time\n",
    "\n",
    "train_df = train_df.reset_index(drop=True)\n",
    "test_df = test_df.reset_index(drop=True)\n",
    "print(train_df)\n",
    "print(test_df)\n",
    "print( np.shape(train_df), np.shape(test_df) )"
   ]
  },
  {
   "cell_type": "markdown",
   "metadata": {},
   "source": [
    "Since we've chosen to make the movie IDs contiguous by mapping them to new ones, splitting the DataFrame makes creating smaller-dimensional matrix representations of the training or test sets difficult, because, say, the indices chosen in the training set can still lie out of bounds of its smaller matrix's size (similar logic holds for the test set).\n",
    "\n",
    "Instead, let's just work with the full ratings matrix, with the test entries zeroed out in the training matrix (and vice versa), which wouldn't be a bother to the memory anyway because we're using a sparse representation!"
   ]
  },
  {
   "cell_type": "code",
   "execution_count": 20,
   "metadata": {},
   "outputs": [
    {
     "name": "stdout",
     "output_type": "stream",
     "text": [
      "There are 80668 & 20168 non-zero elements in the train and test sparse matrices respectively.\n",
      " 611 9725\n"
     ]
    }
   ],
   "source": [
    "train = sparse.csc_matrix( (train_df['rating'].values, (train_df['userNewId'].values, train_df['movieNewId'].values)),\\\n",
    "                                 shape=(num_users+1, num_movies+1) )\n",
    "test = sparse.csc_matrix(  (test_df['rating'].values, (test_df['userNewId'].values, test_df['movieNewId'].values)),\\\n",
    "                                 shape=(num_users+1, num_movies+1))\n",
    "\n",
    "print(f\"There are {train.nnz} & {test.nnz} non-zero elements in the train and test sparse matrices respectively.\\n\", test.shape[0],train.shape[1] )\n",
    "# train.to_dense()\n",
    "# print( train )"
   ]
  },
  {
   "cell_type": "markdown",
   "metadata": {},
   "source": [
    "Lemme check once that the test and train matrix elements are indeed mutually exclusive (zero, non-zero in their matrices respectively).\n",
    "\n",
    "The cell below seems to show all's good"
   ]
  },
  {
   "cell_type": "code",
   "execution_count": 21,
   "metadata": {},
   "outputs": [],
   "source": [
    "# for i in zip(test.nonzero()[0], test.nonzero()[1]):\n",
    "#        if( train[i[0],i[1]] != 0 ):\n",
    "#               print(\"Hah!\")\n",
    "# for i in zip(train.nonzero()[0], train.nonzero()[1]):\n",
    "#        if( test[i[0],i[1]] != 0 ):\n",
    "#               print(\"Hah!\")"
   ]
  },
  {
   "cell_type": "code",
   "execution_count": 22,
   "metadata": {},
   "outputs": [],
   "source": [
    "# print( np.sort(train_df['userId'].values) )\n",
    "# print( mf.p_nnz_idx, \"\\n\" )\n",
    "\n",
    "# print( np.sort(train_df['movieNewId'].values) )\n",
    "# print( np.sort(mf.q_nnz_idx ) )\n",
    "# print( np.sort(train_df['userId'].values) == mf.p_nnz_idx )\n",
    "# print( np.sort(train_df['movieNewId'].values) == np.sort(mf.q_nnz_idx), \"\\n\" )\n",
    "\n",
    "# print( np.where( np.sort(train_df['userId'].values) != train.nonzero()[0]) )\n",
    "# print( np.where( np.sort(train_df['movieNewId'].values) != np.sort( train.nonzero()[1]) ) )\n",
    "# print( np.where( np.sort(train_df['movieNewId'].values) != np.sort(mf.q_nnz_idx)) )\n"
   ]
  },
  {
   "cell_type": "markdown",
   "metadata": {},
   "source": [
    "Hmmm, so the row indices seem to be all good, ~~but the column indices are playing foul.~~ as do the column indices.\n",
    "\n",
    "Wasted quite the time pursuing this!\n",
    "\n",
    "We have used the list `train_df['movieNewId'].values` as the column indices needed to generate R, but upon querying back these column indices, ~~they're coming out wrong!~~\n",
    "Previously, I wasn ony sorting the `train_df['movieNewId'].values` list, and not the list `mf.q_nnz_idx` for comparison. Upon sorting both, they indeed come out to be the same.\n",
    "***"
   ]
  },
  {
   "cell_type": "markdown",
   "metadata": {},
   "source": [
    "## Matrix Factorisation Class\n",
    "Below, I furnish a Matrix Factorisation Python class that implements:\n",
    "- gradient descent\n",
    "- (pending) gradient descent with user and item biases\n",
    "- sgd\n",
    "- ALS\n",
    "to learn the embeddings.\n",
    "\n",
    "The implementation of gradient descent and sgd considers the loss function for explicit ratings, i.e. solely over observed values.\n",
    "The ALS implementation uses the Koren et al. approach treating the entire ratings matrix as dense implicit data.\n",
    "\n",
    "The regularised loss I've used for explicit ratings: $$L(R, P, Q) = \\frac{1}{N}\\underset{(i,j):r_{ui}≠Nan}{\\sum} (r_{ui} - p_u^T\\cdot q_i)^2 + \\lambda(\\sum_u{||p_u||^2} + \\sum_i{||q_i||^2})$$\n",
    "It's a squared error (SE) loss function with regularisation terms. I wonder how using the Mean SE or RMSE would change the behaviour. ~~Conceptually, it shouldn't..~~ Oh how pathetically wrong I was! Not providing the required normalisation on the gradient terms just blew the cost up! I wonder why not providing the normalisation to the gradient calculation blows up the cost. The two seem unrelated, except, not!\n",
    "\n",
    "Still need to add the user and item bias terms to SGD and GD."
   ]
  },
  {
   "cell_type": "code",
   "execution_count": 49,
   "metadata": {},
   "outputs": [],
   "source": [
    "class MatrixFactorisation():\n",
    "       def __init__(self, R:sparse.csc_matrix, k:int, verbose:bool=False ):\n",
    "              self.R = R           # R is the \"ratings\" matrix to be factorised\n",
    "              self.k = k           # hyperparameter k is the number of latent factors desired in the factorised embeddings\n",
    "              self.m, self.n = R.shape\n",
    "              self.P = np.random.rand(self.m, k)        # initialising the first factor embedding (of \"users\")\n",
    "              self.Q = np.random.rand(self.n, k)        # initialising the second factor embedding (of \"items\")\n",
    "              self.p_nnz_idx, self.q_nnz_idx = R.nonzero()        # row and col indices in R matrix respectively, of non-zero elements\n",
    "              self.train_mse_at_epochs = []\n",
    "              self.test_mse_at_epochs = []\n",
    "              self.verbose = verbose\n",
    "              self.verbose_epoch_intvl = 50\n",
    "\n",
    "       def __predict_observed(self):\n",
    "              \"\"\"\n",
    "              Returns predicted values as a sparse matrix, corresponding to indices of non-zero elements in matrix R to be factorised\n",
    "\n",
    "              Avoids constructing a dense prediction matrix produced via naïve dense matrix multiplication of factors.\n",
    "              Instead, produces predicted values by multiplying only the requisite factor vectors corresponding to non-zero entries in R.\n",
    "              \"\"\"\n",
    "              R_predicted = np.sum( np.multiply(self.P[self.p_nnz_idx], self.Q[self.q_nnz_idx]), axis=1 )       #calculating the products only for the nonzero \"observed\" rating entries: explicit MF\n",
    "              R_predicted = sparse.csc_matrix( (R_predicted, (self.p_nnz_idx, self.q_nnz_idx)), shape=(self.m,self.n))              \n",
    "              # R_predicted = self.P @ self.Q.T\n",
    "              # R_predicted = sparse.csc_matrix(R_predicted)\n",
    "              return R_predicted\n",
    "\n",
    "       def gradients(self, _lambda):\n",
    "              \"\"\"\n",
    "              Returns l2 gradients w.r.t the elements of the embedding vectors, along with the prediction errors\n",
    "              \"\"\"\n",
    "              R_predicted = self.__predict_observed()\n",
    "              error = self.R - R_predicted\n",
    "              norm_factor = -2 / self.R.nnz  #this factor is crucial! Can't be 1 (i.e. we can't leave the gradients unnormalised, else cost diverges!)\n",
    "              grad_P = norm_factor * (error*self.Q) + 2*(_lambda*self.P)\n",
    "              grad_Q = norm_factor * (error.T*self.P) + 2*(_lambda*self.Q)\n",
    "              return grad_P, grad_Q, error\n",
    "\n",
    "       def gradient_descent(self, iterations=2000, learning_rate = 0.3, _lambda=0.0002, beta=0.8, validation:sparse.csc_matrix=None, verbose=False):\n",
    "              \"\"\"\n",
    "              Returns factor matrices for explicit data matrix by learning their entries via full-batch gradient descent.\n",
    "\n",
    "              Returned factor matrices P,Q represent user and item embeddings, for explicit ratings data R.\n",
    "                     R = P.Q^T\n",
    "\n",
    "              Optionally provide a sparse matrix with validation data, to compute the validation performance (measured by mse) over time\n",
    "              \"\"\"\n",
    "              self.verbose = verbose\n",
    "\n",
    "              grad_P, grad_Q, error = self.gradients(_lambda)\n",
    "              v_P = grad_P\n",
    "              v_Q = grad_Q\n",
    "              beta = beta    # momentum constant\n",
    "              train_mse = error.power(2).sum()/self.R.nnz #self.R.shape[0]\n",
    "              # print(\"train mse:\", train_mse)\n",
    "              self.train_mse_at_epochs.append( [1, train_mse] )\n",
    "              self.save_test_mse(0, validation=validation)\n",
    "              for i in tqdm(range(iterations), desc=\"Gradient Descent progress:\", leave=verbose):\n",
    "                     grad_P, grad_Q, error = self.gradients(_lambda)\n",
    "                     v_P = beta*v_P + (1-beta)*grad_P   \n",
    "                     v_Q = beta*v_Q + (1-beta)*grad_Q\n",
    "                     self.P = self.P - learning_rate*v_P       # Grad Desc update rule\n",
    "                     self.Q = self.Q - learning_rate*v_Q       # Grad Desc update rule\n",
    "                     # print(\"train mse:\", error.power(2).sum()/self.R.shape[0] )  #print mse at each iteration\n",
    "                     if(not (i+1)%self.verbose_epoch_intvl):\n",
    "                            self.save_train_mse(i, error)\n",
    "                            self.save_test_mse(i, validation=validation)\n",
    "              return self.P, self.Q\n",
    "\n",
    "       def save_train_mse(self, i, error):\n",
    "              train_mse = error.power(2).sum()/self.R.nnz #self.R.shape[0]\n",
    "              self.train_mse_at_epochs.append( [i+1, train_mse])\n",
    "              if(self.verbose):\n",
    "                     print(\"\\niteration/epoch\", i+1, \":\")\n",
    "                     print(\"train mse:\", train_mse)\n",
    "\n",
    "       def save_test_mse(self, i, validation:sparse.csc_matrix=None, solver='gd'):\n",
    "              if(validation != None):\n",
    "                     valdn_p_nnz_idx, valdn_q_nnz_idx = validation.nonzero()\n",
    "                     valdn_predicted = np.sum( np.multiply(self.P[valdn_p_nnz_idx], self.Q[valdn_q_nnz_idx]), axis=1 )       #calculating the products only for the nonzero \"observed\" rating entries\n",
    "                     valdn_predicted = sparse.csc_matrix( (valdn_predicted, (valdn_p_nnz_idx, valdn_q_nnz_idx)), shape=(self.m,self.n))\n",
    "                     # if(solver == 'als'):\n",
    "                     #        valdn_Phi = validation\n",
    "                     #        valdn_Phi[valdn_Phi.nonzero()] = 1.0\n",
    "                     #        valdn_error = valdn_Phi- valdn_predicted\n",
    "                     #        # test_mse = valdn_error.power(2).sum()/self.R.nnz   #self.R.shape[0]\n",
    "                     # else:\n",
    "                     #        # valdn_p_nnz_idx, valdn_q_nnz_idx = validation.nonzero()\n",
    "                     #        # valdn_predicted = np.sum( np.multiply(self.P[valdn_p_nnz_idx], self.Q[valdn_q_nnz_idx]), axis=1 )       #calculating the products only for the nonzero \"observed\" rating entries\n",
    "                     #        # valdn_predicted = sparse.csc_matrix( (valdn_predicted, (valdn_p_nnz_idx, valdn_q_nnz_idx)), shape=(self.m,self.n))\n",
    "                     valdn_error = validation - valdn_predicted\n",
    "                     test_mse = valdn_error.power(2).sum()/self.R.nnz   #self.R.shape[0]\n",
    "                     self.test_mse_at_epochs.append([i+1, test_mse])\n",
    "                     if(self.verbose):\n",
    "                            print(\"iteration\", i+1, \":\")\n",
    "                            print(\"test mse:\", test_mse)\n",
    "\n",
    "       def sgd(self, epochs=30, learning_rate=0.003, _lambda=0.0002, beta=0.8, verbose=False, validation:sparse.csc_matrix=None):\n",
    "              \"\"\"\n",
    "              Returns factor matrices for explicit data matrix by learning their entries via stochastic gradient descent.\n",
    "\n",
    "              Returned factor matrices P,Q represent user and item embeddings, for explicit ratings data R.\n",
    "                     R = P.Q^T\n",
    "              \"\"\"\n",
    "              self.verbose = verbose\n",
    "              beta = beta\n",
    "\n",
    "              num_samples = len(self.p_nnz_idx)\n",
    "              training_indices = np.arange(num_samples)\n",
    "              # I couldn't have shuffled the array p_nnz_idx itself, cuz that would require shuffling q_nnx_idx in a corresponding manner\n",
    "\n",
    "              # with tqdm(total=100) as prog_bar:\n",
    "              for epoch in tqdm(range(epochs), desc=\"Total SGD epochs completion: \"):\n",
    "                     np.random.shuffle(training_indices)       #stochasticity must be ensured properly!\n",
    "                     count = 0\n",
    "                     for i in tqdm(training_indices, desc=f\"Epoch #{epoch} completion: \"):         #We need to update all users and items at least once in each iteration\n",
    "                            p_idx = self.p_nnz_idx[i]\n",
    "                            q_idx = self.q_nnz_idx[i]\n",
    "\n",
    "                            R_ij = self.R[p_idx, q_idx]\n",
    "                            P_i = self.P[p_idx]\n",
    "                            Q_j = self.Q[q_idx]\n",
    "\n",
    "                            R_predicted_ij = P_i.dot(Q_j.T)\n",
    "                            error_ij = R_ij - R_predicted_ij\n",
    "                            grad_P_i = -2*(error_ij * Q_j) + 2*(_lambda * self.P[p_idx])\n",
    "                            grad_Q_j = -2*(error_ij * P_i) + 2*(_lambda * self.Q[q_idx])\n",
    "\n",
    "                            v_P_i = beta*v_P_i + (1-beta)*grad_P_i if epoch!=0 else grad_P_i\n",
    "                            v_Q_j = beta*v_Q_j + (1-beta)*grad_Q_j if epoch!=0 else grad_Q_j\n",
    "       \n",
    "                            self.P[p_idx] -= learning_rate * v_P_i\n",
    "                            self.Q[q_idx] -= learning_rate * v_Q_j\n",
    "                            # self.P[p_idx] -= learning_rate* grad_P_i\n",
    "                            # self.Q[q_idx] -= learning_rate* grad_Q_j\n",
    "\n",
    "                            if(not ((epoch+1)*(count+1)+1)%(1000)):\n",
    "                                   R_predicted = np.sum( np.multiply(self.P[self.p_nnz_idx], self.Q[self.q_nnz_idx]), axis=1 )       #calculating the products only for the nonzero \"observed\" rating entries\n",
    "                                   R_predicted = sparse.csc_matrix( (R_predicted, (self.p_nnz_idx, self.q_nnz_idx)), shape=(self.m,self.n))\n",
    "                                   error = self.R - R_predicted\n",
    "                                   self.save_train_mse((epoch+1)*(count+1), error)\n",
    "                                   self.save_test_mse((epoch+1)*(count+1), validation=validation)\n",
    "                            count += 1\n",
    "\n",
    "                     # if(not (epoch+1)%(self.verbose_epoch_intvl/10)):\n",
    "                     #        R_predicted = np.sum( np.multiply(self.P[self.p_nnz_idx], self.Q[self.q_nnz_idx]), axis=1 )       #calculating the products only for the nonzero \"observed\" rating entries\n",
    "                     #        R_predicted = sparse.csc_matrix( (R_predicted, (self.p_nnz_idx, self.q_nnz_idx)), shape=(self.m,self.n))\n",
    "                     #        error = self.R - R_predicted\n",
    "                     #        self.save_train_mse(count, error)\n",
    "                     #        # self.save_test_mse(i, validation=validation)\n",
    "              return self.P, self.Q\n",
    "\n",
    "       def als(self, epochs=10, alpha=40, _lambda=10, solver=\"cg\", validation:sparse.csc_matrix=None, verbose=False):\n",
    "              \"\"\"\n",
    "              Returns factor matrices for implicit data matrix by learning their entries via Alternating Least Squares method.\n",
    "\n",
    "              Returned factor matrices P,Q represent user and item embeddings, for binarised ratings data Phi derived from R.\n",
    "                     Phi[p,q] =    { 0    for R[p,q]=0\n",
    "                                   { 1    for R[p,q]>0\n",
    "              &      Phi = P.Q^T\n",
    "\n",
    "              Uses scipy.sparse.linalg's spsolve as its solver\n",
    "              \"\"\"\n",
    "              ## should I be making the following tradeoff for precomputed memory, to speed up implementation?\n",
    "              # Cp_array = []\n",
    "              # Cq_array = []\n",
    "              # for p in range(self.m):\n",
    "              #        C_p = sparse.diags(self.R[p].toarray(), [0])\n",
    "              #        Cp_array.append(C_p)\n",
    "              # for q in range(self.n):\n",
    "              #        C_q = sparse.diags(self.R[q].toarray(), [0])\n",
    "              #        Cq_array.append(C_q)\n",
    "              self.verbose = verbose\n",
    "              lambda_eye = _lambda * sparse.eye(self.k)\n",
    "\n",
    "              P = sparse.csc_matrix(self.P)\n",
    "              Q = sparse.csc_matrix(self.Q)\n",
    "\n",
    "              # the memory for this loop can further be optimised by eliminating the two similar loops with appropriate conditioning\n",
    "              for i in tqdm(range(epochs), desc=\"ALS iterations completion: \"):\n",
    "                     # Q = sparse.csc_matrix(self.Q)\n",
    "                     QTQ = Q.T.dot(Q)         #precomputation of Q.T.dot(Q) for all elements of P\n",
    "                     for p in tqdm(range(self.m), desc=\"Solving for P: \", leave=True):\n",
    "                            R_p = self.R[p].toarray()\n",
    "                            CpI = sparse.diags(alpha * R_p, [0])      #This acts as the (C^u - I) matrix in literature\n",
    "                            QTCpIQ = Q.T.dot(CpI).dot(Q)\n",
    "                            A = (QTQ + QTCpIQ) + lambda_eye\n",
    "\n",
    "                            phi = R_p.copy()\n",
    "                            phi[np.where(phi != 0)] = 1.0\n",
    "                            b = Q.T.dot(CpI + sparse.eye(self.n)).dot(sparse.csc_matrix(phi).T)       # why the last transpose on phi though?\n",
    "\n",
    "                            if(solver == \"lu\"):\n",
    "                                   P[p] = sparse.linalg.spsolve(A, b)\n",
    "                                   # self.P[p] = sparse.linalg.spsolve(A, b)\n",
    "                            if(solver == \"cg\"):\n",
    "                                   P[p], exitcode = sparse.linalg.cg(A, b.toarray())\n",
    "                                   if(exitcode):\n",
    "                                          print(f\"Conjugate Gradient Method couldn't converge properly, exited with convergence exitcode {exitcode}\")\n",
    "                     \n",
    "                     # P = sparse.csc_matrix(self.P)\n",
    "                     PTP = P.T.dot(P)         #precomputation of P.T.dot(P) for all elements of Q\n",
    "                     for q in tqdm(range(self.n), desc=\"Solving for Q: \"):\n",
    "                            R_q = self.R[:,q].T.toarray()\n",
    "                            CqI = sparse.diags(alpha * R_q, [0])      #This acts as the (C^u - I) matrix in literature\n",
    "                            PTCqIP = P.T.dot(CqI).dot(P)\n",
    "                            A = (PTP + PTCqIP) + lambda_eye\n",
    "\n",
    "                            phi = R_q.copy()\n",
    "                            phi[np.where(phi != 0)] = 1.0\n",
    "                            b = P.T.dot(CqI + sparse.eye(self.m)).dot(sparse.csc_matrix(phi).T)       # why the last transpose on phi though?\n",
    "\n",
    "                            if(solver == \"lu\"):\n",
    "                                   Q[q] = sparse.linalg.spsolve(A, b)\n",
    "                                   # self.Q[q] = sparse.linalg.spsolve(A, b)\n",
    "                            if(solver == \"cg\"):\n",
    "                                   Q[q], exitcode = sparse.linalg.cg(A, b.toarray())\n",
    "                                   if(exitcode):\n",
    "                                          print(f\"Conjugate Gradient Method couldn't converge properly, exited with convergence exitcode {exitcode}\")\n",
    "\n",
    "                     # Phi_predicted = np.sum( np.multiply(self.P[self.p_nnz_idx], self.Q[self.q_nnz_idx]), axis=1 )       #calculating the products only for the nonzero \"observed\" rating entries\n",
    "                     # Phi_predicted = sparse.csc_matrix( (Phi_predicted, (self.p_nnz_idx, self.q_nnz_idx)), shape=(self.m,self.n))\n",
    "                     Phi_predicted = np.sum( np.multiply(P.toarray()[self.p_nnz_idx], Q.toarray()[self.q_nnz_idx]), axis=1 )       #calculating the products only for the nonzero \"observed\" rating entries\n",
    "                     Phi_predicted = sparse.csc_matrix( (Phi_predicted, (self.p_nnz_idx, self.q_nnz_idx)), shape=(self.m,self.n))\n",
    "                     Phi = self.R\n",
    "                     Phi[Phi.nonzero()] = 1.0\n",
    "                     error = Phi - Phi_predicted\n",
    "                     self.save_train_mse(i, error)\n",
    "\n",
    "                     valdn_p_nnz_idx, valdn_q_nnz_idx = validation.nonzero()\n",
    "                     valdn_predicted = np.sum( np.multiply(P.toarray()[valdn_p_nnz_idx], Q.toarray()[valdn_q_nnz_idx]), axis=1 )       #calculating the products only for the nonzero \"observed\" rating entries\n",
    "                     valdn_predicted = sparse.csc_matrix( (valdn_predicted, (valdn_p_nnz_idx, valdn_q_nnz_idx)), shape=(self.m,self.n))\n",
    "                     valdn_Phi = validation\n",
    "                     valdn_Phi[valdn_Phi.nonzero()] = 1.0\n",
    "                     valdn_error = valdn_Phi- valdn_predicted\n",
    "                     test_mse = valdn_error.power(2).sum()/self.R.nnz   #self.R.shape[0]\n",
    "                     self.test_mse_at_epochs.append([i+1, test_mse])\n",
    "                     if(self.verbose):\n",
    "                            print(\"iteration\", i+1, \":\")\n",
    "                            print(\"test mse:\", test_mse)\n",
    "              self.P = P\n",
    "              self.Q = Q\n",
    "              return self.P, self.Q\n",
    "\n",
    "       def plot_learning_curve(self, validation=None):\n",
    "              if(validation != None):\n",
    "                     test_mse_arr = np.array(self.test_mse_at_epochs)\n",
    "                     plt.plot(test_mse_arr[:,0], test_mse_arr[:,1], label='Test')\n",
    "              train_mse_arr = np.array(self.train_mse_at_epochs)\n",
    "              plt.plot(train_mse_arr[:,0], train_mse_arr[:,1], label='Train')\n",
    "              plt.xticks(fontsize=16)\n",
    "              plt.yticks(fontsize=16)\n",
    "              plt.xlabel('iterations', fontsize=12)\n",
    "              plt.ylabel('MSE', fontsize=12)\n",
    "              plt.legend(loc='best', fontsize=9)\n"
   ]
  },
  {
   "cell_type": "code",
   "execution_count": 50,
   "metadata": {},
   "outputs": [
    {
     "data": {
      "application/vnd.jupyter.widget-view+json": {
       "model_id": "d54d622216744f0c8f14d1752830d47a",
       "version_major": 2,
       "version_minor": 0
      },
      "text/plain": [
       "Grid Search Progress: : 0it [00:00, ?it/s]"
      ]
     },
     "metadata": {},
     "output_type": "display_data"
    },
    {
     "data": {
      "application/vnd.jupyter.widget-view+json": {
       "model_id": "3c675aa1e33742ba895c74a60e67e24e",
       "version_major": 2,
       "version_minor": 0
      },
      "text/plain": [
       "Gradient Descent progress::   0%|          | 0/1000 [00:00<?, ?it/s]"
      ]
     },
     "metadata": {},
     "output_type": "display_data"
    },
    {
     "name": "stdout",
     "output_type": "stream",
     "text": [
      "iterations: 1000 | learning_rate: 0.3 | _lambda: 0.0\n"
     ]
    },
    {
     "data": {
      "application/vnd.jupyter.widget-view+json": {
       "model_id": "8f617b8ea6c44abeb7bbfb790d82b366",
       "version_major": 2,
       "version_minor": 0
      },
      "text/plain": [
       "Gradient Descent progress::   0%|          | 0/1000 [00:00<?, ?it/s]"
      ]
     },
     "metadata": {},
     "output_type": "display_data"
    },
    {
     "name": "stdout",
     "output_type": "stream",
     "text": [
      "iterations: 1000 | learning_rate: 0.3 | _lambda: 0.1\n"
     ]
    },
    {
     "data": {
      "application/vnd.jupyter.widget-view+json": {
       "model_id": "f7078933528c4670b9cb448c5931856e",
       "version_major": 2,
       "version_minor": 0
      },
      "text/plain": [
       "Gradient Descent progress::   0%|          | 0/1000 [00:00<?, ?it/s]"
      ]
     },
     "metadata": {},
     "output_type": "display_data"
    },
    {
     "name": "stdout",
     "output_type": "stream",
     "text": [
      "iterations: 1000 | learning_rate: 0.3 | _lambda: 0.01\n"
     ]
    },
    {
     "data": {
      "application/vnd.jupyter.widget-view+json": {
       "model_id": "a9a95e03802e403ea158f5c24f2a2a6e",
       "version_major": 2,
       "version_minor": 0
      },
      "text/plain": [
       "Gradient Descent progress::   0%|          | 0/1000 [00:00<?, ?it/s]"
      ]
     },
     "metadata": {},
     "output_type": "display_data"
    },
    {
     "name": "stdout",
     "output_type": "stream",
     "text": [
      "iterations: 1000 | learning_rate: 0.3 | _lambda: 10\n"
     ]
    },
    {
     "data": {
      "application/vnd.jupyter.widget-view+json": {
       "model_id": "86864ac182d74775b6f87c4bfe549344",
       "version_major": 2,
       "version_minor": 0
      },
      "text/plain": [
       "Gradient Descent progress::   0%|          | 0/1000 [00:00<?, ?it/s]"
      ]
     },
     "metadata": {},
     "output_type": "display_data"
    },
    {
     "name": "stdout",
     "output_type": "stream",
     "text": [
      "iterations: 1000 | learning_rate: 0.5 | _lambda: 0.0\n"
     ]
    },
    {
     "data": {
      "application/vnd.jupyter.widget-view+json": {
       "model_id": "ac0ecedd672a447baccd37aa42efb35d",
       "version_major": 2,
       "version_minor": 0
      },
      "text/plain": [
       "Gradient Descent progress::   0%|          | 0/1000 [00:00<?, ?it/s]"
      ]
     },
     "metadata": {},
     "output_type": "display_data"
    },
    {
     "name": "stdout",
     "output_type": "stream",
     "text": [
      "iterations: 1000 | learning_rate: 0.5 | _lambda: 0.1\n"
     ]
    },
    {
     "data": {
      "application/vnd.jupyter.widget-view+json": {
       "model_id": "19d1b6d4eb2e46c48a73c8dd2eed75dc",
       "version_major": 2,
       "version_minor": 0
      },
      "text/plain": [
       "Gradient Descent progress::   0%|          | 0/1000 [00:00<?, ?it/s]"
      ]
     },
     "metadata": {},
     "output_type": "display_data"
    },
    {
     "name": "stdout",
     "output_type": "stream",
     "text": [
      "iterations: 1000 | learning_rate: 0.5 | _lambda: 0.01\n"
     ]
    },
    {
     "data": {
      "application/vnd.jupyter.widget-view+json": {
       "model_id": "5312f688c0b543718284ec0af574b5d2",
       "version_major": 2,
       "version_minor": 0
      },
      "text/plain": [
       "Gradient Descent progress::   0%|          | 0/1000 [00:00<?, ?it/s]"
      ]
     },
     "metadata": {},
     "output_type": "display_data"
    },
    {
     "name": "stdout",
     "output_type": "stream",
     "text": [
      "iterations: 1000 | learning_rate: 0.5 | _lambda: 10\n"
     ]
    },
    {
     "data": {
      "application/vnd.jupyter.widget-view+json": {
       "model_id": "25e508529afd4bdeb49ddb8239d96cbd",
       "version_major": 2,
       "version_minor": 0
      },
      "text/plain": [
       "Gradient Descent progress::   0%|          | 0/3000 [00:00<?, ?it/s]"
      ]
     },
     "metadata": {},
     "output_type": "display_data"
    },
    {
     "name": "stdout",
     "output_type": "stream",
     "text": [
      "iterations: 3000 | learning_rate: 0.3 | _lambda: 0.0\n"
     ]
    },
    {
     "data": {
      "application/vnd.jupyter.widget-view+json": {
       "model_id": "c7946f6d1d2440c4940a9da03e473186",
       "version_major": 2,
       "version_minor": 0
      },
      "text/plain": [
       "Gradient Descent progress::   0%|          | 0/3000 [00:00<?, ?it/s]"
      ]
     },
     "metadata": {},
     "output_type": "display_data"
    },
    {
     "name": "stdout",
     "output_type": "stream",
     "text": [
      "iterations: 3000 | learning_rate: 0.3 | _lambda: 0.1\n"
     ]
    },
    {
     "data": {
      "application/vnd.jupyter.widget-view+json": {
       "model_id": "25959606f5d84f70a68361c0bf1e6110",
       "version_major": 2,
       "version_minor": 0
      },
      "text/plain": [
       "Gradient Descent progress::   0%|          | 0/3000 [00:00<?, ?it/s]"
      ]
     },
     "metadata": {},
     "output_type": "display_data"
    },
    {
     "name": "stdout",
     "output_type": "stream",
     "text": [
      "iterations: 3000 | learning_rate: 0.3 | _lambda: 0.01\n"
     ]
    },
    {
     "data": {
      "application/vnd.jupyter.widget-view+json": {
       "model_id": "e960e9c5ee284eb583bae1cb457c9335",
       "version_major": 2,
       "version_minor": 0
      },
      "text/plain": [
       "Gradient Descent progress::   0%|          | 0/3000 [00:00<?, ?it/s]"
      ]
     },
     "metadata": {},
     "output_type": "display_data"
    },
    {
     "name": "stdout",
     "output_type": "stream",
     "text": [
      "iterations: 3000 | learning_rate: 0.3 | _lambda: 10\n"
     ]
    },
    {
     "data": {
      "application/vnd.jupyter.widget-view+json": {
       "model_id": "2f5c0cebf98e4a16bf472c864e8dd4a9",
       "version_major": 2,
       "version_minor": 0
      },
      "text/plain": [
       "Gradient Descent progress::   0%|          | 0/3000 [00:00<?, ?it/s]"
      ]
     },
     "metadata": {},
     "output_type": "display_data"
    },
    {
     "name": "stdout",
     "output_type": "stream",
     "text": [
      "iterations: 3000 | learning_rate: 0.5 | _lambda: 0.0\n"
     ]
    },
    {
     "data": {
      "application/vnd.jupyter.widget-view+json": {
       "model_id": "3c173ebeffb74635beb4e74d9954b933",
       "version_major": 2,
       "version_minor": 0
      },
      "text/plain": [
       "Gradient Descent progress::   0%|          | 0/3000 [00:00<?, ?it/s]"
      ]
     },
     "metadata": {},
     "output_type": "display_data"
    },
    {
     "ename": "KeyboardInterrupt",
     "evalue": "",
     "output_type": "error",
     "traceback": [
      "\u001b[0;31m---------------------------------------------------------------------------\u001b[0m",
      "\u001b[0;31mKeyboardInterrupt\u001b[0m                         Traceback (most recent call last)",
      "Cell \u001b[0;32mIn[50], line 53\u001b[0m\n\u001b[1;32m     41\u001b[0m param_grid_gd \u001b[38;5;241m=\u001b[39m {   \u001b[38;5;124m\"\u001b[39m\u001b[38;5;124mk\u001b[39m\u001b[38;5;124m\"\u001b[39m: [\u001b[38;5;241m20\u001b[39m, \u001b[38;5;241m40\u001b[39m, \u001b[38;5;241m80\u001b[39m],\n\u001b[1;32m     42\u001b[0m                     \u001b[38;5;124m\"\u001b[39m\u001b[38;5;124miterations\u001b[39m\u001b[38;5;124m\"\u001b[39m: [\u001b[38;5;241m1000\u001b[39m, \u001b[38;5;241m3000\u001b[39m, \u001b[38;5;241m10000\u001b[39m],\n\u001b[1;32m     43\u001b[0m                     \u001b[38;5;124m\"\u001b[39m\u001b[38;5;124mlearning_rate\u001b[39m\u001b[38;5;124m\"\u001b[39m: [\u001b[38;5;241m0.3\u001b[39m, \u001b[38;5;241m0.5\u001b[39m],\n\u001b[1;32m     44\u001b[0m                     \u001b[38;5;66;03m# \"beta\": [0.5, 0.9],\u001b[39;00m\n\u001b[1;32m     45\u001b[0m                     \u001b[38;5;124m\"\u001b[39m\u001b[38;5;124m_lambda\u001b[39m\u001b[38;5;124m\"\u001b[39m: [\u001b[38;5;241m0.0\u001b[39m, \u001b[38;5;241m1e-1\u001b[39m, \u001b[38;5;241m1e-2\u001b[39m, \u001b[38;5;241m10\u001b[39m]}\n\u001b[1;32m     47\u001b[0m param_grid_sgd \u001b[38;5;241m=\u001b[39m {  \u001b[38;5;124m\"\u001b[39m\u001b[38;5;124mk\u001b[39m\u001b[38;5;124m\"\u001b[39m: [\u001b[38;5;241m20\u001b[39m, \u001b[38;5;241m40\u001b[39m, \u001b[38;5;241m80\u001b[39m],\n\u001b[1;32m     48\u001b[0m                     \u001b[38;5;124m\"\u001b[39m\u001b[38;5;124mepochs\u001b[39m\u001b[38;5;124m\"\u001b[39m: [\u001b[38;5;241m2\u001b[39m, \u001b[38;5;241m5\u001b[39m, \u001b[38;5;241m10\u001b[39m],\n\u001b[1;32m     49\u001b[0m                     \u001b[38;5;124m\"\u001b[39m\u001b[38;5;124mlearning_rate\u001b[39m\u001b[38;5;124m\"\u001b[39m: [\u001b[38;5;241m0.003\u001b[39m, \u001b[38;5;241m0.03\u001b[39m, \u001b[38;5;241m0.3\u001b[39m],\n\u001b[1;32m     50\u001b[0m                     \u001b[38;5;66;03m# \"beta\": [0.5, 0.9],\u001b[39;00m\n\u001b[1;32m     51\u001b[0m                     \u001b[38;5;124m\"\u001b[39m\u001b[38;5;124m_lambda\u001b[39m\u001b[38;5;124m\"\u001b[39m: [\u001b[38;5;241m0.0\u001b[39m, \u001b[38;5;241m1e-1\u001b[39m, \u001b[38;5;241m1e-2\u001b[39m, \u001b[38;5;241m10\u001b[39m]}\n\u001b[0;32m---> 53\u001b[0m \u001b[43mgrid_search\u001b[49m\u001b[43m(\u001b[49m\u001b[38;5;124;43m\"\u001b[39;49m\u001b[38;5;124;43mgd\u001b[39;49m\u001b[38;5;124;43m\"\u001b[39;49m\u001b[43m,\u001b[49m\u001b[43m \u001b[49m\u001b[43mtrain\u001b[49m\u001b[43m,\u001b[49m\u001b[43m \u001b[49m\u001b[43mtest\u001b[49m\u001b[43m,\u001b[49m\u001b[43m \u001b[49m\u001b[43mparam_grid_gd\u001b[49m\u001b[43m)\u001b[49m\n",
      "Cell \u001b[0;32mIn[50], line 15\u001b[0m, in \u001b[0;36mgrid_search\u001b[0;34m(model, train, test, param_grid, user_index)\u001b[0m\n\u001b[1;32m     13\u001b[0m     mf\u001b[38;5;241m.\u001b[39mals(\u001b[38;5;241m*\u001b[39m\u001b[38;5;241m*\u001b[39mparams, validation\u001b[38;5;241m=\u001b[39mtest)\n\u001b[1;32m     14\u001b[0m \u001b[38;5;28;01melif\u001b[39;00m(model \u001b[38;5;241m==\u001b[39m \u001b[38;5;124m\"\u001b[39m\u001b[38;5;124mgd\u001b[39m\u001b[38;5;124m\"\u001b[39m):\n\u001b[0;32m---> 15\u001b[0m     \u001b[43mmf\u001b[49m\u001b[38;5;241;43m.\u001b[39;49m\u001b[43mgradient_descent\u001b[49m\u001b[43m(\u001b[49m\u001b[38;5;241;43m*\u001b[39;49m\u001b[38;5;241;43m*\u001b[39;49m\u001b[43mparams\u001b[49m\u001b[43m,\u001b[49m\u001b[43m \u001b[49m\u001b[43mvalidation\u001b[49m\u001b[38;5;241;43m=\u001b[39;49m\u001b[43mtest\u001b[49m\u001b[43m)\u001b[49m\n\u001b[1;32m     16\u001b[0m \u001b[38;5;28;01melif\u001b[39;00m(model \u001b[38;5;241m==\u001b[39m \u001b[38;5;124m\"\u001b[39m\u001b[38;5;124msgd\u001b[39m\u001b[38;5;124m\"\u001b[39m):\n\u001b[1;32m     17\u001b[0m     mf\u001b[38;5;241m.\u001b[39msgd(\u001b[38;5;241m*\u001b[39m\u001b[38;5;241m*\u001b[39mparams, validation\u001b[38;5;241m=\u001b[39mtest)\n",
      "Cell \u001b[0;32mIn[49], line 58\u001b[0m, in \u001b[0;36mMatrixFactorisation.gradient_descent\u001b[0;34m(self, iterations, learning_rate, _lambda, beta, validation, verbose)\u001b[0m\n\u001b[1;32m     56\u001b[0m \u001b[38;5;28mself\u001b[39m\u001b[38;5;241m.\u001b[39msave_test_mse(\u001b[38;5;241m0\u001b[39m, validation\u001b[38;5;241m=\u001b[39mvalidation)\n\u001b[1;32m     57\u001b[0m \u001b[38;5;28;01mfor\u001b[39;00m i \u001b[38;5;129;01min\u001b[39;00m tqdm(\u001b[38;5;28mrange\u001b[39m(iterations), desc\u001b[38;5;241m=\u001b[39m\u001b[38;5;124m\"\u001b[39m\u001b[38;5;124mGradient Descent progress:\u001b[39m\u001b[38;5;124m\"\u001b[39m, leave\u001b[38;5;241m=\u001b[39mverbose):\n\u001b[0;32m---> 58\u001b[0m        grad_P, grad_Q, error \u001b[38;5;241m=\u001b[39m \u001b[38;5;28;43mself\u001b[39;49m\u001b[38;5;241;43m.\u001b[39;49m\u001b[43mgradients\u001b[49m\u001b[43m(\u001b[49m\u001b[43m_lambda\u001b[49m\u001b[43m)\u001b[49m\n\u001b[1;32m     59\u001b[0m        v_P \u001b[38;5;241m=\u001b[39m beta\u001b[38;5;241m*\u001b[39mv_P \u001b[38;5;241m+\u001b[39m (\u001b[38;5;241m1\u001b[39m\u001b[38;5;241m-\u001b[39mbeta)\u001b[38;5;241m*\u001b[39mgrad_P   \n\u001b[1;32m     60\u001b[0m        v_Q \u001b[38;5;241m=\u001b[39m beta\u001b[38;5;241m*\u001b[39mv_Q \u001b[38;5;241m+\u001b[39m (\u001b[38;5;241m1\u001b[39m\u001b[38;5;241m-\u001b[39mbeta)\u001b[38;5;241m*\u001b[39mgrad_Q\n",
      "Cell \u001b[0;32mIn[49], line 31\u001b[0m, in \u001b[0;36mMatrixFactorisation.gradients\u001b[0;34m(self, _lambda)\u001b[0m\n\u001b[1;32m     27\u001b[0m \u001b[38;5;28;01mdef\u001b[39;00m \u001b[38;5;21mgradients\u001b[39m(\u001b[38;5;28mself\u001b[39m, _lambda):\n\u001b[1;32m     28\u001b[0m \u001b[38;5;250m       \u001b[39m\u001b[38;5;124;03m\"\"\"\u001b[39;00m\n\u001b[1;32m     29\u001b[0m \u001b[38;5;124;03m       Returns l2 gradients w.r.t the elements of the embedding vectors, along with the prediction errors\u001b[39;00m\n\u001b[1;32m     30\u001b[0m \u001b[38;5;124;03m       \"\"\"\u001b[39;00m\n\u001b[0;32m---> 31\u001b[0m        R_predicted \u001b[38;5;241m=\u001b[39m \u001b[38;5;28;43mself\u001b[39;49m\u001b[38;5;241;43m.\u001b[39;49m\u001b[43m__predict_observed\u001b[49m\u001b[43m(\u001b[49m\u001b[43m)\u001b[49m\n\u001b[1;32m     32\u001b[0m        error \u001b[38;5;241m=\u001b[39m \u001b[38;5;28mself\u001b[39m\u001b[38;5;241m.\u001b[39mR \u001b[38;5;241m-\u001b[39m R_predicted\n\u001b[1;32m     33\u001b[0m        norm_factor \u001b[38;5;241m=\u001b[39m \u001b[38;5;241m-\u001b[39m\u001b[38;5;241m2\u001b[39m \u001b[38;5;241m/\u001b[39m \u001b[38;5;28mself\u001b[39m\u001b[38;5;241m.\u001b[39mR\u001b[38;5;241m.\u001b[39mnnz  \u001b[38;5;66;03m#this factor is crucial! Can't be 1 (i.e. we can't leave the gradients unnormalised, else cost diverges!)\u001b[39;00m\n",
      "Cell \u001b[0;32mIn[49], line 21\u001b[0m, in \u001b[0;36mMatrixFactorisation.__predict_observed\u001b[0;34m(self)\u001b[0m\n\u001b[1;32m     14\u001b[0m \u001b[38;5;28;01mdef\u001b[39;00m \u001b[38;5;21m__predict_observed\u001b[39m(\u001b[38;5;28mself\u001b[39m):\n\u001b[1;32m     15\u001b[0m \u001b[38;5;250m       \u001b[39m\u001b[38;5;124;03m\"\"\"\u001b[39;00m\n\u001b[1;32m     16\u001b[0m \u001b[38;5;124;03m       Returns predicted values as a sparse matrix, corresponding to indices of non-zero elements in matrix R to be factorised\u001b[39;00m\n\u001b[1;32m     17\u001b[0m \n\u001b[1;32m     18\u001b[0m \u001b[38;5;124;03m       Avoids constructing a dense prediction matrix produced via naïve dense matrix multiplication of factors.\u001b[39;00m\n\u001b[1;32m     19\u001b[0m \u001b[38;5;124;03m       Instead, produces predicted values by multiplying only the requisite factor vectors corresponding to non-zero entries in R.\u001b[39;00m\n\u001b[1;32m     20\u001b[0m \u001b[38;5;124;03m       \"\"\"\u001b[39;00m\n\u001b[0;32m---> 21\u001b[0m        R_predicted \u001b[38;5;241m=\u001b[39m \u001b[43mnp\u001b[49m\u001b[38;5;241;43m.\u001b[39;49m\u001b[43msum\u001b[49m\u001b[43m(\u001b[49m\u001b[43m \u001b[49m\u001b[43mnp\u001b[49m\u001b[38;5;241;43m.\u001b[39;49m\u001b[43mmultiply\u001b[49m\u001b[43m(\u001b[49m\u001b[38;5;28;43mself\u001b[39;49m\u001b[38;5;241;43m.\u001b[39;49m\u001b[43mP\u001b[49m\u001b[43m[\u001b[49m\u001b[38;5;28;43mself\u001b[39;49m\u001b[38;5;241;43m.\u001b[39;49m\u001b[43mp_nnz_idx\u001b[49m\u001b[43m]\u001b[49m\u001b[43m,\u001b[49m\u001b[43m \u001b[49m\u001b[38;5;28;43mself\u001b[39;49m\u001b[38;5;241;43m.\u001b[39;49m\u001b[43mQ\u001b[49m\u001b[43m[\u001b[49m\u001b[38;5;28;43mself\u001b[39;49m\u001b[38;5;241;43m.\u001b[39;49m\u001b[43mq_nnz_idx\u001b[49m\u001b[43m]\u001b[49m\u001b[43m)\u001b[49m\u001b[43m,\u001b[49m\u001b[43m \u001b[49m\u001b[43maxis\u001b[49m\u001b[38;5;241;43m=\u001b[39;49m\u001b[38;5;241;43m1\u001b[39;49m\u001b[43m \u001b[49m\u001b[43m)\u001b[49m       \u001b[38;5;66;03m#calculating the products only for the nonzero \"observed\" rating entries: explicit MF\u001b[39;00m\n\u001b[1;32m     22\u001b[0m        R_predicted \u001b[38;5;241m=\u001b[39m sparse\u001b[38;5;241m.\u001b[39mcsc_matrix( (R_predicted, (\u001b[38;5;28mself\u001b[39m\u001b[38;5;241m.\u001b[39mp_nnz_idx, \u001b[38;5;28mself\u001b[39m\u001b[38;5;241m.\u001b[39mq_nnz_idx)), shape\u001b[38;5;241m=\u001b[39m(\u001b[38;5;28mself\u001b[39m\u001b[38;5;241m.\u001b[39mm,\u001b[38;5;28mself\u001b[39m\u001b[38;5;241m.\u001b[39mn))              \n\u001b[1;32m     23\u001b[0m        \u001b[38;5;66;03m# R_predicted = self.P @ self.Q.T\u001b[39;00m\n\u001b[1;32m     24\u001b[0m        \u001b[38;5;66;03m# R_predicted = sparse.csc_matrix(R_predicted)\u001b[39;00m\n",
      "File \u001b[0;32m~/Py_VirtualEnvs/RecSys_Env/lib/python3.10/site-packages/numpy/core/fromnumeric.py:2313\u001b[0m, in \u001b[0;36msum\u001b[0;34m(a, axis, dtype, out, keepdims, initial, where)\u001b[0m\n\u001b[1;32m   2310\u001b[0m         \u001b[38;5;28;01mreturn\u001b[39;00m out\n\u001b[1;32m   2311\u001b[0m     \u001b[38;5;28;01mreturn\u001b[39;00m res\n\u001b[0;32m-> 2313\u001b[0m \u001b[38;5;28;01mreturn\u001b[39;00m \u001b[43m_wrapreduction\u001b[49m\u001b[43m(\u001b[49m\u001b[43ma\u001b[49m\u001b[43m,\u001b[49m\u001b[43m \u001b[49m\u001b[43mnp\u001b[49m\u001b[38;5;241;43m.\u001b[39;49m\u001b[43madd\u001b[49m\u001b[43m,\u001b[49m\u001b[43m \u001b[49m\u001b[38;5;124;43m'\u001b[39;49m\u001b[38;5;124;43msum\u001b[39;49m\u001b[38;5;124;43m'\u001b[39;49m\u001b[43m,\u001b[49m\u001b[43m \u001b[49m\u001b[43maxis\u001b[49m\u001b[43m,\u001b[49m\u001b[43m \u001b[49m\u001b[43mdtype\u001b[49m\u001b[43m,\u001b[49m\u001b[43m \u001b[49m\u001b[43mout\u001b[49m\u001b[43m,\u001b[49m\u001b[43m \u001b[49m\u001b[43mkeepdims\u001b[49m\u001b[38;5;241;43m=\u001b[39;49m\u001b[43mkeepdims\u001b[49m\u001b[43m,\u001b[49m\n\u001b[1;32m   2314\u001b[0m \u001b[43m                      \u001b[49m\u001b[43minitial\u001b[49m\u001b[38;5;241;43m=\u001b[39;49m\u001b[43minitial\u001b[49m\u001b[43m,\u001b[49m\u001b[43m \u001b[49m\u001b[43mwhere\u001b[49m\u001b[38;5;241;43m=\u001b[39;49m\u001b[43mwhere\u001b[49m\u001b[43m)\u001b[49m\n",
      "File \u001b[0;32m~/Py_VirtualEnvs/RecSys_Env/lib/python3.10/site-packages/numpy/core/fromnumeric.py:88\u001b[0m, in \u001b[0;36m_wrapreduction\u001b[0;34m(obj, ufunc, method, axis, dtype, out, **kwargs)\u001b[0m\n\u001b[1;32m     85\u001b[0m         \u001b[38;5;28;01melse\u001b[39;00m:\n\u001b[1;32m     86\u001b[0m             \u001b[38;5;28;01mreturn\u001b[39;00m reduction(axis\u001b[38;5;241m=\u001b[39maxis, out\u001b[38;5;241m=\u001b[39mout, \u001b[38;5;241m*\u001b[39m\u001b[38;5;241m*\u001b[39mpasskwargs)\n\u001b[0;32m---> 88\u001b[0m \u001b[38;5;28;01mreturn\u001b[39;00m \u001b[43mufunc\u001b[49m\u001b[38;5;241;43m.\u001b[39;49m\u001b[43mreduce\u001b[49m\u001b[43m(\u001b[49m\u001b[43mobj\u001b[49m\u001b[43m,\u001b[49m\u001b[43m \u001b[49m\u001b[43maxis\u001b[49m\u001b[43m,\u001b[49m\u001b[43m \u001b[49m\u001b[43mdtype\u001b[49m\u001b[43m,\u001b[49m\u001b[43m \u001b[49m\u001b[43mout\u001b[49m\u001b[43m,\u001b[49m\u001b[43m \u001b[49m\u001b[38;5;241;43m*\u001b[39;49m\u001b[38;5;241;43m*\u001b[39;49m\u001b[43mpasskwargs\u001b[49m\u001b[43m)\u001b[49m\n",
      "\u001b[0;31mKeyboardInterrupt\u001b[0m: "
     ]
    }
   ],
   "source": [
    "import itertools\n",
    "def grid_search(model, train, test, param_grid, user_index=None):\n",
    "    curves = []\n",
    "    keys, values = zip(*param_grid.items())\n",
    "    for v in tqdm(itertools.product(*values), desc=\"Grid Search Progress: \"):\n",
    "        # print(v)\n",
    "        params = dict(zip(keys, v))\n",
    "        mf = MatrixFactorisation(train, params[\"k\"])\n",
    "        params = dict(list(params.items())[1:])\n",
    "        if(model == \"als\"):\n",
    "            mf.als(**params, validation=test)\n",
    "        elif(model == \"gd\"):\n",
    "            mf.gradient_descent(**params, validation=test)\n",
    "        elif(model == \"sgd\"):\n",
    "            mf.sgd(**params, validation=test)\n",
    "\n",
    "        train_mse = mf.train_mse_at_epochs\n",
    "        test_mse = mf.test_mse_at_epochs\n",
    "\n",
    "        curves.append({'params': params, 'mse': {'train': train_mse, 'test': test_mse}})\n",
    "\n",
    "        print_line = []\n",
    "        for k, v in params.items():\n",
    "            print_line.append((k, v))\n",
    "\n",
    "        print(' | '.join('{}: {}'.format(k, v) for (k, v) in print_line))\n",
    "        # _, train_patk, train_mse, test_patk, test_mse = learning_curve(this_model, train, test, epochs, k=patk, user_index=user_index)\n",
    "        # curves.append({'params': params,\n",
    "        #                'patk': {'train': train_patk, 'test': test_patk},\n",
    "        #                'mse': {'train': train_mse, 'test': test_mse}})\n",
    "    return curves\n",
    "\n",
    "param_grid_als = {  \"k\": [20, 40, 80],\n",
    "                    \"alpha\": [40, 50],\n",
    "                    \"_lambda\": [0.0, 1e-1, 1e-2, 10]}\n",
    "              \n",
    "param_grid_gd = {   \"k\": [20, 40, 80],\n",
    "                    \"iterations\": [1000, 3000, 10000],\n",
    "                    \"learning_rate\": [0.3, 0.5],\n",
    "                    # \"beta\": [0.5, 0.9],\n",
    "                    \"_lambda\": [0.0, 1e-1, 1e-2, 10]}\n",
    "\n",
    "param_grid_sgd = {  \"k\": [20, 40, 80],\n",
    "                    \"epochs\": [2, 5, 10],\n",
    "                    \"learning_rate\": [0.003, 0.03, 0.3],\n",
    "                    # \"beta\": [0.5, 0.9],\n",
    "                    \"_lambda\": [0.0, 1e-1, 1e-2, 10]}\n",
    "\n",
    "grid_search(\"gd\", train, test, param_grid_gd)"
   ]
  },
  {
   "cell_type": "code",
   "execution_count": 25,
   "metadata": {},
   "outputs": [
    {
     "name": "stdout",
     "output_type": "stream",
     "text": [
      "(611, 40) (9725, 40)\n"
     ]
    },
    {
     "data": {
      "application/vnd.jupyter.widget-view+json": {
       "model_id": "47568abc92f24e48827283c4901ab5e7",
       "version_major": 2,
       "version_minor": 0
      },
      "text/plain": [
       "ALS iterations completion:   0%|          | 0/5 [00:00<?, ?it/s]"
      ]
     },
     "metadata": {},
     "output_type": "display_data"
    },
    {
     "data": {
      "application/vnd.jupyter.widget-view+json": {
       "model_id": "8eb0e030cf4e41398fa8faca7666ea08",
       "version_major": 2,
       "version_minor": 0
      },
      "text/plain": [
       "Solving for P:   0%|          | 0/611 [00:00<?, ?it/s]"
      ]
     },
     "metadata": {},
     "output_type": "display_data"
    },
    {
     "data": {
      "application/vnd.jupyter.widget-view+json": {
       "model_id": "801487e4b0dc47988fc1b1c301437a8a",
       "version_major": 2,
       "version_minor": 0
      },
      "text/plain": [
       "Solving for Q:   0%|          | 0/9725 [00:00<?, ?it/s]"
      ]
     },
     "metadata": {},
     "output_type": "display_data"
    },
    {
     "name": "stdout",
     "output_type": "stream",
     "text": [
      "\n",
      "iteration/epoch 1 :\n",
      "train mse: 0.05308767776742674\n",
      "iteration 1 :\n",
      "test mse: 0.04611445833901195\n"
     ]
    },
    {
     "data": {
      "application/vnd.jupyter.widget-view+json": {
       "model_id": "b0bdbbd33ecd4684b0c433c9865f8be5",
       "version_major": 2,
       "version_minor": 0
      },
      "text/plain": [
       "Solving for P:   0%|          | 0/611 [00:00<?, ?it/s]"
      ]
     },
     "metadata": {},
     "output_type": "display_data"
    },
    {
     "data": {
      "application/vnd.jupyter.widget-view+json": {
       "model_id": "003b56ef743842fc9b4039b751d4dffb",
       "version_major": 2,
       "version_minor": 0
      },
      "text/plain": [
       "Solving for Q:   0%|          | 0/9725 [00:00<?, ?it/s]"
      ]
     },
     "metadata": {},
     "output_type": "display_data"
    },
    {
     "name": "stdout",
     "output_type": "stream",
     "text": [
      "\n",
      "iteration/epoch 2 :\n",
      "train mse: 0.06255431122201331\n",
      "iteration 2 :\n",
      "test mse: 0.07367956821442369\n"
     ]
    },
    {
     "data": {
      "application/vnd.jupyter.widget-view+json": {
       "model_id": "7e9b6f19ef8745939438f1cc6794eaf9",
       "version_major": 2,
       "version_minor": 0
      },
      "text/plain": [
       "Solving for P:   0%|          | 0/611 [00:00<?, ?it/s]"
      ]
     },
     "metadata": {},
     "output_type": "display_data"
    },
    {
     "data": {
      "application/vnd.jupyter.widget-view+json": {
       "model_id": "f5bfb94d418c480fbeddd1e8b795eec1",
       "version_major": 2,
       "version_minor": 0
      },
      "text/plain": [
       "Solving for Q:   0%|          | 0/9725 [00:00<?, ?it/s]"
      ]
     },
     "metadata": {},
     "output_type": "display_data"
    },
    {
     "name": "stdout",
     "output_type": "stream",
     "text": [
      "\n",
      "iteration/epoch 3 :\n",
      "train mse: 0.03721520872455137\n",
      "iteration 3 :\n",
      "test mse: 0.08265034914316866\n"
     ]
    },
    {
     "data": {
      "application/vnd.jupyter.widget-view+json": {
       "model_id": "3ad3758b4cbd48e9b0884de2a73a7e87",
       "version_major": 2,
       "version_minor": 0
      },
      "text/plain": [
       "Solving for P:   0%|          | 0/611 [00:00<?, ?it/s]"
      ]
     },
     "metadata": {},
     "output_type": "display_data"
    },
    {
     "data": {
      "application/vnd.jupyter.widget-view+json": {
       "model_id": "34d5660ca9e5443fbb699952de260800",
       "version_major": 2,
       "version_minor": 0
      },
      "text/plain": [
       "Solving for Q:   0%|          | 0/9725 [00:00<?, ?it/s]"
      ]
     },
     "metadata": {},
     "output_type": "display_data"
    },
    {
     "name": "stdout",
     "output_type": "stream",
     "text": [
      "\n",
      "iteration/epoch 4 :\n",
      "train mse: 0.030075300730605506\n",
      "iteration 4 :\n",
      "test mse: 0.08767287402669395\n"
     ]
    },
    {
     "data": {
      "application/vnd.jupyter.widget-view+json": {
       "model_id": "bb2b7f59e9e14d8f892424d979ff45d9",
       "version_major": 2,
       "version_minor": 0
      },
      "text/plain": [
       "Solving for P:   0%|          | 0/611 [00:00<?, ?it/s]"
      ]
     },
     "metadata": {},
     "output_type": "display_data"
    },
    {
     "data": {
      "application/vnd.jupyter.widget-view+json": {
       "model_id": "8e9eb20edd4545dfbbf73f274295aa6d",
       "version_major": 2,
       "version_minor": 0
      },
      "text/plain": [
       "Solving for Q:   0%|          | 0/9725 [00:00<?, ?it/s]"
      ]
     },
     "metadata": {},
     "output_type": "display_data"
    },
    {
     "name": "stdout",
     "output_type": "stream",
     "text": [
      "\n",
      "iteration/epoch 5 :\n",
      "train mse: 0.026547301092553342\n",
      "iteration 5 :\n",
      "test mse: 0.09072207203582733\n"
     ]
    }
   ],
   "source": [
    "######--------- Training with ALS (Alternating Least Squares) ---------######\n",
    "\n",
    "mf = MatrixFactorisation(train, 40)\n",
    "print( np.shape(mf.P), np.shape(mf.Q) )\n",
    "P, Q = mf.als(epochs=5, solver=\"cg\", validation=test, verbose=True)"
   ]
  },
  {
   "cell_type": "code",
   "execution_count": 28,
   "metadata": {},
   "outputs": [
    {
     "name": "stdout",
     "output_type": "stream",
     "text": [
      "(611, 10) (9725, 10)\n"
     ]
    },
    {
     "data": {
      "application/vnd.jupyter.widget-view+json": {
       "model_id": "44a226110d9245dda145573e252ee422",
       "version_major": 2,
       "version_minor": 0
      },
      "text/plain": [
       "Total SGD epochs completion:   0%|          | 0/5 [00:00<?, ?it/s]"
      ]
     },
     "metadata": {},
     "output_type": "display_data"
    },
    {
     "data": {
      "application/vnd.jupyter.widget-view+json": {
       "model_id": "07823f3c849e48b1a1813316fcfd53b2",
       "version_major": 2,
       "version_minor": 0
      },
      "text/plain": [
       "Epoch #0 completion:   0%|          | 0/80668 [00:00<?, ?it/s]"
      ]
     },
     "metadata": {},
     "output_type": "display_data"
    },
    {
     "data": {
      "application/vnd.jupyter.widget-view+json": {
       "model_id": "0207165849464aaabfadb66b0fad0eac",
       "version_major": 2,
       "version_minor": 0
      },
      "text/plain": [
       "Epoch #1 completion:   0%|          | 0/80668 [00:00<?, ?it/s]"
      ]
     },
     "metadata": {},
     "output_type": "display_data"
    },
    {
     "data": {
      "application/vnd.jupyter.widget-view+json": {
       "model_id": "a2caec1a268c4453bb76d8cda094bce7",
       "version_major": 2,
       "version_minor": 0
      },
      "text/plain": [
       "Epoch #2 completion:   0%|          | 0/80668 [00:00<?, ?it/s]"
      ]
     },
     "metadata": {},
     "output_type": "display_data"
    },
    {
     "data": {
      "application/vnd.jupyter.widget-view+json": {
       "model_id": "8cf3e33287e74c05b779c8274d60c64c",
       "version_major": 2,
       "version_minor": 0
      },
      "text/plain": [
       "Epoch #3 completion:   0%|          | 0/80668 [00:00<?, ?it/s]"
      ]
     },
     "metadata": {},
     "output_type": "display_data"
    },
    {
     "data": {
      "application/vnd.jupyter.widget-view+json": {
       "model_id": "80a30f77af7043fbb9923c20ca74313a",
       "version_major": 2,
       "version_minor": 0
      },
      "text/plain": [
       "Epoch #4 completion:   0%|          | 0/80668 [00:00<?, ?it/s]"
      ]
     },
     "metadata": {},
     "output_type": "display_data"
    },
    {
     "name": "stdout",
     "output_type": "stream",
     "text": [
      "(611, 10)\n"
     ]
    }
   ],
   "source": [
    "######--------- Training with SGD (Stochastic Gradient Descent) ---------######\n",
    "\n",
    "mf = MatrixFactorisation(train, 10)\n",
    "print( np.shape(mf.P), np.shape(mf.Q) )\n",
    "# print( mf.P )\n",
    "P, Q = mf.sgd(epochs=5, learning_rate=0.03, validation=test, verbose=False)\n",
    "print(np.shape(P))"
   ]
  },
  {
   "cell_type": "code",
   "execution_count": 44,
   "metadata": {},
   "outputs": [
    {
     "name": "stdout",
     "output_type": "stream",
     "text": [
      "(611, 10) (9725, 10)\n"
     ]
    },
    {
     "data": {
      "application/vnd.jupyter.widget-view+json": {
       "model_id": "4ee40f8f68244267bfd44192911798c8",
       "version_major": 2,
       "version_minor": 0
      },
      "text/plain": [
       "Gradient Descent progress::   0%|          | 0/10000 [00:00<?, ?it/s]"
      ]
     },
     "metadata": {},
     "output_type": "display_data"
    },
    {
     "ename": "KeyboardInterrupt",
     "evalue": "",
     "output_type": "error",
     "traceback": [
      "\u001b[0;31m---------------------------------------------------------------------------\u001b[0m",
      "\u001b[0;31mKeyboardInterrupt\u001b[0m                         Traceback (most recent call last)",
      "Cell \u001b[0;32mIn[44], line 6\u001b[0m\n\u001b[1;32m      4\u001b[0m \u001b[38;5;28mprint\u001b[39m( np\u001b[38;5;241m.\u001b[39mshape(mf\u001b[38;5;241m.\u001b[39mP), np\u001b[38;5;241m.\u001b[39mshape(mf\u001b[38;5;241m.\u001b[39mQ) )\n\u001b[1;32m      5\u001b[0m \u001b[38;5;66;03m# print( mf.P )\u001b[39;00m\n\u001b[0;32m----> 6\u001b[0m P, Q \u001b[38;5;241m=\u001b[39m \u001b[43mmf\u001b[49m\u001b[38;5;241;43m.\u001b[39;49m\u001b[43mgradient_descent\u001b[49m\u001b[43m(\u001b[49m\u001b[43miterations\u001b[49m\u001b[38;5;241;43m=\u001b[39;49m\u001b[38;5;241;43m10000\u001b[39;49m\u001b[43m,\u001b[49m\u001b[43m \u001b[49m\u001b[43mlearning_rate\u001b[49m\u001b[38;5;241;43m=\u001b[39;49m\u001b[38;5;241;43m0.4\u001b[39;49m\u001b[43m,\u001b[49m\u001b[43m \u001b[49m\u001b[43m_lambda\u001b[49m\u001b[38;5;241;43m=\u001b[39;49m\u001b[38;5;241;43m0\u001b[39;49m\u001b[43m,\u001b[49m\u001b[43m \u001b[49m\u001b[43mvalidation\u001b[49m\u001b[38;5;241;43m=\u001b[39;49m\u001b[43mtest\u001b[49m\u001b[43m,\u001b[49m\u001b[43m \u001b[49m\u001b[43mverbose\u001b[49m\u001b[38;5;241;43m=\u001b[39;49m\u001b[38;5;28;43;01mFalse\u001b[39;49;00m\u001b[43m)\u001b[49m\n\u001b[1;32m      7\u001b[0m \u001b[38;5;66;03m# print(np.shape(P))\u001b[39;00m\n",
      "Cell \u001b[0;32mIn[40], line 58\u001b[0m, in \u001b[0;36mMatrixFactorisation.gradient_descent\u001b[0;34m(self, iterations, learning_rate, _lambda, validation, verbose)\u001b[0m\n\u001b[1;32m     56\u001b[0m \u001b[38;5;28mself\u001b[39m\u001b[38;5;241m.\u001b[39msave_test_mse(\u001b[38;5;241m0\u001b[39m, validation\u001b[38;5;241m=\u001b[39mvalidation)\n\u001b[1;32m     57\u001b[0m \u001b[38;5;28;01mfor\u001b[39;00m i \u001b[38;5;129;01min\u001b[39;00m tqdm(\u001b[38;5;28mrange\u001b[39m(iterations), desc\u001b[38;5;241m=\u001b[39m\u001b[38;5;124m\"\u001b[39m\u001b[38;5;124mGradient Descent progress:\u001b[39m\u001b[38;5;124m\"\u001b[39m):\n\u001b[0;32m---> 58\u001b[0m        grad_P, grad_Q, error \u001b[38;5;241m=\u001b[39m \u001b[38;5;28;43mself\u001b[39;49m\u001b[38;5;241;43m.\u001b[39;49m\u001b[43mgradients\u001b[49m\u001b[43m(\u001b[49m\u001b[43m_lambda\u001b[49m\u001b[43m)\u001b[49m\n\u001b[1;32m     59\u001b[0m        v_P \u001b[38;5;241m=\u001b[39m beta\u001b[38;5;241m*\u001b[39mv_P \u001b[38;5;241m+\u001b[39m (\u001b[38;5;241m1\u001b[39m\u001b[38;5;241m-\u001b[39mbeta)\u001b[38;5;241m*\u001b[39mgrad_P   \n\u001b[1;32m     60\u001b[0m        v_Q \u001b[38;5;241m=\u001b[39m beta\u001b[38;5;241m*\u001b[39mv_Q \u001b[38;5;241m+\u001b[39m (\u001b[38;5;241m1\u001b[39m\u001b[38;5;241m-\u001b[39mbeta)\u001b[38;5;241m*\u001b[39mgrad_Q\n",
      "Cell \u001b[0;32mIn[40], line 34\u001b[0m, in \u001b[0;36mMatrixFactorisation.gradients\u001b[0;34m(self, _lambda)\u001b[0m\n\u001b[1;32m     32\u001b[0m error \u001b[38;5;241m=\u001b[39m \u001b[38;5;28mself\u001b[39m\u001b[38;5;241m.\u001b[39mR \u001b[38;5;241m-\u001b[39m R_predicted\n\u001b[1;32m     33\u001b[0m norm_factor \u001b[38;5;241m=\u001b[39m \u001b[38;5;241m-\u001b[39m\u001b[38;5;241m2\u001b[39m \u001b[38;5;241m/\u001b[39m \u001b[38;5;28mself\u001b[39m\u001b[38;5;241m.\u001b[39mR\u001b[38;5;241m.\u001b[39mnnz  \u001b[38;5;66;03m#this factor is crucial! Can't be 1 (i.e. we can't leave the gradients unnormalised, else cost diverges!)\u001b[39;00m\n\u001b[0;32m---> 34\u001b[0m grad_P \u001b[38;5;241m=\u001b[39m norm_factor \u001b[38;5;241m*\u001b[39m (\u001b[43merror\u001b[49m\u001b[38;5;241;43m*\u001b[39;49m\u001b[38;5;28;43mself\u001b[39;49m\u001b[38;5;241;43m.\u001b[39;49m\u001b[43mQ\u001b[49m) \u001b[38;5;241m+\u001b[39m \u001b[38;5;241m2\u001b[39m\u001b[38;5;241m*\u001b[39m(_lambda\u001b[38;5;241m*\u001b[39m\u001b[38;5;28mself\u001b[39m\u001b[38;5;241m.\u001b[39mP)\n\u001b[1;32m     35\u001b[0m grad_Q \u001b[38;5;241m=\u001b[39m norm_factor \u001b[38;5;241m*\u001b[39m (error\u001b[38;5;241m.\u001b[39mT\u001b[38;5;241m*\u001b[39m\u001b[38;5;28mself\u001b[39m\u001b[38;5;241m.\u001b[39mP) \u001b[38;5;241m+\u001b[39m \u001b[38;5;241m2\u001b[39m\u001b[38;5;241m*\u001b[39m(_lambda\u001b[38;5;241m*\u001b[39m\u001b[38;5;28mself\u001b[39m\u001b[38;5;241m.\u001b[39mQ)\n\u001b[1;32m     36\u001b[0m \u001b[38;5;28;01mreturn\u001b[39;00m grad_P, grad_Q, error\n",
      "File \u001b[0;32m~/Py_VirtualEnvs/RecSys_Env/lib/python3.10/site-packages/scipy/sparse/_matrix.py:44\u001b[0m, in \u001b[0;36mspmatrix.__mul__\u001b[0;34m(self, other)\u001b[0m\n\u001b[1;32m     43\u001b[0m \u001b[38;5;28;01mdef\u001b[39;00m \u001b[38;5;21m__mul__\u001b[39m(\u001b[38;5;28mself\u001b[39m, other):\n\u001b[0;32m---> 44\u001b[0m     \u001b[38;5;28;01mreturn\u001b[39;00m \u001b[38;5;28;43mself\u001b[39;49m\u001b[38;5;241;43m.\u001b[39;49m\u001b[43m_mul_dispatch\u001b[49m\u001b[43m(\u001b[49m\u001b[43mother\u001b[49m\u001b[43m)\u001b[49m\n",
      "File \u001b[0;32m~/Py_VirtualEnvs/RecSys_Env/lib/python3.10/site-packages/scipy/sparse/_base.py:580\u001b[0m, in \u001b[0;36m_spbase._mul_dispatch\u001b[0;34m(self, other)\u001b[0m\n\u001b[1;32m    578\u001b[0m         \u001b[38;5;28;01mreturn\u001b[39;00m \u001b[38;5;28mself\u001b[39m\u001b[38;5;241m.\u001b[39m_mul_vector(other\u001b[38;5;241m.\u001b[39mravel())\u001b[38;5;241m.\u001b[39mreshape(M, \u001b[38;5;241m1\u001b[39m)\n\u001b[1;32m    579\u001b[0m     \u001b[38;5;28;01melif\u001b[39;00m other\u001b[38;5;241m.\u001b[39mndim \u001b[38;5;241m==\u001b[39m \u001b[38;5;241m2\u001b[39m \u001b[38;5;129;01mand\u001b[39;00m other\u001b[38;5;241m.\u001b[39mshape[\u001b[38;5;241m0\u001b[39m] \u001b[38;5;241m==\u001b[39m N:\n\u001b[0;32m--> 580\u001b[0m         \u001b[38;5;28;01mreturn\u001b[39;00m \u001b[38;5;28;43mself\u001b[39;49m\u001b[38;5;241;43m.\u001b[39;49m\u001b[43m_mul_multivector\u001b[49m\u001b[43m(\u001b[49m\u001b[43mother\u001b[49m\u001b[43m)\u001b[49m\n\u001b[1;32m    582\u001b[0m \u001b[38;5;28;01mif\u001b[39;00m isscalarlike(other):\n\u001b[1;32m    583\u001b[0m     \u001b[38;5;66;03m# scalar value\u001b[39;00m\n\u001b[1;32m    584\u001b[0m     \u001b[38;5;28;01mreturn\u001b[39;00m \u001b[38;5;28mself\u001b[39m\u001b[38;5;241m.\u001b[39m_mul_scalar(other)\n",
      "File \u001b[0;32m~/Py_VirtualEnvs/RecSys_Env/lib/python3.10/site-packages/scipy/sparse/_compressed.py:507\u001b[0m, in \u001b[0;36m_cs_matrix._mul_multivector\u001b[0;34m(self, other)\u001b[0m\n\u001b[1;32m    505\u001b[0m \u001b[38;5;66;03m# csr_matvecs or csc_matvecs\u001b[39;00m\n\u001b[1;32m    506\u001b[0m fn \u001b[38;5;241m=\u001b[39m \u001b[38;5;28mgetattr\u001b[39m(_sparsetools, \u001b[38;5;28mself\u001b[39m\u001b[38;5;241m.\u001b[39mformat \u001b[38;5;241m+\u001b[39m \u001b[38;5;124m'\u001b[39m\u001b[38;5;124m_matvecs\u001b[39m\u001b[38;5;124m'\u001b[39m)\n\u001b[0;32m--> 507\u001b[0m \u001b[43mfn\u001b[49m\u001b[43m(\u001b[49m\u001b[43mM\u001b[49m\u001b[43m,\u001b[49m\u001b[43m \u001b[49m\u001b[43mN\u001b[49m\u001b[43m,\u001b[49m\u001b[43m \u001b[49m\u001b[43mn_vecs\u001b[49m\u001b[43m,\u001b[49m\u001b[43m \u001b[49m\u001b[38;5;28;43mself\u001b[39;49m\u001b[38;5;241;43m.\u001b[39;49m\u001b[43mindptr\u001b[49m\u001b[43m,\u001b[49m\u001b[43m \u001b[49m\u001b[38;5;28;43mself\u001b[39;49m\u001b[38;5;241;43m.\u001b[39;49m\u001b[43mindices\u001b[49m\u001b[43m,\u001b[49m\u001b[43m \u001b[49m\u001b[38;5;28;43mself\u001b[39;49m\u001b[38;5;241;43m.\u001b[39;49m\u001b[43mdata\u001b[49m\u001b[43m,\u001b[49m\n\u001b[1;32m    508\u001b[0m \u001b[43m   \u001b[49m\u001b[43mother\u001b[49m\u001b[38;5;241;43m.\u001b[39;49m\u001b[43mravel\u001b[49m\u001b[43m(\u001b[49m\u001b[43m)\u001b[49m\u001b[43m,\u001b[49m\u001b[43m \u001b[49m\u001b[43mresult\u001b[49m\u001b[38;5;241;43m.\u001b[39;49m\u001b[43mravel\u001b[49m\u001b[43m(\u001b[49m\u001b[43m)\u001b[49m\u001b[43m)\u001b[49m\n\u001b[1;32m    510\u001b[0m \u001b[38;5;28;01mreturn\u001b[39;00m result\n",
      "\u001b[0;31mKeyboardInterrupt\u001b[0m: "
     ]
    }
   ],
   "source": [
    "######--------- Training with Gradient Descent ---------######\n",
    "\n",
    "mf = MatrixFactorisation(train, 10)\n",
    "print( np.shape(mf.P), np.shape(mf.Q) )\n",
    "# print( mf.P )\n",
    "P, Q = mf.gradient_descent(iterations=10000, learning_rate=0.4, _lambda=0, validation=test, verbose=False)\n",
    "# print(np.shape(P))"
   ]
  },
  {
   "cell_type": "code",
   "execution_count": 30,
   "metadata": {},
   "outputs": [
    {
     "data": {
      "image/png": "[encoded data removed]",
      "text/plain": [
       "<Figure size 640x480 with 1 Axes>"
      ]
     },
     "metadata": {},
     "output_type": "display_data"
    }
   ],
   "source": [
    "# print( np.array(mf.train_mse_at_epochs)[:,1] )\n",
    "mf.plot_learning_curve(validation=True)\n",
    "# mf.plot_learning_curve(validation=None)"
   ]
  },
  {
   "cell_type": "markdown",
   "metadata": {},
   "source": [
    "## Roughwork..."
   ]
  },
  {
   "cell_type": "code",
   "execution_count": null,
   "metadata": {},
   "outputs": [],
   "source": [
    "# help = np.zeros((mf.P.shape[0], mf.Q.T.shape[1]))\n",
    "# print(np.shape(help))\n",
    "\n",
    "# for i in range(mf.P.shape[0]):\n",
    "#        for j in range(mf.Q.T.shape[1]):\n",
    "#               for k in range(mf.k):\n",
    "#                      help[i][j] += mf.P[i][k] * mf.Q.T[k][j]\n",
    "\n",
    "# print(help)"
   ]
  },
  {
   "cell_type": "code",
   "execution_count": null,
   "metadata": {},
   "outputs": [
    {
     "name": "stdout",
     "output_type": "stream",
     "text": [
      "[[-0.20473836  0.64551148  0.38983446 ...  0.23257534 -0.10078407\n",
      "   0.51946697]\n",
      " [-0.03210454  0.4549741   0.20326194 ...  0.80037336  0.13764056\n",
      "   0.3716281 ]\n",
      " [ 0.15991591  0.23314564  0.71370675 ...  0.18638087  0.73911567\n",
      "   0.03055401]\n",
      " ...\n",
      " [ 0.08203674  0.766394    0.12699937 ...  0.51852963  0.69768505\n",
      "   0.53541308]\n",
      " [ 0.2986957   0.47134367  0.00843501 ...  0.36027689 -0.1028373\n",
      "   0.00712214]\n",
      " [ 0.89263219  0.64457093  0.85489007 ...  0.96491938  0.21266239\n",
      "   0.86141308]] \n",
      "\n",
      "\n",
      "\n",
      " [[ 0.18277182 -0.09247713  0.67162319 ...  0.4314283   0.58398668\n",
      "   0.56219493]\n",
      " [ 0.60960645  0.38650404  0.08310481 ...  0.53197436  0.9441766\n",
      "   0.87047294]\n",
      " [ 0.67215655  0.18874724  0.1152919  ... -0.04298182  0.08912164\n",
      "   0.51268375]\n",
      " ...\n",
      " [ 0.35018881  0.20878879  0.36529109 ...  0.7042925   0.76731649\n",
      "   0.37237964]\n",
      " [ 0.68886668  0.29020615  0.48477646 ...  0.4738425   0.36753764\n",
      "   0.03762408]\n",
      " [ 0.21515453  0.66385879  0.67220178 ...  0.89190558  0.47465063\n",
      "   0.5850365 ]]\n"
     ]
    }
   ],
   "source": [
    "# help2 = mf.P @ mf.Q.T\n",
    "print(mf.P,\"\\n\\n\\n\\n\", mf.Q)"
   ]
  },
  {
   "cell_type": "code",
   "execution_count": null,
   "metadata": {},
   "outputs": [
    {
     "data": {
      "text/plain": [
       "matrix([[1., 1., 1., ..., 0., 0., 0.],\n",
       "        [0., 0., 0., ..., 0., 0., 0.],\n",
       "        [0., 0., 0., ..., 0., 0., 0.],\n",
       "        ...,\n",
       "        [1., 0., 0., ..., 0., 0., 0.],\n",
       "        [1., 0., 0., ..., 1., 1., 0.],\n",
       "        [0., 0., 0., ..., 0., 0., 0.]])"
      ]
     },
     "execution_count": 31,
     "metadata": {},
     "output_type": "execute_result"
    }
   ],
   "source": [
    "train.todense()"
   ]
  },
  {
   "cell_type": "code",
   "execution_count": null,
   "metadata": {},
   "outputs": [
    {
     "ename": "AttributeError",
     "evalue": "'numpy.ndarray' object has no attribute 'toarray'",
     "output_type": "error",
     "traceback": [
      "\u001b[0;31m---------------------------------------------------------------------------\u001b[0m",
      "\u001b[0;31mAttributeError\u001b[0m                            Traceback (most recent call last)",
      "Cell \u001b[0;32mIn[32], line 3\u001b[0m\n\u001b[1;32m      1\u001b[0m predictions \u001b[38;5;241m=\u001b[39m mf\u001b[38;5;241m.\u001b[39mP\u001b[38;5;241m.\u001b[39mdot(mf\u001b[38;5;241m.\u001b[39mQ\u001b[38;5;241m.\u001b[39mT)\n\u001b[1;32m      2\u001b[0m mask \u001b[38;5;241m=\u001b[39m np\u001b[38;5;241m.\u001b[39mzeros_like(train\u001b[38;5;241m.\u001b[39mtoarray())\n\u001b[0;32m----> 3\u001b[0m \u001b[38;5;28mprint\u001b[39m(\u001b[38;5;28mtype\u001b[39m(\u001b[43mpredictions\u001b[49m\u001b[38;5;241;43m.\u001b[39;49m\u001b[43mtoarray\u001b[49m()), \u001b[38;5;28mtype\u001b[39m(train\u001b[38;5;241m.\u001b[39mtoarray()), train\u001b[38;5;241m.\u001b[39mtoarray()\u001b[38;5;241m.\u001b[39mnonzero())\n\u001b[1;32m      4\u001b[0m mask[train\u001b[38;5;241m.\u001b[39mtoarray()\u001b[38;5;241m.\u001b[39mnonzero()] \u001b[38;5;241m=\u001b[39m \u001b[38;5;241m1\u001b[39m\n\u001b[1;32m      6\u001b[0m \u001b[38;5;66;03m# Mask out unknown ratings as 0 for ease of comparison.\u001b[39;00m\n",
      "\u001b[0;31mAttributeError\u001b[0m: 'numpy.ndarray' object has no attribute 'toarray'"
     ]
    }
   ],
   "source": [
    "predictions = mf.P.dot(mf.Q.T)\n",
    "mask = np.zeros_like(train.toarray())\n",
    "print(type(predictions.toarray()), type(train.toarray()), train.toarray().nonzero())\n",
    "mask[train.toarray().nonzero()] = 1\n",
    "\n",
    "# Mask out unknown ratings as 0 for ease of comparison.\n",
    "print(np.round(predictions.toarray() * mask, 2), \"\\n\")\n",
    "print(np.round(predictions.toarray(), 2) )\n",
    "######--------\n",
    "# predictions = mf.P.dot(mf.Q.T)\n",
    "# mask = np.zeros_like(train)\n",
    "# print(type(predictions.toarray()), type(train.toarray()), train.toarray().nonzero())\n",
    "# mask[train.nonzero()] = 1\n",
    "\n",
    "# # Mask out unknown ratings as 0 for ease of comparison.\n",
    "# print(np.round(predictions * mask, 2))"
   ]
  },
  {
   "cell_type": "code",
   "execution_count": null,
   "metadata": {},
   "outputs": [],
   "source": [
    "##### File saving and download utility for Colab\n",
    "\n",
    "# from google.colab import files\n",
    "\n",
    "# user_emb_df = pd.DataFrame(P)\n",
    "# user_emb_df.to_csv(\"saved_user_emb.csv\", delimiter=\"\\t\", index=True)\n",
    "# movie_emb_df = pd.DataFrame(Q)\n",
    "# movie_emb_df.to_csv(\"saved_movie_emb.csv\", delimiter=\"\\t\", index=True)\n",
    "\n",
    "# files.download(\"saved_user_emb.csv\")\n",
    "# files.download(\"saved_movie_emb.csv\")"
   ]
  },
  {
   "cell_type": "code",
   "execution_count": null,
   "metadata": {},
   "outputs": [],
   "source": [
    "train_df.shape[0]\n",
    "train.shape[0] * train.shape[1]"
   ]
  },
  {
   "cell_type": "code",
   "execution_count": null,
   "metadata": {},
   "outputs": [],
   "source": []
  }
 ],
 "metadata": {
  "kernelspec": {
   "display_name": "RecSys_Env",
   "language": "python",
   "name": "recsys_env"
  },
  "language_info": {
   "codemirror_mode": {
    "name": "ipython",
    "version": 3
   },
   "file_extension": ".py",
   "mimetype": "text/x-python",
   "name": "python",
   "nbconvert_exporter": "python",
   "pygments_lexer": "ipython3",
   "version": "3.10.5"
  }
 },
 "nbformat": 4,
 "nbformat_minor": 2
}
