{
 "cells": [
  {
   "cell_type": "markdown",
   "metadata": {},
   "source": [
    "# Recommender System using Matrix Factorisation\n",
    "\n",
    "<!-- ### What this project does -->\n",
    "\n",
    "<!-- ### What this project doesn't do -->"
   ]
  },
  {
   "cell_type": "code",
   "execution_count": 1,
   "metadata": {},
   "outputs": [],
   "source": [
    "####### For working on Google Colab #######\n",
    "# Uncomment the appropriate block below\n",
    "\n",
    "#### Download and unzip the 100k ratings Movielens dataset\n",
    "# !curl -O http://files.grouplens.org/datasets/movielens/ml-latest-small.zip\n",
    "# !unzip ml-latest-small.zip\n",
    "# !cd ml-latest-small/\n",
    "\n",
    "#### Download and unzip the 10 million ratings Movielens dataset\n",
    "# !curl -O https://files.grouplens.org/datasets/movielens/ml-10m.zip\n",
    "# !unzip ml-10m.zip\n",
    "# !cd ml-10M100K/"
   ]
  },
  {
   "cell_type": "code",
   "execution_count": 2,
   "metadata": {},
   "outputs": [
    {
     "name": "stdout",
     "output_type": "stream",
     "text": [
      "Enabling notebook extension jupyter-js-widgets/extension...\n",
      "      - Validating: \u001b[32mOK\u001b[0m\n"
     ]
    }
   ],
   "source": [
    "import numpy as np\n",
    "import pandas as pd\n",
    "import scipy.sparse as sparse\n",
    "from sklearn.model_selection import train_test_split\n",
    "import matplotlib.pyplot as plt\n",
    "import time\n",
    "from tqdm.notebook import trange, tqdm\n",
    "import ipywidgets\n",
    "!jupyter nbextension enable --py widgetsnbextension\n",
    "%matplotlib inline"
   ]
  },
  {
   "cell_type": "markdown",
   "metadata": {},
   "source": [
    "<!-- Until now, I've encountered two types of data objects in the Pandas library—DataFrames and Series, and here is a [Scaler Topics article on core components of Pandas](https://www.scaler.com/topics/pandas/core-components-of-pandas/), confirming that these two are the important ones (for single-dimensional, and two-dimensional data respectively), apart from a third object type, `Panel` (for three-dimensional data).\n",
    "\n",
    "Here's a micro-article attempting to list the organisation of files in Pandas' architecture: [Discover Pandas Library Architecture – File Hierarchy in Pandas](https://data-flair.training/blogs/pandas-library-architecture/) -->\n"
   ]
  },
  {
   "cell_type": "code",
   "execution_count": 3,
   "metadata": {},
   "outputs": [],
   "source": [
    "ratings_df = pd.read_csv(\"./ml-latest-small/ratings.csv\")\n",
    "# ratings_df = pd.read_csv(\"./ml-10M100K/ratings.dat\", delimiter='::', names=['userId', 'movieId', 'rating', 'timestamp'])\n",
    "# ratings_df = pd.read_csv(\"./anime-ratings-matrix-factorization-v-10/anime ratings dataset/rating.csv\")"
   ]
  },
  {
   "cell_type": "code",
   "execution_count": 4,
   "metadata": {},
   "outputs": [
    {
     "data": {
      "text/html": [
       "<div>\n",
       "<style scoped>\n",
       "    .dataframe tbody tr th:only-of-type {\n",
       "        vertical-align: middle;\n",
       "    }\n",
       "\n",
       "    .dataframe tbody tr th {\n",
       "        vertical-align: top;\n",
       "    }\n",
       "\n",
       "    .dataframe thead th {\n",
       "        text-align: right;\n",
       "    }\n",
       "</style>\n",
       "<table border=\"1\" class=\"dataframe\">\n",
       "  <thead>\n",
       "    <tr style=\"text-align: right;\">\n",
       "      <th></th>\n",
       "      <th>userId</th>\n",
       "      <th>movieId</th>\n",
       "      <th>rating</th>\n",
       "      <th>timestamp</th>\n",
       "    </tr>\n",
       "  </thead>\n",
       "  <tbody>\n",
       "    <tr>\n",
       "      <th>0</th>\n",
       "      <td>1</td>\n",
       "      <td>1</td>\n",
       "      <td>4.0</td>\n",
       "      <td>964982703</td>\n",
       "    </tr>\n",
       "    <tr>\n",
       "      <th>1</th>\n",
       "      <td>1</td>\n",
       "      <td>3</td>\n",
       "      <td>4.0</td>\n",
       "      <td>964981247</td>\n",
       "    </tr>\n",
       "    <tr>\n",
       "      <th>2</th>\n",
       "      <td>1</td>\n",
       "      <td>6</td>\n",
       "      <td>4.0</td>\n",
       "      <td>964982224</td>\n",
       "    </tr>\n",
       "    <tr>\n",
       "      <th>3</th>\n",
       "      <td>1</td>\n",
       "      <td>47</td>\n",
       "      <td>5.0</td>\n",
       "      <td>964983815</td>\n",
       "    </tr>\n",
       "    <tr>\n",
       "      <th>4</th>\n",
       "      <td>1</td>\n",
       "      <td>50</td>\n",
       "      <td>5.0</td>\n",
       "      <td>964982931</td>\n",
       "    </tr>\n",
       "  </tbody>\n",
       "</table>\n",
       "</div>"
      ],
      "text/plain": [
       "   userId  movieId  rating  timestamp\n",
       "0       1        1     4.0  964982703\n",
       "1       1        3     4.0  964981247\n",
       "2       1        6     4.0  964982224\n",
       "3       1       47     5.0  964983815\n",
       "4       1       50     5.0  964982931"
      ]
     },
     "execution_count": 4,
     "metadata": {},
     "output_type": "execute_result"
    }
   ],
   "source": [
    "ratings_df.head()"
   ]
  },
  {
   "cell_type": "code",
   "execution_count": 5,
   "metadata": {},
   "outputs": [
    {
     "name": "stdout",
     "output_type": "stream",
     "text": [
      "<class 'pandas.core.frame.DataFrame'>\n",
      "RangeIndex: 100836 entries, 0 to 100835\n",
      "Data columns (total 4 columns):\n",
      " #   Column     Non-Null Count   Dtype  \n",
      "---  ------     --------------   -----  \n",
      " 0   userId     100836 non-null  int64  \n",
      " 1   movieId    100836 non-null  int64  \n",
      " 2   rating     100836 non-null  float64\n",
      " 3   timestamp  100836 non-null  int64  \n",
      "dtypes: float64(1), int64(3)\n",
      "memory usage: 3.1 MB\n"
     ]
    }
   ],
   "source": [
    "ratings_df.info()"
   ]
  },
  {
   "cell_type": "code",
   "execution_count": 6,
   "metadata": {},
   "outputs": [
    {
     "name": "stdout",
     "output_type": "stream",
     "text": [
      "There are 9724 movies and 610 users in the dataset\n"
     ]
    }
   ],
   "source": [
    "# num_movies = pd.DataFrame(ratings_df['movieId'].unique()).count().values[0]       #this is a tad more convoluted way\n",
    "# num_users = pd.DataFrame(ratings_df['userId'].unique()).count().values[0]\n",
    "num_movies = ratings_df['movieId'].unique().shape[0]                                #better way\n",
    "num_users = ratings_df['userId'].unique().shape[0]\n",
    "print(f\"There are {num_movies} movies and {num_users} users in the dataset\")"
   ]
  },
  {
   "cell_type": "code",
   "execution_count": 7,
   "metadata": {},
   "outputs": [
    {
     "name": "stdout",
     "output_type": "stream",
     "text": [
      "There are 0 user IDs exceeding 610.\n",
      "There are 4334 movie IDs exceeding 9724.\n"
     ]
    }
   ],
   "source": [
    "print(f\"There are {ratings_df.loc[ratings_df.userId > num_users].userId.unique().shape[0]} user IDs exceeding {num_users}.\")\n",
    "print(f\"There are {ratings_df.loc[ratings_df.movieId > num_movies].movieId.unique().shape[0]} movie IDs exceeding {num_movies}.\")"
   ]
  },
  {
   "cell_type": "markdown",
   "metadata": {},
   "source": [
    "For the 100k ratings dataset: it seems that the user IDs are contiguous, while the movie IDs are not.\n",
    "\n",
    "For the 10M ratings dataset: both the user IDs and movie IDs are not contiguous.\n",
    "\n",
    "We shall make the requisite IDs contiguous in following blocks after some more EDA."
   ]
  },
  {
   "cell_type": "code",
   "execution_count": 8,
   "metadata": {},
   "outputs": [],
   "source": [
    "# ratings_df.describe().T"
   ]
  },
  {
   "cell_type": "code",
   "execution_count": 9,
   "metadata": {},
   "outputs": [],
   "source": [
    "# pd.Series.value_counts(ratings_df['rating']).to_frame().T"
   ]
  },
  {
   "cell_type": "code",
   "execution_count": 10,
   "metadata": {},
   "outputs": [],
   "source": [
    "# plt.hist(ratings_df['rating'], bins=[(i-1)/2 for i in range(0, 12)])\n",
    "# plt.hist(ratings_df['rating'], bins=[i-0.5 for i in range(-1,12)])  #for anime ratings dataset"
   ]
  },
  {
   "cell_type": "code",
   "execution_count": 11,
   "metadata": {},
   "outputs": [
    {
     "name": "stdout",
     "output_type": "stream",
     "text": [
      "userId       0\n",
      "movieId      0\n",
      "rating       0\n",
      "timestamp    0\n",
      "dtype: int64 \n",
      "\n",
      "<class 'pandas.core.series.Series'>\n"
     ]
    }
   ],
   "source": [
    "print( ratings_df.isna().sum() , \"\\n\")\n",
    "print( type(ratings_df.isna().sum()) )"
   ]
  },
  {
   "cell_type": "code",
   "execution_count": 12,
   "metadata": {},
   "outputs": [
    {
     "name": "stdout",
     "output_type": "stream",
     "text": [
      "100836\n"
     ]
    },
    {
     "data": {
      "text/plain": [
       "100836"
      ]
     },
     "execution_count": 12,
     "metadata": {},
     "output_type": "execute_result"
    }
   ],
   "source": [
    "print( len(ratings_df.duplicated(subset=['userId', 'movieId'])) )\n",
    "len(np.where( ratings_df.duplicated(subset=['userId', 'movieId']) == False )[0])"
   ]
  },
  {
   "cell_type": "markdown",
   "metadata": {},
   "source": [
    "There don't seem to be any duplicates *shruggie"
   ]
  },
  {
   "cell_type": "code",
   "execution_count": 13,
   "metadata": {},
   "outputs": [],
   "source": [
    "# toy = np.zeros((3,4))\n",
    "# toy[0,1] = 1\n",
    "# toy[2,3] = 2\n",
    "# toy"
   ]
  },
  {
   "cell_type": "code",
   "execution_count": 14,
   "metadata": {},
   "outputs": [],
   "source": [
    "# toy_csc = sparse.csc_matrix(toy)\n",
    "# print( toy_csc.data )\n",
    "# print( toy_csc.nnz )  # nnz => no. of non-zero (entries)\n",
    "# print( toy_csc.nonzero() )"
   ]
  },
  {
   "cell_type": "code",
   "execution_count": 15,
   "metadata": {},
   "outputs": [],
   "source": [
    "# toy_csc.power(2).todense()"
   ]
  },
  {
   "cell_type": "code",
   "execution_count": 16,
   "metadata": {},
   "outputs": [],
   "source": [
    "############################################################################\n",
    "## This was an unsuccessful attempt to write a general function to make IDs contiguous ##\n",
    "############################################################################\n",
    "\n",
    "# def make_id_contiguous(df:pd.DataFrame, id:str):\n",
    "#        old_new_id = np.zeros(df[id].max()+1)\n",
    "#        for new_id, old_id in enumerate(df[id].unique()):\n",
    "#               old_new_id[old_id] = new_id\n",
    "              \n",
    "#        import re\n",
    "#        RE_WORDS = re.compile(r'''\n",
    "#                      # Find words in a string. Order matters!\n",
    "#                      [A-Z]+(?=[A-Z][a-z]) |  # All upper case before a capitalized word\n",
    "#                      [A-Z]?[a-z]+ |  # Capitalized words / all lower case\n",
    "#                      [A-Z]+ |  # All upper case\n",
    "#                      \\d+  # Numbers\n",
    "#                      ''', re.VERBOSE)\n",
    "#        id_split = RE_WORDS.findall(id)\n",
    "#        print(id_split)\n",
    "#        print(np.where(id_split == 'Id'))\n",
    "#        # id_split[np.where(id_split == 'Id')] = 'newId'\n",
    "#        new_id_name = \"\".join(i for i in id_split)\n",
    "\n",
    "#        df[new_id_name] = old_new_id[df[id]]\n",
    "#        df = df.astype({new_id_name: 'int64'})\n",
    "#        print( df.head(), \"\\n\" )\n",
    "#        return old_new_id\n",
    "\n",
    "# make_id_contiguous(ratings_df, 'movieId')"
   ]
  },
  {
   "cell_type": "markdown",
   "metadata": {},
   "source": [
    "### Making the user and movie IDs contiguous"
   ]
  },
  {
   "cell_type": "code",
   "execution_count": 17,
   "metadata": {},
   "outputs": [
    {
     "name": "stdout",
     "output_type": "stream",
     "text": [
      "   userId  movieId  rating  timestamp  userNewId\n",
      "0       1        1     4.0  964982703          0\n",
      "1       1        3     4.0  964981247          0\n",
      "2       1        6     4.0  964982224          0\n",
      "3       1       47     5.0  964983815          0\n",
      "4       1       50     5.0  964982931          0 \n",
      "\n",
      "       userId  userNewId\n",
      "22684     156        155\n",
      "22685     156        155\n",
      "22686     156        155\n",
      "22687     156        155\n",
      "22688     156        155\n",
      "...       ...        ...\n",
      "23077     156        155\n",
      "23078     156        155\n",
      "23079     156        155\n",
      "23080     156        155\n",
      "23081     156        155\n",
      "\n",
      "[398 rows x 2 columns] \n",
      "\n",
      "There are 610 users and correspondingly 610.0 contiguous user IDs now\n"
     ]
    }
   ],
   "source": [
    "user_old_new_id = np.zeros(ratings_df[\"userId\"].max()+1)\n",
    "for new_id, old_id in enumerate(ratings_df['userId'].unique()):\n",
    "       user_old_new_id[old_id] = new_id\n",
    "       \n",
    "ratings_df['userNewId'] = user_old_new_id[ratings_df['userId']]\n",
    "ratings_df = ratings_df.astype({'userNewId': 'int64'})\n",
    "\n",
    "print( ratings_df.head(), \"\\n\" )\n",
    "# now just to check that we did it correctly, a movieId should be mapped to the same movieNewId\n",
    "print( ratings_df.loc[ratings_df.userId == 156][['userId', 'userNewId']], \"\\n\" ) \n",
    "print(f\"There are {num_users} users and correspondingly {max(user_old_new_id)+1} contiguous user IDs now\")"
   ]
  },
  {
   "cell_type": "code",
   "execution_count": 18,
   "metadata": {},
   "outputs": [
    {
     "name": "stdout",
     "output_type": "stream",
     "text": [
      "   userId  movieId  rating  timestamp  userNewId  movieNewId\n",
      "0       1        1     4.0  964982703          0           0\n",
      "1       1        3     4.0  964981247          0           1\n",
      "2       1        6     4.0  964982224          0           2\n",
      "3       1       47     5.0  964983815          0           3\n",
      "4       1       50     5.0  964982931          0           4 \n",
      "\n",
      "       movieId  movieNewId\n",
      "17007      156        4463\n",
      "96137      156        4463\n",
      "97391      156        4463 \n",
      "\n",
      "There are 9724 movies and correspondingly 9724.0 contiguous movie IDs now\n"
     ]
    }
   ],
   "source": [
    "movie_old_new_id = np.zeros(ratings_df[\"movieId\"].max()+1)\n",
    "for new_id, old_id in enumerate(ratings_df['movieId'].unique()):\n",
    "       movie_old_new_id[old_id] = new_id\n",
    "       \n",
    "ratings_df['movieNewId'] = movie_old_new_id[ratings_df['movieId']]\n",
    "ratings_df = ratings_df.astype({'movieNewId': 'int64'})\n",
    "\n",
    "print( ratings_df.head(), \"\\n\" )\n",
    "# now just to check that we did it correctly, a movieId should be mapped to the same movieNewId\n",
    "print( ratings_df.loc[ratings_df.movieId == 156][['movieId', 'movieNewId']], \"\\n\" ) \n",
    "print(f\"There are {num_movies} movies and correspondingly {max(movie_old_new_id)+1} contiguous movie IDs now\")"
   ]
  },
  {
   "cell_type": "code",
   "execution_count": 19,
   "metadata": {},
   "outputs": [
    {
     "name": "stdout",
     "output_type": "stream",
     "text": [
      "       userId  movieId  rating   timestamp  userNewId  movieNewId\n",
      "0         509     7347     3.0  1435994597        508        4285\n",
      "1         326    71462     4.0  1322252335        325        5629\n",
      "2          57     2115     3.0   965798155         56         134\n",
      "3         610     1127     4.0  1479544102        609          66\n",
      "4         462     2409     2.0  1174438249        461        1172\n",
      "...       ...      ...     ...         ...        ...         ...\n",
      "80663      42     4005     4.0   996259059         41        1873\n",
      "80664     364      141     4.0   869443367        363         524\n",
      "80665     480     6867     4.0  1179163171        479        2240\n",
      "80666       6      981     3.0   845556567          5         712\n",
      "80667     103     6711     5.0  1431957425        102        2046\n",
      "\n",
      "[80668 rows x 6 columns]\n",
      "       userId  movieId  rating   timestamp  userNewId  movieNewId\n",
      "0         432    77866     4.5  1335139641        431        4730\n",
      "1         288      474     3.0   978465565        287         474\n",
      "2         599     4351     3.0  1498524542        598        2631\n",
      "3          42     2987     4.0   996262677         41         194\n",
      "4          75     1610     4.0  1158989841         74         727\n",
      "...       ...      ...     ...         ...        ...         ...\n",
      "20163     380     5048     2.0  1494268065        379         279\n",
      "20164     434    54272     3.5  1270606860        433        1269\n",
      "20165     226     5989     4.5  1162428551        225         765\n",
      "20166     607     1320     3.0   963080497        606        2750\n",
      "20167     567      750     3.0  1525287719        566         722\n",
      "\n",
      "[20168 rows x 6 columns]\n",
      "(80668, 6) (20168, 6)\n"
     ]
    }
   ],
   "source": [
    "train_df, test_df = train_test_split(ratings_df, test_size=0.2, random_state=42)  #setting random_state ensures consistent splitting every time\n",
    "\n",
    "train_df = train_df.reset_index(drop=True)\n",
    "test_df = test_df.reset_index(drop=True)\n",
    "print(train_df)\n",
    "print(test_df)\n",
    "print( np.shape(train_df), np.shape(test_df) )"
   ]
  },
  {
   "cell_type": "markdown",
   "metadata": {},
   "source": [
    "Since we've chosen to make the movie IDs contiguous by mapping them to new ones, splitting the DataFrame makes creating smaller-dimensional matrix representations of the training or test sets difficult, because, say, the indices chosen in the training set can still lie out of bounds of its smaller matrix's size (similar logic holds for the test set).\n",
    "\n",
    "Instead, let's just work with the full ratings matrix, with the test entries zeroed out in the training matrix (and vice versa), which wouldn't be a bother to the memory anyway because we're using a sparse representation!"
   ]
  },
  {
   "cell_type": "code",
   "execution_count": 20,
   "metadata": {},
   "outputs": [
    {
     "name": "stdout",
     "output_type": "stream",
     "text": [
      "There are 80668 & 20168 non-zero elements in the train and test sparse matrices respectively.\n",
      " 611 9725\n"
     ]
    }
   ],
   "source": [
    "train = sparse.csc_matrix( (train_df['rating'].values, (train_df['userNewId'].values, train_df['movieNewId'].values)),\\\n",
    "                                 shape=(num_users+1, num_movies+1) )\n",
    "test = sparse.csc_matrix(  (test_df['rating'].values, (test_df['userNewId'].values, test_df['movieNewId'].values)),\\\n",
    "                                 shape=(num_users+1, num_movies+1))\n",
    "\n",
    "print(f\"There are {train.nnz} & {test.nnz} non-zero elements in the train and test sparse matrices respectively.\\n\", test.shape[0],train.shape[1] )\n",
    "# train.to_dense()\n",
    "# print( train )"
   ]
  },
  {
   "cell_type": "markdown",
   "metadata": {},
   "source": [
    "Lemme check once that the test and train matrix elements are indeed mutually exclusive (zero, non-zero in their matrices respectively).\n",
    "\n",
    "The cell below seems to show all's good"
   ]
  },
  {
   "cell_type": "code",
   "execution_count": 21,
   "metadata": {},
   "outputs": [],
   "source": [
    "# for i in zip(test.nonzero()[0], test.nonzero()[1]):\n",
    "#        if( train[i[0],i[1]] != 0 ):\n",
    "#               print(\"Hah!\")\n",
    "# for i in zip(train.nonzero()[0], train.nonzero()[1]):\n",
    "#        if( test[i[0],i[1]] != 0 ):\n",
    "#               print(\"Hah!\")"
   ]
  },
  {
   "cell_type": "code",
   "execution_count": 22,
   "metadata": {},
   "outputs": [],
   "source": [
    "# print( np.sort(train_df['userId'].values) )\n",
    "# print( mf.p_nnz_idx, \"\\n\" )\n",
    "\n",
    "# print( np.sort(train_df['movieNewId'].values) )\n",
    "# print( np.sort(mf.q_nnz_idx ) )\n",
    "# print( np.sort(train_df['userId'].values) == mf.p_nnz_idx )\n",
    "# print( np.sort(train_df['movieNewId'].values) == np.sort(mf.q_nnz_idx), \"\\n\" )\n",
    "\n",
    "# print( np.where( np.sort(train_df['userId'].values) != train.nonzero()[0]) )\n",
    "# print( np.where( np.sort(train_df['movieNewId'].values) != np.sort( train.nonzero()[1]) ) )\n",
    "# print( np.where( np.sort(train_df['movieNewId'].values) != np.sort(mf.q_nnz_idx)) )\n"
   ]
  },
  {
   "cell_type": "markdown",
   "metadata": {},
   "source": [
    "Hmmm, so the row indices seem to be all good, ~~but the column indices are playing foul.~~ as do the column indices.\n",
    "\n",
    "Wasted quite the time pursuing this!\n",
    "\n",
    "We have used the list `train_df['movieNewId'].values` as the column indices needed to generate R, but upon querying back these column indices, ~~they're coming out wrong!~~\n",
    "Previously, I wasn ony sorting the `train_df['movieNewId'].values` list, and not the list `mf.q_nnz_idx` for comparison. Upon sorting both, they indeed come out to be the same.\n",
    "***"
   ]
  },
  {
   "cell_type": "markdown",
   "metadata": {},
   "source": [
    "## Matrix Factorisation Class\n",
    "Below, I furnish a Matrix Factorisation Python class that implements:\n",
    "- gradient descent\n",
    "- (pending) gradient descent with user and item biases\n",
    "- sgd\n",
    "- ALS\n",
    "to learn the embeddings.\n",
    "\n",
    "The implementation of gradient descent and sgd considers the loss function for explicit ratings, i.e. solely over observed values.\n",
    "The ALS implementation uses the Koren et al. approach treating the entire ratings matrix as dense implicit data.\n",
    "\n",
    "The regularised loss I've used for explicit ratings: $$L(R, P, Q) = \\frac{1}{N}\\underset{(i,j):r_{ui}≠Nan}{\\sum} (r_{ui} - p_u^T\\cdot q_i)^2 + \\lambda(\\sum_u{||p_u||^2} + \\sum_i{||q_i||^2})$$\n",
    "It's a squared error (SE) loss function with regularisation terms. I wonder how using the Mean SE or RMSE would change the behaviour. ~~Conceptually, it shouldn't..~~ Oh how pathetically wrong I was! Not providing the required normalisation on the gradient terms just blew the cost up! I wonder why not providing the normalisation to the gradient calculation blows up the cost. The two seem unrelated, except, not!\n",
    "\n",
    "Still need to add the user and item bias terms to SGD and GD."
   ]
  },
  {
   "cell_type": "code",
   "execution_count": 55,
   "metadata": {},
   "outputs": [],
   "source": [
    "class MatrixFactorisation():\n",
    "       def __init__(self, R:sparse.csc_matrix, k:int, verbose:bool=False ):\n",
    "              self.R = R           # R is the \"ratings\" matrix to be factorised\n",
    "              self.k = k           # hyperparameter k is the number of latent factors desired in the factorised embeddings\n",
    "              self.m, self.n = R.shape\n",
    "              self.P = np.random.rand(self.m, k)        # initialising the first factor embedding (of \"users\")\n",
    "              self.Q = np.random.rand(self.n, k)        # initialising the second factor embedding (of \"items\")\n",
    "              self.p_nnz_idx, self.q_nnz_idx = R.nonzero()        # row and col indices in R matrix respectively, of non-zero elements\n",
    "              self.train_mse_at_epochs = []\n",
    "              self.test_mse_at_epochs = []\n",
    "              self.verbose = verbose\n",
    "              self.verbose_epoch_intvl = 50\n",
    "\n",
    "       def __predict_observed(self):\n",
    "              \"\"\"\n",
    "              Returns predicted values as a sparse matrix, corresponding to indices of non-zero elements in matrix R to be factorised\n",
    "\n",
    "              Avoids constructing a dense prediction matrix produced via naïve dense matrix multiplication of factors.\n",
    "              Instead, produces predicted values by multiplying only the requisite factor vectors corresponding to non-zero entries in R.\n",
    "              \"\"\"\n",
    "              R_predicted = np.sum( np.multiply(self.P[self.p_nnz_idx], self.Q[self.q_nnz_idx]), axis=1 )       #calculating the products only for the nonzero \"observed\" rating entries: explicit MF\n",
    "              R_predicted = sparse.csc_matrix( (R_predicted, (self.p_nnz_idx, self.q_nnz_idx)), shape=(self.m,self.n))              \n",
    "              # R_predicted = self.P @ self.Q.T\n",
    "              # R_predicted = sparse.csc_matrix(R_predicted)\n",
    "              return R_predicted\n",
    "\n",
    "       def gradients(self, _lambda):\n",
    "              \"\"\"\n",
    "              Returns l2 gradients w.r.t the elements of the embedding vectors, along with the prediction errors\n",
    "              \"\"\"\n",
    "              R_predicted = self.__predict_observed()\n",
    "              error = self.R - R_predicted\n",
    "              norm_factor = -2 / self.R.nnz  #this factor is crucial! Can't be 1 (i.e. we can't leave the gradients unnormalised, else cost diverges!)\n",
    "              grad_P = norm_factor * (error*self.Q) + 2*(_lambda*self.P)\n",
    "              grad_Q = norm_factor * (error.T*self.P) + 2*(_lambda*self.Q)\n",
    "              return grad_P, grad_Q, error\n",
    "\n",
    "       def gradient_descent(self, iterations=2000, learning_rate = 0.3, _lambda=0.0002, beta=0.8, validation:sparse.csc_matrix=None, verbose=False):\n",
    "              \"\"\"\n",
    "              Returns factor matrices for explicit data matrix by learning their entries via full-batch gradient descent.\n",
    "\n",
    "              Returned factor matrices P,Q represent user and item embeddings, for explicit ratings data R.\n",
    "                     R = P.Q^T\n",
    "\n",
    "              Optionally provide a sparse matrix with validation data, to compute the validation performance (measured by mse) over time\n",
    "              \"\"\"\n",
    "              self.verbose = verbose\n",
    "\n",
    "              grad_P, grad_Q, error = self.gradients(_lambda)\n",
    "              v_P = grad_P\n",
    "              v_Q = grad_Q\n",
    "              beta = beta    # momentum constant\n",
    "              train_mse = error.power(2).sum()/self.R.nnz #self.R.shape[0]\n",
    "              # print(\"train mse:\", train_mse)\n",
    "              self.train_mse_at_epochs.append( [1, train_mse] )\n",
    "              self.save_test_mse(0, validation=validation)\n",
    "              for i in tqdm(range(iterations), desc=\"Gradient Descent progress:\", leave=verbose):\n",
    "                     grad_P, grad_Q, error = self.gradients(_lambda)\n",
    "                     v_P = beta*v_P + (1-beta)*grad_P   \n",
    "                     v_Q = beta*v_Q + (1-beta)*grad_Q\n",
    "                     self.P = self.P - learning_rate*v_P       # Grad Desc update rule\n",
    "                     self.Q = self.Q - learning_rate*v_Q       # Grad Desc update rule\n",
    "                     # print(\"train mse:\", error.power(2).sum()/self.R.shape[0] )  #print mse at each iteration\n",
    "                     if(not (i+1)%self.verbose_epoch_intvl):\n",
    "                            self.save_train_mse(i, error)\n",
    "                            self.save_test_mse(i, validation=validation)\n",
    "              return self.P, self.Q\n",
    "\n",
    "       def save_train_mse(self, i, error):\n",
    "              train_mse = error.power(2).sum()/self.R.nnz #self.R.shape[0]\n",
    "              self.train_mse_at_epochs.append( [i+1, train_mse])\n",
    "              if(self.verbose):\n",
    "                     print(\"\\niteration/epoch\", i+1, \":\")\n",
    "                     print(\"train mse:\", train_mse)\n",
    "\n",
    "       def save_test_mse(self, i, validation:sparse.csc_matrix=None, solver='gd'):\n",
    "              if(validation != None):\n",
    "                     valdn_p_nnz_idx, valdn_q_nnz_idx = validation.nonzero()\n",
    "                     valdn_predicted = np.sum( np.multiply(self.P[valdn_p_nnz_idx], self.Q[valdn_q_nnz_idx]), axis=1 )       #calculating the products only for the nonzero \"observed\" rating entries\n",
    "                     valdn_predicted = sparse.csc_matrix( (valdn_predicted, (valdn_p_nnz_idx, valdn_q_nnz_idx)), shape=(self.m,self.n))\n",
    "                     # if(solver == 'als'):\n",
    "                     #        valdn_Phi = validation\n",
    "                     #        valdn_Phi[valdn_Phi.nonzero()] = 1.0\n",
    "                     #        valdn_error = valdn_Phi- valdn_predicted\n",
    "                     #        # test_mse = valdn_error.power(2).sum()/self.R.nnz   #self.R.shape[0]\n",
    "                     # else:\n",
    "                     #        # valdn_p_nnz_idx, valdn_q_nnz_idx = validation.nonzero()\n",
    "                     #        # valdn_predicted = np.sum( np.multiply(self.P[valdn_p_nnz_idx], self.Q[valdn_q_nnz_idx]), axis=1 )       #calculating the products only for the nonzero \"observed\" rating entries\n",
    "                     #        # valdn_predicted = sparse.csc_matrix( (valdn_predicted, (valdn_p_nnz_idx, valdn_q_nnz_idx)), shape=(self.m,self.n))\n",
    "                     valdn_error = validation - valdn_predicted\n",
    "                     test_mse = valdn_error.power(2).sum()/self.R.nnz   #self.R.shape[0]\n",
    "                     self.test_mse_at_epochs.append([i+1, test_mse])\n",
    "                     if(self.verbose):\n",
    "                            print(\"iteration\", i+1, \":\")\n",
    "                            print(\"test mse:\", test_mse)\n",
    "\n",
    "       def sgd(self, epochs=10, learning_rate=0.03, _lambda=0.0, beta=0.8, verbose=False, validation:sparse.csc_matrix=None):\n",
    "              \"\"\"\n",
    "              Returns factor matrices for explicit data matrix by learning their entries via stochastic gradient descent.\n",
    "\n",
    "              Returned factor matrices P,Q represent user and item embeddings, for explicit ratings data R.\n",
    "                     R = P.Q^T\n",
    "              \"\"\"\n",
    "              self.verbose = verbose\n",
    "              beta = beta\n",
    "\n",
    "              num_samples = len(self.p_nnz_idx)\n",
    "              training_indices = np.arange(num_samples)\n",
    "              # I couldn't have shuffled the array p_nnz_idx itself, cuz that would require shuffling q_nnx_idx in a corresponding manner\n",
    "\n",
    "              # with tqdm(total=100) as prog_bar:\n",
    "              for epoch in tqdm(range(epochs), desc=\"Total SGD epochs completion: \", leave=verbose):\n",
    "                     np.random.shuffle(training_indices)       #stochasticity must be ensured properly!\n",
    "                     count = 0\n",
    "                     for i in tqdm(training_indices, desc=f\"Epoch #{epoch} completion: \"):         #We need to update all users and items at least once in each iteration\n",
    "                            p_idx = self.p_nnz_idx[i]\n",
    "                            q_idx = self.q_nnz_idx[i]\n",
    "\n",
    "                            R_ij = self.R[p_idx, q_idx]\n",
    "                            P_i = self.P[p_idx]\n",
    "                            Q_j = self.Q[q_idx]\n",
    "\n",
    "                            R_predicted_ij = P_i.dot(Q_j.T)\n",
    "                            error_ij = R_ij - R_predicted_ij\n",
    "                            grad_P_i = -2*(error_ij * Q_j) + 2*(_lambda * self.P[p_idx])\n",
    "                            grad_Q_j = -2*(error_ij * P_i) + 2*(_lambda * self.Q[q_idx])\n",
    "\n",
    "                            v_P_i = beta*v_P_i + (1-beta)*grad_P_i if epoch!=0 else grad_P_i\n",
    "                            v_Q_j = beta*v_Q_j + (1-beta)*grad_Q_j if epoch!=0 else grad_Q_j\n",
    "       \n",
    "                            self.P[p_idx] -= learning_rate * v_P_i\n",
    "                            self.Q[q_idx] -= learning_rate * v_Q_j\n",
    "                            # self.P[p_idx] -= learning_rate* grad_P_i\n",
    "                            # self.Q[q_idx] -= learning_rate* grad_Q_j\n",
    "\n",
    "                            if(not ((epoch+1)*(count+1)+1)%(1000)):\n",
    "                                   R_predicted = np.sum( np.multiply(self.P[self.p_nnz_idx], self.Q[self.q_nnz_idx]), axis=1 )       #calculating the products only for the nonzero \"observed\" rating entries\n",
    "                                   R_predicted = sparse.csc_matrix( (R_predicted, (self.p_nnz_idx, self.q_nnz_idx)), shape=(self.m,self.n))\n",
    "                                   error = self.R - R_predicted\n",
    "                                   self.save_train_mse((epoch+1)*(count+1), error)\n",
    "                                   self.save_test_mse((epoch+1)*(count+1), validation=validation)\n",
    "                            count += 1\n",
    "\n",
    "                     # if(not (epoch+1)%(self.verbose_epoch_intvl/10)):\n",
    "                     #        R_predicted = np.sum( np.multiply(self.P[self.p_nnz_idx], self.Q[self.q_nnz_idx]), axis=1 )       #calculating the products only for the nonzero \"observed\" rating entries\n",
    "                     #        R_predicted = sparse.csc_matrix( (R_predicted, (self.p_nnz_idx, self.q_nnz_idx)), shape=(self.m,self.n))\n",
    "                     #        error = self.R - R_predicted\n",
    "                     #        self.save_train_mse(count, error)\n",
    "                     #        # self.save_test_mse(i, validation=validation)\n",
    "              return self.P, self.Q\n",
    "\n",
    "       def als(self, epochs=10, alpha=40, _lambda=10, solver=\"cg\", validation:sparse.csc_matrix=None, verbose=False):\n",
    "              \"\"\"\n",
    "              Returns factor matrices for implicit data matrix by learning their entries via Alternating Least Squares method.\n",
    "\n",
    "              Returned factor matrices P,Q represent user and item embeddings, for binarised ratings data Phi derived from R.\n",
    "                     Phi[p,q] =    { 0    for R[p,q]=0\n",
    "                                   { 1    for R[p,q]>0\n",
    "              &      Phi = P.Q^T\n",
    "\n",
    "              Uses scipy.sparse.linalg's spsolve as its solver\n",
    "              \"\"\"\n",
    "              ## should I be making the following tradeoff for precomputed memory, to speed up implementation?\n",
    "              # Cp_array = []\n",
    "              # Cq_array = []\n",
    "              # for p in range(self.m):\n",
    "              #        C_p = sparse.diags(self.R[p].toarray(), [0])\n",
    "              #        Cp_array.append(C_p)\n",
    "              # for q in range(self.n):\n",
    "              #        C_q = sparse.diags(self.R[q].toarray(), [0])\n",
    "              #        Cq_array.append(C_q)\n",
    "              self.verbose = verbose\n",
    "              lambda_eye = _lambda * sparse.eye(self.k)\n",
    "\n",
    "              P = sparse.csc_matrix(self.P)\n",
    "              Q = sparse.csc_matrix(self.Q)\n",
    "\n",
    "              # the memory for this loop can further be optimised by eliminating the two similar loops with appropriate conditioning\n",
    "              for i in tqdm(range(epochs), desc=\"ALS iterations completion: \"):\n",
    "                     # Q = sparse.csc_matrix(self.Q)\n",
    "                     QTQ = Q.T.dot(Q)         #precomputation of Q.T.dot(Q) for all elements of P\n",
    "                     for p in tqdm(range(self.m), desc=\"Solving for P: \", leave=True):\n",
    "                            R_p = self.R[p].toarray()\n",
    "                            CpI = sparse.diags(alpha * R_p, [0])      #This acts as the (C^u - I) matrix in literature\n",
    "                            QTCpIQ = Q.T.dot(CpI).dot(Q)\n",
    "                            A = (QTQ + QTCpIQ) + lambda_eye\n",
    "\n",
    "                            phi = R_p.copy()\n",
    "                            phi[np.where(phi != 0)] = 1.0\n",
    "                            b = Q.T.dot(CpI + sparse.eye(self.n)).dot(sparse.csc_matrix(phi).T)       # why the last transpose on phi though?\n",
    "\n",
    "                            if(solver == \"lu\"):\n",
    "                                   P[p] = sparse.linalg.spsolve(A, b)\n",
    "                                   # self.P[p] = sparse.linalg.spsolve(A, b)\n",
    "                            if(solver == \"cg\"):\n",
    "                                   P[p], exitcode = sparse.linalg.cg(A, b.toarray())\n",
    "                                   if(exitcode):\n",
    "                                          print(f\"Conjugate Gradient Method couldn't converge properly, exited with convergence exitcode {exitcode}\")\n",
    "                     \n",
    "                     # P = sparse.csc_matrix(self.P)\n",
    "                     PTP = P.T.dot(P)         #precomputation of P.T.dot(P) for all elements of Q\n",
    "                     for q in tqdm(range(self.n), desc=\"Solving for Q: \"):\n",
    "                            R_q = self.R[:,q].T.toarray()\n",
    "                            CqI = sparse.diags(alpha * R_q, [0])      #This acts as the (C^u - I) matrix in literature\n",
    "                            PTCqIP = P.T.dot(CqI).dot(P)\n",
    "                            A = (PTP + PTCqIP) + lambda_eye\n",
    "\n",
    "                            phi = R_q.copy()\n",
    "                            phi[np.where(phi != 0)] = 1.0\n",
    "                            b = P.T.dot(CqI + sparse.eye(self.m)).dot(sparse.csc_matrix(phi).T)       # why the last transpose on phi though?\n",
    "\n",
    "                            if(solver == \"lu\"):\n",
    "                                   Q[q] = sparse.linalg.spsolve(A, b)\n",
    "                                   # self.Q[q] = sparse.linalg.spsolve(A, b)\n",
    "                            if(solver == \"cg\"):\n",
    "                                   Q[q], exitcode = sparse.linalg.cg(A, b.toarray())\n",
    "                                   if(exitcode):\n",
    "                                          print(f\"Conjugate Gradient Method couldn't converge properly, exited with convergence exitcode {exitcode}\")\n",
    "\n",
    "                     # Phi_predicted = np.sum( np.multiply(self.P[self.p_nnz_idx], self.Q[self.q_nnz_idx]), axis=1 )       #calculating the products only for the nonzero \"observed\" rating entries\n",
    "                     # Phi_predicted = sparse.csc_matrix( (Phi_predicted, (self.p_nnz_idx, self.q_nnz_idx)), shape=(self.m,self.n))\n",
    "                     Phi_predicted = np.sum( np.multiply(P.toarray()[self.p_nnz_idx], Q.toarray()[self.q_nnz_idx]), axis=1 )       #calculating the products only for the nonzero \"observed\" rating entries\n",
    "                     Phi_predicted = sparse.csc_matrix( (Phi_predicted, (self.p_nnz_idx, self.q_nnz_idx)), shape=(self.m,self.n))\n",
    "                     Phi = self.R\n",
    "                     Phi[Phi.nonzero()] = 1.0\n",
    "                     error = Phi - Phi_predicted\n",
    "                     self.save_train_mse(i, error)\n",
    "\n",
    "                     valdn_p_nnz_idx, valdn_q_nnz_idx = validation.nonzero()\n",
    "                     valdn_predicted = np.sum( np.multiply(P.toarray()[valdn_p_nnz_idx], Q.toarray()[valdn_q_nnz_idx]), axis=1 )       #calculating the products only for the nonzero \"observed\" rating entries\n",
    "                     valdn_predicted = sparse.csc_matrix( (valdn_predicted, (valdn_p_nnz_idx, valdn_q_nnz_idx)), shape=(self.m,self.n))\n",
    "                     valdn_Phi = validation\n",
    "                     valdn_Phi[valdn_Phi.nonzero()] = 1.0\n",
    "                     valdn_error = valdn_Phi- valdn_predicted\n",
    "                     test_mse = valdn_error.power(2).sum()/self.R.nnz   #self.R.shape[0]\n",
    "                     self.test_mse_at_epochs.append([i+1, test_mse])\n",
    "                     if(self.verbose):\n",
    "                            print(\"iteration\", i+1, \":\")\n",
    "                            print(\"test mse:\", test_mse)\n",
    "              self.P = P\n",
    "              self.Q = Q\n",
    "              return self.P, self.Q\n",
    "\n",
    "       def plot_learning_curve(self, validation=None):\n",
    "              if(validation != None):\n",
    "                     test_mse_arr = np.array(self.test_mse_at_epochs)\n",
    "                     plt.plot(test_mse_arr[:,0], test_mse_arr[:,1], label='Test')\n",
    "              train_mse_arr = np.array(self.train_mse_at_epochs)\n",
    "              plt.plot(train_mse_arr[:,0], train_mse_arr[:,1], label='Train')\n",
    "              plt.xticks(fontsize=16)\n",
    "              plt.yticks(fontsize=16)\n",
    "              plt.xlabel('iterations', fontsize=12)\n",
    "              plt.ylabel('MSE', fontsize=12)\n",
    "              plt.legend(loc='best', fontsize=9)\n"
   ]
  },
  {
   "cell_type": "code",
   "execution_count": 56,
   "metadata": {},
   "outputs": [
    {
     "data": {
      "application/vnd.jupyter.widget-view+json": {
       "model_id": "90871c2e21504427bec64757742e7393",
       "version_major": 2,
       "version_minor": 0
      },
      "text/plain": [
       "Grid Search Progress: : 0it [00:00, ?it/s]"
      ]
     },
     "metadata": {},
     "output_type": "display_data"
    },
    {
     "data": {
      "application/vnd.jupyter.widget-view+json": {
       "model_id": "3f128ec2a7fc42658d89ea03128ccdbf",
       "version_major": 2,
       "version_minor": 0
      },
      "text/plain": [
       "Total SGD epochs completion:   0%|          | 0/2 [00:00<?, ?it/s]"
      ]
     },
     "metadata": {},
     "output_type": "display_data"
    },
    {
     "data": {
      "application/vnd.jupyter.widget-view+json": {
       "model_id": "37b7f18455244f9380e5a48fdf1cf7f6",
       "version_major": 2,
       "version_minor": 0
      },
      "text/plain": [
       "Epoch #0 completion:   0%|          | 0/80668 [00:00<?, ?it/s]"
      ]
     },
     "metadata": {},
     "output_type": "display_data"
    },
    {
     "data": {
      "application/vnd.jupyter.widget-view+json": {
       "model_id": "5283b288b6204204b80bc0cf26e39efe",
       "version_major": 2,
       "version_minor": 0
      },
      "text/plain": [
       "Epoch #1 completion:   0%|          | 0/80668 [00:00<?, ?it/s]"
      ]
     },
     "metadata": {},
     "output_type": "display_data"
    },
    {
     "name": "stdout",
     "output_type": "stream",
     "text": [
      "epochs: 2 | learning_rate: 0.003 | _lambda: 0.0\n"
     ]
    },
    {
     "data": {
      "application/vnd.jupyter.widget-view+json": {
       "model_id": "3fc9b16a8ab3406a89bf1a5796d0a017",
       "version_major": 2,
       "version_minor": 0
      },
      "text/plain": [
       "Total SGD epochs completion:   0%|          | 0/2 [00:00<?, ?it/s]"
      ]
     },
     "metadata": {},
     "output_type": "display_data"
    },
    {
     "data": {
      "application/vnd.jupyter.widget-view+json": {
       "model_id": "4199b976ae3043bbb9a56499719e45ff",
       "version_major": 2,
       "version_minor": 0
      },
      "text/plain": [
       "Epoch #0 completion:   0%|          | 0/80668 [00:00<?, ?it/s]"
      ]
     },
     "metadata": {},
     "output_type": "display_data"
    },
    {
     "data": {
      "application/vnd.jupyter.widget-view+json": {
       "model_id": "f7c03f948f504f3ea409a0416d936182",
       "version_major": 2,
       "version_minor": 0
      },
      "text/plain": [
       "Epoch #1 completion:   0%|          | 0/80668 [00:00<?, ?it/s]"
      ]
     },
     "metadata": {},
     "output_type": "display_data"
    },
    {
     "name": "stdout",
     "output_type": "stream",
     "text": [
      "epochs: 2 | learning_rate: 0.003 | _lambda: 0.1\n"
     ]
    },
    {
     "data": {
      "application/vnd.jupyter.widget-view+json": {
       "model_id": "3c6ecf46816e43cfa66abec6eeacef0d",
       "version_major": 2,
       "version_minor": 0
      },
      "text/plain": [
       "Total SGD epochs completion:   0%|          | 0/2 [00:00<?, ?it/s]"
      ]
     },
     "metadata": {},
     "output_type": "display_data"
    },
    {
     "data": {
      "application/vnd.jupyter.widget-view+json": {
       "model_id": "1867ed5fbfad4e1d97c874ce5d08f1b4",
       "version_major": 2,
       "version_minor": 0
      },
      "text/plain": [
       "Epoch #0 completion:   0%|          | 0/80668 [00:00<?, ?it/s]"
      ]
     },
     "metadata": {},
     "output_type": "display_data"
    },
    {
     "data": {
      "application/vnd.jupyter.widget-view+json": {
       "model_id": "c44a2d672c294fbfbdcd6876d54609aa",
       "version_major": 2,
       "version_minor": 0
      },
      "text/plain": [
       "Epoch #1 completion:   0%|          | 0/80668 [00:00<?, ?it/s]"
      ]
     },
     "metadata": {},
     "output_type": "display_data"
    },
    {
     "name": "stdout",
     "output_type": "stream",
     "text": [
      "epochs: 2 | learning_rate: 0.003 | _lambda: 0.01\n"
     ]
    },
    {
     "data": {
      "application/vnd.jupyter.widget-view+json": {
       "model_id": "8bb255ddcd5e47e9aa0bc3d6fb9c49d1",
       "version_major": 2,
       "version_minor": 0
      },
      "text/plain": [
       "Total SGD epochs completion:   0%|          | 0/2 [00:00<?, ?it/s]"
      ]
     },
     "metadata": {},
     "output_type": "display_data"
    },
    {
     "data": {
      "application/vnd.jupyter.widget-view+json": {
       "model_id": "f7f45004970f445583a4945b89621908",
       "version_major": 2,
       "version_minor": 0
      },
      "text/plain": [
       "Epoch #0 completion:   0%|          | 0/80668 [00:00<?, ?it/s]"
      ]
     },
     "metadata": {},
     "output_type": "display_data"
    },
    {
     "data": {
      "application/vnd.jupyter.widget-view+json": {
       "model_id": "142edd5cdfc34d18a3b8914ea1ba6c0f",
       "version_major": 2,
       "version_minor": 0
      },
      "text/plain": [
       "Epoch #1 completion:   0%|          | 0/80668 [00:00<?, ?it/s]"
      ]
     },
     "metadata": {},
     "output_type": "display_data"
    },
    {
     "name": "stdout",
     "output_type": "stream",
     "text": [
      "epochs: 2 | learning_rate: 0.003 | _lambda: 10\n"
     ]
    },
    {
     "data": {
      "application/vnd.jupyter.widget-view+json": {
       "model_id": "7a034bb5edbf415582b28d9b8c6bcb8a",
       "version_major": 2,
       "version_minor": 0
      },
      "text/plain": [
       "Total SGD epochs completion:   0%|          | 0/2 [00:00<?, ?it/s]"
      ]
     },
     "metadata": {},
     "output_type": "display_data"
    },
    {
     "data": {
      "application/vnd.jupyter.widget-view+json": {
       "model_id": "b3ee7a0aa85246c3a709e19ab0390e43",
       "version_major": 2,
       "version_minor": 0
      },
      "text/plain": [
       "Epoch #0 completion:   0%|          | 0/80668 [00:00<?, ?it/s]"
      ]
     },
     "metadata": {},
     "output_type": "display_data"
    },
    {
     "data": {
      "application/vnd.jupyter.widget-view+json": {
       "model_id": "86eb5af81b2642448585ac0eee3531c9",
       "version_major": 2,
       "version_minor": 0
      },
      "text/plain": [
       "Epoch #1 completion:   0%|          | 0/80668 [00:00<?, ?it/s]"
      ]
     },
     "metadata": {},
     "output_type": "display_data"
    },
    {
     "name": "stdout",
     "output_type": "stream",
     "text": [
      "epochs: 2 | learning_rate: 0.03 | _lambda: 0.0\n"
     ]
    },
    {
     "data": {
      "application/vnd.jupyter.widget-view+json": {
       "model_id": "a57dbee14eee4657ab9259790920cfe6",
       "version_major": 2,
       "version_minor": 0
      },
      "text/plain": [
       "Total SGD epochs completion:   0%|          | 0/2 [00:00<?, ?it/s]"
      ]
     },
     "metadata": {},
     "output_type": "display_data"
    },
    {
     "data": {
      "application/vnd.jupyter.widget-view+json": {
       "model_id": "b02621f39775483db0f77f36acadb0e6",
       "version_major": 2,
       "version_minor": 0
      },
      "text/plain": [
       "Epoch #0 completion:   0%|          | 0/80668 [00:00<?, ?it/s]"
      ]
     },
     "metadata": {},
     "output_type": "display_data"
    },
    {
     "data": {
      "application/vnd.jupyter.widget-view+json": {
       "model_id": "ebc6f4110e87449baddff57443453cef",
       "version_major": 2,
       "version_minor": 0
      },
      "text/plain": [
       "Epoch #1 completion:   0%|          | 0/80668 [00:00<?, ?it/s]"
      ]
     },
     "metadata": {},
     "output_type": "display_data"
    },
    {
     "name": "stdout",
     "output_type": "stream",
     "text": [
      "epochs: 2 | learning_rate: 0.03 | _lambda: 0.1\n"
     ]
    },
    {
     "data": {
      "application/vnd.jupyter.widget-view+json": {
       "model_id": "5e25e37305ab427cad8f0643aadaad33",
       "version_major": 2,
       "version_minor": 0
      },
      "text/plain": [
       "Total SGD epochs completion:   0%|          | 0/2 [00:00<?, ?it/s]"
      ]
     },
     "metadata": {},
     "output_type": "display_data"
    },
    {
     "data": {
      "application/vnd.jupyter.widget-view+json": {
       "model_id": "a82f15c4f4fd471e8e6b283aeda4da3f",
       "version_major": 2,
       "version_minor": 0
      },
      "text/plain": [
       "Epoch #0 completion:   0%|          | 0/80668 [00:00<?, ?it/s]"
      ]
     },
     "metadata": {},
     "output_type": "display_data"
    },
    {
     "data": {
      "application/vnd.jupyter.widget-view+json": {
       "model_id": "c278f0027fe54b528dcecf239ac1a771",
       "version_major": 2,
       "version_minor": 0
      },
      "text/plain": [
       "Epoch #1 completion:   0%|          | 0/80668 [00:00<?, ?it/s]"
      ]
     },
     "metadata": {},
     "output_type": "display_data"
    },
    {
     "name": "stdout",
     "output_type": "stream",
     "text": [
      "epochs: 2 | learning_rate: 0.03 | _lambda: 0.01\n"
     ]
    },
    {
     "data": {
      "application/vnd.jupyter.widget-view+json": {
       "model_id": "a05bfc7fa89f49518542abfbd638b40f",
       "version_major": 2,
       "version_minor": 0
      },
      "text/plain": [
       "Total SGD epochs completion:   0%|          | 0/2 [00:00<?, ?it/s]"
      ]
     },
     "metadata": {},
     "output_type": "display_data"
    },
    {
     "data": {
      "application/vnd.jupyter.widget-view+json": {
       "model_id": "7071b82aa47c403e9235c434cc6f45a8",
       "version_major": 2,
       "version_minor": 0
      },
      "text/plain": [
       "Epoch #0 completion:   0%|          | 0/80668 [00:00<?, ?it/s]"
      ]
     },
     "metadata": {},
     "output_type": "display_data"
    },
    {
     "data": {
      "application/vnd.jupyter.widget-view+json": {
       "model_id": "e65ed2a6397444b4993d8fa850dc5273",
       "version_major": 2,
       "version_minor": 0
      },
      "text/plain": [
       "Epoch #1 completion:   0%|          | 0/80668 [00:00<?, ?it/s]"
      ]
     },
     "metadata": {},
     "output_type": "display_data"
    },
    {
     "name": "stdout",
     "output_type": "stream",
     "text": [
      "epochs: 2 | learning_rate: 0.03 | _lambda: 10\n"
     ]
    },
    {
     "data": {
      "application/vnd.jupyter.widget-view+json": {
       "model_id": "1ee12f4ab1184bad81b28bb2478b33be",
       "version_major": 2,
       "version_minor": 0
      },
      "text/plain": [
       "Total SGD epochs completion:   0%|          | 0/2 [00:00<?, ?it/s]"
      ]
     },
     "metadata": {},
     "output_type": "display_data"
    },
    {
     "data": {
      "application/vnd.jupyter.widget-view+json": {
       "model_id": "1d73bf3d7731489c864d330aa96b7835",
       "version_major": 2,
       "version_minor": 0
      },
      "text/plain": [
       "Epoch #0 completion:   0%|          | 0/80668 [00:00<?, ?it/s]"
      ]
     },
     "metadata": {},
     "output_type": "display_data"
    },
    {
     "name": "stderr",
     "output_type": "stream",
     "text": [
      "/var/folders/s7/f5s_pst90jb362j0h7p5ypy00000gn/T/ipykernel_80136/3513287690.py:126: RuntimeWarning: overflow encountered in multiply\n",
      "  grad_Q_j = -2*(error_ij * P_i) + 2*(_lambda * self.Q[q_idx])\n",
      "/var/folders/s7/f5s_pst90jb362j0h7p5ypy00000gn/T/ipykernel_80136/3513287690.py:125: RuntimeWarning: overflow encountered in multiply\n",
      "  grad_P_i = -2*(error_ij * Q_j) + 2*(_lambda * self.P[p_idx])\n",
      "/var/folders/s7/f5s_pst90jb362j0h7p5ypy00000gn/T/ipykernel_80136/3513287690.py:126: RuntimeWarning: invalid value encountered in multiply\n",
      "  grad_Q_j = -2*(error_ij * P_i) + 2*(_lambda * self.Q[q_idx])\n",
      "/var/folders/s7/f5s_pst90jb362j0h7p5ypy00000gn/T/ipykernel_80136/3513287690.py:125: RuntimeWarning: invalid value encountered in multiply\n",
      "  grad_P_i = -2*(error_ij * Q_j) + 2*(_lambda * self.P[p_idx])\n",
      "/var/folders/s7/f5s_pst90jb362j0h7p5ypy00000gn/T/ipykernel_80136/3513287690.py:137: RuntimeWarning: overflow encountered in multiply\n",
      "  R_predicted = np.sum( np.multiply(self.P[self.p_nnz_idx], self.Q[self.q_nnz_idx]), axis=1 )       #calculating the products only for the nonzero \"observed\" rating entries\n",
      "/var/folders/s7/f5s_pst90jb362j0h7p5ypy00000gn/T/ipykernel_80136/3513287690.py:79: RuntimeWarning: overflow encountered in multiply\n",
      "  valdn_predicted = np.sum( np.multiply(self.P[valdn_p_nnz_idx], self.Q[valdn_q_nnz_idx]), axis=1 )       #calculating the products only for the nonzero \"observed\" rating entries\n"
     ]
    },
    {
     "data": {
      "application/vnd.jupyter.widget-view+json": {
       "model_id": "fa47689848be4513873c35d385eeb12e",
       "version_major": 2,
       "version_minor": 0
      },
      "text/plain": [
       "Epoch #1 completion:   0%|          | 0/80668 [00:00<?, ?it/s]"
      ]
     },
     "metadata": {},
     "output_type": "display_data"
    },
    {
     "name": "stdout",
     "output_type": "stream",
     "text": [
      "epochs: 2 | learning_rate: 0.3 | _lambda: 0.0\n"
     ]
    },
    {
     "data": {
      "application/vnd.jupyter.widget-view+json": {
       "model_id": "c56e32cfa1704142b36d6d72629c357f",
       "version_major": 2,
       "version_minor": 0
      },
      "text/plain": [
       "Total SGD epochs completion:   0%|          | 0/2 [00:00<?, ?it/s]"
      ]
     },
     "metadata": {},
     "output_type": "display_data"
    },
    {
     "data": {
      "application/vnd.jupyter.widget-view+json": {
       "model_id": "23fc1595f11d461a9b6b6e1f6bc992ad",
       "version_major": 2,
       "version_minor": 0
      },
      "text/plain": [
       "Epoch #0 completion:   0%|          | 0/80668 [00:00<?, ?it/s]"
      ]
     },
     "metadata": {},
     "output_type": "display_data"
    },
    {
     "name": "stderr",
     "output_type": "stream",
     "text": [
      "/var/folders/s7/f5s_pst90jb362j0h7p5ypy00000gn/T/ipykernel_80136/3513287690.py:131: RuntimeWarning: invalid value encountered in subtract\n",
      "  self.P[p_idx] -= learning_rate * v_P_i\n"
     ]
    },
    {
     "data": {
      "application/vnd.jupyter.widget-view+json": {
       "model_id": "b60ecc4257ac4388adc32de0d6cac9e4",
       "version_major": 2,
       "version_minor": 0
      },
      "text/plain": [
       "Epoch #1 completion:   0%|          | 0/80668 [00:00<?, ?it/s]"
      ]
     },
     "metadata": {},
     "output_type": "display_data"
    },
    {
     "name": "stdout",
     "output_type": "stream",
     "text": [
      "epochs: 2 | learning_rate: 0.3 | _lambda: 0.1\n"
     ]
    },
    {
     "data": {
      "application/vnd.jupyter.widget-view+json": {
       "model_id": "dc2fdb96b76346d39676cbe8abe8f455",
       "version_major": 2,
       "version_minor": 0
      },
      "text/plain": [
       "Total SGD epochs completion:   0%|          | 0/2 [00:00<?, ?it/s]"
      ]
     },
     "metadata": {},
     "output_type": "display_data"
    },
    {
     "data": {
      "application/vnd.jupyter.widget-view+json": {
       "model_id": "eaaca290985840f9aa5792c320a93b2e",
       "version_major": 2,
       "version_minor": 0
      },
      "text/plain": [
       "Epoch #0 completion:   0%|          | 0/80668 [00:00<?, ?it/s]"
      ]
     },
     "metadata": {},
     "output_type": "display_data"
    },
    {
     "data": {
      "application/vnd.jupyter.widget-view+json": {
       "model_id": "e1e9fe62461749658971ec4d860ab7ba",
       "version_major": 2,
       "version_minor": 0
      },
      "text/plain": [
       "Epoch #1 completion:   0%|          | 0/80668 [00:00<?, ?it/s]"
      ]
     },
     "metadata": {},
     "output_type": "display_data"
    },
    {
     "name": "stdout",
     "output_type": "stream",
     "text": [
      "epochs: 2 | learning_rate: 0.3 | _lambda: 0.01\n"
     ]
    },
    {
     "data": {
      "application/vnd.jupyter.widget-view+json": {
       "model_id": "e59b774a10ab46dca08fc223fccd6509",
       "version_major": 2,
       "version_minor": 0
      },
      "text/plain": [
       "Total SGD epochs completion:   0%|          | 0/2 [00:00<?, ?it/s]"
      ]
     },
     "metadata": {},
     "output_type": "display_data"
    },
    {
     "data": {
      "application/vnd.jupyter.widget-view+json": {
       "model_id": "344d85a1a75e4ff193f53a10d5e235aa",
       "version_major": 2,
       "version_minor": 0
      },
      "text/plain": [
       "Epoch #0 completion:   0%|          | 0/80668 [00:00<?, ?it/s]"
      ]
     },
     "metadata": {},
     "output_type": "display_data"
    },
    {
     "name": "stderr",
     "output_type": "stream",
     "text": [
      "/var/folders/s7/f5s_pst90jb362j0h7p5ypy00000gn/T/ipykernel_80136/3513287690.py:132: RuntimeWarning: invalid value encountered in subtract\n",
      "  self.Q[q_idx] -= learning_rate * v_Q_j\n"
     ]
    },
    {
     "data": {
      "application/vnd.jupyter.widget-view+json": {
       "model_id": "fb49d26cdf004d4092f673b0ea7d86d7",
       "version_major": 2,
       "version_minor": 0
      },
      "text/plain": [
       "Epoch #1 completion:   0%|          | 0/80668 [00:00<?, ?it/s]"
      ]
     },
     "metadata": {},
     "output_type": "display_data"
    },
    {
     "name": "stdout",
     "output_type": "stream",
     "text": [
      "epochs: 2 | learning_rate: 0.3 | _lambda: 10\n"
     ]
    },
    {
     "data": {
      "application/vnd.jupyter.widget-view+json": {
       "model_id": "6c7a3b5989834cb38d8f6828ee432ff0",
       "version_major": 2,
       "version_minor": 0
      },
      "text/plain": [
       "Total SGD epochs completion:   0%|          | 0/5 [00:00<?, ?it/s]"
      ]
     },
     "metadata": {},
     "output_type": "display_data"
    },
    {
     "data": {
      "application/vnd.jupyter.widget-view+json": {
       "model_id": "529234af6f7849b994d8be5ba16de1c7",
       "version_major": 2,
       "version_minor": 0
      },
      "text/plain": [
       "Epoch #0 completion:   0%|          | 0/80668 [00:00<?, ?it/s]"
      ]
     },
     "metadata": {},
     "output_type": "display_data"
    },
    {
     "data": {
      "application/vnd.jupyter.widget-view+json": {
       "model_id": "0d65cea5c80a422b9a35703d41d254bc",
       "version_major": 2,
       "version_minor": 0
      },
      "text/plain": [
       "Epoch #1 completion:   0%|          | 0/80668 [00:00<?, ?it/s]"
      ]
     },
     "metadata": {},
     "output_type": "display_data"
    },
    {
     "data": {
      "application/vnd.jupyter.widget-view+json": {
       "model_id": "69f5e208052640b48b42e00b09b2e7a6",
       "version_major": 2,
       "version_minor": 0
      },
      "text/plain": [
       "Epoch #2 completion:   0%|          | 0/80668 [00:00<?, ?it/s]"
      ]
     },
     "metadata": {},
     "output_type": "display_data"
    },
    {
     "data": {
      "application/vnd.jupyter.widget-view+json": {
       "model_id": "31252bdd27b84893b5fce8d965f91243",
       "version_major": 2,
       "version_minor": 0
      },
      "text/plain": [
       "Epoch #3 completion:   0%|          | 0/80668 [00:00<?, ?it/s]"
      ]
     },
     "metadata": {},
     "output_type": "display_data"
    },
    {
     "data": {
      "application/vnd.jupyter.widget-view+json": {
       "model_id": "a43a7a1963504b4d8b3846c57710e773",
       "version_major": 2,
       "version_minor": 0
      },
      "text/plain": [
       "Epoch #4 completion:   0%|          | 0/80668 [00:00<?, ?it/s]"
      ]
     },
     "metadata": {},
     "output_type": "display_data"
    },
    {
     "name": "stdout",
     "output_type": "stream",
     "text": [
      "epochs: 5 | learning_rate: 0.003 | _lambda: 0.0\n"
     ]
    },
    {
     "data": {
      "application/vnd.jupyter.widget-view+json": {
       "model_id": "a5effb1f96cb40cbbdf0b37a1cbac7ca",
       "version_major": 2,
       "version_minor": 0
      },
      "text/plain": [
       "Total SGD epochs completion:   0%|          | 0/5 [00:00<?, ?it/s]"
      ]
     },
     "metadata": {},
     "output_type": "display_data"
    },
    {
     "data": {
      "application/vnd.jupyter.widget-view+json": {
       "model_id": "95029eed9fb8400ab5e88cf0003020d8",
       "version_major": 2,
       "version_minor": 0
      },
      "text/plain": [
       "Epoch #0 completion:   0%|          | 0/80668 [00:00<?, ?it/s]"
      ]
     },
     "metadata": {},
     "output_type": "display_data"
    },
    {
     "data": {
      "application/vnd.jupyter.widget-view+json": {
       "model_id": "8d7bc3780057422b89ce6916e41aa92c",
       "version_major": 2,
       "version_minor": 0
      },
      "text/plain": [
       "Epoch #1 completion:   0%|          | 0/80668 [00:00<?, ?it/s]"
      ]
     },
     "metadata": {},
     "output_type": "display_data"
    },
    {
     "data": {
      "application/vnd.jupyter.widget-view+json": {
       "model_id": "f2220fc1795c4d66ab9f184c6c44e2bd",
       "version_major": 2,
       "version_minor": 0
      },
      "text/plain": [
       "Epoch #2 completion:   0%|          | 0/80668 [00:00<?, ?it/s]"
      ]
     },
     "metadata": {},
     "output_type": "display_data"
    },
    {
     "data": {
      "application/vnd.jupyter.widget-view+json": {
       "model_id": "1f66cd35e14a424081a8cee8ec1b8496",
       "version_major": 2,
       "version_minor": 0
      },
      "text/plain": [
       "Epoch #3 completion:   0%|          | 0/80668 [00:00<?, ?it/s]"
      ]
     },
     "metadata": {},
     "output_type": "display_data"
    },
    {
     "data": {
      "application/vnd.jupyter.widget-view+json": {
       "model_id": "d1a3b0d9bf61464f816609204593a3bd",
       "version_major": 2,
       "version_minor": 0
      },
      "text/plain": [
       "Epoch #4 completion:   0%|          | 0/80668 [00:00<?, ?it/s]"
      ]
     },
     "metadata": {},
     "output_type": "display_data"
    },
    {
     "name": "stdout",
     "output_type": "stream",
     "text": [
      "epochs: 5 | learning_rate: 0.003 | _lambda: 0.1\n"
     ]
    },
    {
     "data": {
      "application/vnd.jupyter.widget-view+json": {
       "model_id": "606eca7b7d0e4e50889d2a167471b848",
       "version_major": 2,
       "version_minor": 0
      },
      "text/plain": [
       "Total SGD epochs completion:   0%|          | 0/5 [00:00<?, ?it/s]"
      ]
     },
     "metadata": {},
     "output_type": "display_data"
    },
    {
     "data": {
      "application/vnd.jupyter.widget-view+json": {
       "model_id": "6c1a02e110214b29a08552d5b880f1a8",
       "version_major": 2,
       "version_minor": 0
      },
      "text/plain": [
       "Epoch #0 completion:   0%|          | 0/80668 [00:00<?, ?it/s]"
      ]
     },
     "metadata": {},
     "output_type": "display_data"
    },
    {
     "data": {
      "application/vnd.jupyter.widget-view+json": {
       "model_id": "810d8f6225684774bd9bb8ad9a9f5723",
       "version_major": 2,
       "version_minor": 0
      },
      "text/plain": [
       "Epoch #1 completion:   0%|          | 0/80668 [00:00<?, ?it/s]"
      ]
     },
     "metadata": {},
     "output_type": "display_data"
    },
    {
     "data": {
      "application/vnd.jupyter.widget-view+json": {
       "model_id": "509a2a996a924efd9ac555a067309e3d",
       "version_major": 2,
       "version_minor": 0
      },
      "text/plain": [
       "Epoch #2 completion:   0%|          | 0/80668 [00:00<?, ?it/s]"
      ]
     },
     "metadata": {},
     "output_type": "display_data"
    },
    {
     "data": {
      "application/vnd.jupyter.widget-view+json": {
       "model_id": "c426d4c3e4b04007a715531b438140c1",
       "version_major": 2,
       "version_minor": 0
      },
      "text/plain": [
       "Epoch #3 completion:   0%|          | 0/80668 [00:00<?, ?it/s]"
      ]
     },
     "metadata": {},
     "output_type": "display_data"
    },
    {
     "data": {
      "application/vnd.jupyter.widget-view+json": {
       "model_id": "ab4aebda966f4061bcc05648d18e5473",
       "version_major": 2,
       "version_minor": 0
      },
      "text/plain": [
       "Epoch #4 completion:   0%|          | 0/80668 [00:00<?, ?it/s]"
      ]
     },
     "metadata": {},
     "output_type": "display_data"
    },
    {
     "name": "stdout",
     "output_type": "stream",
     "text": [
      "epochs: 5 | learning_rate: 0.003 | _lambda: 0.01\n"
     ]
    },
    {
     "data": {
      "application/vnd.jupyter.widget-view+json": {
       "model_id": "b64aa9a97ed04494b045a38fc2692a14",
       "version_major": 2,
       "version_minor": 0
      },
      "text/plain": [
       "Total SGD epochs completion:   0%|          | 0/5 [00:00<?, ?it/s]"
      ]
     },
     "metadata": {},
     "output_type": "display_data"
    },
    {
     "data": {
      "application/vnd.jupyter.widget-view+json": {
       "model_id": "3b75762c55364e1688ebf7f97e4ccd98",
       "version_major": 2,
       "version_minor": 0
      },
      "text/plain": [
       "Epoch #0 completion:   0%|          | 0/80668 [00:00<?, ?it/s]"
      ]
     },
     "metadata": {},
     "output_type": "display_data"
    },
    {
     "data": {
      "application/vnd.jupyter.widget-view+json": {
       "model_id": "d3bb74512c144ea89b1707c5bd565e1f",
       "version_major": 2,
       "version_minor": 0
      },
      "text/plain": [
       "Epoch #1 completion:   0%|          | 0/80668 [00:00<?, ?it/s]"
      ]
     },
     "metadata": {},
     "output_type": "display_data"
    },
    {
     "data": {
      "application/vnd.jupyter.widget-view+json": {
       "model_id": "8fdec9d73a014987a6806c0d4e2d76a2",
       "version_major": 2,
       "version_minor": 0
      },
      "text/plain": [
       "Epoch #2 completion:   0%|          | 0/80668 [00:00<?, ?it/s]"
      ]
     },
     "metadata": {},
     "output_type": "display_data"
    },
    {
     "data": {
      "application/vnd.jupyter.widget-view+json": {
       "model_id": "3b593c2065514e1480c3ad2f13dc23db",
       "version_major": 2,
       "version_minor": 0
      },
      "text/plain": [
       "Epoch #3 completion:   0%|          | 0/80668 [00:00<?, ?it/s]"
      ]
     },
     "metadata": {},
     "output_type": "display_data"
    },
    {
     "data": {
      "application/vnd.jupyter.widget-view+json": {
       "model_id": "79e0dc1cd5b042deacb7fc2fe440013a",
       "version_major": 2,
       "version_minor": 0
      },
      "text/plain": [
       "Epoch #4 completion:   0%|          | 0/80668 [00:00<?, ?it/s]"
      ]
     },
     "metadata": {},
     "output_type": "display_data"
    },
    {
     "name": "stdout",
     "output_type": "stream",
     "text": [
      "epochs: 5 | learning_rate: 0.003 | _lambda: 10\n"
     ]
    },
    {
     "data": {
      "application/vnd.jupyter.widget-view+json": {
       "model_id": "8f1a58131cd94336b3eac692031a2713",
       "version_major": 2,
       "version_minor": 0
      },
      "text/plain": [
       "Total SGD epochs completion:   0%|          | 0/5 [00:00<?, ?it/s]"
      ]
     },
     "metadata": {},
     "output_type": "display_data"
    },
    {
     "data": {
      "application/vnd.jupyter.widget-view+json": {
       "model_id": "da931f3ecae240a18b5bb677938be411",
       "version_major": 2,
       "version_minor": 0
      },
      "text/plain": [
       "Epoch #0 completion:   0%|          | 0/80668 [00:00<?, ?it/s]"
      ]
     },
     "metadata": {},
     "output_type": "display_data"
    },
    {
     "data": {
      "application/vnd.jupyter.widget-view+json": {
       "model_id": "b680eedf3550498b87c4d8820e2493ee",
       "version_major": 2,
       "version_minor": 0
      },
      "text/plain": [
       "Epoch #1 completion:   0%|          | 0/80668 [00:00<?, ?it/s]"
      ]
     },
     "metadata": {},
     "output_type": "display_data"
    },
    {
     "data": {
      "application/vnd.jupyter.widget-view+json": {
       "model_id": "ffb75ba2b0b2430ca0c07f2ea0fea76d",
       "version_major": 2,
       "version_minor": 0
      },
      "text/plain": [
       "Epoch #2 completion:   0%|          | 0/80668 [00:00<?, ?it/s]"
      ]
     },
     "metadata": {},
     "output_type": "display_data"
    },
    {
     "data": {
      "application/vnd.jupyter.widget-view+json": {
       "model_id": "8a3745d174974677b0c234e40a77e752",
       "version_major": 2,
       "version_minor": 0
      },
      "text/plain": [
       "Epoch #3 completion:   0%|          | 0/80668 [00:00<?, ?it/s]"
      ]
     },
     "metadata": {},
     "output_type": "display_data"
    },
    {
     "data": {
      "application/vnd.jupyter.widget-view+json": {
       "model_id": "6dc6f364abd74beaa771949fd51c9d3a",
       "version_major": 2,
       "version_minor": 0
      },
      "text/plain": [
       "Epoch #4 completion:   0%|          | 0/80668 [00:00<?, ?it/s]"
      ]
     },
     "metadata": {},
     "output_type": "display_data"
    },
    {
     "name": "stdout",
     "output_type": "stream",
     "text": [
      "epochs: 5 | learning_rate: 0.03 | _lambda: 0.0\n"
     ]
    },
    {
     "data": {
      "application/vnd.jupyter.widget-view+json": {
       "model_id": "c4a8ec887f3343498e75ee5f63ee9640",
       "version_major": 2,
       "version_minor": 0
      },
      "text/plain": [
       "Total SGD epochs completion:   0%|          | 0/5 [00:00<?, ?it/s]"
      ]
     },
     "metadata": {},
     "output_type": "display_data"
    },
    {
     "data": {
      "application/vnd.jupyter.widget-view+json": {
       "model_id": "48f9b36e8203427b8110ab5f106398bb",
       "version_major": 2,
       "version_minor": 0
      },
      "text/plain": [
       "Epoch #0 completion:   0%|          | 0/80668 [00:00<?, ?it/s]"
      ]
     },
     "metadata": {},
     "output_type": "display_data"
    },
    {
     "data": {
      "application/vnd.jupyter.widget-view+json": {
       "model_id": "51190d71c3d747debd419d040df84f2e",
       "version_major": 2,
       "version_minor": 0
      },
      "text/plain": [
       "Epoch #1 completion:   0%|          | 0/80668 [00:00<?, ?it/s]"
      ]
     },
     "metadata": {},
     "output_type": "display_data"
    },
    {
     "data": {
      "application/vnd.jupyter.widget-view+json": {
       "model_id": "01d6714416674db4a417c589bb86454d",
       "version_major": 2,
       "version_minor": 0
      },
      "text/plain": [
       "Epoch #2 completion:   0%|          | 0/80668 [00:00<?, ?it/s]"
      ]
     },
     "metadata": {},
     "output_type": "display_data"
    },
    {
     "data": {
      "application/vnd.jupyter.widget-view+json": {
       "model_id": "121d69427b344010a26ef5c9d46bee14",
       "version_major": 2,
       "version_minor": 0
      },
      "text/plain": [
       "Epoch #3 completion:   0%|          | 0/80668 [00:00<?, ?it/s]"
      ]
     },
     "metadata": {},
     "output_type": "display_data"
    },
    {
     "data": {
      "application/vnd.jupyter.widget-view+json": {
       "model_id": "6ec935c1b9ed493facc027f957beb4b7",
       "version_major": 2,
       "version_minor": 0
      },
      "text/plain": [
       "Epoch #4 completion:   0%|          | 0/80668 [00:00<?, ?it/s]"
      ]
     },
     "metadata": {},
     "output_type": "display_data"
    },
    {
     "name": "stdout",
     "output_type": "stream",
     "text": [
      "epochs: 5 | learning_rate: 0.03 | _lambda: 0.1\n"
     ]
    },
    {
     "data": {
      "application/vnd.jupyter.widget-view+json": {
       "model_id": "ad5364a16d274825bd870f86a544015e",
       "version_major": 2,
       "version_minor": 0
      },
      "text/plain": [
       "Total SGD epochs completion:   0%|          | 0/5 [00:00<?, ?it/s]"
      ]
     },
     "metadata": {},
     "output_type": "display_data"
    },
    {
     "data": {
      "application/vnd.jupyter.widget-view+json": {
       "model_id": "eea72e2cbb1846a583991ba5f1a897cc",
       "version_major": 2,
       "version_minor": 0
      },
      "text/plain": [
       "Epoch #0 completion:   0%|          | 0/80668 [00:00<?, ?it/s]"
      ]
     },
     "metadata": {},
     "output_type": "display_data"
    },
    {
     "data": {
      "application/vnd.jupyter.widget-view+json": {
       "model_id": "35aac69773174ee1811ab4abc812bc36",
       "version_major": 2,
       "version_minor": 0
      },
      "text/plain": [
       "Epoch #1 completion:   0%|          | 0/80668 [00:00<?, ?it/s]"
      ]
     },
     "metadata": {},
     "output_type": "display_data"
    },
    {
     "data": {
      "application/vnd.jupyter.widget-view+json": {
       "model_id": "8d0a500d95d54ee1bf1a0dbdf94e9bee",
       "version_major": 2,
       "version_minor": 0
      },
      "text/plain": [
       "Epoch #2 completion:   0%|          | 0/80668 [00:00<?, ?it/s]"
      ]
     },
     "metadata": {},
     "output_type": "display_data"
    },
    {
     "data": {
      "application/vnd.jupyter.widget-view+json": {
       "model_id": "a6a5ffc70fbd417ab7c34d8c44b7f867",
       "version_major": 2,
       "version_minor": 0
      },
      "text/plain": [
       "Epoch #3 completion:   0%|          | 0/80668 [00:00<?, ?it/s]"
      ]
     },
     "metadata": {},
     "output_type": "display_data"
    },
    {
     "data": {
      "application/vnd.jupyter.widget-view+json": {
       "model_id": "cdb9da55286148fb9c64b28fd0d13972",
       "version_major": 2,
       "version_minor": 0
      },
      "text/plain": [
       "Epoch #4 completion:   0%|          | 0/80668 [00:00<?, ?it/s]"
      ]
     },
     "metadata": {},
     "output_type": "display_data"
    },
    {
     "name": "stdout",
     "output_type": "stream",
     "text": [
      "epochs: 5 | learning_rate: 0.03 | _lambda: 0.01\n"
     ]
    },
    {
     "data": {
      "application/vnd.jupyter.widget-view+json": {
       "model_id": "283cc26752f5494eae84ad9fb79be931",
       "version_major": 2,
       "version_minor": 0
      },
      "text/plain": [
       "Total SGD epochs completion:   0%|          | 0/5 [00:00<?, ?it/s]"
      ]
     },
     "metadata": {},
     "output_type": "display_data"
    },
    {
     "data": {
      "application/vnd.jupyter.widget-view+json": {
       "model_id": "6c96b17086f94492b2109d3b795e0059",
       "version_major": 2,
       "version_minor": 0
      },
      "text/plain": [
       "Epoch #0 completion:   0%|          | 0/80668 [00:00<?, ?it/s]"
      ]
     },
     "metadata": {},
     "output_type": "display_data"
    },
    {
     "data": {
      "application/vnd.jupyter.widget-view+json": {
       "model_id": "8fe589a58ff94724a0bbc1260811625f",
       "version_major": 2,
       "version_minor": 0
      },
      "text/plain": [
       "Epoch #1 completion:   0%|          | 0/80668 [00:00<?, ?it/s]"
      ]
     },
     "metadata": {},
     "output_type": "display_data"
    },
    {
     "data": {
      "application/vnd.jupyter.widget-view+json": {
       "model_id": "c9cde15dc5ac45939a54a34b1e686f90",
       "version_major": 2,
       "version_minor": 0
      },
      "text/plain": [
       "Epoch #2 completion:   0%|          | 0/80668 [00:00<?, ?it/s]"
      ]
     },
     "metadata": {},
     "output_type": "display_data"
    },
    {
     "data": {
      "application/vnd.jupyter.widget-view+json": {
       "model_id": "33ef99b1052246ab8b14727d0fdf398b",
       "version_major": 2,
       "version_minor": 0
      },
      "text/plain": [
       "Epoch #3 completion:   0%|          | 0/80668 [00:00<?, ?it/s]"
      ]
     },
     "metadata": {},
     "output_type": "display_data"
    },
    {
     "data": {
      "application/vnd.jupyter.widget-view+json": {
       "model_id": "88a722d4bd374a04ad6c7da010d3f104",
       "version_major": 2,
       "version_minor": 0
      },
      "text/plain": [
       "Epoch #4 completion:   0%|          | 0/80668 [00:00<?, ?it/s]"
      ]
     },
     "metadata": {},
     "output_type": "display_data"
    },
    {
     "name": "stdout",
     "output_type": "stream",
     "text": [
      "epochs: 5 | learning_rate: 0.03 | _lambda: 10\n"
     ]
    },
    {
     "data": {
      "application/vnd.jupyter.widget-view+json": {
       "model_id": "0dcca59eeb11483f92267c02aca2dc6f",
       "version_major": 2,
       "version_minor": 0
      },
      "text/plain": [
       "Total SGD epochs completion:   0%|          | 0/5 [00:00<?, ?it/s]"
      ]
     },
     "metadata": {},
     "output_type": "display_data"
    },
    {
     "data": {
      "application/vnd.jupyter.widget-view+json": {
       "model_id": "b56cfe1f476b4f579ac4a8e0160a11b8",
       "version_major": 2,
       "version_minor": 0
      },
      "text/plain": [
       "Epoch #0 completion:   0%|          | 0/80668 [00:00<?, ?it/s]"
      ]
     },
     "metadata": {},
     "output_type": "display_data"
    },
    {
     "data": {
      "application/vnd.jupyter.widget-view+json": {
       "model_id": "e31281f4cd37460aa1c8d44020315367",
       "version_major": 2,
       "version_minor": 0
      },
      "text/plain": [
       "Epoch #1 completion:   0%|          | 0/80668 [00:00<?, ?it/s]"
      ]
     },
     "metadata": {},
     "output_type": "display_data"
    },
    {
     "data": {
      "application/vnd.jupyter.widget-view+json": {
       "model_id": "7675b6e6f74c4664b7d7b35286160ce3",
       "version_major": 2,
       "version_minor": 0
      },
      "text/plain": [
       "Epoch #2 completion:   0%|          | 0/80668 [00:00<?, ?it/s]"
      ]
     },
     "metadata": {},
     "output_type": "display_data"
    },
    {
     "data": {
      "application/vnd.jupyter.widget-view+json": {
       "model_id": "1aed895e67704a38aa5685a10c213921",
       "version_major": 2,
       "version_minor": 0
      },
      "text/plain": [
       "Epoch #3 completion:   0%|          | 0/80668 [00:00<?, ?it/s]"
      ]
     },
     "metadata": {},
     "output_type": "display_data"
    },
    {
     "data": {
      "application/vnd.jupyter.widget-view+json": {
       "model_id": "171c330e8c4c44eb92eb7ee0df09f797",
       "version_major": 2,
       "version_minor": 0
      },
      "text/plain": [
       "Epoch #4 completion:   0%|          | 0/80668 [00:00<?, ?it/s]"
      ]
     },
     "metadata": {},
     "output_type": "display_data"
    },
    {
     "name": "stdout",
     "output_type": "stream",
     "text": [
      "epochs: 5 | learning_rate: 0.3 | _lambda: 0.0\n"
     ]
    },
    {
     "data": {
      "application/vnd.jupyter.widget-view+json": {
       "model_id": "ffcd2807c60d4596808ee53e023454de",
       "version_major": 2,
       "version_minor": 0
      },
      "text/plain": [
       "Total SGD epochs completion:   0%|          | 0/5 [00:00<?, ?it/s]"
      ]
     },
     "metadata": {},
     "output_type": "display_data"
    },
    {
     "data": {
      "application/vnd.jupyter.widget-view+json": {
       "model_id": "24ff8c4a23234040911d49b792cc1464",
       "version_major": 2,
       "version_minor": 0
      },
      "text/plain": [
       "Epoch #0 completion:   0%|          | 0/80668 [00:00<?, ?it/s]"
      ]
     },
     "metadata": {},
     "output_type": "display_data"
    },
    {
     "data": {
      "application/vnd.jupyter.widget-view+json": {
       "model_id": "e7a8cd06da194bddbc46cf5865095c78",
       "version_major": 2,
       "version_minor": 0
      },
      "text/plain": [
       "Epoch #1 completion:   0%|          | 0/80668 [00:00<?, ?it/s]"
      ]
     },
     "metadata": {},
     "output_type": "display_data"
    },
    {
     "data": {
      "application/vnd.jupyter.widget-view+json": {
       "model_id": "4903d5ce075d4b67a0a970aaf3f5d6a2",
       "version_major": 2,
       "version_minor": 0
      },
      "text/plain": [
       "Epoch #2 completion:   0%|          | 0/80668 [00:00<?, ?it/s]"
      ]
     },
     "metadata": {},
     "output_type": "display_data"
    },
    {
     "data": {
      "application/vnd.jupyter.widget-view+json": {
       "model_id": "d740ec3553024fadb38f293b299e87d2",
       "version_major": 2,
       "version_minor": 0
      },
      "text/plain": [
       "Epoch #3 completion:   0%|          | 0/80668 [00:00<?, ?it/s]"
      ]
     },
     "metadata": {},
     "output_type": "display_data"
    },
    {
     "data": {
      "application/vnd.jupyter.widget-view+json": {
       "model_id": "a2b64fd496244c34a2b0ad5366395484",
       "version_major": 2,
       "version_minor": 0
      },
      "text/plain": [
       "Epoch #4 completion:   0%|          | 0/80668 [00:00<?, ?it/s]"
      ]
     },
     "metadata": {},
     "output_type": "display_data"
    },
    {
     "name": "stdout",
     "output_type": "stream",
     "text": [
      "epochs: 5 | learning_rate: 0.3 | _lambda: 0.1\n"
     ]
    },
    {
     "data": {
      "application/vnd.jupyter.widget-view+json": {
       "model_id": "84e110c2e14f4a2b850203cbe6f59f00",
       "version_major": 2,
       "version_minor": 0
      },
      "text/plain": [
       "Total SGD epochs completion:   0%|          | 0/5 [00:00<?, ?it/s]"
      ]
     },
     "metadata": {},
     "output_type": "display_data"
    },
    {
     "data": {
      "application/vnd.jupyter.widget-view+json": {
       "model_id": "3f89b226a6634796a4455b47344d5ced",
       "version_major": 2,
       "version_minor": 0
      },
      "text/plain": [
       "Epoch #0 completion:   0%|          | 0/80668 [00:00<?, ?it/s]"
      ]
     },
     "metadata": {},
     "output_type": "display_data"
    },
    {
     "data": {
      "application/vnd.jupyter.widget-view+json": {
       "model_id": "ea1b9e3c3a99400bbe093dbc6e7e7dfd",
       "version_major": 2,
       "version_minor": 0
      },
      "text/plain": [
       "Epoch #1 completion:   0%|          | 0/80668 [00:00<?, ?it/s]"
      ]
     },
     "metadata": {},
     "output_type": "display_data"
    },
    {
     "data": {
      "application/vnd.jupyter.widget-view+json": {
       "model_id": "67d37526cef44e98a039bb497c085d46",
       "version_major": 2,
       "version_minor": 0
      },
      "text/plain": [
       "Epoch #2 completion:   0%|          | 0/80668 [00:00<?, ?it/s]"
      ]
     },
     "metadata": {},
     "output_type": "display_data"
    },
    {
     "data": {
      "application/vnd.jupyter.widget-view+json": {
       "model_id": "ae4a614d147c431f895f78f2041c1a7d",
       "version_major": 2,
       "version_minor": 0
      },
      "text/plain": [
       "Epoch #3 completion:   0%|          | 0/80668 [00:00<?, ?it/s]"
      ]
     },
     "metadata": {},
     "output_type": "display_data"
    },
    {
     "data": {
      "application/vnd.jupyter.widget-view+json": {
       "model_id": "c2315fd0b4644173bdbb3236bf2d682f",
       "version_major": 2,
       "version_minor": 0
      },
      "text/plain": [
       "Epoch #4 completion:   0%|          | 0/80668 [00:00<?, ?it/s]"
      ]
     },
     "metadata": {},
     "output_type": "display_data"
    },
    {
     "name": "stdout",
     "output_type": "stream",
     "text": [
      "epochs: 5 | learning_rate: 0.3 | _lambda: 0.01\n"
     ]
    },
    {
     "data": {
      "application/vnd.jupyter.widget-view+json": {
       "model_id": "05ada143d8a54c5694312c91743bb89f",
       "version_major": 2,
       "version_minor": 0
      },
      "text/plain": [
       "Total SGD epochs completion:   0%|          | 0/5 [00:00<?, ?it/s]"
      ]
     },
     "metadata": {},
     "output_type": "display_data"
    },
    {
     "data": {
      "application/vnd.jupyter.widget-view+json": {
       "model_id": "6d2ea23ea92d41d483970baf163e1ff4",
       "version_major": 2,
       "version_minor": 0
      },
      "text/plain": [
       "Epoch #0 completion:   0%|          | 0/80668 [00:00<?, ?it/s]"
      ]
     },
     "metadata": {},
     "output_type": "display_data"
    },
    {
     "data": {
      "application/vnd.jupyter.widget-view+json": {
       "model_id": "2583218313fb4c8e8087ba3a3b78569d",
       "version_major": 2,
       "version_minor": 0
      },
      "text/plain": [
       "Epoch #1 completion:   0%|          | 0/80668 [00:00<?, ?it/s]"
      ]
     },
     "metadata": {},
     "output_type": "display_data"
    },
    {
     "data": {
      "application/vnd.jupyter.widget-view+json": {
       "model_id": "12cc2b34fd3c416daf31e0f9ff49cb3b",
       "version_major": 2,
       "version_minor": 0
      },
      "text/plain": [
       "Epoch #2 completion:   0%|          | 0/80668 [00:00<?, ?it/s]"
      ]
     },
     "metadata": {},
     "output_type": "display_data"
    },
    {
     "data": {
      "application/vnd.jupyter.widget-view+json": {
       "model_id": "6f484491ca5a4463afcc736be61e8b9f",
       "version_major": 2,
       "version_minor": 0
      },
      "text/plain": [
       "Epoch #3 completion:   0%|          | 0/80668 [00:00<?, ?it/s]"
      ]
     },
     "metadata": {},
     "output_type": "display_data"
    },
    {
     "data": {
      "application/vnd.jupyter.widget-view+json": {
       "model_id": "65c41993fde24bcea5e36a98c5316260",
       "version_major": 2,
       "version_minor": 0
      },
      "text/plain": [
       "Epoch #4 completion:   0%|          | 0/80668 [00:00<?, ?it/s]"
      ]
     },
     "metadata": {},
     "output_type": "display_data"
    },
    {
     "name": "stdout",
     "output_type": "stream",
     "text": [
      "epochs: 5 | learning_rate: 0.3 | _lambda: 10\n"
     ]
    },
    {
     "data": {
      "application/vnd.jupyter.widget-view+json": {
       "model_id": "77eacda472094c2999f97f9e4f5ee96e",
       "version_major": 2,
       "version_minor": 0
      },
      "text/plain": [
       "Total SGD epochs completion:   0%|          | 0/10 [00:00<?, ?it/s]"
      ]
     },
     "metadata": {},
     "output_type": "display_data"
    },
    {
     "data": {
      "application/vnd.jupyter.widget-view+json": {
       "model_id": "87aaec1ea49740c495f220c0da4ff4f4",
       "version_major": 2,
       "version_minor": 0
      },
      "text/plain": [
       "Epoch #0 completion:   0%|          | 0/80668 [00:00<?, ?it/s]"
      ]
     },
     "metadata": {},
     "output_type": "display_data"
    },
    {
     "data": {
      "application/vnd.jupyter.widget-view+json": {
       "model_id": "519e3d7082dc452da45b289403ee7a91",
       "version_major": 2,
       "version_minor": 0
      },
      "text/plain": [
       "Epoch #1 completion:   0%|          | 0/80668 [00:00<?, ?it/s]"
      ]
     },
     "metadata": {},
     "output_type": "display_data"
    },
    {
     "data": {
      "application/vnd.jupyter.widget-view+json": {
       "model_id": "f980cae279824ab883d3666f1dddd72e",
       "version_major": 2,
       "version_minor": 0
      },
      "text/plain": [
       "Epoch #2 completion:   0%|          | 0/80668 [00:00<?, ?it/s]"
      ]
     },
     "metadata": {},
     "output_type": "display_data"
    },
    {
     "data": {
      "application/vnd.jupyter.widget-view+json": {
       "model_id": "04fa61f796a742e68e5a8717a5dde74e",
       "version_major": 2,
       "version_minor": 0
      },
      "text/plain": [
       "Epoch #3 completion:   0%|          | 0/80668 [00:00<?, ?it/s]"
      ]
     },
     "metadata": {},
     "output_type": "display_data"
    },
    {
     "data": {
      "application/vnd.jupyter.widget-view+json": {
       "model_id": "4f3a4b14ef7b472697f97ce3b548e03c",
       "version_major": 2,
       "version_minor": 0
      },
      "text/plain": [
       "Epoch #4 completion:   0%|          | 0/80668 [00:00<?, ?it/s]"
      ]
     },
     "metadata": {},
     "output_type": "display_data"
    },
    {
     "data": {
      "application/vnd.jupyter.widget-view+json": {
       "model_id": "225c80cdc2b1475a8ad561ad8992d3fd",
       "version_major": 2,
       "version_minor": 0
      },
      "text/plain": [
       "Epoch #5 completion:   0%|          | 0/80668 [00:00<?, ?it/s]"
      ]
     },
     "metadata": {},
     "output_type": "display_data"
    },
    {
     "data": {
      "application/vnd.jupyter.widget-view+json": {
       "model_id": "6c51022cd61a4ca88f18a16c452493fc",
       "version_major": 2,
       "version_minor": 0
      },
      "text/plain": [
       "Epoch #6 completion:   0%|          | 0/80668 [00:00<?, ?it/s]"
      ]
     },
     "metadata": {},
     "output_type": "display_data"
    },
    {
     "data": {
      "application/vnd.jupyter.widget-view+json": {
       "model_id": "c19d535806864fadb91c0a15ea3d2f91",
       "version_major": 2,
       "version_minor": 0
      },
      "text/plain": [
       "Epoch #7 completion:   0%|          | 0/80668 [00:00<?, ?it/s]"
      ]
     },
     "metadata": {},
     "output_type": "display_data"
    },
    {
     "data": {
      "application/vnd.jupyter.widget-view+json": {
       "model_id": "341339e6d88447d99b061d17f09cc61c",
       "version_major": 2,
       "version_minor": 0
      },
      "text/plain": [
       "Epoch #8 completion:   0%|          | 0/80668 [00:00<?, ?it/s]"
      ]
     },
     "metadata": {},
     "output_type": "display_data"
    },
    {
     "data": {
      "application/vnd.jupyter.widget-view+json": {
       "model_id": "86290104d6914acf9a69f91080a796a7",
       "version_major": 2,
       "version_minor": 0
      },
      "text/plain": [
       "Epoch #9 completion:   0%|          | 0/80668 [00:00<?, ?it/s]"
      ]
     },
     "metadata": {},
     "output_type": "display_data"
    },
    {
     "name": "stdout",
     "output_type": "stream",
     "text": [
      "epochs: 10 | learning_rate: 0.003 | _lambda: 0.0\n"
     ]
    },
    {
     "data": {
      "application/vnd.jupyter.widget-view+json": {
       "model_id": "39d9ad88393c4080ae8ad3b118d80698",
       "version_major": 2,
       "version_minor": 0
      },
      "text/plain": [
       "Total SGD epochs completion:   0%|          | 0/10 [00:00<?, ?it/s]"
      ]
     },
     "metadata": {},
     "output_type": "display_data"
    },
    {
     "data": {
      "application/vnd.jupyter.widget-view+json": {
       "model_id": "0595a626588d4df68edff6aeaed587bb",
       "version_major": 2,
       "version_minor": 0
      },
      "text/plain": [
       "Epoch #0 completion:   0%|          | 0/80668 [00:00<?, ?it/s]"
      ]
     },
     "metadata": {},
     "output_type": "display_data"
    },
    {
     "data": {
      "application/vnd.jupyter.widget-view+json": {
       "model_id": "97afe72502354b46878c35e9bb30cc9d",
       "version_major": 2,
       "version_minor": 0
      },
      "text/plain": [
       "Epoch #1 completion:   0%|          | 0/80668 [00:00<?, ?it/s]"
      ]
     },
     "metadata": {},
     "output_type": "display_data"
    },
    {
     "data": {
      "application/vnd.jupyter.widget-view+json": {
       "model_id": "dee95262a29847c4908b5eb17b01adc8",
       "version_major": 2,
       "version_minor": 0
      },
      "text/plain": [
       "Epoch #2 completion:   0%|          | 0/80668 [00:00<?, ?it/s]"
      ]
     },
     "metadata": {},
     "output_type": "display_data"
    },
    {
     "data": {
      "application/vnd.jupyter.widget-view+json": {
       "model_id": "608b0e9365234cd5b34bf1c5324e2a86",
       "version_major": 2,
       "version_minor": 0
      },
      "text/plain": [
       "Epoch #3 completion:   0%|          | 0/80668 [00:00<?, ?it/s]"
      ]
     },
     "metadata": {},
     "output_type": "display_data"
    },
    {
     "data": {
      "application/vnd.jupyter.widget-view+json": {
       "model_id": "ad25c960eed4486da6a87aabf209437b",
       "version_major": 2,
       "version_minor": 0
      },
      "text/plain": [
       "Epoch #4 completion:   0%|          | 0/80668 [00:00<?, ?it/s]"
      ]
     },
     "metadata": {},
     "output_type": "display_data"
    },
    {
     "data": {
      "application/vnd.jupyter.widget-view+json": {
       "model_id": "f5c31da05cb5442a806663f4ef85bf04",
       "version_major": 2,
       "version_minor": 0
      },
      "text/plain": [
       "Epoch #5 completion:   0%|          | 0/80668 [00:00<?, ?it/s]"
      ]
     },
     "metadata": {},
     "output_type": "display_data"
    },
    {
     "data": {
      "application/vnd.jupyter.widget-view+json": {
       "model_id": "d34c260f9e714d48a77fb0855d3e25a0",
       "version_major": 2,
       "version_minor": 0
      },
      "text/plain": [
       "Epoch #6 completion:   0%|          | 0/80668 [00:00<?, ?it/s]"
      ]
     },
     "metadata": {},
     "output_type": "display_data"
    },
    {
     "data": {
      "application/vnd.jupyter.widget-view+json": {
       "model_id": "3a058246ff784814bfa56c1721bad891",
       "version_major": 2,
       "version_minor": 0
      },
      "text/plain": [
       "Epoch #7 completion:   0%|          | 0/80668 [00:00<?, ?it/s]"
      ]
     },
     "metadata": {},
     "output_type": "display_data"
    },
    {
     "data": {
      "application/vnd.jupyter.widget-view+json": {
       "model_id": "915f951413b849b2940dd5e0dd56a72b",
       "version_major": 2,
       "version_minor": 0
      },
      "text/plain": [
       "Epoch #8 completion:   0%|          | 0/80668 [00:00<?, ?it/s]"
      ]
     },
     "metadata": {},
     "output_type": "display_data"
    },
    {
     "data": {
      "application/vnd.jupyter.widget-view+json": {
       "model_id": "e150260436334281b74c5d600731fca3",
       "version_major": 2,
       "version_minor": 0
      },
      "text/plain": [
       "Epoch #9 completion:   0%|          | 0/80668 [00:00<?, ?it/s]"
      ]
     },
     "metadata": {},
     "output_type": "display_data"
    },
    {
     "name": "stdout",
     "output_type": "stream",
     "text": [
      "epochs: 10 | learning_rate: 0.003 | _lambda: 0.1\n"
     ]
    },
    {
     "data": {
      "application/vnd.jupyter.widget-view+json": {
       "model_id": "125ef9ea4b514d258f50d6f457cd4753",
       "version_major": 2,
       "version_minor": 0
      },
      "text/plain": [
       "Total SGD epochs completion:   0%|          | 0/10 [00:00<?, ?it/s]"
      ]
     },
     "metadata": {},
     "output_type": "display_data"
    },
    {
     "data": {
      "application/vnd.jupyter.widget-view+json": {
       "model_id": "dbb5478c5f4049b88545e3e11a272061",
       "version_major": 2,
       "version_minor": 0
      },
      "text/plain": [
       "Epoch #0 completion:   0%|          | 0/80668 [00:00<?, ?it/s]"
      ]
     },
     "metadata": {},
     "output_type": "display_data"
    },
    {
     "data": {
      "application/vnd.jupyter.widget-view+json": {
       "model_id": "893fb3038b83443299c4f000e865fb70",
       "version_major": 2,
       "version_minor": 0
      },
      "text/plain": [
       "Epoch #1 completion:   0%|          | 0/80668 [00:00<?, ?it/s]"
      ]
     },
     "metadata": {},
     "output_type": "display_data"
    },
    {
     "data": {
      "application/vnd.jupyter.widget-view+json": {
       "model_id": "2ed847289f3e4ffe87869ab181217e4d",
       "version_major": 2,
       "version_minor": 0
      },
      "text/plain": [
       "Epoch #2 completion:   0%|          | 0/80668 [00:00<?, ?it/s]"
      ]
     },
     "metadata": {},
     "output_type": "display_data"
    },
    {
     "data": {
      "application/vnd.jupyter.widget-view+json": {
       "model_id": "b370ecba34df4e81b9f507ce99b6c9e0",
       "version_major": 2,
       "version_minor": 0
      },
      "text/plain": [
       "Epoch #3 completion:   0%|          | 0/80668 [00:00<?, ?it/s]"
      ]
     },
     "metadata": {},
     "output_type": "display_data"
    },
    {
     "data": {
      "application/vnd.jupyter.widget-view+json": {
       "model_id": "df6362dd1fda4829b229779f4101f6d2",
       "version_major": 2,
       "version_minor": 0
      },
      "text/plain": [
       "Epoch #4 completion:   0%|          | 0/80668 [00:00<?, ?it/s]"
      ]
     },
     "metadata": {},
     "output_type": "display_data"
    },
    {
     "data": {
      "application/vnd.jupyter.widget-view+json": {
       "model_id": "6c4f07aff803459f99a7ea80eba3c03f",
       "version_major": 2,
       "version_minor": 0
      },
      "text/plain": [
       "Epoch #5 completion:   0%|          | 0/80668 [00:00<?, ?it/s]"
      ]
     },
     "metadata": {},
     "output_type": "display_data"
    },
    {
     "data": {
      "application/vnd.jupyter.widget-view+json": {
       "model_id": "9d3e162734e34c7d82ffe869c1fa9959",
       "version_major": 2,
       "version_minor": 0
      },
      "text/plain": [
       "Epoch #6 completion:   0%|          | 0/80668 [00:00<?, ?it/s]"
      ]
     },
     "metadata": {},
     "output_type": "display_data"
    },
    {
     "data": {
      "application/vnd.jupyter.widget-view+json": {
       "model_id": "c4cd99ac33e542a992bb5ef771fcc720",
       "version_major": 2,
       "version_minor": 0
      },
      "text/plain": [
       "Epoch #7 completion:   0%|          | 0/80668 [00:00<?, ?it/s]"
      ]
     },
     "metadata": {},
     "output_type": "display_data"
    },
    {
     "data": {
      "application/vnd.jupyter.widget-view+json": {
       "model_id": "d7965da469be4a72ac5ebd467488d609",
       "version_major": 2,
       "version_minor": 0
      },
      "text/plain": [
       "Epoch #8 completion:   0%|          | 0/80668 [00:00<?, ?it/s]"
      ]
     },
     "metadata": {},
     "output_type": "display_data"
    },
    {
     "data": {
      "application/vnd.jupyter.widget-view+json": {
       "model_id": "e8da758d4a804085b4abd4d2cff3e95d",
       "version_major": 2,
       "version_minor": 0
      },
      "text/plain": [
       "Epoch #9 completion:   0%|          | 0/80668 [00:00<?, ?it/s]"
      ]
     },
     "metadata": {},
     "output_type": "display_data"
    },
    {
     "name": "stdout",
     "output_type": "stream",
     "text": [
      "epochs: 10 | learning_rate: 0.003 | _lambda: 0.01\n"
     ]
    },
    {
     "data": {
      "application/vnd.jupyter.widget-view+json": {
       "model_id": "c4d46c79b2cf41149df10eafbc7e0c8d",
       "version_major": 2,
       "version_minor": 0
      },
      "text/plain": [
       "Total SGD epochs completion:   0%|          | 0/10 [00:00<?, ?it/s]"
      ]
     },
     "metadata": {},
     "output_type": "display_data"
    },
    {
     "data": {
      "application/vnd.jupyter.widget-view+json": {
       "model_id": "39204c00369846ffb40821297a68ee74",
       "version_major": 2,
       "version_minor": 0
      },
      "text/plain": [
       "Epoch #0 completion:   0%|          | 0/80668 [00:00<?, ?it/s]"
      ]
     },
     "metadata": {},
     "output_type": "display_data"
    },
    {
     "data": {
      "application/vnd.jupyter.widget-view+json": {
       "model_id": "c092c06bb8794d3fab04dc19b5590b7f",
       "version_major": 2,
       "version_minor": 0
      },
      "text/plain": [
       "Epoch #1 completion:   0%|          | 0/80668 [00:00<?, ?it/s]"
      ]
     },
     "metadata": {},
     "output_type": "display_data"
    },
    {
     "data": {
      "application/vnd.jupyter.widget-view+json": {
       "model_id": "604d1d38fc9843e380993a0050986f27",
       "version_major": 2,
       "version_minor": 0
      },
      "text/plain": [
       "Epoch #2 completion:   0%|          | 0/80668 [00:00<?, ?it/s]"
      ]
     },
     "metadata": {},
     "output_type": "display_data"
    },
    {
     "data": {
      "application/vnd.jupyter.widget-view+json": {
       "model_id": "ad816bb532444a8f98ef97d5b309b905",
       "version_major": 2,
       "version_minor": 0
      },
      "text/plain": [
       "Epoch #3 completion:   0%|          | 0/80668 [00:00<?, ?it/s]"
      ]
     },
     "metadata": {},
     "output_type": "display_data"
    },
    {
     "data": {
      "application/vnd.jupyter.widget-view+json": {
       "model_id": "11783005ff8a4e01b3d25c477f6a3329",
       "version_major": 2,
       "version_minor": 0
      },
      "text/plain": [
       "Epoch #4 completion:   0%|          | 0/80668 [00:00<?, ?it/s]"
      ]
     },
     "metadata": {},
     "output_type": "display_data"
    },
    {
     "data": {
      "application/vnd.jupyter.widget-view+json": {
       "model_id": "26777ebdb5c141a0bba3e8305e3cbaa4",
       "version_major": 2,
       "version_minor": 0
      },
      "text/plain": [
       "Epoch #5 completion:   0%|          | 0/80668 [00:00<?, ?it/s]"
      ]
     },
     "metadata": {},
     "output_type": "display_data"
    },
    {
     "data": {
      "application/vnd.jupyter.widget-view+json": {
       "model_id": "6e54e0f1a4df417ab57ab3360cbe2d55",
       "version_major": 2,
       "version_minor": 0
      },
      "text/plain": [
       "Epoch #6 completion:   0%|          | 0/80668 [00:00<?, ?it/s]"
      ]
     },
     "metadata": {},
     "output_type": "display_data"
    },
    {
     "data": {
      "application/vnd.jupyter.widget-view+json": {
       "model_id": "880f85ea36d0419597a9da49831bfa29",
       "version_major": 2,
       "version_minor": 0
      },
      "text/plain": [
       "Epoch #7 completion:   0%|          | 0/80668 [00:00<?, ?it/s]"
      ]
     },
     "metadata": {},
     "output_type": "display_data"
    },
    {
     "data": {
      "application/vnd.jupyter.widget-view+json": {
       "model_id": "e27f47fcd85345c7b173fd4574606822",
       "version_major": 2,
       "version_minor": 0
      },
      "text/plain": [
       "Epoch #8 completion:   0%|          | 0/80668 [00:00<?, ?it/s]"
      ]
     },
     "metadata": {},
     "output_type": "display_data"
    },
    {
     "data": {
      "application/vnd.jupyter.widget-view+json": {
       "model_id": "31d9999a9eed4b34a4985e89ec272e23",
       "version_major": 2,
       "version_minor": 0
      },
      "text/plain": [
       "Epoch #9 completion:   0%|          | 0/80668 [00:00<?, ?it/s]"
      ]
     },
     "metadata": {},
     "output_type": "display_data"
    },
    {
     "name": "stdout",
     "output_type": "stream",
     "text": [
      "epochs: 10 | learning_rate: 0.003 | _lambda: 10\n"
     ]
    },
    {
     "data": {
      "application/vnd.jupyter.widget-view+json": {
       "model_id": "8c8141abcc6b49e89ec035530de1cbb6",
       "version_major": 2,
       "version_minor": 0
      },
      "text/plain": [
       "Total SGD epochs completion:   0%|          | 0/10 [00:00<?, ?it/s]"
      ]
     },
     "metadata": {},
     "output_type": "display_data"
    },
    {
     "data": {
      "application/vnd.jupyter.widget-view+json": {
       "model_id": "41a51ef612fd4d01965df6046c54c298",
       "version_major": 2,
       "version_minor": 0
      },
      "text/plain": [
       "Epoch #0 completion:   0%|          | 0/80668 [00:00<?, ?it/s]"
      ]
     },
     "metadata": {},
     "output_type": "display_data"
    },
    {
     "data": {
      "application/vnd.jupyter.widget-view+json": {
       "model_id": "547ea0bfcbfe4ceea375a93fbfe97ce5",
       "version_major": 2,
       "version_minor": 0
      },
      "text/plain": [
       "Epoch #1 completion:   0%|          | 0/80668 [00:00<?, ?it/s]"
      ]
     },
     "metadata": {},
     "output_type": "display_data"
    },
    {
     "data": {
      "application/vnd.jupyter.widget-view+json": {
       "model_id": "e29a9bd21314422296e1bf06b94fb156",
       "version_major": 2,
       "version_minor": 0
      },
      "text/plain": [
       "Epoch #2 completion:   0%|          | 0/80668 [00:00<?, ?it/s]"
      ]
     },
     "metadata": {},
     "output_type": "display_data"
    },
    {
     "data": {
      "application/vnd.jupyter.widget-view+json": {
       "model_id": "7bae17e494ff47599e0815b96c6f04e7",
       "version_major": 2,
       "version_minor": 0
      },
      "text/plain": [
       "Epoch #3 completion:   0%|          | 0/80668 [00:00<?, ?it/s]"
      ]
     },
     "metadata": {},
     "output_type": "display_data"
    },
    {
     "data": {
      "application/vnd.jupyter.widget-view+json": {
       "model_id": "0a3f616fa72748adb9a3e117e7ade715",
       "version_major": 2,
       "version_minor": 0
      },
      "text/plain": [
       "Epoch #4 completion:   0%|          | 0/80668 [00:00<?, ?it/s]"
      ]
     },
     "metadata": {},
     "output_type": "display_data"
    },
    {
     "data": {
      "application/vnd.jupyter.widget-view+json": {
       "model_id": "fe2b0ac59632435c92d0200cd90dfddf",
       "version_major": 2,
       "version_minor": 0
      },
      "text/plain": [
       "Epoch #5 completion:   0%|          | 0/80668 [00:00<?, ?it/s]"
      ]
     },
     "metadata": {},
     "output_type": "display_data"
    },
    {
     "data": {
      "application/vnd.jupyter.widget-view+json": {
       "model_id": "905a6d30815b4cda8f2f129b7335991d",
       "version_major": 2,
       "version_minor": 0
      },
      "text/plain": [
       "Epoch #6 completion:   0%|          | 0/80668 [00:00<?, ?it/s]"
      ]
     },
     "metadata": {},
     "output_type": "display_data"
    },
    {
     "data": {
      "application/vnd.jupyter.widget-view+json": {
       "model_id": "65efc62650d840ac93bf1bd9e9bd17a3",
       "version_major": 2,
       "version_minor": 0
      },
      "text/plain": [
       "Epoch #7 completion:   0%|          | 0/80668 [00:00<?, ?it/s]"
      ]
     },
     "metadata": {},
     "output_type": "display_data"
    },
    {
     "data": {
      "application/vnd.jupyter.widget-view+json": {
       "model_id": "72b29f7dd3434615aaa6e05ddb211af5",
       "version_major": 2,
       "version_minor": 0
      },
      "text/plain": [
       "Epoch #8 completion:   0%|          | 0/80668 [00:00<?, ?it/s]"
      ]
     },
     "metadata": {},
     "output_type": "display_data"
    },
    {
     "data": {
      "application/vnd.jupyter.widget-view+json": {
       "model_id": "56bf69782322494093635e5d1929d1d6",
       "version_major": 2,
       "version_minor": 0
      },
      "text/plain": [
       "Epoch #9 completion:   0%|          | 0/80668 [00:00<?, ?it/s]"
      ]
     },
     "metadata": {},
     "output_type": "display_data"
    },
    {
     "name": "stdout",
     "output_type": "stream",
     "text": [
      "epochs: 10 | learning_rate: 0.03 | _lambda: 0.0\n"
     ]
    },
    {
     "data": {
      "application/vnd.jupyter.widget-view+json": {
       "model_id": "030d75908f0f4a3694a1984a39206aad",
       "version_major": 2,
       "version_minor": 0
      },
      "text/plain": [
       "Total SGD epochs completion:   0%|          | 0/10 [00:00<?, ?it/s]"
      ]
     },
     "metadata": {},
     "output_type": "display_data"
    },
    {
     "data": {
      "application/vnd.jupyter.widget-view+json": {
       "model_id": "acef80294f1549a58ff787bf9c377fa3",
       "version_major": 2,
       "version_minor": 0
      },
      "text/plain": [
       "Epoch #0 completion:   0%|          | 0/80668 [00:00<?, ?it/s]"
      ]
     },
     "metadata": {},
     "output_type": "display_data"
    },
    {
     "data": {
      "application/vnd.jupyter.widget-view+json": {
       "model_id": "bcf6d1a3f6654540a6c241f87e217f98",
       "version_major": 2,
       "version_minor": 0
      },
      "text/plain": [
       "Epoch #1 completion:   0%|          | 0/80668 [00:00<?, ?it/s]"
      ]
     },
     "metadata": {},
     "output_type": "display_data"
    },
    {
     "data": {
      "application/vnd.jupyter.widget-view+json": {
       "model_id": "47594c32be7640ba952a250457b226f2",
       "version_major": 2,
       "version_minor": 0
      },
      "text/plain": [
       "Epoch #2 completion:   0%|          | 0/80668 [00:00<?, ?it/s]"
      ]
     },
     "metadata": {},
     "output_type": "display_data"
    },
    {
     "data": {
      "application/vnd.jupyter.widget-view+json": {
       "model_id": "930dccb10f9d429a95791fe1830efa23",
       "version_major": 2,
       "version_minor": 0
      },
      "text/plain": [
       "Epoch #3 completion:   0%|          | 0/80668 [00:00<?, ?it/s]"
      ]
     },
     "metadata": {},
     "output_type": "display_data"
    },
    {
     "data": {
      "application/vnd.jupyter.widget-view+json": {
       "model_id": "bed57eb1cd1f42a295471e7622a4e139",
       "version_major": 2,
       "version_minor": 0
      },
      "text/plain": [
       "Epoch #4 completion:   0%|          | 0/80668 [00:00<?, ?it/s]"
      ]
     },
     "metadata": {},
     "output_type": "display_data"
    },
    {
     "data": {
      "application/vnd.jupyter.widget-view+json": {
       "model_id": "87a88d8d559a4e4eb1ff23eaefa0110a",
       "version_major": 2,
       "version_minor": 0
      },
      "text/plain": [
       "Epoch #5 completion:   0%|          | 0/80668 [00:00<?, ?it/s]"
      ]
     },
     "metadata": {},
     "output_type": "display_data"
    },
    {
     "data": {
      "application/vnd.jupyter.widget-view+json": {
       "model_id": "6c89c6f5d6d94472ad474bc71205b2f8",
       "version_major": 2,
       "version_minor": 0
      },
      "text/plain": [
       "Epoch #6 completion:   0%|          | 0/80668 [00:00<?, ?it/s]"
      ]
     },
     "metadata": {},
     "output_type": "display_data"
    },
    {
     "data": {
      "application/vnd.jupyter.widget-view+json": {
       "model_id": "3c0826d93cfd487a912bd4e8cf2fab27",
       "version_major": 2,
       "version_minor": 0
      },
      "text/plain": [
       "Epoch #7 completion:   0%|          | 0/80668 [00:00<?, ?it/s]"
      ]
     },
     "metadata": {},
     "output_type": "display_data"
    },
    {
     "data": {
      "application/vnd.jupyter.widget-view+json": {
       "model_id": "a5a34c17937542e1a6c02ff16573875e",
       "version_major": 2,
       "version_minor": 0
      },
      "text/plain": [
       "Epoch #8 completion:   0%|          | 0/80668 [00:00<?, ?it/s]"
      ]
     },
     "metadata": {},
     "output_type": "display_data"
    },
    {
     "data": {
      "application/vnd.jupyter.widget-view+json": {
       "model_id": "12ddac04313948799aaf76f51c78244d",
       "version_major": 2,
       "version_minor": 0
      },
      "text/plain": [
       "Epoch #9 completion:   0%|          | 0/80668 [00:00<?, ?it/s]"
      ]
     },
     "metadata": {},
     "output_type": "display_data"
    },
    {
     "name": "stdout",
     "output_type": "stream",
     "text": [
      "epochs: 10 | learning_rate: 0.03 | _lambda: 0.1\n"
     ]
    },
    {
     "data": {
      "application/vnd.jupyter.widget-view+json": {
       "model_id": "0e3aa906607d4b9db7e1ffa6211f8db1",
       "version_major": 2,
       "version_minor": 0
      },
      "text/plain": [
       "Total SGD epochs completion:   0%|          | 0/10 [00:00<?, ?it/s]"
      ]
     },
     "metadata": {},
     "output_type": "display_data"
    },
    {
     "data": {
      "application/vnd.jupyter.widget-view+json": {
       "model_id": "1cd7b481432543d4925eb933da37c1cf",
       "version_major": 2,
       "version_minor": 0
      },
      "text/plain": [
       "Epoch #0 completion:   0%|          | 0/80668 [00:00<?, ?it/s]"
      ]
     },
     "metadata": {},
     "output_type": "display_data"
    },
    {
     "data": {
      "application/vnd.jupyter.widget-view+json": {
       "model_id": "0f6d5f6e333448d1921c75a047585670",
       "version_major": 2,
       "version_minor": 0
      },
      "text/plain": [
       "Epoch #1 completion:   0%|          | 0/80668 [00:00<?, ?it/s]"
      ]
     },
     "metadata": {},
     "output_type": "display_data"
    },
    {
     "data": {
      "application/vnd.jupyter.widget-view+json": {
       "model_id": "52de1fd53bfb4f9abcab2754f9ef41a8",
       "version_major": 2,
       "version_minor": 0
      },
      "text/plain": [
       "Epoch #2 completion:   0%|          | 0/80668 [00:00<?, ?it/s]"
      ]
     },
     "metadata": {},
     "output_type": "display_data"
    },
    {
     "data": {
      "application/vnd.jupyter.widget-view+json": {
       "model_id": "0414f4be4c1b491b940326679f12510e",
       "version_major": 2,
       "version_minor": 0
      },
      "text/plain": [
       "Epoch #3 completion:   0%|          | 0/80668 [00:00<?, ?it/s]"
      ]
     },
     "metadata": {},
     "output_type": "display_data"
    },
    {
     "data": {
      "application/vnd.jupyter.widget-view+json": {
       "model_id": "61efd805392d41b394203c54207a5089",
       "version_major": 2,
       "version_minor": 0
      },
      "text/plain": [
       "Epoch #4 completion:   0%|          | 0/80668 [00:00<?, ?it/s]"
      ]
     },
     "metadata": {},
     "output_type": "display_data"
    },
    {
     "data": {
      "application/vnd.jupyter.widget-view+json": {
       "model_id": "fb39bb7cded04594bb46f5d64beedfea",
       "version_major": 2,
       "version_minor": 0
      },
      "text/plain": [
       "Epoch #5 completion:   0%|          | 0/80668 [00:00<?, ?it/s]"
      ]
     },
     "metadata": {},
     "output_type": "display_data"
    },
    {
     "data": {
      "application/vnd.jupyter.widget-view+json": {
       "model_id": "027c0a08c85a44809816c4807ab4f1e8",
       "version_major": 2,
       "version_minor": 0
      },
      "text/plain": [
       "Epoch #6 completion:   0%|          | 0/80668 [00:00<?, ?it/s]"
      ]
     },
     "metadata": {},
     "output_type": "display_data"
    },
    {
     "data": {
      "application/vnd.jupyter.widget-view+json": {
       "model_id": "84790f0f19684279946eb31ad396478b",
       "version_major": 2,
       "version_minor": 0
      },
      "text/plain": [
       "Epoch #7 completion:   0%|          | 0/80668 [00:00<?, ?it/s]"
      ]
     },
     "metadata": {},
     "output_type": "display_data"
    },
    {
     "data": {
      "application/vnd.jupyter.widget-view+json": {
       "model_id": "a1d7ca6021db4c7297a9c119945b9e36",
       "version_major": 2,
       "version_minor": 0
      },
      "text/plain": [
       "Epoch #8 completion:   0%|          | 0/80668 [00:00<?, ?it/s]"
      ]
     },
     "metadata": {},
     "output_type": "display_data"
    },
    {
     "data": {
      "application/vnd.jupyter.widget-view+json": {
       "model_id": "a9f552c227ab4276a244c5cb10217f0f",
       "version_major": 2,
       "version_minor": 0
      },
      "text/plain": [
       "Epoch #9 completion:   0%|          | 0/80668 [00:00<?, ?it/s]"
      ]
     },
     "metadata": {},
     "output_type": "display_data"
    },
    {
     "name": "stdout",
     "output_type": "stream",
     "text": [
      "epochs: 10 | learning_rate: 0.03 | _lambda: 0.01\n"
     ]
    },
    {
     "data": {
      "application/vnd.jupyter.widget-view+json": {
       "model_id": "fe95bad276254c28817bb7a7a7f27300",
       "version_major": 2,
       "version_minor": 0
      },
      "text/plain": [
       "Total SGD epochs completion:   0%|          | 0/10 [00:00<?, ?it/s]"
      ]
     },
     "metadata": {},
     "output_type": "display_data"
    },
    {
     "data": {
      "application/vnd.jupyter.widget-view+json": {
       "model_id": "2f66eb1648ef4f0d96fbdd8ea85c3258",
       "version_major": 2,
       "version_minor": 0
      },
      "text/plain": [
       "Epoch #0 completion:   0%|          | 0/80668 [00:00<?, ?it/s]"
      ]
     },
     "metadata": {},
     "output_type": "display_data"
    },
    {
     "data": {
      "application/vnd.jupyter.widget-view+json": {
       "model_id": "3d0b7f58d5c248898972b9efd2f0c140",
       "version_major": 2,
       "version_minor": 0
      },
      "text/plain": [
       "Epoch #1 completion:   0%|          | 0/80668 [00:00<?, ?it/s]"
      ]
     },
     "metadata": {},
     "output_type": "display_data"
    },
    {
     "data": {
      "application/vnd.jupyter.widget-view+json": {
       "model_id": "a9a25ed725ec4836905dac617bc5913e",
       "version_major": 2,
       "version_minor": 0
      },
      "text/plain": [
       "Epoch #2 completion:   0%|          | 0/80668 [00:00<?, ?it/s]"
      ]
     },
     "metadata": {},
     "output_type": "display_data"
    },
    {
     "data": {
      "application/vnd.jupyter.widget-view+json": {
       "model_id": "415e0239f993480bb595788893ecf6e2",
       "version_major": 2,
       "version_minor": 0
      },
      "text/plain": [
       "Epoch #3 completion:   0%|          | 0/80668 [00:00<?, ?it/s]"
      ]
     },
     "metadata": {},
     "output_type": "display_data"
    },
    {
     "data": {
      "application/vnd.jupyter.widget-view+json": {
       "model_id": "a7889322b5ca4240b3a331d94b17471d",
       "version_major": 2,
       "version_minor": 0
      },
      "text/plain": [
       "Epoch #4 completion:   0%|          | 0/80668 [00:00<?, ?it/s]"
      ]
     },
     "metadata": {},
     "output_type": "display_data"
    },
    {
     "data": {
      "application/vnd.jupyter.widget-view+json": {
       "model_id": "28d171baa71c4561a64ff27b29d81e05",
       "version_major": 2,
       "version_minor": 0
      },
      "text/plain": [
       "Epoch #5 completion:   0%|          | 0/80668 [00:00<?, ?it/s]"
      ]
     },
     "metadata": {},
     "output_type": "display_data"
    },
    {
     "data": {
      "application/vnd.jupyter.widget-view+json": {
       "model_id": "ca82bf2a658d4959975b68f0cfe9482e",
       "version_major": 2,
       "version_minor": 0
      },
      "text/plain": [
       "Epoch #6 completion:   0%|          | 0/80668 [00:00<?, ?it/s]"
      ]
     },
     "metadata": {},
     "output_type": "display_data"
    },
    {
     "data": {
      "application/vnd.jupyter.widget-view+json": {
       "model_id": "e2f325a9246f4b63a2cffdd8ae617e3a",
       "version_major": 2,
       "version_minor": 0
      },
      "text/plain": [
       "Epoch #7 completion:   0%|          | 0/80668 [00:00<?, ?it/s]"
      ]
     },
     "metadata": {},
     "output_type": "display_data"
    },
    {
     "data": {
      "application/vnd.jupyter.widget-view+json": {
       "model_id": "81cd5ab0725d46ed8458e164521646b5",
       "version_major": 2,
       "version_minor": 0
      },
      "text/plain": [
       "Epoch #8 completion:   0%|          | 0/80668 [00:00<?, ?it/s]"
      ]
     },
     "metadata": {},
     "output_type": "display_data"
    },
    {
     "data": {
      "application/vnd.jupyter.widget-view+json": {
       "model_id": "ef7503d33e254f46a0db47d7dc189648",
       "version_major": 2,
       "version_minor": 0
      },
      "text/plain": [
       "Epoch #9 completion:   0%|          | 0/80668 [00:00<?, ?it/s]"
      ]
     },
     "metadata": {},
     "output_type": "display_data"
    },
    {
     "name": "stdout",
     "output_type": "stream",
     "text": [
      "epochs: 10 | learning_rate: 0.03 | _lambda: 10\n"
     ]
    },
    {
     "data": {
      "application/vnd.jupyter.widget-view+json": {
       "model_id": "e16cee85a39c48cb9214a64b572ea3fb",
       "version_major": 2,
       "version_minor": 0
      },
      "text/plain": [
       "Total SGD epochs completion:   0%|          | 0/10 [00:00<?, ?it/s]"
      ]
     },
     "metadata": {},
     "output_type": "display_data"
    },
    {
     "data": {
      "application/vnd.jupyter.widget-view+json": {
       "model_id": "f90eec4742f240708514c93d8df5ae98",
       "version_major": 2,
       "version_minor": 0
      },
      "text/plain": [
       "Epoch #0 completion:   0%|          | 0/80668 [00:00<?, ?it/s]"
      ]
     },
     "metadata": {},
     "output_type": "display_data"
    },
    {
     "data": {
      "application/vnd.jupyter.widget-view+json": {
       "model_id": "ca99d85a9ac34f6da5f384b7fc2f8811",
       "version_major": 2,
       "version_minor": 0
      },
      "text/plain": [
       "Epoch #1 completion:   0%|          | 0/80668 [00:00<?, ?it/s]"
      ]
     },
     "metadata": {},
     "output_type": "display_data"
    },
    {
     "data": {
      "application/vnd.jupyter.widget-view+json": {
       "model_id": "efce549d792e4361a177f0c52e11e8dc",
       "version_major": 2,
       "version_minor": 0
      },
      "text/plain": [
       "Epoch #2 completion:   0%|          | 0/80668 [00:00<?, ?it/s]"
      ]
     },
     "metadata": {},
     "output_type": "display_data"
    },
    {
     "data": {
      "application/vnd.jupyter.widget-view+json": {
       "model_id": "a83bd9a15b4d465d87db2a552d8bc97a",
       "version_major": 2,
       "version_minor": 0
      },
      "text/plain": [
       "Epoch #3 completion:   0%|          | 0/80668 [00:00<?, ?it/s]"
      ]
     },
     "metadata": {},
     "output_type": "display_data"
    },
    {
     "data": {
      "application/vnd.jupyter.widget-view+json": {
       "model_id": "82e1ea48af214bb5b6e2c05dbc235d95",
       "version_major": 2,
       "version_minor": 0
      },
      "text/plain": [
       "Epoch #4 completion:   0%|          | 0/80668 [00:00<?, ?it/s]"
      ]
     },
     "metadata": {},
     "output_type": "display_data"
    },
    {
     "data": {
      "application/vnd.jupyter.widget-view+json": {
       "model_id": "9fd48051229c40ac8364ba78180d8e8e",
       "version_major": 2,
       "version_minor": 0
      },
      "text/plain": [
       "Epoch #5 completion:   0%|          | 0/80668 [00:00<?, ?it/s]"
      ]
     },
     "metadata": {},
     "output_type": "display_data"
    },
    {
     "data": {
      "application/vnd.jupyter.widget-view+json": {
       "model_id": "92fc4a26773541d199731e0de5f2d883",
       "version_major": 2,
       "version_minor": 0
      },
      "text/plain": [
       "Epoch #6 completion:   0%|          | 0/80668 [00:00<?, ?it/s]"
      ]
     },
     "metadata": {},
     "output_type": "display_data"
    },
    {
     "data": {
      "application/vnd.jupyter.widget-view+json": {
       "model_id": "731f3a93e19c46f2ba373bc912901ecd",
       "version_major": 2,
       "version_minor": 0
      },
      "text/plain": [
       "Epoch #7 completion:   0%|          | 0/80668 [00:00<?, ?it/s]"
      ]
     },
     "metadata": {},
     "output_type": "display_data"
    },
    {
     "data": {
      "application/vnd.jupyter.widget-view+json": {
       "model_id": "b350c8b282ff4e3e95aa92683cbdc8cd",
       "version_major": 2,
       "version_minor": 0
      },
      "text/plain": [
       "Epoch #8 completion:   0%|          | 0/80668 [00:00<?, ?it/s]"
      ]
     },
     "metadata": {},
     "output_type": "display_data"
    },
    {
     "data": {
      "application/vnd.jupyter.widget-view+json": {
       "model_id": "62f3c97b7cf14dbe9c4ee119851f26e6",
       "version_major": 2,
       "version_minor": 0
      },
      "text/plain": [
       "Epoch #9 completion:   0%|          | 0/80668 [00:00<?, ?it/s]"
      ]
     },
     "metadata": {},
     "output_type": "display_data"
    },
    {
     "name": "stdout",
     "output_type": "stream",
     "text": [
      "epochs: 10 | learning_rate: 0.3 | _lambda: 0.0\n"
     ]
    },
    {
     "data": {
      "application/vnd.jupyter.widget-view+json": {
       "model_id": "fbb22324470f4c57a729c1643d36653e",
       "version_major": 2,
       "version_minor": 0
      },
      "text/plain": [
       "Total SGD epochs completion:   0%|          | 0/10 [00:00<?, ?it/s]"
      ]
     },
     "metadata": {},
     "output_type": "display_data"
    },
    {
     "data": {
      "application/vnd.jupyter.widget-view+json": {
       "model_id": "d412ea4ed36c4a31b35b3c48696b1c51",
       "version_major": 2,
       "version_minor": 0
      },
      "text/plain": [
       "Epoch #0 completion:   0%|          | 0/80668 [00:00<?, ?it/s]"
      ]
     },
     "metadata": {},
     "output_type": "display_data"
    },
    {
     "data": {
      "application/vnd.jupyter.widget-view+json": {
       "model_id": "a157c6179e314141b491ac9193d250ec",
       "version_major": 2,
       "version_minor": 0
      },
      "text/plain": [
       "Epoch #1 completion:   0%|          | 0/80668 [00:00<?, ?it/s]"
      ]
     },
     "metadata": {},
     "output_type": "display_data"
    },
    {
     "data": {
      "application/vnd.jupyter.widget-view+json": {
       "model_id": "9e81e0abf45040ffb58d5dccc8cb4f60",
       "version_major": 2,
       "version_minor": 0
      },
      "text/plain": [
       "Epoch #2 completion:   0%|          | 0/80668 [00:00<?, ?it/s]"
      ]
     },
     "metadata": {},
     "output_type": "display_data"
    },
    {
     "data": {
      "application/vnd.jupyter.widget-view+json": {
       "model_id": "1addd37ce39643b6b3185ad0a4d43d16",
       "version_major": 2,
       "version_minor": 0
      },
      "text/plain": [
       "Epoch #3 completion:   0%|          | 0/80668 [00:00<?, ?it/s]"
      ]
     },
     "metadata": {},
     "output_type": "display_data"
    },
    {
     "data": {
      "application/vnd.jupyter.widget-view+json": {
       "model_id": "579a8e1fabc441da99d174cf866eacfe",
       "version_major": 2,
       "version_minor": 0
      },
      "text/plain": [
       "Epoch #4 completion:   0%|          | 0/80668 [00:00<?, ?it/s]"
      ]
     },
     "metadata": {},
     "output_type": "display_data"
    },
    {
     "data": {
      "application/vnd.jupyter.widget-view+json": {
       "model_id": "0f4bf937f8644c048fd8e43f46aa7218",
       "version_major": 2,
       "version_minor": 0
      },
      "text/plain": [
       "Epoch #5 completion:   0%|          | 0/80668 [00:00<?, ?it/s]"
      ]
     },
     "metadata": {},
     "output_type": "display_data"
    },
    {
     "data": {
      "application/vnd.jupyter.widget-view+json": {
       "model_id": "1395c66c237249a4b5eebc94ff5ad632",
       "version_major": 2,
       "version_minor": 0
      },
      "text/plain": [
       "Epoch #6 completion:   0%|          | 0/80668 [00:00<?, ?it/s]"
      ]
     },
     "metadata": {},
     "output_type": "display_data"
    },
    {
     "data": {
      "application/vnd.jupyter.widget-view+json": {
       "model_id": "4cd3b7f1c8fb4a98af6b84a89cebe4bb",
       "version_major": 2,
       "version_minor": 0
      },
      "text/plain": [
       "Epoch #7 completion:   0%|          | 0/80668 [00:00<?, ?it/s]"
      ]
     },
     "metadata": {},
     "output_type": "display_data"
    },
    {
     "data": {
      "application/vnd.jupyter.widget-view+json": {
       "model_id": "08136929e9ba4fb691682d25ca36090b",
       "version_major": 2,
       "version_minor": 0
      },
      "text/plain": [
       "Epoch #8 completion:   0%|          | 0/80668 [00:00<?, ?it/s]"
      ]
     },
     "metadata": {},
     "output_type": "display_data"
    },
    {
     "data": {
      "application/vnd.jupyter.widget-view+json": {
       "model_id": "673d125b7e4d4b03be9862f8c1d6456e",
       "version_major": 2,
       "version_minor": 0
      },
      "text/plain": [
       "Epoch #9 completion:   0%|          | 0/80668 [00:00<?, ?it/s]"
      ]
     },
     "metadata": {},
     "output_type": "display_data"
    },
    {
     "name": "stdout",
     "output_type": "stream",
     "text": [
      "epochs: 10 | learning_rate: 0.3 | _lambda: 0.1\n"
     ]
    },
    {
     "data": {
      "application/vnd.jupyter.widget-view+json": {
       "model_id": "015affd92d2f4b64845fb876a3cd95f4",
       "version_major": 2,
       "version_minor": 0
      },
      "text/plain": [
       "Total SGD epochs completion:   0%|          | 0/10 [00:00<?, ?it/s]"
      ]
     },
     "metadata": {},
     "output_type": "display_data"
    },
    {
     "data": {
      "application/vnd.jupyter.widget-view+json": {
       "model_id": "356e33a412724f8bafac2e0fc27122a3",
       "version_major": 2,
       "version_minor": 0
      },
      "text/plain": [
       "Epoch #0 completion:   0%|          | 0/80668 [00:00<?, ?it/s]"
      ]
     },
     "metadata": {},
     "output_type": "display_data"
    },
    {
     "data": {
      "application/vnd.jupyter.widget-view+json": {
       "model_id": "e31e5aaabd8b4e6f9cd5030970249e71",
       "version_major": 2,
       "version_minor": 0
      },
      "text/plain": [
       "Epoch #1 completion:   0%|          | 0/80668 [00:00<?, ?it/s]"
      ]
     },
     "metadata": {},
     "output_type": "display_data"
    },
    {
     "data": {
      "application/vnd.jupyter.widget-view+json": {
       "model_id": "ffc6d9b9543d4a57a4ab39649fbf1c6f",
       "version_major": 2,
       "version_minor": 0
      },
      "text/plain": [
       "Epoch #2 completion:   0%|          | 0/80668 [00:00<?, ?it/s]"
      ]
     },
     "metadata": {},
     "output_type": "display_data"
    },
    {
     "data": {
      "application/vnd.jupyter.widget-view+json": {
       "model_id": "fb852b5d87384c31a3bdaad1312ce3f6",
       "version_major": 2,
       "version_minor": 0
      },
      "text/plain": [
       "Epoch #3 completion:   0%|          | 0/80668 [00:00<?, ?it/s]"
      ]
     },
     "metadata": {},
     "output_type": "display_data"
    },
    {
     "data": {
      "application/vnd.jupyter.widget-view+json": {
       "model_id": "485deba357a74a15938acf3a0ab34afd",
       "version_major": 2,
       "version_minor": 0
      },
      "text/plain": [
       "Epoch #4 completion:   0%|          | 0/80668 [00:00<?, ?it/s]"
      ]
     },
     "metadata": {},
     "output_type": "display_data"
    },
    {
     "data": {
      "application/vnd.jupyter.widget-view+json": {
       "model_id": "692949f147b24bb69b9c13cd347aec97",
       "version_major": 2,
       "version_minor": 0
      },
      "text/plain": [
       "Epoch #5 completion:   0%|          | 0/80668 [00:00<?, ?it/s]"
      ]
     },
     "metadata": {},
     "output_type": "display_data"
    },
    {
     "data": {
      "application/vnd.jupyter.widget-view+json": {
       "model_id": "64018e40e1ad4fd3a329b4c356ce03d4",
       "version_major": 2,
       "version_minor": 0
      },
      "text/plain": [
       "Epoch #6 completion:   0%|          | 0/80668 [00:00<?, ?it/s]"
      ]
     },
     "metadata": {},
     "output_type": "display_data"
    },
    {
     "data": {
      "application/vnd.jupyter.widget-view+json": {
       "model_id": "a25b88d12318482fad2b6f13822a27cf",
       "version_major": 2,
       "version_minor": 0
      },
      "text/plain": [
       "Epoch #7 completion:   0%|          | 0/80668 [00:00<?, ?it/s]"
      ]
     },
     "metadata": {},
     "output_type": "display_data"
    },
    {
     "data": {
      "application/vnd.jupyter.widget-view+json": {
       "model_id": "c5719bf427e945a5a07a1d8855b1af80",
       "version_major": 2,
       "version_minor": 0
      },
      "text/plain": [
       "Epoch #8 completion:   0%|          | 0/80668 [00:00<?, ?it/s]"
      ]
     },
     "metadata": {},
     "output_type": "display_data"
    },
    {
     "data": {
      "application/vnd.jupyter.widget-view+json": {
       "model_id": "99d534d61ae94409b2c9cfbf8a0a2986",
       "version_major": 2,
       "version_minor": 0
      },
      "text/plain": [
       "Epoch #9 completion:   0%|          | 0/80668 [00:00<?, ?it/s]"
      ]
     },
     "metadata": {},
     "output_type": "display_data"
    },
    {
     "name": "stdout",
     "output_type": "stream",
     "text": [
      "epochs: 10 | learning_rate: 0.3 | _lambda: 0.01\n"
     ]
    },
    {
     "data": {
      "application/vnd.jupyter.widget-view+json": {
       "model_id": "32f3b633626d40c5ad5cbe1af6ac11a4",
       "version_major": 2,
       "version_minor": 0
      },
      "text/plain": [
       "Total SGD epochs completion:   0%|          | 0/10 [00:00<?, ?it/s]"
      ]
     },
     "metadata": {},
     "output_type": "display_data"
    },
    {
     "data": {
      "application/vnd.jupyter.widget-view+json": {
       "model_id": "1c275b38d2724c4abde63e411d14e9ef",
       "version_major": 2,
       "version_minor": 0
      },
      "text/plain": [
       "Epoch #0 completion:   0%|          | 0/80668 [00:00<?, ?it/s]"
      ]
     },
     "metadata": {},
     "output_type": "display_data"
    },
    {
     "data": {
      "application/vnd.jupyter.widget-view+json": {
       "model_id": "afb9d73d262c41d6971ac3ee1e097e8f",
       "version_major": 2,
       "version_minor": 0
      },
      "text/plain": [
       "Epoch #1 completion:   0%|          | 0/80668 [00:00<?, ?it/s]"
      ]
     },
     "metadata": {},
     "output_type": "display_data"
    },
    {
     "data": {
      "application/vnd.jupyter.widget-view+json": {
       "model_id": "fbb4b75f54aa4809b1ed4cea0628019a",
       "version_major": 2,
       "version_minor": 0
      },
      "text/plain": [
       "Epoch #2 completion:   0%|          | 0/80668 [00:00<?, ?it/s]"
      ]
     },
     "metadata": {},
     "output_type": "display_data"
    },
    {
     "data": {
      "application/vnd.jupyter.widget-view+json": {
       "model_id": "6301d2d4bc544b1d8e8e15ad45cfa3bd",
       "version_major": 2,
       "version_minor": 0
      },
      "text/plain": [
       "Epoch #3 completion:   0%|          | 0/80668 [00:00<?, ?it/s]"
      ]
     },
     "metadata": {},
     "output_type": "display_data"
    },
    {
     "data": {
      "application/vnd.jupyter.widget-view+json": {
       "model_id": "f75d78ca9d684f1888bbefdd12580535",
       "version_major": 2,
       "version_minor": 0
      },
      "text/plain": [
       "Epoch #4 completion:   0%|          | 0/80668 [00:00<?, ?it/s]"
      ]
     },
     "metadata": {},
     "output_type": "display_data"
    },
    {
     "data": {
      "application/vnd.jupyter.widget-view+json": {
       "model_id": "e0c12d2eb5a044ef92d3dcc3f9521a2d",
       "version_major": 2,
       "version_minor": 0
      },
      "text/plain": [
       "Epoch #5 completion:   0%|          | 0/80668 [00:00<?, ?it/s]"
      ]
     },
     "metadata": {},
     "output_type": "display_data"
    },
    {
     "data": {
      "application/vnd.jupyter.widget-view+json": {
       "model_id": "34d13c1571034a72a1b7f5cfbdc45ab4",
       "version_major": 2,
       "version_minor": 0
      },
      "text/plain": [
       "Epoch #6 completion:   0%|          | 0/80668 [00:00<?, ?it/s]"
      ]
     },
     "metadata": {},
     "output_type": "display_data"
    },
    {
     "data": {
      "application/vnd.jupyter.widget-view+json": {
       "model_id": "f4cadc8cb8fe46a4a089fbe798025751",
       "version_major": 2,
       "version_minor": 0
      },
      "text/plain": [
       "Epoch #7 completion:   0%|          | 0/80668 [00:00<?, ?it/s]"
      ]
     },
     "metadata": {},
     "output_type": "display_data"
    },
    {
     "data": {
      "application/vnd.jupyter.widget-view+json": {
       "model_id": "f49b4d38f13242269717a211b4c84d43",
       "version_major": 2,
       "version_minor": 0
      },
      "text/plain": [
       "Epoch #8 completion:   0%|          | 0/80668 [00:00<?, ?it/s]"
      ]
     },
     "metadata": {},
     "output_type": "display_data"
    },
    {
     "data": {
      "application/vnd.jupyter.widget-view+json": {
       "model_id": "389cec144e0a4448860c5da8fad5695a",
       "version_major": 2,
       "version_minor": 0
      },
      "text/plain": [
       "Epoch #9 completion:   0%|          | 0/80668 [00:00<?, ?it/s]"
      ]
     },
     "metadata": {},
     "output_type": "display_data"
    },
    {
     "name": "stdout",
     "output_type": "stream",
     "text": [
      "epochs: 10 | learning_rate: 0.3 | _lambda: 10\n"
     ]
    },
    {
     "data": {
      "application/vnd.jupyter.widget-view+json": {
       "model_id": "f934d104e6a140ba9c714da889996233",
       "version_major": 2,
       "version_minor": 0
      },
      "text/plain": [
       "Total SGD epochs completion:   0%|          | 0/2 [00:00<?, ?it/s]"
      ]
     },
     "metadata": {},
     "output_type": "display_data"
    },
    {
     "data": {
      "application/vnd.jupyter.widget-view+json": {
       "model_id": "3954d84ccb924c8bae73712849a131e7",
       "version_major": 2,
       "version_minor": 0
      },
      "text/plain": [
       "Epoch #0 completion:   0%|          | 0/80668 [00:00<?, ?it/s]"
      ]
     },
     "metadata": {},
     "output_type": "display_data"
    },
    {
     "data": {
      "application/vnd.jupyter.widget-view+json": {
       "model_id": "a224b327d70f4721ba0b1ae68ad0a732",
       "version_major": 2,
       "version_minor": 0
      },
      "text/plain": [
       "Epoch #1 completion:   0%|          | 0/80668 [00:00<?, ?it/s]"
      ]
     },
     "metadata": {},
     "output_type": "display_data"
    },
    {
     "name": "stdout",
     "output_type": "stream",
     "text": [
      "epochs: 2 | learning_rate: 0.003 | _lambda: 0.0\n"
     ]
    },
    {
     "data": {
      "application/vnd.jupyter.widget-view+json": {
       "model_id": "700d53b005084e21a9d71059be02cc97",
       "version_major": 2,
       "version_minor": 0
      },
      "text/plain": [
       "Total SGD epochs completion:   0%|          | 0/2 [00:00<?, ?it/s]"
      ]
     },
     "metadata": {},
     "output_type": "display_data"
    },
    {
     "data": {
      "application/vnd.jupyter.widget-view+json": {
       "model_id": "70b16a846f12456cb88d06ea45e8ad88",
       "version_major": 2,
       "version_minor": 0
      },
      "text/plain": [
       "Epoch #0 completion:   0%|          | 0/80668 [00:00<?, ?it/s]"
      ]
     },
     "metadata": {},
     "output_type": "display_data"
    },
    {
     "data": {
      "application/vnd.jupyter.widget-view+json": {
       "model_id": "2138e1eb864c46f79fa955ba342f6300",
       "version_major": 2,
       "version_minor": 0
      },
      "text/plain": [
       "Epoch #1 completion:   0%|          | 0/80668 [00:00<?, ?it/s]"
      ]
     },
     "metadata": {},
     "output_type": "display_data"
    },
    {
     "name": "stdout",
     "output_type": "stream",
     "text": [
      "epochs: 2 | learning_rate: 0.003 | _lambda: 0.1\n"
     ]
    },
    {
     "data": {
      "application/vnd.jupyter.widget-view+json": {
       "model_id": "17de9932953d43ef9a3a92f41eeb85b6",
       "version_major": 2,
       "version_minor": 0
      },
      "text/plain": [
       "Total SGD epochs completion:   0%|          | 0/2 [00:00<?, ?it/s]"
      ]
     },
     "metadata": {},
     "output_type": "display_data"
    },
    {
     "data": {
      "application/vnd.jupyter.widget-view+json": {
       "model_id": "94034afcb9bf42f89315f30d71372d7f",
       "version_major": 2,
       "version_minor": 0
      },
      "text/plain": [
       "Epoch #0 completion:   0%|          | 0/80668 [00:00<?, ?it/s]"
      ]
     },
     "metadata": {},
     "output_type": "display_data"
    },
    {
     "data": {
      "application/vnd.jupyter.widget-view+json": {
       "model_id": "d695d1bb01b44fdc9db5d61c4788d71c",
       "version_major": 2,
       "version_minor": 0
      },
      "text/plain": [
       "Epoch #1 completion:   0%|          | 0/80668 [00:00<?, ?it/s]"
      ]
     },
     "metadata": {},
     "output_type": "display_data"
    },
    {
     "name": "stdout",
     "output_type": "stream",
     "text": [
      "epochs: 2 | learning_rate: 0.003 | _lambda: 0.01\n"
     ]
    },
    {
     "data": {
      "application/vnd.jupyter.widget-view+json": {
       "model_id": "e524fc7f57204b3598b1ed542c833e1e",
       "version_major": 2,
       "version_minor": 0
      },
      "text/plain": [
       "Total SGD epochs completion:   0%|          | 0/2 [00:00<?, ?it/s]"
      ]
     },
     "metadata": {},
     "output_type": "display_data"
    },
    {
     "data": {
      "application/vnd.jupyter.widget-view+json": {
       "model_id": "01e7c559c6d841b49b74bcb98c862f58",
       "version_major": 2,
       "version_minor": 0
      },
      "text/plain": [
       "Epoch #0 completion:   0%|          | 0/80668 [00:00<?, ?it/s]"
      ]
     },
     "metadata": {},
     "output_type": "display_data"
    },
    {
     "data": {
      "application/vnd.jupyter.widget-view+json": {
       "model_id": "632ff46240984ce2aef59ca415e4ac2c",
       "version_major": 2,
       "version_minor": 0
      },
      "text/plain": [
       "Epoch #1 completion:   0%|          | 0/80668 [00:00<?, ?it/s]"
      ]
     },
     "metadata": {},
     "output_type": "display_data"
    },
    {
     "name": "stdout",
     "output_type": "stream",
     "text": [
      "epochs: 2 | learning_rate: 0.003 | _lambda: 10\n"
     ]
    },
    {
     "data": {
      "application/vnd.jupyter.widget-view+json": {
       "model_id": "bcb62acfd00844e48f514798f40eeac4",
       "version_major": 2,
       "version_minor": 0
      },
      "text/plain": [
       "Total SGD epochs completion:   0%|          | 0/2 [00:00<?, ?it/s]"
      ]
     },
     "metadata": {},
     "output_type": "display_data"
    },
    {
     "data": {
      "application/vnd.jupyter.widget-view+json": {
       "model_id": "7b2609a01bd447f5be7a54de81c7f076",
       "version_major": 2,
       "version_minor": 0
      },
      "text/plain": [
       "Epoch #0 completion:   0%|          | 0/80668 [00:00<?, ?it/s]"
      ]
     },
     "metadata": {},
     "output_type": "display_data"
    },
    {
     "data": {
      "application/vnd.jupyter.widget-view+json": {
       "model_id": "08efe3329d7844638dc8f1cf0337fa91",
       "version_major": 2,
       "version_minor": 0
      },
      "text/plain": [
       "Epoch #1 completion:   0%|          | 0/80668 [00:00<?, ?it/s]"
      ]
     },
     "metadata": {},
     "output_type": "display_data"
    },
    {
     "name": "stdout",
     "output_type": "stream",
     "text": [
      "epochs: 2 | learning_rate: 0.03 | _lambda: 0.0\n"
     ]
    },
    {
     "data": {
      "application/vnd.jupyter.widget-view+json": {
       "model_id": "9733c80854dd4931908233bc72c37ad1",
       "version_major": 2,
       "version_minor": 0
      },
      "text/plain": [
       "Total SGD epochs completion:   0%|          | 0/2 [00:00<?, ?it/s]"
      ]
     },
     "metadata": {},
     "output_type": "display_data"
    },
    {
     "data": {
      "application/vnd.jupyter.widget-view+json": {
       "model_id": "18bed646dee943bd8ffe666a76596d04",
       "version_major": 2,
       "version_minor": 0
      },
      "text/plain": [
       "Epoch #0 completion:   0%|          | 0/80668 [00:00<?, ?it/s]"
      ]
     },
     "metadata": {},
     "output_type": "display_data"
    },
    {
     "data": {
      "application/vnd.jupyter.widget-view+json": {
       "model_id": "c752c02e240f41e6bd9c9ed21260c62b",
       "version_major": 2,
       "version_minor": 0
      },
      "text/plain": [
       "Epoch #1 completion:   0%|          | 0/80668 [00:00<?, ?it/s]"
      ]
     },
     "metadata": {},
     "output_type": "display_data"
    },
    {
     "name": "stdout",
     "output_type": "stream",
     "text": [
      "epochs: 2 | learning_rate: 0.03 | _lambda: 0.1\n"
     ]
    },
    {
     "data": {
      "application/vnd.jupyter.widget-view+json": {
       "model_id": "9d939c9976a340f99f89a5d5cdcf3373",
       "version_major": 2,
       "version_minor": 0
      },
      "text/plain": [
       "Total SGD epochs completion:   0%|          | 0/2 [00:00<?, ?it/s]"
      ]
     },
     "metadata": {},
     "output_type": "display_data"
    },
    {
     "data": {
      "application/vnd.jupyter.widget-view+json": {
       "model_id": "0af044d209e548609559edc7ae3ad326",
       "version_major": 2,
       "version_minor": 0
      },
      "text/plain": [
       "Epoch #0 completion:   0%|          | 0/80668 [00:00<?, ?it/s]"
      ]
     },
     "metadata": {},
     "output_type": "display_data"
    },
    {
     "data": {
      "application/vnd.jupyter.widget-view+json": {
       "model_id": "5fc32f6211a248038f966f8fdcf39f94",
       "version_major": 2,
       "version_minor": 0
      },
      "text/plain": [
       "Epoch #1 completion:   0%|          | 0/80668 [00:00<?, ?it/s]"
      ]
     },
     "metadata": {},
     "output_type": "display_data"
    },
    {
     "name": "stdout",
     "output_type": "stream",
     "text": [
      "epochs: 2 | learning_rate: 0.03 | _lambda: 0.01\n"
     ]
    },
    {
     "data": {
      "application/vnd.jupyter.widget-view+json": {
       "model_id": "992ff7a1144446229e656b40737b50cc",
       "version_major": 2,
       "version_minor": 0
      },
      "text/plain": [
       "Total SGD epochs completion:   0%|          | 0/2 [00:00<?, ?it/s]"
      ]
     },
     "metadata": {},
     "output_type": "display_data"
    },
    {
     "data": {
      "application/vnd.jupyter.widget-view+json": {
       "model_id": "17898a399c244db98b907a99e413a289",
       "version_major": 2,
       "version_minor": 0
      },
      "text/plain": [
       "Epoch #0 completion:   0%|          | 0/80668 [00:00<?, ?it/s]"
      ]
     },
     "metadata": {},
     "output_type": "display_data"
    },
    {
     "data": {
      "application/vnd.jupyter.widget-view+json": {
       "model_id": "6850c38410824f269d326fa00654a963",
       "version_major": 2,
       "version_minor": 0
      },
      "text/plain": [
       "Epoch #1 completion:   0%|          | 0/80668 [00:00<?, ?it/s]"
      ]
     },
     "metadata": {},
     "output_type": "display_data"
    },
    {
     "name": "stdout",
     "output_type": "stream",
     "text": [
      "epochs: 2 | learning_rate: 0.03 | _lambda: 10\n"
     ]
    },
    {
     "data": {
      "application/vnd.jupyter.widget-view+json": {
       "model_id": "e673c131f72443b9b31e227e0dd1fcea",
       "version_major": 2,
       "version_minor": 0
      },
      "text/plain": [
       "Total SGD epochs completion:   0%|          | 0/2 [00:00<?, ?it/s]"
      ]
     },
     "metadata": {},
     "output_type": "display_data"
    },
    {
     "data": {
      "application/vnd.jupyter.widget-view+json": {
       "model_id": "a0c87835669b431fa3616c9d7c58c65a",
       "version_major": 2,
       "version_minor": 0
      },
      "text/plain": [
       "Epoch #0 completion:   0%|          | 0/80668 [00:00<?, ?it/s]"
      ]
     },
     "metadata": {},
     "output_type": "display_data"
    },
    {
     "data": {
      "application/vnd.jupyter.widget-view+json": {
       "model_id": "cda57462cb2e44ff94b1e9c165364c02",
       "version_major": 2,
       "version_minor": 0
      },
      "text/plain": [
       "Epoch #1 completion:   0%|          | 0/80668 [00:00<?, ?it/s]"
      ]
     },
     "metadata": {},
     "output_type": "display_data"
    },
    {
     "name": "stdout",
     "output_type": "stream",
     "text": [
      "epochs: 2 | learning_rate: 0.3 | _lambda: 0.0\n"
     ]
    },
    {
     "data": {
      "application/vnd.jupyter.widget-view+json": {
       "model_id": "bddc0fe7dd2d4678985d98e034a8ddf4",
       "version_major": 2,
       "version_minor": 0
      },
      "text/plain": [
       "Total SGD epochs completion:   0%|          | 0/2 [00:00<?, ?it/s]"
      ]
     },
     "metadata": {},
     "output_type": "display_data"
    },
    {
     "data": {
      "application/vnd.jupyter.widget-view+json": {
       "model_id": "49ede11f1bb3494ab2e1aae95234f65b",
       "version_major": 2,
       "version_minor": 0
      },
      "text/plain": [
       "Epoch #0 completion:   0%|          | 0/80668 [00:00<?, ?it/s]"
      ]
     },
     "metadata": {},
     "output_type": "display_data"
    },
    {
     "data": {
      "application/vnd.jupyter.widget-view+json": {
       "model_id": "ee161b01982c4ad1a12f8b6a8f12dbee",
       "version_major": 2,
       "version_minor": 0
      },
      "text/plain": [
       "Epoch #1 completion:   0%|          | 0/80668 [00:00<?, ?it/s]"
      ]
     },
     "metadata": {},
     "output_type": "display_data"
    },
    {
     "name": "stdout",
     "output_type": "stream",
     "text": [
      "epochs: 2 | learning_rate: 0.3 | _lambda: 0.1\n"
     ]
    },
    {
     "data": {
      "application/vnd.jupyter.widget-view+json": {
       "model_id": "7e23411d49f741b6914b1fe5b25673b9",
       "version_major": 2,
       "version_minor": 0
      },
      "text/plain": [
       "Total SGD epochs completion:   0%|          | 0/2 [00:00<?, ?it/s]"
      ]
     },
     "metadata": {},
     "output_type": "display_data"
    },
    {
     "data": {
      "application/vnd.jupyter.widget-view+json": {
       "model_id": "669066307dd746b39374f91855aca921",
       "version_major": 2,
       "version_minor": 0
      },
      "text/plain": [
       "Epoch #0 completion:   0%|          | 0/80668 [00:00<?, ?it/s]"
      ]
     },
     "metadata": {},
     "output_type": "display_data"
    },
    {
     "name": "stderr",
     "output_type": "stream",
     "text": [
      "/Users/kushagra/Py_VirtualEnvs/RecSys_Env/lib/python3.10/site-packages/numpy/core/_methods.py:49: RuntimeWarning: overflow encountered in reduce\n",
      "  return umr_sum(a, axis, dtype, out, keepdims, initial, where)\n"
     ]
    },
    {
     "data": {
      "application/vnd.jupyter.widget-view+json": {
       "model_id": "992ffbc9835d4cbf9f992565762ebdcc",
       "version_major": 2,
       "version_minor": 0
      },
      "text/plain": [
       "Epoch #1 completion:   0%|          | 0/80668 [00:00<?, ?it/s]"
      ]
     },
     "metadata": {},
     "output_type": "display_data"
    },
    {
     "name": "stdout",
     "output_type": "stream",
     "text": [
      "epochs: 2 | learning_rate: 0.3 | _lambda: 0.01\n"
     ]
    },
    {
     "data": {
      "application/vnd.jupyter.widget-view+json": {
       "model_id": "49191b443524407ca7db163a563d8210",
       "version_major": 2,
       "version_minor": 0
      },
      "text/plain": [
       "Total SGD epochs completion:   0%|          | 0/2 [00:00<?, ?it/s]"
      ]
     },
     "metadata": {},
     "output_type": "display_data"
    },
    {
     "data": {
      "application/vnd.jupyter.widget-view+json": {
       "model_id": "5025bc2dac3645b6ba5e9bc9f5e74c15",
       "version_major": 2,
       "version_minor": 0
      },
      "text/plain": [
       "Epoch #0 completion:   0%|          | 0/80668 [00:00<?, ?it/s]"
      ]
     },
     "metadata": {},
     "output_type": "display_data"
    },
    {
     "name": "stderr",
     "output_type": "stream",
     "text": [
      "/var/folders/s7/f5s_pst90jb362j0h7p5ypy00000gn/T/ipykernel_80136/3513287690.py:125: RuntimeWarning: overflow encountered in add\n",
      "  grad_P_i = -2*(error_ij * Q_j) + 2*(_lambda * self.P[p_idx])\n"
     ]
    },
    {
     "data": {
      "application/vnd.jupyter.widget-view+json": {
       "model_id": "d886ad32c2d347b396c1ce5b4cfa769f",
       "version_major": 2,
       "version_minor": 0
      },
      "text/plain": [
       "Epoch #1 completion:   0%|          | 0/80668 [00:00<?, ?it/s]"
      ]
     },
     "metadata": {},
     "output_type": "display_data"
    },
    {
     "name": "stdout",
     "output_type": "stream",
     "text": [
      "epochs: 2 | learning_rate: 0.3 | _lambda: 10\n"
     ]
    },
    {
     "data": {
      "application/vnd.jupyter.widget-view+json": {
       "model_id": "19995152c2f74dc99db3425acda07b28",
       "version_major": 2,
       "version_minor": 0
      },
      "text/plain": [
       "Total SGD epochs completion:   0%|          | 0/5 [00:00<?, ?it/s]"
      ]
     },
     "metadata": {},
     "output_type": "display_data"
    },
    {
     "data": {
      "application/vnd.jupyter.widget-view+json": {
       "model_id": "220587f5585145e2b522caf11a54a20d",
       "version_major": 2,
       "version_minor": 0
      },
      "text/plain": [
       "Epoch #0 completion:   0%|          | 0/80668 [00:00<?, ?it/s]"
      ]
     },
     "metadata": {},
     "output_type": "display_data"
    },
    {
     "data": {
      "application/vnd.jupyter.widget-view+json": {
       "model_id": "af30165d5f484346b14c1ce53cb898a7",
       "version_major": 2,
       "version_minor": 0
      },
      "text/plain": [
       "Epoch #1 completion:   0%|          | 0/80668 [00:00<?, ?it/s]"
      ]
     },
     "metadata": {},
     "output_type": "display_data"
    },
    {
     "data": {
      "application/vnd.jupyter.widget-view+json": {
       "model_id": "750327eeded343e7b7fa981061743a45",
       "version_major": 2,
       "version_minor": 0
      },
      "text/plain": [
       "Epoch #2 completion:   0%|          | 0/80668 [00:00<?, ?it/s]"
      ]
     },
     "metadata": {},
     "output_type": "display_data"
    },
    {
     "data": {
      "application/vnd.jupyter.widget-view+json": {
       "model_id": "3adf908ab9e34a78b21f6e105a126f85",
       "version_major": 2,
       "version_minor": 0
      },
      "text/plain": [
       "Epoch #3 completion:   0%|          | 0/80668 [00:00<?, ?it/s]"
      ]
     },
     "metadata": {},
     "output_type": "display_data"
    },
    {
     "data": {
      "application/vnd.jupyter.widget-view+json": {
       "model_id": "a6502b00cc7b4d97949c9790eca75379",
       "version_major": 2,
       "version_minor": 0
      },
      "text/plain": [
       "Epoch #4 completion:   0%|          | 0/80668 [00:00<?, ?it/s]"
      ]
     },
     "metadata": {},
     "output_type": "display_data"
    },
    {
     "name": "stdout",
     "output_type": "stream",
     "text": [
      "epochs: 5 | learning_rate: 0.003 | _lambda: 0.0\n"
     ]
    },
    {
     "data": {
      "application/vnd.jupyter.widget-view+json": {
       "model_id": "08dedb1a7d4d49fcadb04744d6df1f08",
       "version_major": 2,
       "version_minor": 0
      },
      "text/plain": [
       "Total SGD epochs completion:   0%|          | 0/5 [00:00<?, ?it/s]"
      ]
     },
     "metadata": {},
     "output_type": "display_data"
    },
    {
     "data": {
      "application/vnd.jupyter.widget-view+json": {
       "model_id": "85cb0fe3b83f42dd908dea6182b1564e",
       "version_major": 2,
       "version_minor": 0
      },
      "text/plain": [
       "Epoch #0 completion:   0%|          | 0/80668 [00:00<?, ?it/s]"
      ]
     },
     "metadata": {},
     "output_type": "display_data"
    },
    {
     "data": {
      "application/vnd.jupyter.widget-view+json": {
       "model_id": "c9196a507f1746c992d650a7795aa371",
       "version_major": 2,
       "version_minor": 0
      },
      "text/plain": [
       "Epoch #1 completion:   0%|          | 0/80668 [00:00<?, ?it/s]"
      ]
     },
     "metadata": {},
     "output_type": "display_data"
    },
    {
     "data": {
      "application/vnd.jupyter.widget-view+json": {
       "model_id": "722b7a21d2bc4d08bcaaeaeee650306e",
       "version_major": 2,
       "version_minor": 0
      },
      "text/plain": [
       "Epoch #2 completion:   0%|          | 0/80668 [00:00<?, ?it/s]"
      ]
     },
     "metadata": {},
     "output_type": "display_data"
    },
    {
     "data": {
      "application/vnd.jupyter.widget-view+json": {
       "model_id": "180c9ca0fc054823bbc964e2dd4ca8fa",
       "version_major": 2,
       "version_minor": 0
      },
      "text/plain": [
       "Epoch #3 completion:   0%|          | 0/80668 [00:00<?, ?it/s]"
      ]
     },
     "metadata": {},
     "output_type": "display_data"
    },
    {
     "data": {
      "application/vnd.jupyter.widget-view+json": {
       "model_id": "b6e36a4f391746f19a8e01cc66fe5d50",
       "version_major": 2,
       "version_minor": 0
      },
      "text/plain": [
       "Epoch #4 completion:   0%|          | 0/80668 [00:00<?, ?it/s]"
      ]
     },
     "metadata": {},
     "output_type": "display_data"
    },
    {
     "name": "stdout",
     "output_type": "stream",
     "text": [
      "epochs: 5 | learning_rate: 0.003 | _lambda: 0.1\n"
     ]
    },
    {
     "data": {
      "application/vnd.jupyter.widget-view+json": {
       "model_id": "0e90e06089054d1eb76a8e86657c45a9",
       "version_major": 2,
       "version_minor": 0
      },
      "text/plain": [
       "Total SGD epochs completion:   0%|          | 0/5 [00:00<?, ?it/s]"
      ]
     },
     "metadata": {},
     "output_type": "display_data"
    },
    {
     "data": {
      "application/vnd.jupyter.widget-view+json": {
       "model_id": "9d32c12c4ef6497bbf81bc34051b5703",
       "version_major": 2,
       "version_minor": 0
      },
      "text/plain": [
       "Epoch #0 completion:   0%|          | 0/80668 [00:00<?, ?it/s]"
      ]
     },
     "metadata": {},
     "output_type": "display_data"
    },
    {
     "data": {
      "application/vnd.jupyter.widget-view+json": {
       "model_id": "ad452e1389084451b8498a0d15bfe507",
       "version_major": 2,
       "version_minor": 0
      },
      "text/plain": [
       "Epoch #1 completion:   0%|          | 0/80668 [00:00<?, ?it/s]"
      ]
     },
     "metadata": {},
     "output_type": "display_data"
    },
    {
     "data": {
      "application/vnd.jupyter.widget-view+json": {
       "model_id": "075114b423f9496096f133357910a008",
       "version_major": 2,
       "version_minor": 0
      },
      "text/plain": [
       "Epoch #2 completion:   0%|          | 0/80668 [00:00<?, ?it/s]"
      ]
     },
     "metadata": {},
     "output_type": "display_data"
    },
    {
     "data": {
      "application/vnd.jupyter.widget-view+json": {
       "model_id": "3e081f5ba925497abd2135a237d70561",
       "version_major": 2,
       "version_minor": 0
      },
      "text/plain": [
       "Epoch #3 completion:   0%|          | 0/80668 [00:00<?, ?it/s]"
      ]
     },
     "metadata": {},
     "output_type": "display_data"
    },
    {
     "data": {
      "application/vnd.jupyter.widget-view+json": {
       "model_id": "f50c613aebbf41228116f9fdf42b29aa",
       "version_major": 2,
       "version_minor": 0
      },
      "text/plain": [
       "Epoch #4 completion:   0%|          | 0/80668 [00:00<?, ?it/s]"
      ]
     },
     "metadata": {},
     "output_type": "display_data"
    },
    {
     "name": "stdout",
     "output_type": "stream",
     "text": [
      "epochs: 5 | learning_rate: 0.003 | _lambda: 0.01\n"
     ]
    },
    {
     "data": {
      "application/vnd.jupyter.widget-view+json": {
       "model_id": "b04d33c6617e40939801069ffdee91bb",
       "version_major": 2,
       "version_minor": 0
      },
      "text/plain": [
       "Total SGD epochs completion:   0%|          | 0/5 [00:00<?, ?it/s]"
      ]
     },
     "metadata": {},
     "output_type": "display_data"
    },
    {
     "data": {
      "application/vnd.jupyter.widget-view+json": {
       "model_id": "34f85dfc695c454dbd6da4ff0148a378",
       "version_major": 2,
       "version_minor": 0
      },
      "text/plain": [
       "Epoch #0 completion:   0%|          | 0/80668 [00:00<?, ?it/s]"
      ]
     },
     "metadata": {},
     "output_type": "display_data"
    },
    {
     "data": {
      "application/vnd.jupyter.widget-view+json": {
       "model_id": "96100f5c6632470b95d4d1f675996a59",
       "version_major": 2,
       "version_minor": 0
      },
      "text/plain": [
       "Epoch #1 completion:   0%|          | 0/80668 [00:00<?, ?it/s]"
      ]
     },
     "metadata": {},
     "output_type": "display_data"
    },
    {
     "data": {
      "application/vnd.jupyter.widget-view+json": {
       "model_id": "9456929e60d941a299bf0b4e2416766a",
       "version_major": 2,
       "version_minor": 0
      },
      "text/plain": [
       "Epoch #2 completion:   0%|          | 0/80668 [00:00<?, ?it/s]"
      ]
     },
     "metadata": {},
     "output_type": "display_data"
    },
    {
     "data": {
      "application/vnd.jupyter.widget-view+json": {
       "model_id": "b9f4e6068cc0458c9d46eea7dd5acfe7",
       "version_major": 2,
       "version_minor": 0
      },
      "text/plain": [
       "Epoch #3 completion:   0%|          | 0/80668 [00:00<?, ?it/s]"
      ]
     },
     "metadata": {},
     "output_type": "display_data"
    },
    {
     "data": {
      "application/vnd.jupyter.widget-view+json": {
       "model_id": "80cb11f3a6154696a27c90082f950d65",
       "version_major": 2,
       "version_minor": 0
      },
      "text/plain": [
       "Epoch #4 completion:   0%|          | 0/80668 [00:00<?, ?it/s]"
      ]
     },
     "metadata": {},
     "output_type": "display_data"
    },
    {
     "name": "stdout",
     "output_type": "stream",
     "text": [
      "epochs: 5 | learning_rate: 0.003 | _lambda: 10\n"
     ]
    },
    {
     "data": {
      "application/vnd.jupyter.widget-view+json": {
       "model_id": "b81c747a65f74d13a3db762b47ab88a5",
       "version_major": 2,
       "version_minor": 0
      },
      "text/plain": [
       "Total SGD epochs completion:   0%|          | 0/5 [00:00<?, ?it/s]"
      ]
     },
     "metadata": {},
     "output_type": "display_data"
    },
    {
     "data": {
      "application/vnd.jupyter.widget-view+json": {
       "model_id": "b343ee3c562f4ea3974176c0f5247c30",
       "version_major": 2,
       "version_minor": 0
      },
      "text/plain": [
       "Epoch #0 completion:   0%|          | 0/80668 [00:00<?, ?it/s]"
      ]
     },
     "metadata": {},
     "output_type": "display_data"
    },
    {
     "data": {
      "application/vnd.jupyter.widget-view+json": {
       "model_id": "2721c01dcba842e9acd28ca6b5a0fb04",
       "version_major": 2,
       "version_minor": 0
      },
      "text/plain": [
       "Epoch #1 completion:   0%|          | 0/80668 [00:00<?, ?it/s]"
      ]
     },
     "metadata": {},
     "output_type": "display_data"
    },
    {
     "data": {
      "application/vnd.jupyter.widget-view+json": {
       "model_id": "60e35dea023c473188e597c77264fa85",
       "version_major": 2,
       "version_minor": 0
      },
      "text/plain": [
       "Epoch #2 completion:   0%|          | 0/80668 [00:00<?, ?it/s]"
      ]
     },
     "metadata": {},
     "output_type": "display_data"
    },
    {
     "data": {
      "application/vnd.jupyter.widget-view+json": {
       "model_id": "39f6613b84c94a7ab89846f5e85ce52a",
       "version_major": 2,
       "version_minor": 0
      },
      "text/plain": [
       "Epoch #3 completion:   0%|          | 0/80668 [00:00<?, ?it/s]"
      ]
     },
     "metadata": {},
     "output_type": "display_data"
    },
    {
     "data": {
      "application/vnd.jupyter.widget-view+json": {
       "model_id": "a4d3487f1dd4418d99ed4ba94e0a31fe",
       "version_major": 2,
       "version_minor": 0
      },
      "text/plain": [
       "Epoch #4 completion:   0%|          | 0/80668 [00:00<?, ?it/s]"
      ]
     },
     "metadata": {},
     "output_type": "display_data"
    },
    {
     "name": "stdout",
     "output_type": "stream",
     "text": [
      "epochs: 5 | learning_rate: 0.03 | _lambda: 0.0\n"
     ]
    },
    {
     "data": {
      "application/vnd.jupyter.widget-view+json": {
       "model_id": "bef741fdb9094e5a92cc63618b430d62",
       "version_major": 2,
       "version_minor": 0
      },
      "text/plain": [
       "Total SGD epochs completion:   0%|          | 0/5 [00:00<?, ?it/s]"
      ]
     },
     "metadata": {},
     "output_type": "display_data"
    },
    {
     "data": {
      "application/vnd.jupyter.widget-view+json": {
       "model_id": "bd9bfa61ec34447eb19b53d02eb1065b",
       "version_major": 2,
       "version_minor": 0
      },
      "text/plain": [
       "Epoch #0 completion:   0%|          | 0/80668 [00:00<?, ?it/s]"
      ]
     },
     "metadata": {},
     "output_type": "display_data"
    },
    {
     "data": {
      "application/vnd.jupyter.widget-view+json": {
       "model_id": "1010e1f203864866812ae038fae2cef4",
       "version_major": 2,
       "version_minor": 0
      },
      "text/plain": [
       "Epoch #1 completion:   0%|          | 0/80668 [00:00<?, ?it/s]"
      ]
     },
     "metadata": {},
     "output_type": "display_data"
    },
    {
     "data": {
      "application/vnd.jupyter.widget-view+json": {
       "model_id": "c497282397f6435cbb780ce3a22367b9",
       "version_major": 2,
       "version_minor": 0
      },
      "text/plain": [
       "Epoch #2 completion:   0%|          | 0/80668 [00:00<?, ?it/s]"
      ]
     },
     "metadata": {},
     "output_type": "display_data"
    },
    {
     "data": {
      "application/vnd.jupyter.widget-view+json": {
       "model_id": "3ace9d7097294713b6364dead849ec49",
       "version_major": 2,
       "version_minor": 0
      },
      "text/plain": [
       "Epoch #3 completion:   0%|          | 0/80668 [00:00<?, ?it/s]"
      ]
     },
     "metadata": {},
     "output_type": "display_data"
    },
    {
     "data": {
      "application/vnd.jupyter.widget-view+json": {
       "model_id": "f6af54a272a74cf8ace1e244a6cfa2b4",
       "version_major": 2,
       "version_minor": 0
      },
      "text/plain": [
       "Epoch #4 completion:   0%|          | 0/80668 [00:00<?, ?it/s]"
      ]
     },
     "metadata": {},
     "output_type": "display_data"
    },
    {
     "name": "stdout",
     "output_type": "stream",
     "text": [
      "epochs: 5 | learning_rate: 0.03 | _lambda: 0.1\n"
     ]
    },
    {
     "data": {
      "application/vnd.jupyter.widget-view+json": {
       "model_id": "3c51e743197041b8bd63fb898ac84e2f",
       "version_major": 2,
       "version_minor": 0
      },
      "text/plain": [
       "Total SGD epochs completion:   0%|          | 0/5 [00:00<?, ?it/s]"
      ]
     },
     "metadata": {},
     "output_type": "display_data"
    },
    {
     "data": {
      "application/vnd.jupyter.widget-view+json": {
       "model_id": "6ddac9d2f3e84c1ea51943d729efc979",
       "version_major": 2,
       "version_minor": 0
      },
      "text/plain": [
       "Epoch #0 completion:   0%|          | 0/80668 [00:00<?, ?it/s]"
      ]
     },
     "metadata": {},
     "output_type": "display_data"
    },
    {
     "data": {
      "application/vnd.jupyter.widget-view+json": {
       "model_id": "cbef11c787404856993dd52dcbecbe57",
       "version_major": 2,
       "version_minor": 0
      },
      "text/plain": [
       "Epoch #1 completion:   0%|          | 0/80668 [00:00<?, ?it/s]"
      ]
     },
     "metadata": {},
     "output_type": "display_data"
    },
    {
     "data": {
      "application/vnd.jupyter.widget-view+json": {
       "model_id": "883d68a080924441b656d153b4e84ed5",
       "version_major": 2,
       "version_minor": 0
      },
      "text/plain": [
       "Epoch #2 completion:   0%|          | 0/80668 [00:00<?, ?it/s]"
      ]
     },
     "metadata": {},
     "output_type": "display_data"
    },
    {
     "data": {
      "application/vnd.jupyter.widget-view+json": {
       "model_id": "44f37c62313b413682fa5439f98acabd",
       "version_major": 2,
       "version_minor": 0
      },
      "text/plain": [
       "Epoch #3 completion:   0%|          | 0/80668 [00:00<?, ?it/s]"
      ]
     },
     "metadata": {},
     "output_type": "display_data"
    },
    {
     "data": {
      "application/vnd.jupyter.widget-view+json": {
       "model_id": "ab74d8e7923d49cd932a59e9189017d2",
       "version_major": 2,
       "version_minor": 0
      },
      "text/plain": [
       "Epoch #4 completion:   0%|          | 0/80668 [00:00<?, ?it/s]"
      ]
     },
     "metadata": {},
     "output_type": "display_data"
    },
    {
     "name": "stdout",
     "output_type": "stream",
     "text": [
      "epochs: 5 | learning_rate: 0.03 | _lambda: 0.01\n"
     ]
    },
    {
     "data": {
      "application/vnd.jupyter.widget-view+json": {
       "model_id": "8eea8c753e1d4145b42f0447c07e2d8a",
       "version_major": 2,
       "version_minor": 0
      },
      "text/plain": [
       "Total SGD epochs completion:   0%|          | 0/5 [00:00<?, ?it/s]"
      ]
     },
     "metadata": {},
     "output_type": "display_data"
    },
    {
     "data": {
      "application/vnd.jupyter.widget-view+json": {
       "model_id": "491b13878a554da9a2a3b2ca4bc09d0f",
       "version_major": 2,
       "version_minor": 0
      },
      "text/plain": [
       "Epoch #0 completion:   0%|          | 0/80668 [00:00<?, ?it/s]"
      ]
     },
     "metadata": {},
     "output_type": "display_data"
    },
    {
     "data": {
      "application/vnd.jupyter.widget-view+json": {
       "model_id": "1424954077d64e2a8918f35b13e2a68c",
       "version_major": 2,
       "version_minor": 0
      },
      "text/plain": [
       "Epoch #1 completion:   0%|          | 0/80668 [00:00<?, ?it/s]"
      ]
     },
     "metadata": {},
     "output_type": "display_data"
    },
    {
     "data": {
      "application/vnd.jupyter.widget-view+json": {
       "model_id": "d8fc3181ff1944ca9d31161b29a4b64d",
       "version_major": 2,
       "version_minor": 0
      },
      "text/plain": [
       "Epoch #2 completion:   0%|          | 0/80668 [00:00<?, ?it/s]"
      ]
     },
     "metadata": {},
     "output_type": "display_data"
    },
    {
     "data": {
      "application/vnd.jupyter.widget-view+json": {
       "model_id": "d7e4658b445d4267b19060b0aa2c65b6",
       "version_major": 2,
       "version_minor": 0
      },
      "text/plain": [
       "Epoch #3 completion:   0%|          | 0/80668 [00:00<?, ?it/s]"
      ]
     },
     "metadata": {},
     "output_type": "display_data"
    },
    {
     "data": {
      "application/vnd.jupyter.widget-view+json": {
       "model_id": "a4502afd057d4176bbff35dd9b2ecaba",
       "version_major": 2,
       "version_minor": 0
      },
      "text/plain": [
       "Epoch #4 completion:   0%|          | 0/80668 [00:00<?, ?it/s]"
      ]
     },
     "metadata": {},
     "output_type": "display_data"
    },
    {
     "name": "stdout",
     "output_type": "stream",
     "text": [
      "epochs: 5 | learning_rate: 0.03 | _lambda: 10\n"
     ]
    },
    {
     "data": {
      "application/vnd.jupyter.widget-view+json": {
       "model_id": "2dc41207aef44239958bb74883ab2253",
       "version_major": 2,
       "version_minor": 0
      },
      "text/plain": [
       "Total SGD epochs completion:   0%|          | 0/5 [00:00<?, ?it/s]"
      ]
     },
     "metadata": {},
     "output_type": "display_data"
    },
    {
     "data": {
      "application/vnd.jupyter.widget-view+json": {
       "model_id": "13b4eb6dfc9443618607ceaafd3be1be",
       "version_major": 2,
       "version_minor": 0
      },
      "text/plain": [
       "Epoch #0 completion:   0%|          | 0/80668 [00:00<?, ?it/s]"
      ]
     },
     "metadata": {},
     "output_type": "display_data"
    },
    {
     "data": {
      "application/vnd.jupyter.widget-view+json": {
       "model_id": "632aeb2f173b45439aa3d1a2e96b1853",
       "version_major": 2,
       "version_minor": 0
      },
      "text/plain": [
       "Epoch #1 completion:   0%|          | 0/80668 [00:00<?, ?it/s]"
      ]
     },
     "metadata": {},
     "output_type": "display_data"
    },
    {
     "data": {
      "application/vnd.jupyter.widget-view+json": {
       "model_id": "e9047f34d89e44fca3ea3328b8bc4374",
       "version_major": 2,
       "version_minor": 0
      },
      "text/plain": [
       "Epoch #2 completion:   0%|          | 0/80668 [00:00<?, ?it/s]"
      ]
     },
     "metadata": {},
     "output_type": "display_data"
    },
    {
     "data": {
      "application/vnd.jupyter.widget-view+json": {
       "model_id": "5b691a5048114bf596b7df2c6f2cb22b",
       "version_major": 2,
       "version_minor": 0
      },
      "text/plain": [
       "Epoch #3 completion:   0%|          | 0/80668 [00:00<?, ?it/s]"
      ]
     },
     "metadata": {},
     "output_type": "display_data"
    },
    {
     "data": {
      "application/vnd.jupyter.widget-view+json": {
       "model_id": "55022f6b8c4d4f7cac47aec2953843e7",
       "version_major": 2,
       "version_minor": 0
      },
      "text/plain": [
       "Epoch #4 completion:   0%|          | 0/80668 [00:00<?, ?it/s]"
      ]
     },
     "metadata": {},
     "output_type": "display_data"
    },
    {
     "name": "stdout",
     "output_type": "stream",
     "text": [
      "epochs: 5 | learning_rate: 0.3 | _lambda: 0.0\n"
     ]
    },
    {
     "data": {
      "application/vnd.jupyter.widget-view+json": {
       "model_id": "6dcda4b1757f418aac3792e34fcf3ee8",
       "version_major": 2,
       "version_minor": 0
      },
      "text/plain": [
       "Total SGD epochs completion:   0%|          | 0/5 [00:00<?, ?it/s]"
      ]
     },
     "metadata": {},
     "output_type": "display_data"
    },
    {
     "data": {
      "application/vnd.jupyter.widget-view+json": {
       "model_id": "c584648a97054a61ba24b1fd762794cf",
       "version_major": 2,
       "version_minor": 0
      },
      "text/plain": [
       "Epoch #0 completion:   0%|          | 0/80668 [00:00<?, ?it/s]"
      ]
     },
     "metadata": {},
     "output_type": "display_data"
    },
    {
     "data": {
      "application/vnd.jupyter.widget-view+json": {
       "model_id": "9e93296980ba49d7a91570fb615f97d5",
       "version_major": 2,
       "version_minor": 0
      },
      "text/plain": [
       "Epoch #1 completion:   0%|          | 0/80668 [00:00<?, ?it/s]"
      ]
     },
     "metadata": {},
     "output_type": "display_data"
    },
    {
     "data": {
      "application/vnd.jupyter.widget-view+json": {
       "model_id": "2df32a6149fd4a62b93bfdc8e25d1ab2",
       "version_major": 2,
       "version_minor": 0
      },
      "text/plain": [
       "Epoch #2 completion:   0%|          | 0/80668 [00:00<?, ?it/s]"
      ]
     },
     "metadata": {},
     "output_type": "display_data"
    },
    {
     "data": {
      "application/vnd.jupyter.widget-view+json": {
       "model_id": "19268dc0650844bcae2c884b0e4579ae",
       "version_major": 2,
       "version_minor": 0
      },
      "text/plain": [
       "Epoch #3 completion:   0%|          | 0/80668 [00:00<?, ?it/s]"
      ]
     },
     "metadata": {},
     "output_type": "display_data"
    },
    {
     "data": {
      "application/vnd.jupyter.widget-view+json": {
       "model_id": "19ad62206ae847ed88609ee228b85762",
       "version_major": 2,
       "version_minor": 0
      },
      "text/plain": [
       "Epoch #4 completion:   0%|          | 0/80668 [00:00<?, ?it/s]"
      ]
     },
     "metadata": {},
     "output_type": "display_data"
    },
    {
     "name": "stdout",
     "output_type": "stream",
     "text": [
      "epochs: 5 | learning_rate: 0.3 | _lambda: 0.1\n"
     ]
    },
    {
     "data": {
      "application/vnd.jupyter.widget-view+json": {
       "model_id": "8d06ce7c4fc7404080e08981c3b47040",
       "version_major": 2,
       "version_minor": 0
      },
      "text/plain": [
       "Total SGD epochs completion:   0%|          | 0/5 [00:00<?, ?it/s]"
      ]
     },
     "metadata": {},
     "output_type": "display_data"
    },
    {
     "data": {
      "application/vnd.jupyter.widget-view+json": {
       "model_id": "0ed3f4eb42d0474293c92b93812fba0b",
       "version_major": 2,
       "version_minor": 0
      },
      "text/plain": [
       "Epoch #0 completion:   0%|          | 0/80668 [00:00<?, ?it/s]"
      ]
     },
     "metadata": {},
     "output_type": "display_data"
    },
    {
     "data": {
      "application/vnd.jupyter.widget-view+json": {
       "model_id": "c293c10ad06a41c9b70b7ac8cf5ff207",
       "version_major": 2,
       "version_minor": 0
      },
      "text/plain": [
       "Epoch #1 completion:   0%|          | 0/80668 [00:00<?, ?it/s]"
      ]
     },
     "metadata": {},
     "output_type": "display_data"
    },
    {
     "data": {
      "application/vnd.jupyter.widget-view+json": {
       "model_id": "e40a7c4ccc204a738eb03595bf19e117",
       "version_major": 2,
       "version_minor": 0
      },
      "text/plain": [
       "Epoch #2 completion:   0%|          | 0/80668 [00:00<?, ?it/s]"
      ]
     },
     "metadata": {},
     "output_type": "display_data"
    },
    {
     "data": {
      "application/vnd.jupyter.widget-view+json": {
       "model_id": "70b8c29594854cc5a98f78c604a41210",
       "version_major": 2,
       "version_minor": 0
      },
      "text/plain": [
       "Epoch #3 completion:   0%|          | 0/80668 [00:00<?, ?it/s]"
      ]
     },
     "metadata": {},
     "output_type": "display_data"
    },
    {
     "data": {
      "application/vnd.jupyter.widget-view+json": {
       "model_id": "98ecac066ff145fe803d1094a123e376",
       "version_major": 2,
       "version_minor": 0
      },
      "text/plain": [
       "Epoch #4 completion:   0%|          | 0/80668 [00:00<?, ?it/s]"
      ]
     },
     "metadata": {},
     "output_type": "display_data"
    },
    {
     "name": "stdout",
     "output_type": "stream",
     "text": [
      "epochs: 5 | learning_rate: 0.3 | _lambda: 0.01\n"
     ]
    },
    {
     "data": {
      "application/vnd.jupyter.widget-view+json": {
       "model_id": "ded34a37766949ba8418f96429c6ac3c",
       "version_major": 2,
       "version_minor": 0
      },
      "text/plain": [
       "Total SGD epochs completion:   0%|          | 0/5 [00:00<?, ?it/s]"
      ]
     },
     "metadata": {},
     "output_type": "display_data"
    },
    {
     "data": {
      "application/vnd.jupyter.widget-view+json": {
       "model_id": "d83e063d09c64eeb8d0caf323a6c3c36",
       "version_major": 2,
       "version_minor": 0
      },
      "text/plain": [
       "Epoch #0 completion:   0%|          | 0/80668 [00:00<?, ?it/s]"
      ]
     },
     "metadata": {},
     "output_type": "display_data"
    },
    {
     "data": {
      "application/vnd.jupyter.widget-view+json": {
       "model_id": "5cd4340759bf4ed69a43eaf6c684ed42",
       "version_major": 2,
       "version_minor": 0
      },
      "text/plain": [
       "Epoch #1 completion:   0%|          | 0/80668 [00:00<?, ?it/s]"
      ]
     },
     "metadata": {},
     "output_type": "display_data"
    },
    {
     "data": {
      "application/vnd.jupyter.widget-view+json": {
       "model_id": "e6755097018143b2a4a40b1e7dbb2c2a",
       "version_major": 2,
       "version_minor": 0
      },
      "text/plain": [
       "Epoch #2 completion:   0%|          | 0/80668 [00:00<?, ?it/s]"
      ]
     },
     "metadata": {},
     "output_type": "display_data"
    },
    {
     "data": {
      "application/vnd.jupyter.widget-view+json": {
       "model_id": "a747504e779e4d1b8974c0db0e51584f",
       "version_major": 2,
       "version_minor": 0
      },
      "text/plain": [
       "Epoch #3 completion:   0%|          | 0/80668 [00:00<?, ?it/s]"
      ]
     },
     "metadata": {},
     "output_type": "display_data"
    },
    {
     "data": {
      "application/vnd.jupyter.widget-view+json": {
       "model_id": "3b164cff43dd4b57a7e673417addc29e",
       "version_major": 2,
       "version_minor": 0
      },
      "text/plain": [
       "Epoch #4 completion:   0%|          | 0/80668 [00:00<?, ?it/s]"
      ]
     },
     "metadata": {},
     "output_type": "display_data"
    },
    {
     "name": "stdout",
     "output_type": "stream",
     "text": [
      "epochs: 5 | learning_rate: 0.3 | _lambda: 10\n"
     ]
    },
    {
     "data": {
      "application/vnd.jupyter.widget-view+json": {
       "model_id": "58949330bfa64a73951508b4be306d59",
       "version_major": 2,
       "version_minor": 0
      },
      "text/plain": [
       "Total SGD epochs completion:   0%|          | 0/10 [00:00<?, ?it/s]"
      ]
     },
     "metadata": {},
     "output_type": "display_data"
    },
    {
     "data": {
      "application/vnd.jupyter.widget-view+json": {
       "model_id": "cbbf27785b2746b0a476a0ff0e64856c",
       "version_major": 2,
       "version_minor": 0
      },
      "text/plain": [
       "Epoch #0 completion:   0%|          | 0/80668 [00:00<?, ?it/s]"
      ]
     },
     "metadata": {},
     "output_type": "display_data"
    },
    {
     "data": {
      "application/vnd.jupyter.widget-view+json": {
       "model_id": "088e4cc9aadf4a4ebbb9eb10c5087b47",
       "version_major": 2,
       "version_minor": 0
      },
      "text/plain": [
       "Epoch #1 completion:   0%|          | 0/80668 [00:00<?, ?it/s]"
      ]
     },
     "metadata": {},
     "output_type": "display_data"
    },
    {
     "data": {
      "application/vnd.jupyter.widget-view+json": {
       "model_id": "416fcfc1b43a4da7b65d26ae370b37f3",
       "version_major": 2,
       "version_minor": 0
      },
      "text/plain": [
       "Epoch #2 completion:   0%|          | 0/80668 [00:00<?, ?it/s]"
      ]
     },
     "metadata": {},
     "output_type": "display_data"
    },
    {
     "data": {
      "application/vnd.jupyter.widget-view+json": {
       "model_id": "3ed7e990006d4578881d86cdc1cb45c5",
       "version_major": 2,
       "version_minor": 0
      },
      "text/plain": [
       "Epoch #3 completion:   0%|          | 0/80668 [00:00<?, ?it/s]"
      ]
     },
     "metadata": {},
     "output_type": "display_data"
    },
    {
     "data": {
      "application/vnd.jupyter.widget-view+json": {
       "model_id": "aa07153506af458daa60d2c683ef9da3",
       "version_major": 2,
       "version_minor": 0
      },
      "text/plain": [
       "Epoch #4 completion:   0%|          | 0/80668 [00:00<?, ?it/s]"
      ]
     },
     "metadata": {},
     "output_type": "display_data"
    },
    {
     "data": {
      "application/vnd.jupyter.widget-view+json": {
       "model_id": "e21ab0f5f280428fb6dc0d801f82115f",
       "version_major": 2,
       "version_minor": 0
      },
      "text/plain": [
       "Epoch #5 completion:   0%|          | 0/80668 [00:00<?, ?it/s]"
      ]
     },
     "metadata": {},
     "output_type": "display_data"
    },
    {
     "data": {
      "application/vnd.jupyter.widget-view+json": {
       "model_id": "dec366597702426f9b6838aada9e5c44",
       "version_major": 2,
       "version_minor": 0
      },
      "text/plain": [
       "Epoch #6 completion:   0%|          | 0/80668 [00:00<?, ?it/s]"
      ]
     },
     "metadata": {},
     "output_type": "display_data"
    },
    {
     "data": {
      "application/vnd.jupyter.widget-view+json": {
       "model_id": "ddaa5083ee674123aa1596f0993461ca",
       "version_major": 2,
       "version_minor": 0
      },
      "text/plain": [
       "Epoch #7 completion:   0%|          | 0/80668 [00:00<?, ?it/s]"
      ]
     },
     "metadata": {},
     "output_type": "display_data"
    },
    {
     "data": {
      "application/vnd.jupyter.widget-view+json": {
       "model_id": "dadbb5bae25f48d1ba5b90eeeb370bb3",
       "version_major": 2,
       "version_minor": 0
      },
      "text/plain": [
       "Epoch #8 completion:   0%|          | 0/80668 [00:00<?, ?it/s]"
      ]
     },
     "metadata": {},
     "output_type": "display_data"
    },
    {
     "data": {
      "application/vnd.jupyter.widget-view+json": {
       "model_id": "160f991493154faa836050c9114581e8",
       "version_major": 2,
       "version_minor": 0
      },
      "text/plain": [
       "Epoch #9 completion:   0%|          | 0/80668 [00:00<?, ?it/s]"
      ]
     },
     "metadata": {},
     "output_type": "display_data"
    },
    {
     "name": "stdout",
     "output_type": "stream",
     "text": [
      "epochs: 10 | learning_rate: 0.003 | _lambda: 0.0\n"
     ]
    },
    {
     "data": {
      "application/vnd.jupyter.widget-view+json": {
       "model_id": "f6ac5bd24644469e850e3c3f34d2802d",
       "version_major": 2,
       "version_minor": 0
      },
      "text/plain": [
       "Total SGD epochs completion:   0%|          | 0/10 [00:00<?, ?it/s]"
      ]
     },
     "metadata": {},
     "output_type": "display_data"
    },
    {
     "data": {
      "application/vnd.jupyter.widget-view+json": {
       "model_id": "6d7f7449939e4f7c8e5b729a39054659",
       "version_major": 2,
       "version_minor": 0
      },
      "text/plain": [
       "Epoch #0 completion:   0%|          | 0/80668 [00:00<?, ?it/s]"
      ]
     },
     "metadata": {},
     "output_type": "display_data"
    },
    {
     "data": {
      "application/vnd.jupyter.widget-view+json": {
       "model_id": "cf5785f9c64f4f9a9f801b470e570e6b",
       "version_major": 2,
       "version_minor": 0
      },
      "text/plain": [
       "Epoch #1 completion:   0%|          | 0/80668 [00:00<?, ?it/s]"
      ]
     },
     "metadata": {},
     "output_type": "display_data"
    },
    {
     "data": {
      "application/vnd.jupyter.widget-view+json": {
       "model_id": "fd41bacd0c7d4a118626ec9a246d6713",
       "version_major": 2,
       "version_minor": 0
      },
      "text/plain": [
       "Epoch #2 completion:   0%|          | 0/80668 [00:00<?, ?it/s]"
      ]
     },
     "metadata": {},
     "output_type": "display_data"
    },
    {
     "data": {
      "application/vnd.jupyter.widget-view+json": {
       "model_id": "e7a0be2ba85a4ed3befe8ac56131fff4",
       "version_major": 2,
       "version_minor": 0
      },
      "text/plain": [
       "Epoch #3 completion:   0%|          | 0/80668 [00:00<?, ?it/s]"
      ]
     },
     "metadata": {},
     "output_type": "display_data"
    },
    {
     "data": {
      "application/vnd.jupyter.widget-view+json": {
       "model_id": "60acb0f69d284eddbe6bcf9573ab4041",
       "version_major": 2,
       "version_minor": 0
      },
      "text/plain": [
       "Epoch #4 completion:   0%|          | 0/80668 [00:00<?, ?it/s]"
      ]
     },
     "metadata": {},
     "output_type": "display_data"
    },
    {
     "data": {
      "application/vnd.jupyter.widget-view+json": {
       "model_id": "e104fdf326754e88b3ff74d8f298a61a",
       "version_major": 2,
       "version_minor": 0
      },
      "text/plain": [
       "Epoch #5 completion:   0%|          | 0/80668 [00:00<?, ?it/s]"
      ]
     },
     "metadata": {},
     "output_type": "display_data"
    },
    {
     "data": {
      "application/vnd.jupyter.widget-view+json": {
       "model_id": "6cba8c9faaa947eda7246d5936cd2757",
       "version_major": 2,
       "version_minor": 0
      },
      "text/plain": [
       "Epoch #6 completion:   0%|          | 0/80668 [00:00<?, ?it/s]"
      ]
     },
     "metadata": {},
     "output_type": "display_data"
    },
    {
     "data": {
      "application/vnd.jupyter.widget-view+json": {
       "model_id": "c6f8cdd1662c4571bde382ead114c091",
       "version_major": 2,
       "version_minor": 0
      },
      "text/plain": [
       "Epoch #7 completion:   0%|          | 0/80668 [00:00<?, ?it/s]"
      ]
     },
     "metadata": {},
     "output_type": "display_data"
    },
    {
     "data": {
      "application/vnd.jupyter.widget-view+json": {
       "model_id": "e205ec11fe8f4b5a9a5833bc9287787c",
       "version_major": 2,
       "version_minor": 0
      },
      "text/plain": [
       "Epoch #8 completion:   0%|          | 0/80668 [00:00<?, ?it/s]"
      ]
     },
     "metadata": {},
     "output_type": "display_data"
    },
    {
     "data": {
      "application/vnd.jupyter.widget-view+json": {
       "model_id": "cab81fdc9bbc471d8e73bc9368b0e424",
       "version_major": 2,
       "version_minor": 0
      },
      "text/plain": [
       "Epoch #9 completion:   0%|          | 0/80668 [00:00<?, ?it/s]"
      ]
     },
     "metadata": {},
     "output_type": "display_data"
    },
    {
     "name": "stdout",
     "output_type": "stream",
     "text": [
      "epochs: 10 | learning_rate: 0.003 | _lambda: 0.1\n"
     ]
    },
    {
     "data": {
      "application/vnd.jupyter.widget-view+json": {
       "model_id": "0d8f2a68e2224b95ae0f0d6000b8d66b",
       "version_major": 2,
       "version_minor": 0
      },
      "text/plain": [
       "Total SGD epochs completion:   0%|          | 0/10 [00:00<?, ?it/s]"
      ]
     },
     "metadata": {},
     "output_type": "display_data"
    },
    {
     "data": {
      "application/vnd.jupyter.widget-view+json": {
       "model_id": "29eef5a2f7dc48c1a96f17a9219fc2fa",
       "version_major": 2,
       "version_minor": 0
      },
      "text/plain": [
       "Epoch #0 completion:   0%|          | 0/80668 [00:00<?, ?it/s]"
      ]
     },
     "metadata": {},
     "output_type": "display_data"
    },
    {
     "data": {
      "application/vnd.jupyter.widget-view+json": {
       "model_id": "ed998acd3e8940528aba9d1795bfd82f",
       "version_major": 2,
       "version_minor": 0
      },
      "text/plain": [
       "Epoch #1 completion:   0%|          | 0/80668 [00:00<?, ?it/s]"
      ]
     },
     "metadata": {},
     "output_type": "display_data"
    },
    {
     "data": {
      "application/vnd.jupyter.widget-view+json": {
       "model_id": "5251b27a879a4956819a4b9a284a3d7b",
       "version_major": 2,
       "version_minor": 0
      },
      "text/plain": [
       "Epoch #2 completion:   0%|          | 0/80668 [00:00<?, ?it/s]"
      ]
     },
     "metadata": {},
     "output_type": "display_data"
    },
    {
     "data": {
      "application/vnd.jupyter.widget-view+json": {
       "model_id": "93d037b8ec8549e0bf56cda66811ce2d",
       "version_major": 2,
       "version_minor": 0
      },
      "text/plain": [
       "Epoch #3 completion:   0%|          | 0/80668 [00:00<?, ?it/s]"
      ]
     },
     "metadata": {},
     "output_type": "display_data"
    },
    {
     "data": {
      "application/vnd.jupyter.widget-view+json": {
       "model_id": "26338e65e9dd44a6942227f1e781ca3b",
       "version_major": 2,
       "version_minor": 0
      },
      "text/plain": [
       "Epoch #4 completion:   0%|          | 0/80668 [00:00<?, ?it/s]"
      ]
     },
     "metadata": {},
     "output_type": "display_data"
    },
    {
     "data": {
      "application/vnd.jupyter.widget-view+json": {
       "model_id": "82005dfb721d4b9f8dd7a8312c9a3949",
       "version_major": 2,
       "version_minor": 0
      },
      "text/plain": [
       "Epoch #5 completion:   0%|          | 0/80668 [00:00<?, ?it/s]"
      ]
     },
     "metadata": {},
     "output_type": "display_data"
    },
    {
     "data": {
      "application/vnd.jupyter.widget-view+json": {
       "model_id": "25da992922b048ada1ea6cd31142357c",
       "version_major": 2,
       "version_minor": 0
      },
      "text/plain": [
       "Epoch #6 completion:   0%|          | 0/80668 [00:00<?, ?it/s]"
      ]
     },
     "metadata": {},
     "output_type": "display_data"
    },
    {
     "data": {
      "application/vnd.jupyter.widget-view+json": {
       "model_id": "a36d790f1b0a40169b426ec654243099",
       "version_major": 2,
       "version_minor": 0
      },
      "text/plain": [
       "Epoch #7 completion:   0%|          | 0/80668 [00:00<?, ?it/s]"
      ]
     },
     "metadata": {},
     "output_type": "display_data"
    },
    {
     "data": {
      "application/vnd.jupyter.widget-view+json": {
       "model_id": "6685935e39a74f898bec00f98c6300eb",
       "version_major": 2,
       "version_minor": 0
      },
      "text/plain": [
       "Epoch #8 completion:   0%|          | 0/80668 [00:00<?, ?it/s]"
      ]
     },
     "metadata": {},
     "output_type": "display_data"
    },
    {
     "data": {
      "application/vnd.jupyter.widget-view+json": {
       "model_id": "cfaf97eec97945e59c7c70ab2cea8c36",
       "version_major": 2,
       "version_minor": 0
      },
      "text/plain": [
       "Epoch #9 completion:   0%|          | 0/80668 [00:00<?, ?it/s]"
      ]
     },
     "metadata": {},
     "output_type": "display_data"
    },
    {
     "name": "stdout",
     "output_type": "stream",
     "text": [
      "epochs: 10 | learning_rate: 0.003 | _lambda: 0.01\n"
     ]
    },
    {
     "data": {
      "application/vnd.jupyter.widget-view+json": {
       "model_id": "09791ec320254faaa6d469ff79180bc8",
       "version_major": 2,
       "version_minor": 0
      },
      "text/plain": [
       "Total SGD epochs completion:   0%|          | 0/10 [00:00<?, ?it/s]"
      ]
     },
     "metadata": {},
     "output_type": "display_data"
    },
    {
     "data": {
      "application/vnd.jupyter.widget-view+json": {
       "model_id": "5a76eece8b90440ea8d9e6a7b42b10f7",
       "version_major": 2,
       "version_minor": 0
      },
      "text/plain": [
       "Epoch #0 completion:   0%|          | 0/80668 [00:00<?, ?it/s]"
      ]
     },
     "metadata": {},
     "output_type": "display_data"
    },
    {
     "data": {
      "application/vnd.jupyter.widget-view+json": {
       "model_id": "f186fd977aac40efb99247c84a2876a1",
       "version_major": 2,
       "version_minor": 0
      },
      "text/plain": [
       "Epoch #1 completion:   0%|          | 0/80668 [00:00<?, ?it/s]"
      ]
     },
     "metadata": {},
     "output_type": "display_data"
    },
    {
     "data": {
      "application/vnd.jupyter.widget-view+json": {
       "model_id": "5b4e03173837496d82a52a09bf5b03cd",
       "version_major": 2,
       "version_minor": 0
      },
      "text/plain": [
       "Epoch #2 completion:   0%|          | 0/80668 [00:00<?, ?it/s]"
      ]
     },
     "metadata": {},
     "output_type": "display_data"
    },
    {
     "data": {
      "application/vnd.jupyter.widget-view+json": {
       "model_id": "68defbb1b039440883f638ad2f733170",
       "version_major": 2,
       "version_minor": 0
      },
      "text/plain": [
       "Epoch #3 completion:   0%|          | 0/80668 [00:00<?, ?it/s]"
      ]
     },
     "metadata": {},
     "output_type": "display_data"
    },
    {
     "data": {
      "application/vnd.jupyter.widget-view+json": {
       "model_id": "681f1de5ec034d13b5c4085368d4b562",
       "version_major": 2,
       "version_minor": 0
      },
      "text/plain": [
       "Epoch #4 completion:   0%|          | 0/80668 [00:00<?, ?it/s]"
      ]
     },
     "metadata": {},
     "output_type": "display_data"
    },
    {
     "data": {
      "application/vnd.jupyter.widget-view+json": {
       "model_id": "f7043111698149d2aa78a667b24888ca",
       "version_major": 2,
       "version_minor": 0
      },
      "text/plain": [
       "Epoch #5 completion:   0%|          | 0/80668 [00:00<?, ?it/s]"
      ]
     },
     "metadata": {},
     "output_type": "display_data"
    },
    {
     "data": {
      "application/vnd.jupyter.widget-view+json": {
       "model_id": "6204e5f5098c434d85f5698fecb8ab43",
       "version_major": 2,
       "version_minor": 0
      },
      "text/plain": [
       "Epoch #6 completion:   0%|          | 0/80668 [00:00<?, ?it/s]"
      ]
     },
     "metadata": {},
     "output_type": "display_data"
    },
    {
     "data": {
      "application/vnd.jupyter.widget-view+json": {
       "model_id": "b9e983397f914e01b5b661edcd2f17b5",
       "version_major": 2,
       "version_minor": 0
      },
      "text/plain": [
       "Epoch #7 completion:   0%|          | 0/80668 [00:00<?, ?it/s]"
      ]
     },
     "metadata": {},
     "output_type": "display_data"
    },
    {
     "data": {
      "application/vnd.jupyter.widget-view+json": {
       "model_id": "c959b64c81b844deaad476effc5075c4",
       "version_major": 2,
       "version_minor": 0
      },
      "text/plain": [
       "Epoch #8 completion:   0%|          | 0/80668 [00:00<?, ?it/s]"
      ]
     },
     "metadata": {},
     "output_type": "display_data"
    },
    {
     "data": {
      "application/vnd.jupyter.widget-view+json": {
       "model_id": "0070e5201ee34fcfba0884abfa1ac1cd",
       "version_major": 2,
       "version_minor": 0
      },
      "text/plain": [
       "Epoch #9 completion:   0%|          | 0/80668 [00:00<?, ?it/s]"
      ]
     },
     "metadata": {},
     "output_type": "display_data"
    },
    {
     "name": "stdout",
     "output_type": "stream",
     "text": [
      "epochs: 10 | learning_rate: 0.003 | _lambda: 10\n"
     ]
    },
    {
     "data": {
      "application/vnd.jupyter.widget-view+json": {
       "model_id": "5b4714cb7f5f4202a7f7bbb4774523fe",
       "version_major": 2,
       "version_minor": 0
      },
      "text/plain": [
       "Total SGD epochs completion:   0%|          | 0/10 [00:00<?, ?it/s]"
      ]
     },
     "metadata": {},
     "output_type": "display_data"
    },
    {
     "data": {
      "application/vnd.jupyter.widget-view+json": {
       "model_id": "a85ecca7eb9b441cb67e17ec3061f966",
       "version_major": 2,
       "version_minor": 0
      },
      "text/plain": [
       "Epoch #0 completion:   0%|          | 0/80668 [00:00<?, ?it/s]"
      ]
     },
     "metadata": {},
     "output_type": "display_data"
    },
    {
     "data": {
      "application/vnd.jupyter.widget-view+json": {
       "model_id": "7bf34660d01d45999a55a179f48298a4",
       "version_major": 2,
       "version_minor": 0
      },
      "text/plain": [
       "Epoch #1 completion:   0%|          | 0/80668 [00:00<?, ?it/s]"
      ]
     },
     "metadata": {},
     "output_type": "display_data"
    },
    {
     "data": {
      "application/vnd.jupyter.widget-view+json": {
       "model_id": "6fcdf3886f7b4af88a6ad8fa91273150",
       "version_major": 2,
       "version_minor": 0
      },
      "text/plain": [
       "Epoch #2 completion:   0%|          | 0/80668 [00:00<?, ?it/s]"
      ]
     },
     "metadata": {},
     "output_type": "display_data"
    },
    {
     "data": {
      "application/vnd.jupyter.widget-view+json": {
       "model_id": "0e22425d81d547ecaa88d61c1c46c891",
       "version_major": 2,
       "version_minor": 0
      },
      "text/plain": [
       "Epoch #3 completion:   0%|          | 0/80668 [00:00<?, ?it/s]"
      ]
     },
     "metadata": {},
     "output_type": "display_data"
    },
    {
     "data": {
      "application/vnd.jupyter.widget-view+json": {
       "model_id": "15dd80e161a64e758756c84a4394cc00",
       "version_major": 2,
       "version_minor": 0
      },
      "text/plain": [
       "Epoch #4 completion:   0%|          | 0/80668 [00:00<?, ?it/s]"
      ]
     },
     "metadata": {},
     "output_type": "display_data"
    },
    {
     "data": {
      "application/vnd.jupyter.widget-view+json": {
       "model_id": "c4408ab012a5477a8a8024957ca815a8",
       "version_major": 2,
       "version_minor": 0
      },
      "text/plain": [
       "Epoch #5 completion:   0%|          | 0/80668 [00:00<?, ?it/s]"
      ]
     },
     "metadata": {},
     "output_type": "display_data"
    },
    {
     "data": {
      "application/vnd.jupyter.widget-view+json": {
       "model_id": "978f2109fdee4011853a2712e123656f",
       "version_major": 2,
       "version_minor": 0
      },
      "text/plain": [
       "Epoch #6 completion:   0%|          | 0/80668 [00:00<?, ?it/s]"
      ]
     },
     "metadata": {},
     "output_type": "display_data"
    },
    {
     "data": {
      "application/vnd.jupyter.widget-view+json": {
       "model_id": "042d41b94c05455fa764b45f73eec685",
       "version_major": 2,
       "version_minor": 0
      },
      "text/plain": [
       "Epoch #7 completion:   0%|          | 0/80668 [00:00<?, ?it/s]"
      ]
     },
     "metadata": {},
     "output_type": "display_data"
    },
    {
     "data": {
      "application/vnd.jupyter.widget-view+json": {
       "model_id": "ba858b0c98cc40248b1496758f614d1e",
       "version_major": 2,
       "version_minor": 0
      },
      "text/plain": [
       "Epoch #8 completion:   0%|          | 0/80668 [00:00<?, ?it/s]"
      ]
     },
     "metadata": {},
     "output_type": "display_data"
    },
    {
     "data": {
      "application/vnd.jupyter.widget-view+json": {
       "model_id": "8040315a067c4fbdabf83c1586273039",
       "version_major": 2,
       "version_minor": 0
      },
      "text/plain": [
       "Epoch #9 completion:   0%|          | 0/80668 [00:00<?, ?it/s]"
      ]
     },
     "metadata": {},
     "output_type": "display_data"
    },
    {
     "name": "stdout",
     "output_type": "stream",
     "text": [
      "epochs: 10 | learning_rate: 0.03 | _lambda: 0.0\n"
     ]
    },
    {
     "data": {
      "application/vnd.jupyter.widget-view+json": {
       "model_id": "e8403065904f4b4e9517e5bdb1cd736f",
       "version_major": 2,
       "version_minor": 0
      },
      "text/plain": [
       "Total SGD epochs completion:   0%|          | 0/10 [00:00<?, ?it/s]"
      ]
     },
     "metadata": {},
     "output_type": "display_data"
    },
    {
     "data": {
      "application/vnd.jupyter.widget-view+json": {
       "model_id": "25ebc98da946469ba31da4c676da4395",
       "version_major": 2,
       "version_minor": 0
      },
      "text/plain": [
       "Epoch #0 completion:   0%|          | 0/80668 [00:00<?, ?it/s]"
      ]
     },
     "metadata": {},
     "output_type": "display_data"
    },
    {
     "data": {
      "application/vnd.jupyter.widget-view+json": {
       "model_id": "f269b085853f4b388f6fd0c7c538a8b7",
       "version_major": 2,
       "version_minor": 0
      },
      "text/plain": [
       "Epoch #1 completion:   0%|          | 0/80668 [00:00<?, ?it/s]"
      ]
     },
     "metadata": {},
     "output_type": "display_data"
    },
    {
     "data": {
      "application/vnd.jupyter.widget-view+json": {
       "model_id": "145c5fe25c4c49989164c264776d6685",
       "version_major": 2,
       "version_minor": 0
      },
      "text/plain": [
       "Epoch #2 completion:   0%|          | 0/80668 [00:00<?, ?it/s]"
      ]
     },
     "metadata": {},
     "output_type": "display_data"
    },
    {
     "data": {
      "application/vnd.jupyter.widget-view+json": {
       "model_id": "da37bee5c2fd40c19e9a144779ff3e29",
       "version_major": 2,
       "version_minor": 0
      },
      "text/plain": [
       "Epoch #3 completion:   0%|          | 0/80668 [00:00<?, ?it/s]"
      ]
     },
     "metadata": {},
     "output_type": "display_data"
    },
    {
     "data": {
      "application/vnd.jupyter.widget-view+json": {
       "model_id": "e2bae2ed4ad44ba3a526b25937f9d962",
       "version_major": 2,
       "version_minor": 0
      },
      "text/plain": [
       "Epoch #4 completion:   0%|          | 0/80668 [00:00<?, ?it/s]"
      ]
     },
     "metadata": {},
     "output_type": "display_data"
    },
    {
     "data": {
      "application/vnd.jupyter.widget-view+json": {
       "model_id": "d0bafdfb978948ceaecd9454ae62ceb9",
       "version_major": 2,
       "version_minor": 0
      },
      "text/plain": [
       "Epoch #5 completion:   0%|          | 0/80668 [00:00<?, ?it/s]"
      ]
     },
     "metadata": {},
     "output_type": "display_data"
    },
    {
     "data": {
      "application/vnd.jupyter.widget-view+json": {
       "model_id": "d3a3b90955a746bea6c6186c30ac6c93",
       "version_major": 2,
       "version_minor": 0
      },
      "text/plain": [
       "Epoch #6 completion:   0%|          | 0/80668 [00:00<?, ?it/s]"
      ]
     },
     "metadata": {},
     "output_type": "display_data"
    },
    {
     "data": {
      "application/vnd.jupyter.widget-view+json": {
       "model_id": "56fb31dd16bf4d3e9483df2bf5ab2c97",
       "version_major": 2,
       "version_minor": 0
      },
      "text/plain": [
       "Epoch #7 completion:   0%|          | 0/80668 [00:00<?, ?it/s]"
      ]
     },
     "metadata": {},
     "output_type": "display_data"
    },
    {
     "data": {
      "application/vnd.jupyter.widget-view+json": {
       "model_id": "e202cd42147846bd8e436dd726afa317",
       "version_major": 2,
       "version_minor": 0
      },
      "text/plain": [
       "Epoch #8 completion:   0%|          | 0/80668 [00:00<?, ?it/s]"
      ]
     },
     "metadata": {},
     "output_type": "display_data"
    },
    {
     "data": {
      "application/vnd.jupyter.widget-view+json": {
       "model_id": "e3eb05a8693e4a20b1a9a1de9f84fbea",
       "version_major": 2,
       "version_minor": 0
      },
      "text/plain": [
       "Epoch #9 completion:   0%|          | 0/80668 [00:00<?, ?it/s]"
      ]
     },
     "metadata": {},
     "output_type": "display_data"
    },
    {
     "name": "stdout",
     "output_type": "stream",
     "text": [
      "epochs: 10 | learning_rate: 0.03 | _lambda: 0.1\n"
     ]
    },
    {
     "data": {
      "application/vnd.jupyter.widget-view+json": {
       "model_id": "91254b15fedf47d39e4bdb505ab9f708",
       "version_major": 2,
       "version_minor": 0
      },
      "text/plain": [
       "Total SGD epochs completion:   0%|          | 0/10 [00:00<?, ?it/s]"
      ]
     },
     "metadata": {},
     "output_type": "display_data"
    },
    {
     "data": {
      "application/vnd.jupyter.widget-view+json": {
       "model_id": "4035d0cc55fa4998956c2f06db006f45",
       "version_major": 2,
       "version_minor": 0
      },
      "text/plain": [
       "Epoch #0 completion:   0%|          | 0/80668 [00:00<?, ?it/s]"
      ]
     },
     "metadata": {},
     "output_type": "display_data"
    },
    {
     "data": {
      "application/vnd.jupyter.widget-view+json": {
       "model_id": "5963014eeb714f52bcd9a79d130b4e86",
       "version_major": 2,
       "version_minor": 0
      },
      "text/plain": [
       "Epoch #1 completion:   0%|          | 0/80668 [00:00<?, ?it/s]"
      ]
     },
     "metadata": {},
     "output_type": "display_data"
    },
    {
     "data": {
      "application/vnd.jupyter.widget-view+json": {
       "model_id": "909837c429dc493194bd6b6e116bff80",
       "version_major": 2,
       "version_minor": 0
      },
      "text/plain": [
       "Epoch #2 completion:   0%|          | 0/80668 [00:00<?, ?it/s]"
      ]
     },
     "metadata": {},
     "output_type": "display_data"
    },
    {
     "data": {
      "application/vnd.jupyter.widget-view+json": {
       "model_id": "cab777522b0741f69dd26dd0fb62cf0d",
       "version_major": 2,
       "version_minor": 0
      },
      "text/plain": [
       "Epoch #3 completion:   0%|          | 0/80668 [00:00<?, ?it/s]"
      ]
     },
     "metadata": {},
     "output_type": "display_data"
    },
    {
     "data": {
      "application/vnd.jupyter.widget-view+json": {
       "model_id": "1381c9f9a71c429985c8b78b1cdab496",
       "version_major": 2,
       "version_minor": 0
      },
      "text/plain": [
       "Epoch #4 completion:   0%|          | 0/80668 [00:00<?, ?it/s]"
      ]
     },
     "metadata": {},
     "output_type": "display_data"
    },
    {
     "data": {
      "application/vnd.jupyter.widget-view+json": {
       "model_id": "2eaeb348ff1b441bab6fa85c1de49f15",
       "version_major": 2,
       "version_minor": 0
      },
      "text/plain": [
       "Epoch #5 completion:   0%|          | 0/80668 [00:00<?, ?it/s]"
      ]
     },
     "metadata": {},
     "output_type": "display_data"
    },
    {
     "data": {
      "application/vnd.jupyter.widget-view+json": {
       "model_id": "24887b1c307840e0b320b21bfc8bd61a",
       "version_major": 2,
       "version_minor": 0
      },
      "text/plain": [
       "Epoch #6 completion:   0%|          | 0/80668 [00:00<?, ?it/s]"
      ]
     },
     "metadata": {},
     "output_type": "display_data"
    },
    {
     "data": {
      "application/vnd.jupyter.widget-view+json": {
       "model_id": "351e919c2e3041ebbe6921e07a8eafa7",
       "version_major": 2,
       "version_minor": 0
      },
      "text/plain": [
       "Epoch #7 completion:   0%|          | 0/80668 [00:00<?, ?it/s]"
      ]
     },
     "metadata": {},
     "output_type": "display_data"
    },
    {
     "data": {
      "application/vnd.jupyter.widget-view+json": {
       "model_id": "a4fd885f7fdb41569e2042eb5073b9c4",
       "version_major": 2,
       "version_minor": 0
      },
      "text/plain": [
       "Epoch #8 completion:   0%|          | 0/80668 [00:00<?, ?it/s]"
      ]
     },
     "metadata": {},
     "output_type": "display_data"
    },
    {
     "data": {
      "application/vnd.jupyter.widget-view+json": {
       "model_id": "7e28239524f3497585a8682eafcaf2bd",
       "version_major": 2,
       "version_minor": 0
      },
      "text/plain": [
       "Epoch #9 completion:   0%|          | 0/80668 [00:00<?, ?it/s]"
      ]
     },
     "metadata": {},
     "output_type": "display_data"
    },
    {
     "name": "stdout",
     "output_type": "stream",
     "text": [
      "epochs: 10 | learning_rate: 0.03 | _lambda: 0.01\n"
     ]
    },
    {
     "data": {
      "application/vnd.jupyter.widget-view+json": {
       "model_id": "b073eb73ae4645cf8c1dafd317b3481b",
       "version_major": 2,
       "version_minor": 0
      },
      "text/plain": [
       "Total SGD epochs completion:   0%|          | 0/10 [00:00<?, ?it/s]"
      ]
     },
     "metadata": {},
     "output_type": "display_data"
    },
    {
     "data": {
      "application/vnd.jupyter.widget-view+json": {
       "model_id": "dd48d1afe70c4298bc51dd1471d57da6",
       "version_major": 2,
       "version_minor": 0
      },
      "text/plain": [
       "Epoch #0 completion:   0%|          | 0/80668 [00:00<?, ?it/s]"
      ]
     },
     "metadata": {},
     "output_type": "display_data"
    },
    {
     "data": {
      "application/vnd.jupyter.widget-view+json": {
       "model_id": "4c8a008fc0204868aaf487415a3153a7",
       "version_major": 2,
       "version_minor": 0
      },
      "text/plain": [
       "Epoch #1 completion:   0%|          | 0/80668 [00:00<?, ?it/s]"
      ]
     },
     "metadata": {},
     "output_type": "display_data"
    },
    {
     "data": {
      "application/vnd.jupyter.widget-view+json": {
       "model_id": "e39e2d1811c0453592919ddc612f5f0b",
       "version_major": 2,
       "version_minor": 0
      },
      "text/plain": [
       "Epoch #2 completion:   0%|          | 0/80668 [00:00<?, ?it/s]"
      ]
     },
     "metadata": {},
     "output_type": "display_data"
    },
    {
     "data": {
      "application/vnd.jupyter.widget-view+json": {
       "model_id": "c375c92e5c464dde85aa0620633aaf05",
       "version_major": 2,
       "version_minor": 0
      },
      "text/plain": [
       "Epoch #3 completion:   0%|          | 0/80668 [00:00<?, ?it/s]"
      ]
     },
     "metadata": {},
     "output_type": "display_data"
    },
    {
     "data": {
      "application/vnd.jupyter.widget-view+json": {
       "model_id": "4286e9e2e7e74f519a684e6a57b50449",
       "version_major": 2,
       "version_minor": 0
      },
      "text/plain": [
       "Epoch #4 completion:   0%|          | 0/80668 [00:00<?, ?it/s]"
      ]
     },
     "metadata": {},
     "output_type": "display_data"
    },
    {
     "data": {
      "application/vnd.jupyter.widget-view+json": {
       "model_id": "c3a569ada0bc4e08a437c60d64d65d75",
       "version_major": 2,
       "version_minor": 0
      },
      "text/plain": [
       "Epoch #5 completion:   0%|          | 0/80668 [00:00<?, ?it/s]"
      ]
     },
     "metadata": {},
     "output_type": "display_data"
    },
    {
     "data": {
      "application/vnd.jupyter.widget-view+json": {
       "model_id": "77ffbecb09494b2c862043c3320cbcbc",
       "version_major": 2,
       "version_minor": 0
      },
      "text/plain": [
       "Epoch #6 completion:   0%|          | 0/80668 [00:00<?, ?it/s]"
      ]
     },
     "metadata": {},
     "output_type": "display_data"
    },
    {
     "data": {
      "application/vnd.jupyter.widget-view+json": {
       "model_id": "1463532060f345ed88d584d47e0ffece",
       "version_major": 2,
       "version_minor": 0
      },
      "text/plain": [
       "Epoch #7 completion:   0%|          | 0/80668 [00:00<?, ?it/s]"
      ]
     },
     "metadata": {},
     "output_type": "display_data"
    },
    {
     "data": {
      "application/vnd.jupyter.widget-view+json": {
       "model_id": "be2c755709a641fea3092b4a7b869b9f",
       "version_major": 2,
       "version_minor": 0
      },
      "text/plain": [
       "Epoch #8 completion:   0%|          | 0/80668 [00:00<?, ?it/s]"
      ]
     },
     "metadata": {},
     "output_type": "display_data"
    },
    {
     "data": {
      "application/vnd.jupyter.widget-view+json": {
       "model_id": "735ed94f9d92434283498bac003896cb",
       "version_major": 2,
       "version_minor": 0
      },
      "text/plain": [
       "Epoch #9 completion:   0%|          | 0/80668 [00:00<?, ?it/s]"
      ]
     },
     "metadata": {},
     "output_type": "display_data"
    },
    {
     "name": "stdout",
     "output_type": "stream",
     "text": [
      "epochs: 10 | learning_rate: 0.03 | _lambda: 10\n"
     ]
    },
    {
     "data": {
      "application/vnd.jupyter.widget-view+json": {
       "model_id": "a6189a0b480142b69bcb5b727d9cd868",
       "version_major": 2,
       "version_minor": 0
      },
      "text/plain": [
       "Total SGD epochs completion:   0%|          | 0/10 [00:00<?, ?it/s]"
      ]
     },
     "metadata": {},
     "output_type": "display_data"
    },
    {
     "data": {
      "application/vnd.jupyter.widget-view+json": {
       "model_id": "a8bdbed012244fc892b00841ad27b6a0",
       "version_major": 2,
       "version_minor": 0
      },
      "text/plain": [
       "Epoch #0 completion:   0%|          | 0/80668 [00:00<?, ?it/s]"
      ]
     },
     "metadata": {},
     "output_type": "display_data"
    },
    {
     "data": {
      "application/vnd.jupyter.widget-view+json": {
       "model_id": "b385ec6d0f3e46e1a96de3e5ea267058",
       "version_major": 2,
       "version_minor": 0
      },
      "text/plain": [
       "Epoch #1 completion:   0%|          | 0/80668 [00:00<?, ?it/s]"
      ]
     },
     "metadata": {},
     "output_type": "display_data"
    },
    {
     "data": {
      "application/vnd.jupyter.widget-view+json": {
       "model_id": "aac6735a4fa640a4a8f51c4a90c3d893",
       "version_major": 2,
       "version_minor": 0
      },
      "text/plain": [
       "Epoch #2 completion:   0%|          | 0/80668 [00:00<?, ?it/s]"
      ]
     },
     "metadata": {},
     "output_type": "display_data"
    },
    {
     "data": {
      "application/vnd.jupyter.widget-view+json": {
       "model_id": "2ea71a828a1240cbb8befcf7023cb633",
       "version_major": 2,
       "version_minor": 0
      },
      "text/plain": [
       "Epoch #3 completion:   0%|          | 0/80668 [00:00<?, ?it/s]"
      ]
     },
     "metadata": {},
     "output_type": "display_data"
    },
    {
     "data": {
      "application/vnd.jupyter.widget-view+json": {
       "model_id": "4ac9a82c8ba442d7b7b4db193301b86b",
       "version_major": 2,
       "version_minor": 0
      },
      "text/plain": [
       "Epoch #4 completion:   0%|          | 0/80668 [00:00<?, ?it/s]"
      ]
     },
     "metadata": {},
     "output_type": "display_data"
    },
    {
     "data": {
      "application/vnd.jupyter.widget-view+json": {
       "model_id": "6a61100ce14242ee9b1ce125d69a650f",
       "version_major": 2,
       "version_minor": 0
      },
      "text/plain": [
       "Epoch #5 completion:   0%|          | 0/80668 [00:00<?, ?it/s]"
      ]
     },
     "metadata": {},
     "output_type": "display_data"
    },
    {
     "data": {
      "application/vnd.jupyter.widget-view+json": {
       "model_id": "e138c3ea67014a2a832d1c1634c82100",
       "version_major": 2,
       "version_minor": 0
      },
      "text/plain": [
       "Epoch #6 completion:   0%|          | 0/80668 [00:00<?, ?it/s]"
      ]
     },
     "metadata": {},
     "output_type": "display_data"
    },
    {
     "data": {
      "application/vnd.jupyter.widget-view+json": {
       "model_id": "013a8280c0b64e858f1bc77221164b42",
       "version_major": 2,
       "version_minor": 0
      },
      "text/plain": [
       "Epoch #7 completion:   0%|          | 0/80668 [00:00<?, ?it/s]"
      ]
     },
     "metadata": {},
     "output_type": "display_data"
    },
    {
     "data": {
      "application/vnd.jupyter.widget-view+json": {
       "model_id": "69953a46fbb342089413db7da1f119eb",
       "version_major": 2,
       "version_minor": 0
      },
      "text/plain": [
       "Epoch #8 completion:   0%|          | 0/80668 [00:00<?, ?it/s]"
      ]
     },
     "metadata": {},
     "output_type": "display_data"
    },
    {
     "data": {
      "application/vnd.jupyter.widget-view+json": {
       "model_id": "3ea6c5dd0d4343619c1bcdb515844edc",
       "version_major": 2,
       "version_minor": 0
      },
      "text/plain": [
       "Epoch #9 completion:   0%|          | 0/80668 [00:00<?, ?it/s]"
      ]
     },
     "metadata": {},
     "output_type": "display_data"
    },
    {
     "name": "stdout",
     "output_type": "stream",
     "text": [
      "epochs: 10 | learning_rate: 0.3 | _lambda: 0.0\n"
     ]
    },
    {
     "data": {
      "application/vnd.jupyter.widget-view+json": {
       "model_id": "b932845f3a18413b816c2669b16e9b4c",
       "version_major": 2,
       "version_minor": 0
      },
      "text/plain": [
       "Total SGD epochs completion:   0%|          | 0/10 [00:00<?, ?it/s]"
      ]
     },
     "metadata": {},
     "output_type": "display_data"
    },
    {
     "data": {
      "application/vnd.jupyter.widget-view+json": {
       "model_id": "47ce0e5b38354213877d78f982eeb376",
       "version_major": 2,
       "version_minor": 0
      },
      "text/plain": [
       "Epoch #0 completion:   0%|          | 0/80668 [00:00<?, ?it/s]"
      ]
     },
     "metadata": {},
     "output_type": "display_data"
    },
    {
     "data": {
      "application/vnd.jupyter.widget-view+json": {
       "model_id": "714258ba64dc4e699c544999257ee1b4",
       "version_major": 2,
       "version_minor": 0
      },
      "text/plain": [
       "Epoch #1 completion:   0%|          | 0/80668 [00:00<?, ?it/s]"
      ]
     },
     "metadata": {},
     "output_type": "display_data"
    },
    {
     "data": {
      "application/vnd.jupyter.widget-view+json": {
       "model_id": "ae67a7b8232540feb1a6fc023dd6bc2c",
       "version_major": 2,
       "version_minor": 0
      },
      "text/plain": [
       "Epoch #2 completion:   0%|          | 0/80668 [00:00<?, ?it/s]"
      ]
     },
     "metadata": {},
     "output_type": "display_data"
    },
    {
     "data": {
      "application/vnd.jupyter.widget-view+json": {
       "model_id": "793010d72e9d4503bda4b806fcb2774e",
       "version_major": 2,
       "version_minor": 0
      },
      "text/plain": [
       "Epoch #3 completion:   0%|          | 0/80668 [00:00<?, ?it/s]"
      ]
     },
     "metadata": {},
     "output_type": "display_data"
    },
    {
     "data": {
      "application/vnd.jupyter.widget-view+json": {
       "model_id": "baee44898aa34ffc8e6fd7ff4aae4ae5",
       "version_major": 2,
       "version_minor": 0
      },
      "text/plain": [
       "Epoch #4 completion:   0%|          | 0/80668 [00:00<?, ?it/s]"
      ]
     },
     "metadata": {},
     "output_type": "display_data"
    },
    {
     "data": {
      "application/vnd.jupyter.widget-view+json": {
       "model_id": "4667f678a9b34e9ba3518b652c934d82",
       "version_major": 2,
       "version_minor": 0
      },
      "text/plain": [
       "Epoch #5 completion:   0%|          | 0/80668 [00:00<?, ?it/s]"
      ]
     },
     "metadata": {},
     "output_type": "display_data"
    },
    {
     "data": {
      "application/vnd.jupyter.widget-view+json": {
       "model_id": "a84703b4318d40f8a281f3fb5dd87881",
       "version_major": 2,
       "version_minor": 0
      },
      "text/plain": [
       "Epoch #6 completion:   0%|          | 0/80668 [00:00<?, ?it/s]"
      ]
     },
     "metadata": {},
     "output_type": "display_data"
    },
    {
     "data": {
      "application/vnd.jupyter.widget-view+json": {
       "model_id": "2fd5379d3c1047feb059dadd77d185f0",
       "version_major": 2,
       "version_minor": 0
      },
      "text/plain": [
       "Epoch #7 completion:   0%|          | 0/80668 [00:00<?, ?it/s]"
      ]
     },
     "metadata": {},
     "output_type": "display_data"
    },
    {
     "data": {
      "application/vnd.jupyter.widget-view+json": {
       "model_id": "7ae4c27378114244a8a5c24f7d362f5f",
       "version_major": 2,
       "version_minor": 0
      },
      "text/plain": [
       "Epoch #8 completion:   0%|          | 0/80668 [00:00<?, ?it/s]"
      ]
     },
     "metadata": {},
     "output_type": "display_data"
    },
    {
     "data": {
      "application/vnd.jupyter.widget-view+json": {
       "model_id": "17e25730f3f344808b90aa5c9c29d6e3",
       "version_major": 2,
       "version_minor": 0
      },
      "text/plain": [
       "Epoch #9 completion:   0%|          | 0/80668 [00:00<?, ?it/s]"
      ]
     },
     "metadata": {},
     "output_type": "display_data"
    },
    {
     "name": "stdout",
     "output_type": "stream",
     "text": [
      "epochs: 10 | learning_rate: 0.3 | _lambda: 0.1\n"
     ]
    },
    {
     "data": {
      "application/vnd.jupyter.widget-view+json": {
       "model_id": "7614002cd4e84185b3e0d4b722b61701",
       "version_major": 2,
       "version_minor": 0
      },
      "text/plain": [
       "Total SGD epochs completion:   0%|          | 0/10 [00:00<?, ?it/s]"
      ]
     },
     "metadata": {},
     "output_type": "display_data"
    },
    {
     "data": {
      "application/vnd.jupyter.widget-view+json": {
       "model_id": "00d80f42edbb4caca89b270b08cd393f",
       "version_major": 2,
       "version_minor": 0
      },
      "text/plain": [
       "Epoch #0 completion:   0%|          | 0/80668 [00:00<?, ?it/s]"
      ]
     },
     "metadata": {},
     "output_type": "display_data"
    },
    {
     "data": {
      "application/vnd.jupyter.widget-view+json": {
       "model_id": "d256dab8d5294afbb388937b6130d0de",
       "version_major": 2,
       "version_minor": 0
      },
      "text/plain": [
       "Epoch #1 completion:   0%|          | 0/80668 [00:00<?, ?it/s]"
      ]
     },
     "metadata": {},
     "output_type": "display_data"
    },
    {
     "data": {
      "application/vnd.jupyter.widget-view+json": {
       "model_id": "006554768d0348ed85cb5b1819b89c29",
       "version_major": 2,
       "version_minor": 0
      },
      "text/plain": [
       "Epoch #2 completion:   0%|          | 0/80668 [00:00<?, ?it/s]"
      ]
     },
     "metadata": {},
     "output_type": "display_data"
    },
    {
     "data": {
      "application/vnd.jupyter.widget-view+json": {
       "model_id": "c45609ed4a554f7c8ab880ded83d722a",
       "version_major": 2,
       "version_minor": 0
      },
      "text/plain": [
       "Epoch #3 completion:   0%|          | 0/80668 [00:00<?, ?it/s]"
      ]
     },
     "metadata": {},
     "output_type": "display_data"
    },
    {
     "data": {
      "application/vnd.jupyter.widget-view+json": {
       "model_id": "dbb19236249243af955a4f9200806033",
       "version_major": 2,
       "version_minor": 0
      },
      "text/plain": [
       "Epoch #4 completion:   0%|          | 0/80668 [00:00<?, ?it/s]"
      ]
     },
     "metadata": {},
     "output_type": "display_data"
    },
    {
     "data": {
      "application/vnd.jupyter.widget-view+json": {
       "model_id": "44723dd940e348958939acd44aed7426",
       "version_major": 2,
       "version_minor": 0
      },
      "text/plain": [
       "Epoch #5 completion:   0%|          | 0/80668 [00:00<?, ?it/s]"
      ]
     },
     "metadata": {},
     "output_type": "display_data"
    },
    {
     "data": {
      "application/vnd.jupyter.widget-view+json": {
       "model_id": "7e7f896b3db04ba4b06ddb770d1b1d53",
       "version_major": 2,
       "version_minor": 0
      },
      "text/plain": [
       "Epoch #6 completion:   0%|          | 0/80668 [00:00<?, ?it/s]"
      ]
     },
     "metadata": {},
     "output_type": "display_data"
    },
    {
     "data": {
      "application/vnd.jupyter.widget-view+json": {
       "model_id": "e3c27f8e16a14fad9bb1f42216a92582",
       "version_major": 2,
       "version_minor": 0
      },
      "text/plain": [
       "Epoch #7 completion:   0%|          | 0/80668 [00:00<?, ?it/s]"
      ]
     },
     "metadata": {},
     "output_type": "display_data"
    },
    {
     "data": {
      "application/vnd.jupyter.widget-view+json": {
       "model_id": "9d713b0843e946c39cc39568e352871c",
       "version_major": 2,
       "version_minor": 0
      },
      "text/plain": [
       "Epoch #8 completion:   0%|          | 0/80668 [00:00<?, ?it/s]"
      ]
     },
     "metadata": {},
     "output_type": "display_data"
    },
    {
     "data": {
      "application/vnd.jupyter.widget-view+json": {
       "model_id": "f4765613582a44c598b84174c4cd4bec",
       "version_major": 2,
       "version_minor": 0
      },
      "text/plain": [
       "Epoch #9 completion:   0%|          | 0/80668 [00:00<?, ?it/s]"
      ]
     },
     "metadata": {},
     "output_type": "display_data"
    },
    {
     "name": "stdout",
     "output_type": "stream",
     "text": [
      "epochs: 10 | learning_rate: 0.3 | _lambda: 0.01\n"
     ]
    },
    {
     "data": {
      "application/vnd.jupyter.widget-view+json": {
       "model_id": "ec203a5b45ac4428be35a09dc6e4d863",
       "version_major": 2,
       "version_minor": 0
      },
      "text/plain": [
       "Total SGD epochs completion:   0%|          | 0/10 [00:00<?, ?it/s]"
      ]
     },
     "metadata": {},
     "output_type": "display_data"
    },
    {
     "data": {
      "application/vnd.jupyter.widget-view+json": {
       "model_id": "17f9eaee3e1b431784f337a25420ad54",
       "version_major": 2,
       "version_minor": 0
      },
      "text/plain": [
       "Epoch #0 completion:   0%|          | 0/80668 [00:00<?, ?it/s]"
      ]
     },
     "metadata": {},
     "output_type": "display_data"
    },
    {
     "data": {
      "application/vnd.jupyter.widget-view+json": {
       "model_id": "6878a3b3ed75426f9fe60f0268258b4b",
       "version_major": 2,
       "version_minor": 0
      },
      "text/plain": [
       "Epoch #1 completion:   0%|          | 0/80668 [00:00<?, ?it/s]"
      ]
     },
     "metadata": {},
     "output_type": "display_data"
    },
    {
     "data": {
      "application/vnd.jupyter.widget-view+json": {
       "model_id": "527865dd4b0a48b8b9055d38f1c832e9",
       "version_major": 2,
       "version_minor": 0
      },
      "text/plain": [
       "Epoch #2 completion:   0%|          | 0/80668 [00:00<?, ?it/s]"
      ]
     },
     "metadata": {},
     "output_type": "display_data"
    },
    {
     "data": {
      "application/vnd.jupyter.widget-view+json": {
       "model_id": "45d5b49ed722462d8eef2034009cb53a",
       "version_major": 2,
       "version_minor": 0
      },
      "text/plain": [
       "Epoch #3 completion:   0%|          | 0/80668 [00:00<?, ?it/s]"
      ]
     },
     "metadata": {},
     "output_type": "display_data"
    },
    {
     "data": {
      "application/vnd.jupyter.widget-view+json": {
       "model_id": "9c23433be74d4e1286d66d76f4d960b9",
       "version_major": 2,
       "version_minor": 0
      },
      "text/plain": [
       "Epoch #4 completion:   0%|          | 0/80668 [00:00<?, ?it/s]"
      ]
     },
     "metadata": {},
     "output_type": "display_data"
    },
    {
     "data": {
      "application/vnd.jupyter.widget-view+json": {
       "model_id": "44f7a3e3b98a475183f8862fb451c286",
       "version_major": 2,
       "version_minor": 0
      },
      "text/plain": [
       "Epoch #5 completion:   0%|          | 0/80668 [00:00<?, ?it/s]"
      ]
     },
     "metadata": {},
     "output_type": "display_data"
    },
    {
     "data": {
      "application/vnd.jupyter.widget-view+json": {
       "model_id": "b8268be71d4f46bcbd3e2f3293c657b4",
       "version_major": 2,
       "version_minor": 0
      },
      "text/plain": [
       "Epoch #6 completion:   0%|          | 0/80668 [00:00<?, ?it/s]"
      ]
     },
     "metadata": {},
     "output_type": "display_data"
    },
    {
     "data": {
      "application/vnd.jupyter.widget-view+json": {
       "model_id": "60d469b8e2264f64ba7b1c7a8d0184ba",
       "version_major": 2,
       "version_minor": 0
      },
      "text/plain": [
       "Epoch #7 completion:   0%|          | 0/80668 [00:00<?, ?it/s]"
      ]
     },
     "metadata": {},
     "output_type": "display_data"
    },
    {
     "data": {
      "application/vnd.jupyter.widget-view+json": {
       "model_id": "5be8d0b6363342f68c8950d959e35203",
       "version_major": 2,
       "version_minor": 0
      },
      "text/plain": [
       "Epoch #8 completion:   0%|          | 0/80668 [00:00<?, ?it/s]"
      ]
     },
     "metadata": {},
     "output_type": "display_data"
    },
    {
     "data": {
      "application/vnd.jupyter.widget-view+json": {
       "model_id": "0cc56d1b1b6f4cb693b3fdbe246565ac",
       "version_major": 2,
       "version_minor": 0
      },
      "text/plain": [
       "Epoch #9 completion:   0%|          | 0/80668 [00:00<?, ?it/s]"
      ]
     },
     "metadata": {},
     "output_type": "display_data"
    },
    {
     "name": "stdout",
     "output_type": "stream",
     "text": [
      "epochs: 10 | learning_rate: 0.3 | _lambda: 10\n"
     ]
    },
    {
     "data": {
      "application/vnd.jupyter.widget-view+json": {
       "model_id": "dd3922e855834198b9cbbb346d651de1",
       "version_major": 2,
       "version_minor": 0
      },
      "text/plain": [
       "Total SGD epochs completion:   0%|          | 0/2 [00:00<?, ?it/s]"
      ]
     },
     "metadata": {},
     "output_type": "display_data"
    },
    {
     "data": {
      "application/vnd.jupyter.widget-view+json": {
       "model_id": "2f9cd852b451490cbc5a7dce077b65f6",
       "version_major": 2,
       "version_minor": 0
      },
      "text/plain": [
       "Epoch #0 completion:   0%|          | 0/80668 [00:00<?, ?it/s]"
      ]
     },
     "metadata": {},
     "output_type": "display_data"
    },
    {
     "data": {
      "application/vnd.jupyter.widget-view+json": {
       "model_id": "4e3a46557e6f41769a12ab4ca4ba92d1",
       "version_major": 2,
       "version_minor": 0
      },
      "text/plain": [
       "Epoch #1 completion:   0%|          | 0/80668 [00:00<?, ?it/s]"
      ]
     },
     "metadata": {},
     "output_type": "display_data"
    },
    {
     "name": "stdout",
     "output_type": "stream",
     "text": [
      "epochs: 2 | learning_rate: 0.003 | _lambda: 0.0\n"
     ]
    },
    {
     "data": {
      "application/vnd.jupyter.widget-view+json": {
       "model_id": "7d37409a60bc4b628593a9c9ae31f22a",
       "version_major": 2,
       "version_minor": 0
      },
      "text/plain": [
       "Total SGD epochs completion:   0%|          | 0/2 [00:00<?, ?it/s]"
      ]
     },
     "metadata": {},
     "output_type": "display_data"
    },
    {
     "data": {
      "application/vnd.jupyter.widget-view+json": {
       "model_id": "ea071f8a167b4a6a906ae5438a58324a",
       "version_major": 2,
       "version_minor": 0
      },
      "text/plain": [
       "Epoch #0 completion:   0%|          | 0/80668 [00:00<?, ?it/s]"
      ]
     },
     "metadata": {},
     "output_type": "display_data"
    },
    {
     "data": {
      "application/vnd.jupyter.widget-view+json": {
       "model_id": "34c97d3103d7412d9c50a47a12d81486",
       "version_major": 2,
       "version_minor": 0
      },
      "text/plain": [
       "Epoch #1 completion:   0%|          | 0/80668 [00:00<?, ?it/s]"
      ]
     },
     "metadata": {},
     "output_type": "display_data"
    },
    {
     "name": "stdout",
     "output_type": "stream",
     "text": [
      "epochs: 2 | learning_rate: 0.003 | _lambda: 0.1\n"
     ]
    },
    {
     "data": {
      "application/vnd.jupyter.widget-view+json": {
       "model_id": "6ed6f6085dcf4fd4a2b021a472899d12",
       "version_major": 2,
       "version_minor": 0
      },
      "text/plain": [
       "Total SGD epochs completion:   0%|          | 0/2 [00:00<?, ?it/s]"
      ]
     },
     "metadata": {},
     "output_type": "display_data"
    },
    {
     "data": {
      "application/vnd.jupyter.widget-view+json": {
       "model_id": "791c284ba2604e718f495d30eae60eba",
       "version_major": 2,
       "version_minor": 0
      },
      "text/plain": [
       "Epoch #0 completion:   0%|          | 0/80668 [00:00<?, ?it/s]"
      ]
     },
     "metadata": {},
     "output_type": "display_data"
    },
    {
     "data": {
      "application/vnd.jupyter.widget-view+json": {
       "model_id": "44dd437bd5cf4d2db2e925725d57ea97",
       "version_major": 2,
       "version_minor": 0
      },
      "text/plain": [
       "Epoch #1 completion:   0%|          | 0/80668 [00:00<?, ?it/s]"
      ]
     },
     "metadata": {},
     "output_type": "display_data"
    },
    {
     "name": "stdout",
     "output_type": "stream",
     "text": [
      "epochs: 2 | learning_rate: 0.003 | _lambda: 0.01\n"
     ]
    },
    {
     "data": {
      "application/vnd.jupyter.widget-view+json": {
       "model_id": "9c060938af6f4e52bf2bb37208416155",
       "version_major": 2,
       "version_minor": 0
      },
      "text/plain": [
       "Total SGD epochs completion:   0%|          | 0/2 [00:00<?, ?it/s]"
      ]
     },
     "metadata": {},
     "output_type": "display_data"
    },
    {
     "data": {
      "application/vnd.jupyter.widget-view+json": {
       "model_id": "15cfd00e541c4db08676dffc1341342a",
       "version_major": 2,
       "version_minor": 0
      },
      "text/plain": [
       "Epoch #0 completion:   0%|          | 0/80668 [00:00<?, ?it/s]"
      ]
     },
     "metadata": {},
     "output_type": "display_data"
    },
    {
     "data": {
      "application/vnd.jupyter.widget-view+json": {
       "model_id": "dd7bf78830b146218bd17b91cb6f7e59",
       "version_major": 2,
       "version_minor": 0
      },
      "text/plain": [
       "Epoch #1 completion:   0%|          | 0/80668 [00:00<?, ?it/s]"
      ]
     },
     "metadata": {},
     "output_type": "display_data"
    },
    {
     "name": "stdout",
     "output_type": "stream",
     "text": [
      "epochs: 2 | learning_rate: 0.003 | _lambda: 10\n"
     ]
    },
    {
     "data": {
      "application/vnd.jupyter.widget-view+json": {
       "model_id": "1c092b9879704f42b22488b3185de417",
       "version_major": 2,
       "version_minor": 0
      },
      "text/plain": [
       "Total SGD epochs completion:   0%|          | 0/2 [00:00<?, ?it/s]"
      ]
     },
     "metadata": {},
     "output_type": "display_data"
    },
    {
     "data": {
      "application/vnd.jupyter.widget-view+json": {
       "model_id": "b4e2e59e205f493199c56ebd6aafc4a5",
       "version_major": 2,
       "version_minor": 0
      },
      "text/plain": [
       "Epoch #0 completion:   0%|          | 0/80668 [00:00<?, ?it/s]"
      ]
     },
     "metadata": {},
     "output_type": "display_data"
    },
    {
     "data": {
      "application/vnd.jupyter.widget-view+json": {
       "model_id": "2c267ce4f6b041a9a3eda7cba31ea895",
       "version_major": 2,
       "version_minor": 0
      },
      "text/plain": [
       "Epoch #1 completion:   0%|          | 0/80668 [00:00<?, ?it/s]"
      ]
     },
     "metadata": {},
     "output_type": "display_data"
    },
    {
     "name": "stdout",
     "output_type": "stream",
     "text": [
      "epochs: 2 | learning_rate: 0.03 | _lambda: 0.0\n"
     ]
    },
    {
     "data": {
      "application/vnd.jupyter.widget-view+json": {
       "model_id": "1481fb9214e64da098b889b2e5f672cd",
       "version_major": 2,
       "version_minor": 0
      },
      "text/plain": [
       "Total SGD epochs completion:   0%|          | 0/2 [00:00<?, ?it/s]"
      ]
     },
     "metadata": {},
     "output_type": "display_data"
    },
    {
     "data": {
      "application/vnd.jupyter.widget-view+json": {
       "model_id": "16b15c74529c4a54a57519e976ec8b49",
       "version_major": 2,
       "version_minor": 0
      },
      "text/plain": [
       "Epoch #0 completion:   0%|          | 0/80668 [00:00<?, ?it/s]"
      ]
     },
     "metadata": {},
     "output_type": "display_data"
    },
    {
     "data": {
      "application/vnd.jupyter.widget-view+json": {
       "model_id": "12103a9dc1f54ac9bbf1003b260470a1",
       "version_major": 2,
       "version_minor": 0
      },
      "text/plain": [
       "Epoch #1 completion:   0%|          | 0/80668 [00:00<?, ?it/s]"
      ]
     },
     "metadata": {},
     "output_type": "display_data"
    },
    {
     "name": "stdout",
     "output_type": "stream",
     "text": [
      "epochs: 2 | learning_rate: 0.03 | _lambda: 0.1\n"
     ]
    },
    {
     "data": {
      "application/vnd.jupyter.widget-view+json": {
       "model_id": "1c4dd99977b845ff934814722d8833d8",
       "version_major": 2,
       "version_minor": 0
      },
      "text/plain": [
       "Total SGD epochs completion:   0%|          | 0/2 [00:00<?, ?it/s]"
      ]
     },
     "metadata": {},
     "output_type": "display_data"
    },
    {
     "data": {
      "application/vnd.jupyter.widget-view+json": {
       "model_id": "77a76638f9bb4352b02e4ad88d226b77",
       "version_major": 2,
       "version_minor": 0
      },
      "text/plain": [
       "Epoch #0 completion:   0%|          | 0/80668 [00:00<?, ?it/s]"
      ]
     },
     "metadata": {},
     "output_type": "display_data"
    },
    {
     "data": {
      "application/vnd.jupyter.widget-view+json": {
       "model_id": "8ffd9d9493da4b51a7abe195da4d379e",
       "version_major": 2,
       "version_minor": 0
      },
      "text/plain": [
       "Epoch #1 completion:   0%|          | 0/80668 [00:00<?, ?it/s]"
      ]
     },
     "metadata": {},
     "output_type": "display_data"
    },
    {
     "name": "stdout",
     "output_type": "stream",
     "text": [
      "epochs: 2 | learning_rate: 0.03 | _lambda: 0.01\n"
     ]
    },
    {
     "data": {
      "application/vnd.jupyter.widget-view+json": {
       "model_id": "44c78caf7a744ad5b44b94d431862ce4",
       "version_major": 2,
       "version_minor": 0
      },
      "text/plain": [
       "Total SGD epochs completion:   0%|          | 0/2 [00:00<?, ?it/s]"
      ]
     },
     "metadata": {},
     "output_type": "display_data"
    },
    {
     "data": {
      "application/vnd.jupyter.widget-view+json": {
       "model_id": "20c451e5ef804f7a837cfcd968bffc6c",
       "version_major": 2,
       "version_minor": 0
      },
      "text/plain": [
       "Epoch #0 completion:   0%|          | 0/80668 [00:00<?, ?it/s]"
      ]
     },
     "metadata": {},
     "output_type": "display_data"
    },
    {
     "data": {
      "application/vnd.jupyter.widget-view+json": {
       "model_id": "acb2473ef5494b91a53af7bca460b57a",
       "version_major": 2,
       "version_minor": 0
      },
      "text/plain": [
       "Epoch #1 completion:   0%|          | 0/80668 [00:00<?, ?it/s]"
      ]
     },
     "metadata": {},
     "output_type": "display_data"
    },
    {
     "name": "stdout",
     "output_type": "stream",
     "text": [
      "epochs: 2 | learning_rate: 0.03 | _lambda: 10\n"
     ]
    },
    {
     "data": {
      "application/vnd.jupyter.widget-view+json": {
       "model_id": "4dcd749787c540788adb91bdb458c3ce",
       "version_major": 2,
       "version_minor": 0
      },
      "text/plain": [
       "Total SGD epochs completion:   0%|          | 0/2 [00:00<?, ?it/s]"
      ]
     },
     "metadata": {},
     "output_type": "display_data"
    },
    {
     "data": {
      "application/vnd.jupyter.widget-view+json": {
       "model_id": "35d2874aa3614b738488eee3e07bfadf",
       "version_major": 2,
       "version_minor": 0
      },
      "text/plain": [
       "Epoch #0 completion:   0%|          | 0/80668 [00:00<?, ?it/s]"
      ]
     },
     "metadata": {},
     "output_type": "display_data"
    },
    {
     "data": {
      "application/vnd.jupyter.widget-view+json": {
       "model_id": "20e953cde9eb4035a9f46ce5fe8143ba",
       "version_major": 2,
       "version_minor": 0
      },
      "text/plain": [
       "Epoch #1 completion:   0%|          | 0/80668 [00:00<?, ?it/s]"
      ]
     },
     "metadata": {},
     "output_type": "display_data"
    },
    {
     "name": "stdout",
     "output_type": "stream",
     "text": [
      "epochs: 2 | learning_rate: 0.3 | _lambda: 0.0\n"
     ]
    },
    {
     "data": {
      "application/vnd.jupyter.widget-view+json": {
       "model_id": "9abb5c91923d49698a64fdb4e9adff02",
       "version_major": 2,
       "version_minor": 0
      },
      "text/plain": [
       "Total SGD epochs completion:   0%|          | 0/2 [00:00<?, ?it/s]"
      ]
     },
     "metadata": {},
     "output_type": "display_data"
    },
    {
     "data": {
      "application/vnd.jupyter.widget-view+json": {
       "model_id": "9abfa1387a084f2491cdc2d54bbc8ac1",
       "version_major": 2,
       "version_minor": 0
      },
      "text/plain": [
       "Epoch #0 completion:   0%|          | 0/80668 [00:00<?, ?it/s]"
      ]
     },
     "metadata": {},
     "output_type": "display_data"
    },
    {
     "data": {
      "application/vnd.jupyter.widget-view+json": {
       "model_id": "1799159ff26f4f0fa9f227e96c59e633",
       "version_major": 2,
       "version_minor": 0
      },
      "text/plain": [
       "Epoch #1 completion:   0%|          | 0/80668 [00:00<?, ?it/s]"
      ]
     },
     "metadata": {},
     "output_type": "display_data"
    },
    {
     "name": "stdout",
     "output_type": "stream",
     "text": [
      "epochs: 2 | learning_rate: 0.3 | _lambda: 0.1\n"
     ]
    },
    {
     "data": {
      "application/vnd.jupyter.widget-view+json": {
       "model_id": "57fb447ed2df443bb8354f4cdc56345e",
       "version_major": 2,
       "version_minor": 0
      },
      "text/plain": [
       "Total SGD epochs completion:   0%|          | 0/2 [00:00<?, ?it/s]"
      ]
     },
     "metadata": {},
     "output_type": "display_data"
    },
    {
     "data": {
      "application/vnd.jupyter.widget-view+json": {
       "model_id": "3764f146cadf4ac58227852a25a71838",
       "version_major": 2,
       "version_minor": 0
      },
      "text/plain": [
       "Epoch #0 completion:   0%|          | 0/80668 [00:00<?, ?it/s]"
      ]
     },
     "metadata": {},
     "output_type": "display_data"
    },
    {
     "data": {
      "application/vnd.jupyter.widget-view+json": {
       "model_id": "aa0fdfbd22b94a56ac0f155e7436acb2",
       "version_major": 2,
       "version_minor": 0
      },
      "text/plain": [
       "Epoch #1 completion:   0%|          | 0/80668 [00:00<?, ?it/s]"
      ]
     },
     "metadata": {},
     "output_type": "display_data"
    },
    {
     "name": "stdout",
     "output_type": "stream",
     "text": [
      "epochs: 2 | learning_rate: 0.3 | _lambda: 0.01\n"
     ]
    },
    {
     "data": {
      "application/vnd.jupyter.widget-view+json": {
       "model_id": "35b7d2a08970477da65a118a290ef943",
       "version_major": 2,
       "version_minor": 0
      },
      "text/plain": [
       "Total SGD epochs completion:   0%|          | 0/2 [00:00<?, ?it/s]"
      ]
     },
     "metadata": {},
     "output_type": "display_data"
    },
    {
     "data": {
      "application/vnd.jupyter.widget-view+json": {
       "model_id": "3af1379e4f5940c089f54596336c16ea",
       "version_major": 2,
       "version_minor": 0
      },
      "text/plain": [
       "Epoch #0 completion:   0%|          | 0/80668 [00:00<?, ?it/s]"
      ]
     },
     "metadata": {},
     "output_type": "display_data"
    },
    {
     "data": {
      "application/vnd.jupyter.widget-view+json": {
       "model_id": "b7b4636ddccd4181bdaafa9c25dd85b1",
       "version_major": 2,
       "version_minor": 0
      },
      "text/plain": [
       "Epoch #1 completion:   0%|          | 0/80668 [00:00<?, ?it/s]"
      ]
     },
     "metadata": {},
     "output_type": "display_data"
    },
    {
     "name": "stdout",
     "output_type": "stream",
     "text": [
      "epochs: 2 | learning_rate: 0.3 | _lambda: 10\n"
     ]
    },
    {
     "data": {
      "application/vnd.jupyter.widget-view+json": {
       "model_id": "b1906f5be39d45e28c6dac16a0cc5339",
       "version_major": 2,
       "version_minor": 0
      },
      "text/plain": [
       "Total SGD epochs completion:   0%|          | 0/5 [00:00<?, ?it/s]"
      ]
     },
     "metadata": {},
     "output_type": "display_data"
    },
    {
     "data": {
      "application/vnd.jupyter.widget-view+json": {
       "model_id": "5da6c71664da4d1c8f1bdaa13725bdb0",
       "version_major": 2,
       "version_minor": 0
      },
      "text/plain": [
       "Epoch #0 completion:   0%|          | 0/80668 [00:00<?, ?it/s]"
      ]
     },
     "metadata": {},
     "output_type": "display_data"
    },
    {
     "data": {
      "application/vnd.jupyter.widget-view+json": {
       "model_id": "aeb8a4c439ae4acfb45b89e4db854aaa",
       "version_major": 2,
       "version_minor": 0
      },
      "text/plain": [
       "Epoch #1 completion:   0%|          | 0/80668 [00:00<?, ?it/s]"
      ]
     },
     "metadata": {},
     "output_type": "display_data"
    },
    {
     "data": {
      "application/vnd.jupyter.widget-view+json": {
       "model_id": "c5439af2ae9d487f81bb3a3c1cf075c7",
       "version_major": 2,
       "version_minor": 0
      },
      "text/plain": [
       "Epoch #2 completion:   0%|          | 0/80668 [00:00<?, ?it/s]"
      ]
     },
     "metadata": {},
     "output_type": "display_data"
    },
    {
     "data": {
      "application/vnd.jupyter.widget-view+json": {
       "model_id": "b329ce0951364a748cc1a0015aad585d",
       "version_major": 2,
       "version_minor": 0
      },
      "text/plain": [
       "Epoch #3 completion:   0%|          | 0/80668 [00:00<?, ?it/s]"
      ]
     },
     "metadata": {},
     "output_type": "display_data"
    },
    {
     "data": {
      "application/vnd.jupyter.widget-view+json": {
       "model_id": "2bbbc67b6e92487ab8f4a13914be6596",
       "version_major": 2,
       "version_minor": 0
      },
      "text/plain": [
       "Epoch #4 completion:   0%|          | 0/80668 [00:00<?, ?it/s]"
      ]
     },
     "metadata": {},
     "output_type": "display_data"
    },
    {
     "name": "stdout",
     "output_type": "stream",
     "text": [
      "epochs: 5 | learning_rate: 0.003 | _lambda: 0.0\n"
     ]
    },
    {
     "data": {
      "application/vnd.jupyter.widget-view+json": {
       "model_id": "ce537da04439485a8d8a0d642a2e62d8",
       "version_major": 2,
       "version_minor": 0
      },
      "text/plain": [
       "Total SGD epochs completion:   0%|          | 0/5 [00:00<?, ?it/s]"
      ]
     },
     "metadata": {},
     "output_type": "display_data"
    },
    {
     "data": {
      "application/vnd.jupyter.widget-view+json": {
       "model_id": "ac9be8dce3d94e18967c2b7c70812226",
       "version_major": 2,
       "version_minor": 0
      },
      "text/plain": [
       "Epoch #0 completion:   0%|          | 0/80668 [00:00<?, ?it/s]"
      ]
     },
     "metadata": {},
     "output_type": "display_data"
    },
    {
     "data": {
      "application/vnd.jupyter.widget-view+json": {
       "model_id": "65a2b906f1fe482aa117d862cdbb4054",
       "version_major": 2,
       "version_minor": 0
      },
      "text/plain": [
       "Epoch #1 completion:   0%|          | 0/80668 [00:00<?, ?it/s]"
      ]
     },
     "metadata": {},
     "output_type": "display_data"
    },
    {
     "data": {
      "application/vnd.jupyter.widget-view+json": {
       "model_id": "c1d70eb6902b4e07ae273daf14d1b637",
       "version_major": 2,
       "version_minor": 0
      },
      "text/plain": [
       "Epoch #2 completion:   0%|          | 0/80668 [00:00<?, ?it/s]"
      ]
     },
     "metadata": {},
     "output_type": "display_data"
    },
    {
     "data": {
      "application/vnd.jupyter.widget-view+json": {
       "model_id": "f209866004ea466f8da4e68a59fbfd11",
       "version_major": 2,
       "version_minor": 0
      },
      "text/plain": [
       "Epoch #3 completion:   0%|          | 0/80668 [00:00<?, ?it/s]"
      ]
     },
     "metadata": {},
     "output_type": "display_data"
    },
    {
     "data": {
      "application/vnd.jupyter.widget-view+json": {
       "model_id": "794818a98c054900afdd05b5fe862a52",
       "version_major": 2,
       "version_minor": 0
      },
      "text/plain": [
       "Epoch #4 completion:   0%|          | 0/80668 [00:00<?, ?it/s]"
      ]
     },
     "metadata": {},
     "output_type": "display_data"
    },
    {
     "name": "stdout",
     "output_type": "stream",
     "text": [
      "epochs: 5 | learning_rate: 0.003 | _lambda: 0.1\n"
     ]
    },
    {
     "data": {
      "application/vnd.jupyter.widget-view+json": {
       "model_id": "da87320fdd5144e1963bdaec41eca55b",
       "version_major": 2,
       "version_minor": 0
      },
      "text/plain": [
       "Total SGD epochs completion:   0%|          | 0/5 [00:00<?, ?it/s]"
      ]
     },
     "metadata": {},
     "output_type": "display_data"
    },
    {
     "data": {
      "application/vnd.jupyter.widget-view+json": {
       "model_id": "0b856a62b8da4ae3bfbc8a5265c4f895",
       "version_major": 2,
       "version_minor": 0
      },
      "text/plain": [
       "Epoch #0 completion:   0%|          | 0/80668 [00:00<?, ?it/s]"
      ]
     },
     "metadata": {},
     "output_type": "display_data"
    },
    {
     "data": {
      "application/vnd.jupyter.widget-view+json": {
       "model_id": "6476aefbb1f54e249c4b145332066401",
       "version_major": 2,
       "version_minor": 0
      },
      "text/plain": [
       "Epoch #1 completion:   0%|          | 0/80668 [00:00<?, ?it/s]"
      ]
     },
     "metadata": {},
     "output_type": "display_data"
    },
    {
     "data": {
      "application/vnd.jupyter.widget-view+json": {
       "model_id": "5d88192e19094a66880b9229d51930d0",
       "version_major": 2,
       "version_minor": 0
      },
      "text/plain": [
       "Epoch #2 completion:   0%|          | 0/80668 [00:00<?, ?it/s]"
      ]
     },
     "metadata": {},
     "output_type": "display_data"
    },
    {
     "data": {
      "application/vnd.jupyter.widget-view+json": {
       "model_id": "5311f02cd90b4e6e874ff16c222d0138",
       "version_major": 2,
       "version_minor": 0
      },
      "text/plain": [
       "Epoch #3 completion:   0%|          | 0/80668 [00:00<?, ?it/s]"
      ]
     },
     "metadata": {},
     "output_type": "display_data"
    },
    {
     "data": {
      "application/vnd.jupyter.widget-view+json": {
       "model_id": "fab3ef255fc249b4a48249867228a0c4",
       "version_major": 2,
       "version_minor": 0
      },
      "text/plain": [
       "Epoch #4 completion:   0%|          | 0/80668 [00:00<?, ?it/s]"
      ]
     },
     "metadata": {},
     "output_type": "display_data"
    },
    {
     "name": "stdout",
     "output_type": "stream",
     "text": [
      "epochs: 5 | learning_rate: 0.003 | _lambda: 0.01\n"
     ]
    },
    {
     "data": {
      "application/vnd.jupyter.widget-view+json": {
       "model_id": "414a688979a343d9a3e39dd99f0a9fb7",
       "version_major": 2,
       "version_minor": 0
      },
      "text/plain": [
       "Total SGD epochs completion:   0%|          | 0/5 [00:00<?, ?it/s]"
      ]
     },
     "metadata": {},
     "output_type": "display_data"
    },
    {
     "data": {
      "application/vnd.jupyter.widget-view+json": {
       "model_id": "4bcb1b95ce164e7dba00a9ba295b8f51",
       "version_major": 2,
       "version_minor": 0
      },
      "text/plain": [
       "Epoch #0 completion:   0%|          | 0/80668 [00:00<?, ?it/s]"
      ]
     },
     "metadata": {},
     "output_type": "display_data"
    },
    {
     "data": {
      "application/vnd.jupyter.widget-view+json": {
       "model_id": "9032336b0bb54daf89e2937883ef77f1",
       "version_major": 2,
       "version_minor": 0
      },
      "text/plain": [
       "Epoch #1 completion:   0%|          | 0/80668 [00:00<?, ?it/s]"
      ]
     },
     "metadata": {},
     "output_type": "display_data"
    },
    {
     "data": {
      "application/vnd.jupyter.widget-view+json": {
       "model_id": "bcc233b5764343bbacdb5c864eabf495",
       "version_major": 2,
       "version_minor": 0
      },
      "text/plain": [
       "Epoch #2 completion:   0%|          | 0/80668 [00:00<?, ?it/s]"
      ]
     },
     "metadata": {},
     "output_type": "display_data"
    },
    {
     "data": {
      "application/vnd.jupyter.widget-view+json": {
       "model_id": "5ef6d857397044ecb4da7c25d67c2840",
       "version_major": 2,
       "version_minor": 0
      },
      "text/plain": [
       "Epoch #3 completion:   0%|          | 0/80668 [00:00<?, ?it/s]"
      ]
     },
     "metadata": {},
     "output_type": "display_data"
    },
    {
     "data": {
      "application/vnd.jupyter.widget-view+json": {
       "model_id": "e79d0a0beb4c49aa9e456c175cc805b4",
       "version_major": 2,
       "version_minor": 0
      },
      "text/plain": [
       "Epoch #4 completion:   0%|          | 0/80668 [00:00<?, ?it/s]"
      ]
     },
     "metadata": {},
     "output_type": "display_data"
    },
    {
     "name": "stdout",
     "output_type": "stream",
     "text": [
      "epochs: 5 | learning_rate: 0.003 | _lambda: 10\n"
     ]
    },
    {
     "data": {
      "application/vnd.jupyter.widget-view+json": {
       "model_id": "c0f9527ca1514b8db1995b2a739bf06a",
       "version_major": 2,
       "version_minor": 0
      },
      "text/plain": [
       "Total SGD epochs completion:   0%|          | 0/5 [00:00<?, ?it/s]"
      ]
     },
     "metadata": {},
     "output_type": "display_data"
    },
    {
     "data": {
      "application/vnd.jupyter.widget-view+json": {
       "model_id": "271bc1c55bdd401dab53dbcf49d29ed4",
       "version_major": 2,
       "version_minor": 0
      },
      "text/plain": [
       "Epoch #0 completion:   0%|          | 0/80668 [00:00<?, ?it/s]"
      ]
     },
     "metadata": {},
     "output_type": "display_data"
    },
    {
     "data": {
      "application/vnd.jupyter.widget-view+json": {
       "model_id": "86906d92b116420d87d4914a28295c7f",
       "version_major": 2,
       "version_minor": 0
      },
      "text/plain": [
       "Epoch #1 completion:   0%|          | 0/80668 [00:00<?, ?it/s]"
      ]
     },
     "metadata": {},
     "output_type": "display_data"
    },
    {
     "data": {
      "application/vnd.jupyter.widget-view+json": {
       "model_id": "570cc41853174d1996f4d2ca4fd34912",
       "version_major": 2,
       "version_minor": 0
      },
      "text/plain": [
       "Epoch #2 completion:   0%|          | 0/80668 [00:00<?, ?it/s]"
      ]
     },
     "metadata": {},
     "output_type": "display_data"
    },
    {
     "data": {
      "application/vnd.jupyter.widget-view+json": {
       "model_id": "7461f7bc50494802ab41b09d488fdfd8",
       "version_major": 2,
       "version_minor": 0
      },
      "text/plain": [
       "Epoch #3 completion:   0%|          | 0/80668 [00:00<?, ?it/s]"
      ]
     },
     "metadata": {},
     "output_type": "display_data"
    },
    {
     "data": {
      "application/vnd.jupyter.widget-view+json": {
       "model_id": "e84a95b7a3664c7caf6f4107f1be90b4",
       "version_major": 2,
       "version_minor": 0
      },
      "text/plain": [
       "Epoch #4 completion:   0%|          | 0/80668 [00:00<?, ?it/s]"
      ]
     },
     "metadata": {},
     "output_type": "display_data"
    },
    {
     "name": "stdout",
     "output_type": "stream",
     "text": [
      "epochs: 5 | learning_rate: 0.03 | _lambda: 0.0\n"
     ]
    },
    {
     "data": {
      "application/vnd.jupyter.widget-view+json": {
       "model_id": "f1365e42100d4835905ed0f05d433940",
       "version_major": 2,
       "version_minor": 0
      },
      "text/plain": [
       "Total SGD epochs completion:   0%|          | 0/5 [00:00<?, ?it/s]"
      ]
     },
     "metadata": {},
     "output_type": "display_data"
    },
    {
     "data": {
      "application/vnd.jupyter.widget-view+json": {
       "model_id": "96878095825b4c3eadd2183ef283d785",
       "version_major": 2,
       "version_minor": 0
      },
      "text/plain": [
       "Epoch #0 completion:   0%|          | 0/80668 [00:00<?, ?it/s]"
      ]
     },
     "metadata": {},
     "output_type": "display_data"
    },
    {
     "data": {
      "application/vnd.jupyter.widget-view+json": {
       "model_id": "3c9560070f9943d5916c1bc1c96dbd04",
       "version_major": 2,
       "version_minor": 0
      },
      "text/plain": [
       "Epoch #1 completion:   0%|          | 0/80668 [00:00<?, ?it/s]"
      ]
     },
     "metadata": {},
     "output_type": "display_data"
    },
    {
     "data": {
      "application/vnd.jupyter.widget-view+json": {
       "model_id": "81bca47b83d04237a3fd9876edfb4aad",
       "version_major": 2,
       "version_minor": 0
      },
      "text/plain": [
       "Epoch #2 completion:   0%|          | 0/80668 [00:00<?, ?it/s]"
      ]
     },
     "metadata": {},
     "output_type": "display_data"
    },
    {
     "data": {
      "application/vnd.jupyter.widget-view+json": {
       "model_id": "851433dfb454497780aa4ffa553d2273",
       "version_major": 2,
       "version_minor": 0
      },
      "text/plain": [
       "Epoch #3 completion:   0%|          | 0/80668 [00:00<?, ?it/s]"
      ]
     },
     "metadata": {},
     "output_type": "display_data"
    },
    {
     "data": {
      "application/vnd.jupyter.widget-view+json": {
       "model_id": "fb395d8e9db74cd78972fc7b9ef4a155",
       "version_major": 2,
       "version_minor": 0
      },
      "text/plain": [
       "Epoch #4 completion:   0%|          | 0/80668 [00:00<?, ?it/s]"
      ]
     },
     "metadata": {},
     "output_type": "display_data"
    },
    {
     "name": "stdout",
     "output_type": "stream",
     "text": [
      "epochs: 5 | learning_rate: 0.03 | _lambda: 0.1\n"
     ]
    },
    {
     "data": {
      "application/vnd.jupyter.widget-view+json": {
       "model_id": "6ba7cfa60b4e440fb8f513e288bcf5a5",
       "version_major": 2,
       "version_minor": 0
      },
      "text/plain": [
       "Total SGD epochs completion:   0%|          | 0/5 [00:00<?, ?it/s]"
      ]
     },
     "metadata": {},
     "output_type": "display_data"
    },
    {
     "data": {
      "application/vnd.jupyter.widget-view+json": {
       "model_id": "413c4cb8abcb43d78903c97243ac7e4b",
       "version_major": 2,
       "version_minor": 0
      },
      "text/plain": [
       "Epoch #0 completion:   0%|          | 0/80668 [00:00<?, ?it/s]"
      ]
     },
     "metadata": {},
     "output_type": "display_data"
    },
    {
     "data": {
      "application/vnd.jupyter.widget-view+json": {
       "model_id": "f3dbac8660844cada8c3737af1916c5d",
       "version_major": 2,
       "version_minor": 0
      },
      "text/plain": [
       "Epoch #1 completion:   0%|          | 0/80668 [00:00<?, ?it/s]"
      ]
     },
     "metadata": {},
     "output_type": "display_data"
    },
    {
     "data": {
      "application/vnd.jupyter.widget-view+json": {
       "model_id": "533831c4e91d4bf9b7bb7c5a30a84e37",
       "version_major": 2,
       "version_minor": 0
      },
      "text/plain": [
       "Epoch #2 completion:   0%|          | 0/80668 [00:00<?, ?it/s]"
      ]
     },
     "metadata": {},
     "output_type": "display_data"
    },
    {
     "data": {
      "application/vnd.jupyter.widget-view+json": {
       "model_id": "189b1a5a771f46a285b1fcf9a996709d",
       "version_major": 2,
       "version_minor": 0
      },
      "text/plain": [
       "Epoch #3 completion:   0%|          | 0/80668 [00:00<?, ?it/s]"
      ]
     },
     "metadata": {},
     "output_type": "display_data"
    },
    {
     "data": {
      "application/vnd.jupyter.widget-view+json": {
       "model_id": "6e7a8a52d4ba4e2bb00d301270ebbfbf",
       "version_major": 2,
       "version_minor": 0
      },
      "text/plain": [
       "Epoch #4 completion:   0%|          | 0/80668 [00:00<?, ?it/s]"
      ]
     },
     "metadata": {},
     "output_type": "display_data"
    },
    {
     "name": "stdout",
     "output_type": "stream",
     "text": [
      "epochs: 5 | learning_rate: 0.03 | _lambda: 0.01\n"
     ]
    },
    {
     "data": {
      "application/vnd.jupyter.widget-view+json": {
       "model_id": "af7674e4cf8c486fba118cd54faf1b7c",
       "version_major": 2,
       "version_minor": 0
      },
      "text/plain": [
       "Total SGD epochs completion:   0%|          | 0/5 [00:00<?, ?it/s]"
      ]
     },
     "metadata": {},
     "output_type": "display_data"
    },
    {
     "data": {
      "application/vnd.jupyter.widget-view+json": {
       "model_id": "9a2076dcc6e94d8f8ffb972667e50637",
       "version_major": 2,
       "version_minor": 0
      },
      "text/plain": [
       "Epoch #0 completion:   0%|          | 0/80668 [00:00<?, ?it/s]"
      ]
     },
     "metadata": {},
     "output_type": "display_data"
    },
    {
     "data": {
      "application/vnd.jupyter.widget-view+json": {
       "model_id": "18a7285ea9a94cc3ab88510330eb7731",
       "version_major": 2,
       "version_minor": 0
      },
      "text/plain": [
       "Epoch #1 completion:   0%|          | 0/80668 [00:00<?, ?it/s]"
      ]
     },
     "metadata": {},
     "output_type": "display_data"
    },
    {
     "data": {
      "application/vnd.jupyter.widget-view+json": {
       "model_id": "be7e3e93dc004b5ba45b3594fcc7a20b",
       "version_major": 2,
       "version_minor": 0
      },
      "text/plain": [
       "Epoch #2 completion:   0%|          | 0/80668 [00:00<?, ?it/s]"
      ]
     },
     "metadata": {},
     "output_type": "display_data"
    },
    {
     "data": {
      "application/vnd.jupyter.widget-view+json": {
       "model_id": "2b6d33795fce4266959ef755ab647c04",
       "version_major": 2,
       "version_minor": 0
      },
      "text/plain": [
       "Epoch #3 completion:   0%|          | 0/80668 [00:00<?, ?it/s]"
      ]
     },
     "metadata": {},
     "output_type": "display_data"
    },
    {
     "data": {
      "application/vnd.jupyter.widget-view+json": {
       "model_id": "30c5d2f58ec04446bc14d4e7aa159e9e",
       "version_major": 2,
       "version_minor": 0
      },
      "text/plain": [
       "Epoch #4 completion:   0%|          | 0/80668 [00:00<?, ?it/s]"
      ]
     },
     "metadata": {},
     "output_type": "display_data"
    },
    {
     "name": "stdout",
     "output_type": "stream",
     "text": [
      "epochs: 5 | learning_rate: 0.03 | _lambda: 10\n"
     ]
    },
    {
     "data": {
      "application/vnd.jupyter.widget-view+json": {
       "model_id": "4cc6a303837349528bed862612660d51",
       "version_major": 2,
       "version_minor": 0
      },
      "text/plain": [
       "Total SGD epochs completion:   0%|          | 0/5 [00:00<?, ?it/s]"
      ]
     },
     "metadata": {},
     "output_type": "display_data"
    },
    {
     "data": {
      "application/vnd.jupyter.widget-view+json": {
       "model_id": "e0e187a125c14cca88dc91792ed8e90b",
       "version_major": 2,
       "version_minor": 0
      },
      "text/plain": [
       "Epoch #0 completion:   0%|          | 0/80668 [00:00<?, ?it/s]"
      ]
     },
     "metadata": {},
     "output_type": "display_data"
    },
    {
     "data": {
      "application/vnd.jupyter.widget-view+json": {
       "model_id": "1a718edeb55342c0801634db292c009a",
       "version_major": 2,
       "version_minor": 0
      },
      "text/plain": [
       "Epoch #1 completion:   0%|          | 0/80668 [00:00<?, ?it/s]"
      ]
     },
     "metadata": {},
     "output_type": "display_data"
    },
    {
     "data": {
      "application/vnd.jupyter.widget-view+json": {
       "model_id": "792dab6095b945eab897d3687879dc3a",
       "version_major": 2,
       "version_minor": 0
      },
      "text/plain": [
       "Epoch #2 completion:   0%|          | 0/80668 [00:00<?, ?it/s]"
      ]
     },
     "metadata": {},
     "output_type": "display_data"
    },
    {
     "data": {
      "application/vnd.jupyter.widget-view+json": {
       "model_id": "4e7c4d8fc42a4f7dbe10b8e5c8e3d089",
       "version_major": 2,
       "version_minor": 0
      },
      "text/plain": [
       "Epoch #3 completion:   0%|          | 0/80668 [00:00<?, ?it/s]"
      ]
     },
     "metadata": {},
     "output_type": "display_data"
    },
    {
     "data": {
      "application/vnd.jupyter.widget-view+json": {
       "model_id": "bb2c756fea0e44f085d1a073574e9776",
       "version_major": 2,
       "version_minor": 0
      },
      "text/plain": [
       "Epoch #4 completion:   0%|          | 0/80668 [00:00<?, ?it/s]"
      ]
     },
     "metadata": {},
     "output_type": "display_data"
    },
    {
     "name": "stdout",
     "output_type": "stream",
     "text": [
      "epochs: 5 | learning_rate: 0.3 | _lambda: 0.0\n"
     ]
    },
    {
     "data": {
      "application/vnd.jupyter.widget-view+json": {
       "model_id": "12bdbfe311a747768f30dee5adc78289",
       "version_major": 2,
       "version_minor": 0
      },
      "text/plain": [
       "Total SGD epochs completion:   0%|          | 0/5 [00:00<?, ?it/s]"
      ]
     },
     "metadata": {},
     "output_type": "display_data"
    },
    {
     "data": {
      "application/vnd.jupyter.widget-view+json": {
       "model_id": "55136df05e30401ca75e163f2355e1bd",
       "version_major": 2,
       "version_minor": 0
      },
      "text/plain": [
       "Epoch #0 completion:   0%|          | 0/80668 [00:00<?, ?it/s]"
      ]
     },
     "metadata": {},
     "output_type": "display_data"
    },
    {
     "data": {
      "application/vnd.jupyter.widget-view+json": {
       "model_id": "82e44fa1cb2441ff9a31f4663155bc5a",
       "version_major": 2,
       "version_minor": 0
      },
      "text/plain": [
       "Epoch #1 completion:   0%|          | 0/80668 [00:00<?, ?it/s]"
      ]
     },
     "metadata": {},
     "output_type": "display_data"
    },
    {
     "data": {
      "application/vnd.jupyter.widget-view+json": {
       "model_id": "31b067c1a96b4f58914ea8875c452813",
       "version_major": 2,
       "version_minor": 0
      },
      "text/plain": [
       "Epoch #2 completion:   0%|          | 0/80668 [00:00<?, ?it/s]"
      ]
     },
     "metadata": {},
     "output_type": "display_data"
    },
    {
     "data": {
      "application/vnd.jupyter.widget-view+json": {
       "model_id": "fa4d209676934c9a8d82f29535cf5e31",
       "version_major": 2,
       "version_minor": 0
      },
      "text/plain": [
       "Epoch #3 completion:   0%|          | 0/80668 [00:00<?, ?it/s]"
      ]
     },
     "metadata": {},
     "output_type": "display_data"
    },
    {
     "data": {
      "application/vnd.jupyter.widget-view+json": {
       "model_id": "ebf94747e85d471b87a72c936165e5d6",
       "version_major": 2,
       "version_minor": 0
      },
      "text/plain": [
       "Epoch #4 completion:   0%|          | 0/80668 [00:00<?, ?it/s]"
      ]
     },
     "metadata": {},
     "output_type": "display_data"
    },
    {
     "name": "stdout",
     "output_type": "stream",
     "text": [
      "epochs: 5 | learning_rate: 0.3 | _lambda: 0.1\n"
     ]
    },
    {
     "data": {
      "application/vnd.jupyter.widget-view+json": {
       "model_id": "0f700c76b91b4be9a9b36adee7fef225",
       "version_major": 2,
       "version_minor": 0
      },
      "text/plain": [
       "Total SGD epochs completion:   0%|          | 0/5 [00:00<?, ?it/s]"
      ]
     },
     "metadata": {},
     "output_type": "display_data"
    },
    {
     "data": {
      "application/vnd.jupyter.widget-view+json": {
       "model_id": "0ab7d29ad48f4e3e9bb7d2758aa7eebe",
       "version_major": 2,
       "version_minor": 0
      },
      "text/plain": [
       "Epoch #0 completion:   0%|          | 0/80668 [00:00<?, ?it/s]"
      ]
     },
     "metadata": {},
     "output_type": "display_data"
    },
    {
     "data": {
      "application/vnd.jupyter.widget-view+json": {
       "model_id": "2fafbdadfd5142bcab94f992848744ed",
       "version_major": 2,
       "version_minor": 0
      },
      "text/plain": [
       "Epoch #1 completion:   0%|          | 0/80668 [00:00<?, ?it/s]"
      ]
     },
     "metadata": {},
     "output_type": "display_data"
    },
    {
     "data": {
      "application/vnd.jupyter.widget-view+json": {
       "model_id": "6083d3b03643449f8902a12bea235a1f",
       "version_major": 2,
       "version_minor": 0
      },
      "text/plain": [
       "Epoch #2 completion:   0%|          | 0/80668 [00:00<?, ?it/s]"
      ]
     },
     "metadata": {},
     "output_type": "display_data"
    },
    {
     "data": {
      "application/vnd.jupyter.widget-view+json": {
       "model_id": "48253473855147d5b8261fdf8dbeb941",
       "version_major": 2,
       "version_minor": 0
      },
      "text/plain": [
       "Epoch #3 completion:   0%|          | 0/80668 [00:00<?, ?it/s]"
      ]
     },
     "metadata": {},
     "output_type": "display_data"
    },
    {
     "data": {
      "application/vnd.jupyter.widget-view+json": {
       "model_id": "b477d6747bd84063be2d078209c73bae",
       "version_major": 2,
       "version_minor": 0
      },
      "text/plain": [
       "Epoch #4 completion:   0%|          | 0/80668 [00:00<?, ?it/s]"
      ]
     },
     "metadata": {},
     "output_type": "display_data"
    },
    {
     "name": "stdout",
     "output_type": "stream",
     "text": [
      "epochs: 5 | learning_rate: 0.3 | _lambda: 0.01\n"
     ]
    },
    {
     "data": {
      "application/vnd.jupyter.widget-view+json": {
       "model_id": "6ad6303505a343e896640668ec9e0acf",
       "version_major": 2,
       "version_minor": 0
      },
      "text/plain": [
       "Total SGD epochs completion:   0%|          | 0/5 [00:00<?, ?it/s]"
      ]
     },
     "metadata": {},
     "output_type": "display_data"
    },
    {
     "data": {
      "application/vnd.jupyter.widget-view+json": {
       "model_id": "88c03e0ba5a94aa49e272785a9b30df1",
       "version_major": 2,
       "version_minor": 0
      },
      "text/plain": [
       "Epoch #0 completion:   0%|          | 0/80668 [00:00<?, ?it/s]"
      ]
     },
     "metadata": {},
     "output_type": "display_data"
    },
    {
     "data": {
      "application/vnd.jupyter.widget-view+json": {
       "model_id": "65b09e81034c42b1983d19c7eeea0d20",
       "version_major": 2,
       "version_minor": 0
      },
      "text/plain": [
       "Epoch #1 completion:   0%|          | 0/80668 [00:00<?, ?it/s]"
      ]
     },
     "metadata": {},
     "output_type": "display_data"
    },
    {
     "data": {
      "application/vnd.jupyter.widget-view+json": {
       "model_id": "cf5c50ed23d24a398af3fe6e217b263d",
       "version_major": 2,
       "version_minor": 0
      },
      "text/plain": [
       "Epoch #2 completion:   0%|          | 0/80668 [00:00<?, ?it/s]"
      ]
     },
     "metadata": {},
     "output_type": "display_data"
    },
    {
     "data": {
      "application/vnd.jupyter.widget-view+json": {
       "model_id": "5adfef8b979347bdb780b90bfa08c376",
       "version_major": 2,
       "version_minor": 0
      },
      "text/plain": [
       "Epoch #3 completion:   0%|          | 0/80668 [00:00<?, ?it/s]"
      ]
     },
     "metadata": {},
     "output_type": "display_data"
    },
    {
     "data": {
      "application/vnd.jupyter.widget-view+json": {
       "model_id": "9869d047e993491e82ae80c901058926",
       "version_major": 2,
       "version_minor": 0
      },
      "text/plain": [
       "Epoch #4 completion:   0%|          | 0/80668 [00:00<?, ?it/s]"
      ]
     },
     "metadata": {},
     "output_type": "display_data"
    },
    {
     "name": "stdout",
     "output_type": "stream",
     "text": [
      "epochs: 5 | learning_rate: 0.3 | _lambda: 10\n"
     ]
    },
    {
     "data": {
      "application/vnd.jupyter.widget-view+json": {
       "model_id": "2515309fecb742a3bb7d3a339ebb7f3f",
       "version_major": 2,
       "version_minor": 0
      },
      "text/plain": [
       "Total SGD epochs completion:   0%|          | 0/10 [00:00<?, ?it/s]"
      ]
     },
     "metadata": {},
     "output_type": "display_data"
    },
    {
     "data": {
      "application/vnd.jupyter.widget-view+json": {
       "model_id": "d2be319e1c5c4b2281f36896c3936a23",
       "version_major": 2,
       "version_minor": 0
      },
      "text/plain": [
       "Epoch #0 completion:   0%|          | 0/80668 [00:00<?, ?it/s]"
      ]
     },
     "metadata": {},
     "output_type": "display_data"
    },
    {
     "data": {
      "application/vnd.jupyter.widget-view+json": {
       "model_id": "6fdda6c50e32493e8a910c90c15e85a7",
       "version_major": 2,
       "version_minor": 0
      },
      "text/plain": [
       "Epoch #1 completion:   0%|          | 0/80668 [00:00<?, ?it/s]"
      ]
     },
     "metadata": {},
     "output_type": "display_data"
    },
    {
     "data": {
      "application/vnd.jupyter.widget-view+json": {
       "model_id": "17dd46882f1d4c91ba46a494ec347f84",
       "version_major": 2,
       "version_minor": 0
      },
      "text/plain": [
       "Epoch #2 completion:   0%|          | 0/80668 [00:00<?, ?it/s]"
      ]
     },
     "metadata": {},
     "output_type": "display_data"
    },
    {
     "data": {
      "application/vnd.jupyter.widget-view+json": {
       "model_id": "7225f1dfc4d844618ec9914861d07529",
       "version_major": 2,
       "version_minor": 0
      },
      "text/plain": [
       "Epoch #3 completion:   0%|          | 0/80668 [00:00<?, ?it/s]"
      ]
     },
     "metadata": {},
     "output_type": "display_data"
    },
    {
     "data": {
      "application/vnd.jupyter.widget-view+json": {
       "model_id": "04c26d24482440d89eb00dcb582b8420",
       "version_major": 2,
       "version_minor": 0
      },
      "text/plain": [
       "Epoch #4 completion:   0%|          | 0/80668 [00:00<?, ?it/s]"
      ]
     },
     "metadata": {},
     "output_type": "display_data"
    },
    {
     "data": {
      "application/vnd.jupyter.widget-view+json": {
       "model_id": "10191bea50f346afa550e27f9e05506a",
       "version_major": 2,
       "version_minor": 0
      },
      "text/plain": [
       "Epoch #5 completion:   0%|          | 0/80668 [00:00<?, ?it/s]"
      ]
     },
     "metadata": {},
     "output_type": "display_data"
    },
    {
     "data": {
      "application/vnd.jupyter.widget-view+json": {
       "model_id": "a8a1c10f90d9467b84025f8bd649e951",
       "version_major": 2,
       "version_minor": 0
      },
      "text/plain": [
       "Epoch #6 completion:   0%|          | 0/80668 [00:00<?, ?it/s]"
      ]
     },
     "metadata": {},
     "output_type": "display_data"
    },
    {
     "data": {
      "application/vnd.jupyter.widget-view+json": {
       "model_id": "0ab36e5a8c9242758fe399ca4a0ad3c7",
       "version_major": 2,
       "version_minor": 0
      },
      "text/plain": [
       "Epoch #7 completion:   0%|          | 0/80668 [00:00<?, ?it/s]"
      ]
     },
     "metadata": {},
     "output_type": "display_data"
    },
    {
     "data": {
      "application/vnd.jupyter.widget-view+json": {
       "model_id": "f77b3cc7d4df4708b2279c0163db14fa",
       "version_major": 2,
       "version_minor": 0
      },
      "text/plain": [
       "Epoch #8 completion:   0%|          | 0/80668 [00:00<?, ?it/s]"
      ]
     },
     "metadata": {},
     "output_type": "display_data"
    },
    {
     "data": {
      "application/vnd.jupyter.widget-view+json": {
       "model_id": "db6dc91680174906bad7455b3aed1eed",
       "version_major": 2,
       "version_minor": 0
      },
      "text/plain": [
       "Epoch #9 completion:   0%|          | 0/80668 [00:00<?, ?it/s]"
      ]
     },
     "metadata": {},
     "output_type": "display_data"
    },
    {
     "name": "stdout",
     "output_type": "stream",
     "text": [
      "epochs: 10 | learning_rate: 0.003 | _lambda: 0.0\n"
     ]
    },
    {
     "data": {
      "application/vnd.jupyter.widget-view+json": {
       "model_id": "37c752e150a848dfb4bc089817d0f65d",
       "version_major": 2,
       "version_minor": 0
      },
      "text/plain": [
       "Total SGD epochs completion:   0%|          | 0/10 [00:00<?, ?it/s]"
      ]
     },
     "metadata": {},
     "output_type": "display_data"
    },
    {
     "data": {
      "application/vnd.jupyter.widget-view+json": {
       "model_id": "98b4568efdf946c8988575427f0a960c",
       "version_major": 2,
       "version_minor": 0
      },
      "text/plain": [
       "Epoch #0 completion:   0%|          | 0/80668 [00:00<?, ?it/s]"
      ]
     },
     "metadata": {},
     "output_type": "display_data"
    },
    {
     "data": {
      "application/vnd.jupyter.widget-view+json": {
       "model_id": "b94b9bdb20e84061ab791f21ab1a7963",
       "version_major": 2,
       "version_minor": 0
      },
      "text/plain": [
       "Epoch #1 completion:   0%|          | 0/80668 [00:00<?, ?it/s]"
      ]
     },
     "metadata": {},
     "output_type": "display_data"
    },
    {
     "data": {
      "application/vnd.jupyter.widget-view+json": {
       "model_id": "ce39cb2cde3441d7b3e7caa3b6936f16",
       "version_major": 2,
       "version_minor": 0
      },
      "text/plain": [
       "Epoch #2 completion:   0%|          | 0/80668 [00:00<?, ?it/s]"
      ]
     },
     "metadata": {},
     "output_type": "display_data"
    },
    {
     "data": {
      "application/vnd.jupyter.widget-view+json": {
       "model_id": "1c13a678d4cf41c9af698597851eac1f",
       "version_major": 2,
       "version_minor": 0
      },
      "text/plain": [
       "Epoch #3 completion:   0%|          | 0/80668 [00:00<?, ?it/s]"
      ]
     },
     "metadata": {},
     "output_type": "display_data"
    },
    {
     "data": {
      "application/vnd.jupyter.widget-view+json": {
       "model_id": "24fb54a5cc0e4a92abddd9b5578c422e",
       "version_major": 2,
       "version_minor": 0
      },
      "text/plain": [
       "Epoch #4 completion:   0%|          | 0/80668 [00:00<?, ?it/s]"
      ]
     },
     "metadata": {},
     "output_type": "display_data"
    },
    {
     "data": {
      "application/vnd.jupyter.widget-view+json": {
       "model_id": "fed3b6e3dbaf43bb90b643115a36ffa3",
       "version_major": 2,
       "version_minor": 0
      },
      "text/plain": [
       "Epoch #5 completion:   0%|          | 0/80668 [00:00<?, ?it/s]"
      ]
     },
     "metadata": {},
     "output_type": "display_data"
    },
    {
     "data": {
      "application/vnd.jupyter.widget-view+json": {
       "model_id": "db4e25dc90d745fd85e48094b517377a",
       "version_major": 2,
       "version_minor": 0
      },
      "text/plain": [
       "Epoch #6 completion:   0%|          | 0/80668 [00:00<?, ?it/s]"
      ]
     },
     "metadata": {},
     "output_type": "display_data"
    },
    {
     "data": {
      "application/vnd.jupyter.widget-view+json": {
       "model_id": "d00bae011280465eac85f290600532aa",
       "version_major": 2,
       "version_minor": 0
      },
      "text/plain": [
       "Epoch #7 completion:   0%|          | 0/80668 [00:00<?, ?it/s]"
      ]
     },
     "metadata": {},
     "output_type": "display_data"
    },
    {
     "data": {
      "application/vnd.jupyter.widget-view+json": {
       "model_id": "4fed4001af314615be1c28fa6d5582a2",
       "version_major": 2,
       "version_minor": 0
      },
      "text/plain": [
       "Epoch #8 completion:   0%|          | 0/80668 [00:00<?, ?it/s]"
      ]
     },
     "metadata": {},
     "output_type": "display_data"
    },
    {
     "data": {
      "application/vnd.jupyter.widget-view+json": {
       "model_id": "c6cb8cef025f42f69e1d5744b087aac9",
       "version_major": 2,
       "version_minor": 0
      },
      "text/plain": [
       "Epoch #9 completion:   0%|          | 0/80668 [00:00<?, ?it/s]"
      ]
     },
     "metadata": {},
     "output_type": "display_data"
    },
    {
     "name": "stdout",
     "output_type": "stream",
     "text": [
      "epochs: 10 | learning_rate: 0.003 | _lambda: 0.1\n"
     ]
    },
    {
     "data": {
      "application/vnd.jupyter.widget-view+json": {
       "model_id": "c123d48bfd0348ce8404fcd530548291",
       "version_major": 2,
       "version_minor": 0
      },
      "text/plain": [
       "Total SGD epochs completion:   0%|          | 0/10 [00:00<?, ?it/s]"
      ]
     },
     "metadata": {},
     "output_type": "display_data"
    },
    {
     "data": {
      "application/vnd.jupyter.widget-view+json": {
       "model_id": "72ea47584457447da8d37d214a47132e",
       "version_major": 2,
       "version_minor": 0
      },
      "text/plain": [
       "Epoch #0 completion:   0%|          | 0/80668 [00:00<?, ?it/s]"
      ]
     },
     "metadata": {},
     "output_type": "display_data"
    },
    {
     "data": {
      "application/vnd.jupyter.widget-view+json": {
       "model_id": "d93860537591424680d6e7b62eabe252",
       "version_major": 2,
       "version_minor": 0
      },
      "text/plain": [
       "Epoch #1 completion:   0%|          | 0/80668 [00:00<?, ?it/s]"
      ]
     },
     "metadata": {},
     "output_type": "display_data"
    },
    {
     "data": {
      "application/vnd.jupyter.widget-view+json": {
       "model_id": "9efb38b2374147098c5043d5efed1663",
       "version_major": 2,
       "version_minor": 0
      },
      "text/plain": [
       "Epoch #2 completion:   0%|          | 0/80668 [00:00<?, ?it/s]"
      ]
     },
     "metadata": {},
     "output_type": "display_data"
    },
    {
     "data": {
      "application/vnd.jupyter.widget-view+json": {
       "model_id": "d1503e8572c1431980a29eedd301b6b0",
       "version_major": 2,
       "version_minor": 0
      },
      "text/plain": [
       "Epoch #3 completion:   0%|          | 0/80668 [00:00<?, ?it/s]"
      ]
     },
     "metadata": {},
     "output_type": "display_data"
    },
    {
     "data": {
      "application/vnd.jupyter.widget-view+json": {
       "model_id": "14fb993a873446b7bf09eeba229a5527",
       "version_major": 2,
       "version_minor": 0
      },
      "text/plain": [
       "Epoch #4 completion:   0%|          | 0/80668 [00:00<?, ?it/s]"
      ]
     },
     "metadata": {},
     "output_type": "display_data"
    },
    {
     "data": {
      "application/vnd.jupyter.widget-view+json": {
       "model_id": "d50c2d0574c0460abb69970839d25381",
       "version_major": 2,
       "version_minor": 0
      },
      "text/plain": [
       "Epoch #5 completion:   0%|          | 0/80668 [00:00<?, ?it/s]"
      ]
     },
     "metadata": {},
     "output_type": "display_data"
    },
    {
     "data": {
      "application/vnd.jupyter.widget-view+json": {
       "model_id": "49d35634c74148c6a2263a0c373d6e4f",
       "version_major": 2,
       "version_minor": 0
      },
      "text/plain": [
       "Epoch #6 completion:   0%|          | 0/80668 [00:00<?, ?it/s]"
      ]
     },
     "metadata": {},
     "output_type": "display_data"
    },
    {
     "data": {
      "application/vnd.jupyter.widget-view+json": {
       "model_id": "6a5ae8aa52b8407ba5e23bb73141b9f9",
       "version_major": 2,
       "version_minor": 0
      },
      "text/plain": [
       "Epoch #7 completion:   0%|          | 0/80668 [00:00<?, ?it/s]"
      ]
     },
     "metadata": {},
     "output_type": "display_data"
    },
    {
     "data": {
      "application/vnd.jupyter.widget-view+json": {
       "model_id": "e6f727f1661f4d38b05744cba68351e6",
       "version_major": 2,
       "version_minor": 0
      },
      "text/plain": [
       "Epoch #8 completion:   0%|          | 0/80668 [00:00<?, ?it/s]"
      ]
     },
     "metadata": {},
     "output_type": "display_data"
    },
    {
     "data": {
      "application/vnd.jupyter.widget-view+json": {
       "model_id": "0601552fec0f4da883badd9595bc554f",
       "version_major": 2,
       "version_minor": 0
      },
      "text/plain": [
       "Epoch #9 completion:   0%|          | 0/80668 [00:00<?, ?it/s]"
      ]
     },
     "metadata": {},
     "output_type": "display_data"
    },
    {
     "name": "stdout",
     "output_type": "stream",
     "text": [
      "epochs: 10 | learning_rate: 0.003 | _lambda: 0.01\n"
     ]
    },
    {
     "data": {
      "application/vnd.jupyter.widget-view+json": {
       "model_id": "e4d31ac016cd43bd90e21c02b9047c93",
       "version_major": 2,
       "version_minor": 0
      },
      "text/plain": [
       "Total SGD epochs completion:   0%|          | 0/10 [00:00<?, ?it/s]"
      ]
     },
     "metadata": {},
     "output_type": "display_data"
    },
    {
     "data": {
      "application/vnd.jupyter.widget-view+json": {
       "model_id": "fcef75380a334835b62fd2a56a82c908",
       "version_major": 2,
       "version_minor": 0
      },
      "text/plain": [
       "Epoch #0 completion:   0%|          | 0/80668 [00:00<?, ?it/s]"
      ]
     },
     "metadata": {},
     "output_type": "display_data"
    },
    {
     "data": {
      "application/vnd.jupyter.widget-view+json": {
       "model_id": "9859e35be38d4e6ab29de946b8238125",
       "version_major": 2,
       "version_minor": 0
      },
      "text/plain": [
       "Epoch #1 completion:   0%|          | 0/80668 [00:00<?, ?it/s]"
      ]
     },
     "metadata": {},
     "output_type": "display_data"
    },
    {
     "data": {
      "application/vnd.jupyter.widget-view+json": {
       "model_id": "205e6a2cec344f84a7aebafaaf914c8c",
       "version_major": 2,
       "version_minor": 0
      },
      "text/plain": [
       "Epoch #2 completion:   0%|          | 0/80668 [00:00<?, ?it/s]"
      ]
     },
     "metadata": {},
     "output_type": "display_data"
    },
    {
     "data": {
      "application/vnd.jupyter.widget-view+json": {
       "model_id": "3c91e101784a420889d17b70a61fd76e",
       "version_major": 2,
       "version_minor": 0
      },
      "text/plain": [
       "Epoch #3 completion:   0%|          | 0/80668 [00:00<?, ?it/s]"
      ]
     },
     "metadata": {},
     "output_type": "display_data"
    },
    {
     "data": {
      "application/vnd.jupyter.widget-view+json": {
       "model_id": "cabc2add4600452ba1a1f03c8333a165",
       "version_major": 2,
       "version_minor": 0
      },
      "text/plain": [
       "Epoch #4 completion:   0%|          | 0/80668 [00:00<?, ?it/s]"
      ]
     },
     "metadata": {},
     "output_type": "display_data"
    },
    {
     "data": {
      "application/vnd.jupyter.widget-view+json": {
       "model_id": "3991885b7f444262b8330b8778b147d7",
       "version_major": 2,
       "version_minor": 0
      },
      "text/plain": [
       "Epoch #5 completion:   0%|          | 0/80668 [00:00<?, ?it/s]"
      ]
     },
     "metadata": {},
     "output_type": "display_data"
    },
    {
     "data": {
      "application/vnd.jupyter.widget-view+json": {
       "model_id": "c4293885763f406baeb6e36b5e57c891",
       "version_major": 2,
       "version_minor": 0
      },
      "text/plain": [
       "Epoch #6 completion:   0%|          | 0/80668 [00:00<?, ?it/s]"
      ]
     },
     "metadata": {},
     "output_type": "display_data"
    },
    {
     "data": {
      "application/vnd.jupyter.widget-view+json": {
       "model_id": "889db894cc274f1eba4fc3281253b044",
       "version_major": 2,
       "version_minor": 0
      },
      "text/plain": [
       "Epoch #7 completion:   0%|          | 0/80668 [00:00<?, ?it/s]"
      ]
     },
     "metadata": {},
     "output_type": "display_data"
    },
    {
     "data": {
      "application/vnd.jupyter.widget-view+json": {
       "model_id": "be9219cfeaa240989ffe039029b742e8",
       "version_major": 2,
       "version_minor": 0
      },
      "text/plain": [
       "Epoch #8 completion:   0%|          | 0/80668 [00:00<?, ?it/s]"
      ]
     },
     "metadata": {},
     "output_type": "display_data"
    },
    {
     "data": {
      "application/vnd.jupyter.widget-view+json": {
       "model_id": "751842d26657432a9fcd1528cd77e6e2",
       "version_major": 2,
       "version_minor": 0
      },
      "text/plain": [
       "Epoch #9 completion:   0%|          | 0/80668 [00:00<?, ?it/s]"
      ]
     },
     "metadata": {},
     "output_type": "display_data"
    },
    {
     "name": "stdout",
     "output_type": "stream",
     "text": [
      "epochs: 10 | learning_rate: 0.003 | _lambda: 10\n"
     ]
    },
    {
     "data": {
      "application/vnd.jupyter.widget-view+json": {
       "model_id": "5936f94b70124c3b8fd5860dc844c156",
       "version_major": 2,
       "version_minor": 0
      },
      "text/plain": [
       "Total SGD epochs completion:   0%|          | 0/10 [00:00<?, ?it/s]"
      ]
     },
     "metadata": {},
     "output_type": "display_data"
    },
    {
     "data": {
      "application/vnd.jupyter.widget-view+json": {
       "model_id": "cf669f1c79ab4b2aa5e8f95fd58e151b",
       "version_major": 2,
       "version_minor": 0
      },
      "text/plain": [
       "Epoch #0 completion:   0%|          | 0/80668 [00:00<?, ?it/s]"
      ]
     },
     "metadata": {},
     "output_type": "display_data"
    },
    {
     "data": {
      "application/vnd.jupyter.widget-view+json": {
       "model_id": "bb41a85d60b04905b62383baa162adf7",
       "version_major": 2,
       "version_minor": 0
      },
      "text/plain": [
       "Epoch #1 completion:   0%|          | 0/80668 [00:00<?, ?it/s]"
      ]
     },
     "metadata": {},
     "output_type": "display_data"
    },
    {
     "data": {
      "application/vnd.jupyter.widget-view+json": {
       "model_id": "7b4ab0d1e3f646449b57b225e5c7b799",
       "version_major": 2,
       "version_minor": 0
      },
      "text/plain": [
       "Epoch #2 completion:   0%|          | 0/80668 [00:00<?, ?it/s]"
      ]
     },
     "metadata": {},
     "output_type": "display_data"
    },
    {
     "data": {
      "application/vnd.jupyter.widget-view+json": {
       "model_id": "b0739b9f72f14fe7928a4908cd3141a4",
       "version_major": 2,
       "version_minor": 0
      },
      "text/plain": [
       "Epoch #3 completion:   0%|          | 0/80668 [00:00<?, ?it/s]"
      ]
     },
     "metadata": {},
     "output_type": "display_data"
    },
    {
     "data": {
      "application/vnd.jupyter.widget-view+json": {
       "model_id": "22a52d767bfd47a8b82dd73aed4a7bf7",
       "version_major": 2,
       "version_minor": 0
      },
      "text/plain": [
       "Epoch #4 completion:   0%|          | 0/80668 [00:00<?, ?it/s]"
      ]
     },
     "metadata": {},
     "output_type": "display_data"
    },
    {
     "data": {
      "application/vnd.jupyter.widget-view+json": {
       "model_id": "ea82c5ac0f4a468dbb1d3b4e072583ea",
       "version_major": 2,
       "version_minor": 0
      },
      "text/plain": [
       "Epoch #5 completion:   0%|          | 0/80668 [00:00<?, ?it/s]"
      ]
     },
     "metadata": {},
     "output_type": "display_data"
    },
    {
     "data": {
      "application/vnd.jupyter.widget-view+json": {
       "model_id": "08b8b1ec99ef424b95347690f144006f",
       "version_major": 2,
       "version_minor": 0
      },
      "text/plain": [
       "Epoch #6 completion:   0%|          | 0/80668 [00:00<?, ?it/s]"
      ]
     },
     "metadata": {},
     "output_type": "display_data"
    },
    {
     "data": {
      "application/vnd.jupyter.widget-view+json": {
       "model_id": "2cb685052d32473fad406d827a95285e",
       "version_major": 2,
       "version_minor": 0
      },
      "text/plain": [
       "Epoch #7 completion:   0%|          | 0/80668 [00:00<?, ?it/s]"
      ]
     },
     "metadata": {},
     "output_type": "display_data"
    },
    {
     "data": {
      "application/vnd.jupyter.widget-view+json": {
       "model_id": "d85e30425ab946d18f1e506c2cb48748",
       "version_major": 2,
       "version_minor": 0
      },
      "text/plain": [
       "Epoch #8 completion:   0%|          | 0/80668 [00:00<?, ?it/s]"
      ]
     },
     "metadata": {},
     "output_type": "display_data"
    },
    {
     "data": {
      "application/vnd.jupyter.widget-view+json": {
       "model_id": "32989900776e4e9499b74fa96bbd6d98",
       "version_major": 2,
       "version_minor": 0
      },
      "text/plain": [
       "Epoch #9 completion:   0%|          | 0/80668 [00:00<?, ?it/s]"
      ]
     },
     "metadata": {},
     "output_type": "display_data"
    },
    {
     "name": "stdout",
     "output_type": "stream",
     "text": [
      "epochs: 10 | learning_rate: 0.03 | _lambda: 0.0\n"
     ]
    },
    {
     "data": {
      "application/vnd.jupyter.widget-view+json": {
       "model_id": "554567f0eb3940e097d014dff4195836",
       "version_major": 2,
       "version_minor": 0
      },
      "text/plain": [
       "Total SGD epochs completion:   0%|          | 0/10 [00:00<?, ?it/s]"
      ]
     },
     "metadata": {},
     "output_type": "display_data"
    },
    {
     "data": {
      "application/vnd.jupyter.widget-view+json": {
       "model_id": "4bd65d684a5f419b9ce9de2e3b46887f",
       "version_major": 2,
       "version_minor": 0
      },
      "text/plain": [
       "Epoch #0 completion:   0%|          | 0/80668 [00:00<?, ?it/s]"
      ]
     },
     "metadata": {},
     "output_type": "display_data"
    },
    {
     "data": {
      "application/vnd.jupyter.widget-view+json": {
       "model_id": "13d64830d10e424d8eff053a404d3ea2",
       "version_major": 2,
       "version_minor": 0
      },
      "text/plain": [
       "Epoch #1 completion:   0%|          | 0/80668 [00:00<?, ?it/s]"
      ]
     },
     "metadata": {},
     "output_type": "display_data"
    },
    {
     "data": {
      "application/vnd.jupyter.widget-view+json": {
       "model_id": "c5f7ea4fc33d4179b8bf50fedd2effd1",
       "version_major": 2,
       "version_minor": 0
      },
      "text/plain": [
       "Epoch #2 completion:   0%|          | 0/80668 [00:00<?, ?it/s]"
      ]
     },
     "metadata": {},
     "output_type": "display_data"
    },
    {
     "data": {
      "application/vnd.jupyter.widget-view+json": {
       "model_id": "156767898d8d4e598ab4af854b2dd646",
       "version_major": 2,
       "version_minor": 0
      },
      "text/plain": [
       "Epoch #3 completion:   0%|          | 0/80668 [00:00<?, ?it/s]"
      ]
     },
     "metadata": {},
     "output_type": "display_data"
    },
    {
     "data": {
      "application/vnd.jupyter.widget-view+json": {
       "model_id": "ca86fba457b8448b924b1ab932dbcb6b",
       "version_major": 2,
       "version_minor": 0
      },
      "text/plain": [
       "Epoch #4 completion:   0%|          | 0/80668 [00:00<?, ?it/s]"
      ]
     },
     "metadata": {},
     "output_type": "display_data"
    },
    {
     "data": {
      "application/vnd.jupyter.widget-view+json": {
       "model_id": "c8b570630d8545618af4b75b9f91202f",
       "version_major": 2,
       "version_minor": 0
      },
      "text/plain": [
       "Epoch #5 completion:   0%|          | 0/80668 [00:00<?, ?it/s]"
      ]
     },
     "metadata": {},
     "output_type": "display_data"
    },
    {
     "data": {
      "application/vnd.jupyter.widget-view+json": {
       "model_id": "edf31c2e07dc44c09865cbd57b957f10",
       "version_major": 2,
       "version_minor": 0
      },
      "text/plain": [
       "Epoch #6 completion:   0%|          | 0/80668 [00:00<?, ?it/s]"
      ]
     },
     "metadata": {},
     "output_type": "display_data"
    },
    {
     "data": {
      "application/vnd.jupyter.widget-view+json": {
       "model_id": "8bcb4dd745324262b6b0c709ed42cada",
       "version_major": 2,
       "version_minor": 0
      },
      "text/plain": [
       "Epoch #7 completion:   0%|          | 0/80668 [00:00<?, ?it/s]"
      ]
     },
     "metadata": {},
     "output_type": "display_data"
    },
    {
     "data": {
      "application/vnd.jupyter.widget-view+json": {
       "model_id": "8c34ffe54d23481181dfad24b3075fc9",
       "version_major": 2,
       "version_minor": 0
      },
      "text/plain": [
       "Epoch #8 completion:   0%|          | 0/80668 [00:00<?, ?it/s]"
      ]
     },
     "metadata": {},
     "output_type": "display_data"
    },
    {
     "data": {
      "application/vnd.jupyter.widget-view+json": {
       "model_id": "90f5065f5e6f4e768b675aa816c634b4",
       "version_major": 2,
       "version_minor": 0
      },
      "text/plain": [
       "Epoch #9 completion:   0%|          | 0/80668 [00:00<?, ?it/s]"
      ]
     },
     "metadata": {},
     "output_type": "display_data"
    },
    {
     "name": "stdout",
     "output_type": "stream",
     "text": [
      "epochs: 10 | learning_rate: 0.03 | _lambda: 0.1\n"
     ]
    },
    {
     "data": {
      "application/vnd.jupyter.widget-view+json": {
       "model_id": "73c19fa2f3e041c392a3deafb52c1a3d",
       "version_major": 2,
       "version_minor": 0
      },
      "text/plain": [
       "Total SGD epochs completion:   0%|          | 0/10 [00:00<?, ?it/s]"
      ]
     },
     "metadata": {},
     "output_type": "display_data"
    },
    {
     "data": {
      "application/vnd.jupyter.widget-view+json": {
       "model_id": "c8cab62cd05040019c77aebca32c92a7",
       "version_major": 2,
       "version_minor": 0
      },
      "text/plain": [
       "Epoch #0 completion:   0%|          | 0/80668 [00:00<?, ?it/s]"
      ]
     },
     "metadata": {},
     "output_type": "display_data"
    },
    {
     "data": {
      "application/vnd.jupyter.widget-view+json": {
       "model_id": "1ccdaac65ce9408b8910eb2c79df0f9d",
       "version_major": 2,
       "version_minor": 0
      },
      "text/plain": [
       "Epoch #1 completion:   0%|          | 0/80668 [00:00<?, ?it/s]"
      ]
     },
     "metadata": {},
     "output_type": "display_data"
    },
    {
     "data": {
      "application/vnd.jupyter.widget-view+json": {
       "model_id": "982dc44897dc496c8e69c154ac0910ca",
       "version_major": 2,
       "version_minor": 0
      },
      "text/plain": [
       "Epoch #2 completion:   0%|          | 0/80668 [00:00<?, ?it/s]"
      ]
     },
     "metadata": {},
     "output_type": "display_data"
    },
    {
     "data": {
      "application/vnd.jupyter.widget-view+json": {
       "model_id": "57e8b7edc7c64f67b49bac6e0c1870d8",
       "version_major": 2,
       "version_minor": 0
      },
      "text/plain": [
       "Epoch #3 completion:   0%|          | 0/80668 [00:00<?, ?it/s]"
      ]
     },
     "metadata": {},
     "output_type": "display_data"
    },
    {
     "data": {
      "application/vnd.jupyter.widget-view+json": {
       "model_id": "fe8d16b64a4a4dd5b1c2e6d95e34c488",
       "version_major": 2,
       "version_minor": 0
      },
      "text/plain": [
       "Epoch #4 completion:   0%|          | 0/80668 [00:00<?, ?it/s]"
      ]
     },
     "metadata": {},
     "output_type": "display_data"
    },
    {
     "data": {
      "application/vnd.jupyter.widget-view+json": {
       "model_id": "36ab032c2ca949d0bf14e912f8d15e34",
       "version_major": 2,
       "version_minor": 0
      },
      "text/plain": [
       "Epoch #5 completion:   0%|          | 0/80668 [00:00<?, ?it/s]"
      ]
     },
     "metadata": {},
     "output_type": "display_data"
    },
    {
     "data": {
      "application/vnd.jupyter.widget-view+json": {
       "model_id": "83e57be8c899458c8712c010d7f91876",
       "version_major": 2,
       "version_minor": 0
      },
      "text/plain": [
       "Epoch #6 completion:   0%|          | 0/80668 [00:00<?, ?it/s]"
      ]
     },
     "metadata": {},
     "output_type": "display_data"
    },
    {
     "data": {
      "application/vnd.jupyter.widget-view+json": {
       "model_id": "30582a817794464680d4d24c4a25539e",
       "version_major": 2,
       "version_minor": 0
      },
      "text/plain": [
       "Epoch #7 completion:   0%|          | 0/80668 [00:00<?, ?it/s]"
      ]
     },
     "metadata": {},
     "output_type": "display_data"
    },
    {
     "data": {
      "application/vnd.jupyter.widget-view+json": {
       "model_id": "c9992bbee1f64a0089fba9ba4b80f9ac",
       "version_major": 2,
       "version_minor": 0
      },
      "text/plain": [
       "Epoch #8 completion:   0%|          | 0/80668 [00:00<?, ?it/s]"
      ]
     },
     "metadata": {},
     "output_type": "display_data"
    },
    {
     "data": {
      "application/vnd.jupyter.widget-view+json": {
       "model_id": "1831a624cea14b9fa1bd74a1e03cff61",
       "version_major": 2,
       "version_minor": 0
      },
      "text/plain": [
       "Epoch #9 completion:   0%|          | 0/80668 [00:00<?, ?it/s]"
      ]
     },
     "metadata": {},
     "output_type": "display_data"
    },
    {
     "name": "stdout",
     "output_type": "stream",
     "text": [
      "epochs: 10 | learning_rate: 0.03 | _lambda: 0.01\n"
     ]
    },
    {
     "data": {
      "application/vnd.jupyter.widget-view+json": {
       "model_id": "21df96c5f82f4486a993e56b67aabacd",
       "version_major": 2,
       "version_minor": 0
      },
      "text/plain": [
       "Total SGD epochs completion:   0%|          | 0/10 [00:00<?, ?it/s]"
      ]
     },
     "metadata": {},
     "output_type": "display_data"
    },
    {
     "data": {
      "application/vnd.jupyter.widget-view+json": {
       "model_id": "928819b006e849de92c13a703524aabc",
       "version_major": 2,
       "version_minor": 0
      },
      "text/plain": [
       "Epoch #0 completion:   0%|          | 0/80668 [00:00<?, ?it/s]"
      ]
     },
     "metadata": {},
     "output_type": "display_data"
    },
    {
     "data": {
      "application/vnd.jupyter.widget-view+json": {
       "model_id": "61ba6964e0b94db0b314d675efe6e50e",
       "version_major": 2,
       "version_minor": 0
      },
      "text/plain": [
       "Epoch #1 completion:   0%|          | 0/80668 [00:00<?, ?it/s]"
      ]
     },
     "metadata": {},
     "output_type": "display_data"
    },
    {
     "data": {
      "application/vnd.jupyter.widget-view+json": {
       "model_id": "1ec488443589474fb280afd2b47445b0",
       "version_major": 2,
       "version_minor": 0
      },
      "text/plain": [
       "Epoch #2 completion:   0%|          | 0/80668 [00:00<?, ?it/s]"
      ]
     },
     "metadata": {},
     "output_type": "display_data"
    },
    {
     "data": {
      "application/vnd.jupyter.widget-view+json": {
       "model_id": "75629478972744459668d204fb487287",
       "version_major": 2,
       "version_minor": 0
      },
      "text/plain": [
       "Epoch #3 completion:   0%|          | 0/80668 [00:00<?, ?it/s]"
      ]
     },
     "metadata": {},
     "output_type": "display_data"
    },
    {
     "data": {
      "application/vnd.jupyter.widget-view+json": {
       "model_id": "a48e1b6f05b54c15999a2a36d0971cbe",
       "version_major": 2,
       "version_minor": 0
      },
      "text/plain": [
       "Epoch #4 completion:   0%|          | 0/80668 [00:00<?, ?it/s]"
      ]
     },
     "metadata": {},
     "output_type": "display_data"
    },
    {
     "data": {
      "application/vnd.jupyter.widget-view+json": {
       "model_id": "ae30b8e13cf64ea99a3e69e47a708ac7",
       "version_major": 2,
       "version_minor": 0
      },
      "text/plain": [
       "Epoch #5 completion:   0%|          | 0/80668 [00:00<?, ?it/s]"
      ]
     },
     "metadata": {},
     "output_type": "display_data"
    },
    {
     "data": {
      "application/vnd.jupyter.widget-view+json": {
       "model_id": "8c1c8d0347134098be553f04808b76d6",
       "version_major": 2,
       "version_minor": 0
      },
      "text/plain": [
       "Epoch #6 completion:   0%|          | 0/80668 [00:00<?, ?it/s]"
      ]
     },
     "metadata": {},
     "output_type": "display_data"
    },
    {
     "data": {
      "application/vnd.jupyter.widget-view+json": {
       "model_id": "4a956729aba9443fa6af389febd50026",
       "version_major": 2,
       "version_minor": 0
      },
      "text/plain": [
       "Epoch #7 completion:   0%|          | 0/80668 [00:00<?, ?it/s]"
      ]
     },
     "metadata": {},
     "output_type": "display_data"
    },
    {
     "data": {
      "application/vnd.jupyter.widget-view+json": {
       "model_id": "4a11409ee368466fbcfcfece19a0c373",
       "version_major": 2,
       "version_minor": 0
      },
      "text/plain": [
       "Epoch #8 completion:   0%|          | 0/80668 [00:00<?, ?it/s]"
      ]
     },
     "metadata": {},
     "output_type": "display_data"
    },
    {
     "data": {
      "application/vnd.jupyter.widget-view+json": {
       "model_id": "96f9c82ddedf4969b02396625b3c8aaf",
       "version_major": 2,
       "version_minor": 0
      },
      "text/plain": [
       "Epoch #9 completion:   0%|          | 0/80668 [00:00<?, ?it/s]"
      ]
     },
     "metadata": {},
     "output_type": "display_data"
    },
    {
     "name": "stdout",
     "output_type": "stream",
     "text": [
      "epochs: 10 | learning_rate: 0.03 | _lambda: 10\n"
     ]
    },
    {
     "data": {
      "application/vnd.jupyter.widget-view+json": {
       "model_id": "e3608248c5a545ea8a917f44f6b0f7d9",
       "version_major": 2,
       "version_minor": 0
      },
      "text/plain": [
       "Total SGD epochs completion:   0%|          | 0/10 [00:00<?, ?it/s]"
      ]
     },
     "metadata": {},
     "output_type": "display_data"
    },
    {
     "data": {
      "application/vnd.jupyter.widget-view+json": {
       "model_id": "8a08ca2368b74f489ac602ea1c7b08d8",
       "version_major": 2,
       "version_minor": 0
      },
      "text/plain": [
       "Epoch #0 completion:   0%|          | 0/80668 [00:00<?, ?it/s]"
      ]
     },
     "metadata": {},
     "output_type": "display_data"
    },
    {
     "data": {
      "application/vnd.jupyter.widget-view+json": {
       "model_id": "651c41a23434425a8baa3cf6e8e74ce9",
       "version_major": 2,
       "version_minor": 0
      },
      "text/plain": [
       "Epoch #1 completion:   0%|          | 0/80668 [00:00<?, ?it/s]"
      ]
     },
     "metadata": {},
     "output_type": "display_data"
    },
    {
     "data": {
      "application/vnd.jupyter.widget-view+json": {
       "model_id": "b4963a36bf4342e69aa3d47a880f5767",
       "version_major": 2,
       "version_minor": 0
      },
      "text/plain": [
       "Epoch #2 completion:   0%|          | 0/80668 [00:00<?, ?it/s]"
      ]
     },
     "metadata": {},
     "output_type": "display_data"
    },
    {
     "data": {
      "application/vnd.jupyter.widget-view+json": {
       "model_id": "03d02cbe268948c8b9c6acc3aa0f7999",
       "version_major": 2,
       "version_minor": 0
      },
      "text/plain": [
       "Epoch #3 completion:   0%|          | 0/80668 [00:00<?, ?it/s]"
      ]
     },
     "metadata": {},
     "output_type": "display_data"
    },
    {
     "data": {
      "application/vnd.jupyter.widget-view+json": {
       "model_id": "d0b581c7203c4a7083a70e5243b37c57",
       "version_major": 2,
       "version_minor": 0
      },
      "text/plain": [
       "Epoch #4 completion:   0%|          | 0/80668 [00:00<?, ?it/s]"
      ]
     },
     "metadata": {},
     "output_type": "display_data"
    },
    {
     "data": {
      "application/vnd.jupyter.widget-view+json": {
       "model_id": "9548308fae9549a1a5e5b60dfb5dc1b3",
       "version_major": 2,
       "version_minor": 0
      },
      "text/plain": [
       "Epoch #5 completion:   0%|          | 0/80668 [00:00<?, ?it/s]"
      ]
     },
     "metadata": {},
     "output_type": "display_data"
    },
    {
     "data": {
      "application/vnd.jupyter.widget-view+json": {
       "model_id": "5246134c8d694c669a918967dd607b5b",
       "version_major": 2,
       "version_minor": 0
      },
      "text/plain": [
       "Epoch #6 completion:   0%|          | 0/80668 [00:00<?, ?it/s]"
      ]
     },
     "metadata": {},
     "output_type": "display_data"
    },
    {
     "data": {
      "application/vnd.jupyter.widget-view+json": {
       "model_id": "f37730ee24224550b99ada5dfdfe2b12",
       "version_major": 2,
       "version_minor": 0
      },
      "text/plain": [
       "Epoch #7 completion:   0%|          | 0/80668 [00:00<?, ?it/s]"
      ]
     },
     "metadata": {},
     "output_type": "display_data"
    },
    {
     "data": {
      "application/vnd.jupyter.widget-view+json": {
       "model_id": "9308a199ae7649f8969bf47c693cf868",
       "version_major": 2,
       "version_minor": 0
      },
      "text/plain": [
       "Epoch #8 completion:   0%|          | 0/80668 [00:00<?, ?it/s]"
      ]
     },
     "metadata": {},
     "output_type": "display_data"
    },
    {
     "data": {
      "application/vnd.jupyter.widget-view+json": {
       "model_id": "2174c6491df2490a831cacd6c6796955",
       "version_major": 2,
       "version_minor": 0
      },
      "text/plain": [
       "Epoch #9 completion:   0%|          | 0/80668 [00:00<?, ?it/s]"
      ]
     },
     "metadata": {},
     "output_type": "display_data"
    },
    {
     "name": "stdout",
     "output_type": "stream",
     "text": [
      "epochs: 10 | learning_rate: 0.3 | _lambda: 0.0\n"
     ]
    },
    {
     "data": {
      "application/vnd.jupyter.widget-view+json": {
       "model_id": "d60ddaf74ea546718f4aa50a33fcd283",
       "version_major": 2,
       "version_minor": 0
      },
      "text/plain": [
       "Total SGD epochs completion:   0%|          | 0/10 [00:00<?, ?it/s]"
      ]
     },
     "metadata": {},
     "output_type": "display_data"
    },
    {
     "data": {
      "application/vnd.jupyter.widget-view+json": {
       "model_id": "7124d71edd924ae98b526ed7e6424eea",
       "version_major": 2,
       "version_minor": 0
      },
      "text/plain": [
       "Epoch #0 completion:   0%|          | 0/80668 [00:00<?, ?it/s]"
      ]
     },
     "metadata": {},
     "output_type": "display_data"
    },
    {
     "data": {
      "application/vnd.jupyter.widget-view+json": {
       "model_id": "421d077c71914f80b53c9b8daaad4f15",
       "version_major": 2,
       "version_minor": 0
      },
      "text/plain": [
       "Epoch #1 completion:   0%|          | 0/80668 [00:00<?, ?it/s]"
      ]
     },
     "metadata": {},
     "output_type": "display_data"
    },
    {
     "data": {
      "application/vnd.jupyter.widget-view+json": {
       "model_id": "a417f785901443b8868e2c7e8c7a2b8a",
       "version_major": 2,
       "version_minor": 0
      },
      "text/plain": [
       "Epoch #2 completion:   0%|          | 0/80668 [00:00<?, ?it/s]"
      ]
     },
     "metadata": {},
     "output_type": "display_data"
    },
    {
     "data": {
      "application/vnd.jupyter.widget-view+json": {
       "model_id": "1d258a9dbcdd4a3bbf384956aeb20081",
       "version_major": 2,
       "version_minor": 0
      },
      "text/plain": [
       "Epoch #3 completion:   0%|          | 0/80668 [00:00<?, ?it/s]"
      ]
     },
     "metadata": {},
     "output_type": "display_data"
    },
    {
     "data": {
      "application/vnd.jupyter.widget-view+json": {
       "model_id": "bce791e4abdc4338a0c78dac8c56504c",
       "version_major": 2,
       "version_minor": 0
      },
      "text/plain": [
       "Epoch #4 completion:   0%|          | 0/80668 [00:00<?, ?it/s]"
      ]
     },
     "metadata": {},
     "output_type": "display_data"
    },
    {
     "data": {
      "application/vnd.jupyter.widget-view+json": {
       "model_id": "721fa19333424a6ab84fefecc42e3618",
       "version_major": 2,
       "version_minor": 0
      },
      "text/plain": [
       "Epoch #5 completion:   0%|          | 0/80668 [00:00<?, ?it/s]"
      ]
     },
     "metadata": {},
     "output_type": "display_data"
    },
    {
     "data": {
      "application/vnd.jupyter.widget-view+json": {
       "model_id": "27cbeeae2e1440c8bc3137c4fd99ae31",
       "version_major": 2,
       "version_minor": 0
      },
      "text/plain": [
       "Epoch #6 completion:   0%|          | 0/80668 [00:00<?, ?it/s]"
      ]
     },
     "metadata": {},
     "output_type": "display_data"
    },
    {
     "data": {
      "application/vnd.jupyter.widget-view+json": {
       "model_id": "7100f8be89a84207970a4efcb2e79af4",
       "version_major": 2,
       "version_minor": 0
      },
      "text/plain": [
       "Epoch #7 completion:   0%|          | 0/80668 [00:00<?, ?it/s]"
      ]
     },
     "metadata": {},
     "output_type": "display_data"
    },
    {
     "data": {
      "application/vnd.jupyter.widget-view+json": {
       "model_id": "b2daa97f130a4922968e1bfc7270a7e6",
       "version_major": 2,
       "version_minor": 0
      },
      "text/plain": [
       "Epoch #8 completion:   0%|          | 0/80668 [00:00<?, ?it/s]"
      ]
     },
     "metadata": {},
     "output_type": "display_data"
    },
    {
     "data": {
      "application/vnd.jupyter.widget-view+json": {
       "model_id": "3581e96ec18245b8b0a9b6d6f6c7920c",
       "version_major": 2,
       "version_minor": 0
      },
      "text/plain": [
       "Epoch #9 completion:   0%|          | 0/80668 [00:00<?, ?it/s]"
      ]
     },
     "metadata": {},
     "output_type": "display_data"
    },
    {
     "name": "stdout",
     "output_type": "stream",
     "text": [
      "epochs: 10 | learning_rate: 0.3 | _lambda: 0.1\n"
     ]
    },
    {
     "data": {
      "application/vnd.jupyter.widget-view+json": {
       "model_id": "9dd09ada34a54826a77ca342754a84d6",
       "version_major": 2,
       "version_minor": 0
      },
      "text/plain": [
       "Total SGD epochs completion:   0%|          | 0/10 [00:00<?, ?it/s]"
      ]
     },
     "metadata": {},
     "output_type": "display_data"
    },
    {
     "data": {
      "application/vnd.jupyter.widget-view+json": {
       "model_id": "b2a4161572cf4f499b062045fb5b71e6",
       "version_major": 2,
       "version_minor": 0
      },
      "text/plain": [
       "Epoch #0 completion:   0%|          | 0/80668 [00:00<?, ?it/s]"
      ]
     },
     "metadata": {},
     "output_type": "display_data"
    },
    {
     "data": {
      "application/vnd.jupyter.widget-view+json": {
       "model_id": "1b72319525d84ef298ad40c46587801b",
       "version_major": 2,
       "version_minor": 0
      },
      "text/plain": [
       "Epoch #1 completion:   0%|          | 0/80668 [00:00<?, ?it/s]"
      ]
     },
     "metadata": {},
     "output_type": "display_data"
    },
    {
     "data": {
      "application/vnd.jupyter.widget-view+json": {
       "model_id": "57044bc4ed13449684fa47a7c039da5f",
       "version_major": 2,
       "version_minor": 0
      },
      "text/plain": [
       "Epoch #2 completion:   0%|          | 0/80668 [00:00<?, ?it/s]"
      ]
     },
     "metadata": {},
     "output_type": "display_data"
    },
    {
     "data": {
      "application/vnd.jupyter.widget-view+json": {
       "model_id": "6587a4d98d2446758860d61797ad15fe",
       "version_major": 2,
       "version_minor": 0
      },
      "text/plain": [
       "Epoch #3 completion:   0%|          | 0/80668 [00:00<?, ?it/s]"
      ]
     },
     "metadata": {},
     "output_type": "display_data"
    },
    {
     "data": {
      "application/vnd.jupyter.widget-view+json": {
       "model_id": "606a53c5131d4bc989010e9f01b8acce",
       "version_major": 2,
       "version_minor": 0
      },
      "text/plain": [
       "Epoch #4 completion:   0%|          | 0/80668 [00:00<?, ?it/s]"
      ]
     },
     "metadata": {},
     "output_type": "display_data"
    },
    {
     "data": {
      "application/vnd.jupyter.widget-view+json": {
       "model_id": "86fdbd44962444519582da8a2d996aaf",
       "version_major": 2,
       "version_minor": 0
      },
      "text/plain": [
       "Epoch #5 completion:   0%|          | 0/80668 [00:00<?, ?it/s]"
      ]
     },
     "metadata": {},
     "output_type": "display_data"
    },
    {
     "data": {
      "application/vnd.jupyter.widget-view+json": {
       "model_id": "415a0e9c770d44439cff2538aafa57f5",
       "version_major": 2,
       "version_minor": 0
      },
      "text/plain": [
       "Epoch #6 completion:   0%|          | 0/80668 [00:00<?, ?it/s]"
      ]
     },
     "metadata": {},
     "output_type": "display_data"
    },
    {
     "data": {
      "application/vnd.jupyter.widget-view+json": {
       "model_id": "2de85f1b0d20459f83b4d1dcb5cef569",
       "version_major": 2,
       "version_minor": 0
      },
      "text/plain": [
       "Epoch #7 completion:   0%|          | 0/80668 [00:00<?, ?it/s]"
      ]
     },
     "metadata": {},
     "output_type": "display_data"
    },
    {
     "data": {
      "application/vnd.jupyter.widget-view+json": {
       "model_id": "37b1d5713f4b487aa148f161fa231f11",
       "version_major": 2,
       "version_minor": 0
      },
      "text/plain": [
       "Epoch #8 completion:   0%|          | 0/80668 [00:00<?, ?it/s]"
      ]
     },
     "metadata": {},
     "output_type": "display_data"
    },
    {
     "data": {
      "application/vnd.jupyter.widget-view+json": {
       "model_id": "9d5c2010883147e2a4393ff04f50b7f0",
       "version_major": 2,
       "version_minor": 0
      },
      "text/plain": [
       "Epoch #9 completion:   0%|          | 0/80668 [00:00<?, ?it/s]"
      ]
     },
     "metadata": {},
     "output_type": "display_data"
    },
    {
     "name": "stdout",
     "output_type": "stream",
     "text": [
      "epochs: 10 | learning_rate: 0.3 | _lambda: 0.01\n"
     ]
    },
    {
     "data": {
      "application/vnd.jupyter.widget-view+json": {
       "model_id": "8167382710e148619c74a4841b58bf4b",
       "version_major": 2,
       "version_minor": 0
      },
      "text/plain": [
       "Total SGD epochs completion:   0%|          | 0/10 [00:00<?, ?it/s]"
      ]
     },
     "metadata": {},
     "output_type": "display_data"
    },
    {
     "data": {
      "application/vnd.jupyter.widget-view+json": {
       "model_id": "754330e118a84e30a016a799e184d2ac",
       "version_major": 2,
       "version_minor": 0
      },
      "text/plain": [
       "Epoch #0 completion:   0%|          | 0/80668 [00:00<?, ?it/s]"
      ]
     },
     "metadata": {},
     "output_type": "display_data"
    },
    {
     "data": {
      "application/vnd.jupyter.widget-view+json": {
       "model_id": "3890fcb59ea24f97bd562ace6daa4eec",
       "version_major": 2,
       "version_minor": 0
      },
      "text/plain": [
       "Epoch #1 completion:   0%|          | 0/80668 [00:00<?, ?it/s]"
      ]
     },
     "metadata": {},
     "output_type": "display_data"
    },
    {
     "data": {
      "application/vnd.jupyter.widget-view+json": {
       "model_id": "51020e9a32144c21b4630e4cbe50e0d7",
       "version_major": 2,
       "version_minor": 0
      },
      "text/plain": [
       "Epoch #2 completion:   0%|          | 0/80668 [00:00<?, ?it/s]"
      ]
     },
     "metadata": {},
     "output_type": "display_data"
    },
    {
     "data": {
      "application/vnd.jupyter.widget-view+json": {
       "model_id": "74cdae4793664bb494f0d845e33b3a21",
       "version_major": 2,
       "version_minor": 0
      },
      "text/plain": [
       "Epoch #3 completion:   0%|          | 0/80668 [00:00<?, ?it/s]"
      ]
     },
     "metadata": {},
     "output_type": "display_data"
    },
    {
     "data": {
      "application/vnd.jupyter.widget-view+json": {
       "model_id": "8d835ad19f874fb99abdde328b6af687",
       "version_major": 2,
       "version_minor": 0
      },
      "text/plain": [
       "Epoch #4 completion:   0%|          | 0/80668 [00:00<?, ?it/s]"
      ]
     },
     "metadata": {},
     "output_type": "display_data"
    },
    {
     "data": {
      "application/vnd.jupyter.widget-view+json": {
       "model_id": "6c9541d0eb3041e88cd7de33079556a9",
       "version_major": 2,
       "version_minor": 0
      },
      "text/plain": [
       "Epoch #5 completion:   0%|          | 0/80668 [00:00<?, ?it/s]"
      ]
     },
     "metadata": {},
     "output_type": "display_data"
    },
    {
     "data": {
      "application/vnd.jupyter.widget-view+json": {
       "model_id": "c311b5983a7b4c89bfc77c9bb2d695cc",
       "version_major": 2,
       "version_minor": 0
      },
      "text/plain": [
       "Epoch #6 completion:   0%|          | 0/80668 [00:00<?, ?it/s]"
      ]
     },
     "metadata": {},
     "output_type": "display_data"
    },
    {
     "data": {
      "application/vnd.jupyter.widget-view+json": {
       "model_id": "a4d7677fc6f0446fa6d8914cfd09cf8b",
       "version_major": 2,
       "version_minor": 0
      },
      "text/plain": [
       "Epoch #7 completion:   0%|          | 0/80668 [00:00<?, ?it/s]"
      ]
     },
     "metadata": {},
     "output_type": "display_data"
    },
    {
     "data": {
      "application/vnd.jupyter.widget-view+json": {
       "model_id": "add6ca2526504ef19feb3f20602eb6bf",
       "version_major": 2,
       "version_minor": 0
      },
      "text/plain": [
       "Epoch #8 completion:   0%|          | 0/80668 [00:00<?, ?it/s]"
      ]
     },
     "metadata": {},
     "output_type": "display_data"
    },
    {
     "data": {
      "application/vnd.jupyter.widget-view+json": {
       "model_id": "2ee236ccd0ae4524b617ad2197c7ff76",
       "version_major": 2,
       "version_minor": 0
      },
      "text/plain": [
       "Epoch #9 completion:   0%|          | 0/80668 [00:00<?, ?it/s]"
      ]
     },
     "metadata": {},
     "output_type": "display_data"
    },
    {
     "name": "stdout",
     "output_type": "stream",
     "text": [
      "epochs: 10 | learning_rate: 0.3 | _lambda: 10\n"
     ]
    }
   ],
   "source": [
    "import itertools\n",
    "def grid_search(model, train, test, param_grid, user_index=None):\n",
    "    curves = []\n",
    "    keys, values = zip(*param_grid.items())\n",
    "    for v in tqdm(itertools.product(*values), desc=\"Grid Search Progress: \"):\n",
    "        # print(v)\n",
    "        params = dict(zip(keys, v))\n",
    "        mf = MatrixFactorisation(train, params[\"k\"])\n",
    "        params = dict(list(params.items())[1:])\n",
    "        if(model == \"als\"):\n",
    "            mf.als(**params, validation=test)\n",
    "        elif(model == \"gd\"):\n",
    "            mf.gradient_descent(**params, validation=test)\n",
    "        elif(model == \"sgd\"):\n",
    "            mf.sgd(**params, validation=test)\n",
    "\n",
    "        train_mse = mf.train_mse_at_epochs\n",
    "        test_mse = mf.test_mse_at_epochs\n",
    "\n",
    "        curves.append({'params': params, 'mse': {'train': train_mse, 'test': test_mse}})\n",
    "\n",
    "        print_line = []\n",
    "        for k, v in params.items():\n",
    "            print_line.append((k, v))\n",
    "\n",
    "        print(' | '.join('{}: {}'.format(k, v) for (k, v) in print_line))\n",
    "        # _, train_patk, train_mse, test_patk, test_mse = learning_curve(this_model, train, test, epochs, k=patk, user_index=user_index)\n",
    "        # curves.append({'params': params,\n",
    "        #                'patk': {'train': train_patk, 'test': test_patk},\n",
    "        #                'mse': {'train': train_mse, 'test': test_mse}})\n",
    "    return curves\n",
    "\n",
    "param_grid_als = {  \"k\": [20, 40, 80],\n",
    "                    \"alpha\": [40, 50],\n",
    "                    \"_lambda\": [0.0, 1e-1, 1e-2, 10]}\n",
    "              \n",
    "param_grid_gd = {   \"k\": [20, 40, 80],\n",
    "                    \"iterations\": [1000, 3000, 10000],\n",
    "                    \"learning_rate\": [0.3, 0.5],\n",
    "                    # \"beta\": [0.5, 0.9],\n",
    "                    \"_lambda\": [0.0, 1e-1, 1e-2, 10]}\n",
    "\n",
    "param_grid_sgd = {  \"k\": [20, 40, 80],\n",
    "                    \"epochs\": [2, 5, 10],\n",
    "                    \"learning_rate\": [0.003, 0.03, 0.3],\n",
    "                    # \"beta\": [0.5, 0.9],\n",
    "                    \"_lambda\": [0.0, 1e-1, 1e-2, 10]}\n",
    "\n",
    "curves = grid_search(\"sgd\", train, test, param_grid_sgd)"
   ]
  },
  {
   "cell_type": "markdown",
   "metadata": {},
   "source": [
    "#### Visualising the optimal hyperparameter learning curve"
   ]
  },
  {
   "cell_type": "code",
   "execution_count": 176,
   "metadata": {},
   "outputs": [],
   "source": [
    "#### Weeding parameter mixes that resulted in algorithm divergence (inf, nan values for mse) ####\n",
    "curves_copy = copy.deepcopy(curves)\n",
    "for curve in curves_copy:\n",
    "       mse = np.array(curve['mse']['test'])\n",
    "       if(np.isnan(mse[:,1]).any()):\n",
    "              to_rem = curve\n",
    "              curves_copy.remove(to_rem)\n",
    "\n",
    "#### Finding the best run via sorting by test_mse values\n",
    "best_curves = sorted(curves_copy, key=lambda x: np.min(np.array(x['mse']['test'])[:,1]), reverse=False)  #for each curve, use the lowest test mse as its identity, for sorting the curves\n",
    "\n",
    "# best_curves = sorted(curves_copy, key=lambda x: np.nanmin(np.array(x['mse']['test'])[:,1]), reverse=True)\n",
    "# best_curves = sorted(curves_copy, key=lambda x: np.min(np.ma.masked_array(np.array(x['mse']['test']), np.isnan(np.array(x['mse']['test'])))), reverse=True)"
   ]
  },
  {
   "cell_type": "code",
   "execution_count": 194,
   "metadata": {},
   "outputs": [
    {
     "name": "stdout",
     "output_type": "stream",
     "text": [
      "{'epochs': 10, 'learning_rate': 0.03, '_lambda': 0.0}\n",
      "0.0057034128039236374\n",
      "Epoch: [721000.]\n"
     ]
    }
   ],
   "source": [
    "rank = 1     # nth best rank of hyperparameter mix you want to see. n=1,2,..\n",
    "bestParams = best_curves[rank-1]['params']\n",
    "print(bestParams)\n",
    "\n",
    "bestTimeVsTestMseArr = np.array(best_curves[rank-1]['mse']['test'])\n",
    "bestTimeVsTrainMseArr = np.array(best_curves[rank-1]['mse']['train'])\n",
    "# print( bestTimeVsTestMseArr )\n",
    "min_loss = min(bestTimeVsTestMseArr[:,1])\n",
    "print(min_loss)\n",
    "iterations = bestTimeVsTestMseArr[:,0][np.where(bestTimeVsTestMseArr[:,1] == min_loss)]\n",
    "print('Epoch: {}'.format(iterations))"
   ]
  },
  {
   "cell_type": "code",
   "execution_count": 197,
   "metadata": {},
   "outputs": [
    {
     "data": {
      "text/plain": [
       "<matplotlib.legend.Legend at 0x15ebe8a30>"
      ]
     },
     "execution_count": 197,
     "metadata": {},
     "output_type": "execute_result"
    },
    {
     "data": {
      "image/png": "[encoded data removed]",
      "text/plain": [
       "<Figure size 640x480 with 1 Axes>"
      ]
     },
     "metadata": {},
     "output_type": "display_data"
    }
   ],
   "source": [
    "plt.plot(bestTimeVsTestMseArr[100:,0], bestTimeVsTestMseArr[100:,1], label=\"Test\")\n",
    "plt.plot(bestTimeVsTrainMseArr[100:,0], bestTimeVsTrainMseArr[100:,1], label=\"Train\")\n",
    "plt.title(f\"{bestParams}, rank {rank}\")\n",
    "plt.xlabel(\"\")\n",
    "plt.rcdefaults()\n",
    "plt.legend()"
   ]
  },
  {
   "cell_type": "code",
   "execution_count": 166,
   "metadata": {},
   "outputs": [],
   "source": [
    "import pickle\n",
    "with open(\"SGDGridSearch\", \"wb\") as f:\n",
    "       pickle.dump(curves, f)"
   ]
  },
  {
   "cell_type": "code",
   "execution_count": null,
   "metadata": {},
   "outputs": [],
   "source": [
    "######--------- Training with ALS (Alternating Least Squares) ---------######\n",
    "\n",
    "mf = MatrixFactorisation(train, 40)\n",
    "print( np.shape(mf.P), np.shape(mf.Q) )\n",
    "P, Q = mf.als(epochs=5, solver=\"cg\", validation=test, verbose=True)"
   ]
  },
  {
   "cell_type": "code",
   "execution_count": null,
   "metadata": {},
   "outputs": [],
   "source": [
    "######--------- Training with SGD (Stochastic Gradient Descent) ---------######\n",
    "\n",
    "mf = MatrixFactorisation(train, 10)\n",
    "print( np.shape(mf.P), np.shape(mf.Q) )\n",
    "# print( mf.P )\n",
    "P, Q = mf.sgd(epochs=10, learning_rate=0.03, _lambda=0.0, validation=test, verbose=False)\n",
    "print(np.shape(P))"
   ]
  },
  {
   "cell_type": "code",
   "execution_count": null,
   "metadata": {},
   "outputs": [],
   "source": [
    "######--------- Training with Gradient Descent ---------######\n",
    "\n",
    "mf = MatrixFactorisation(train, 10)\n",
    "print( np.shape(mf.P), np.shape(mf.Q) )\n",
    "# print( mf.P )\n",
    "P, Q = mf.gradient_descent(iterations=10000, learning_rate=0.4, _lambda=0, validation=test, verbose=False)\n",
    "# print(np.shape(P))"
   ]
  },
  {
   "cell_type": "code",
   "execution_count": 190,
   "metadata": {},
   "outputs": [
    {
     "data": {
      "image/png": "[encoded data removed]",
      "text/plain": [
       "<Figure size 640x480 with 1 Axes>"
      ]
     },
     "metadata": {},
     "output_type": "display_data"
    }
   ],
   "source": [
    "# print( np.array(mf.train_mse_at_epochs)[:,1] )\n",
    "mf.plot_learning_curve(validation=True)\n",
    "# mf.plot_learning_curve(validation=None)"
   ]
  },
  {
   "cell_type": "markdown",
   "metadata": {},
   "source": [
    "## Roughwork..."
   ]
  },
  {
   "cell_type": "code",
   "execution_count": null,
   "metadata": {},
   "outputs": [],
   "source": [
    "# help = np.zeros((mf.P.shape[0], mf.Q.T.shape[1]))\n",
    "# print(np.shape(help))\n",
    "\n",
    "# for i in range(mf.P.shape[0]):\n",
    "#        for j in range(mf.Q.T.shape[1]):\n",
    "#               for k in range(mf.k):\n",
    "#                      help[i][j] += mf.P[i][k] * mf.Q.T[k][j]\n",
    "\n",
    "# print(help)"
   ]
  },
  {
   "cell_type": "code",
   "execution_count": null,
   "metadata": {},
   "outputs": [
    {
     "name": "stdout",
     "output_type": "stream",
     "text": [
      "[[-0.20473836  0.64551148  0.38983446 ...  0.23257534 -0.10078407\n",
      "   0.51946697]\n",
      " [-0.03210454  0.4549741   0.20326194 ...  0.80037336  0.13764056\n",
      "   0.3716281 ]\n",
      " [ 0.15991591  0.23314564  0.71370675 ...  0.18638087  0.73911567\n",
      "   0.03055401]\n",
      " ...\n",
      " [ 0.08203674  0.766394    0.12699937 ...  0.51852963  0.69768505\n",
      "   0.53541308]\n",
      " [ 0.2986957   0.47134367  0.00843501 ...  0.36027689 -0.1028373\n",
      "   0.00712214]\n",
      " [ 0.89263219  0.64457093  0.85489007 ...  0.96491938  0.21266239\n",
      "   0.86141308]] \n",
      "\n",
      "\n",
      "\n",
      " [[ 0.18277182 -0.09247713  0.67162319 ...  0.4314283   0.58398668\n",
      "   0.56219493]\n",
      " [ 0.60960645  0.38650404  0.08310481 ...  0.53197436  0.9441766\n",
      "   0.87047294]\n",
      " [ 0.67215655  0.18874724  0.1152919  ... -0.04298182  0.08912164\n",
      "   0.51268375]\n",
      " ...\n",
      " [ 0.35018881  0.20878879  0.36529109 ...  0.7042925   0.76731649\n",
      "   0.37237964]\n",
      " [ 0.68886668  0.29020615  0.48477646 ...  0.4738425   0.36753764\n",
      "   0.03762408]\n",
      " [ 0.21515453  0.66385879  0.67220178 ...  0.89190558  0.47465063\n",
      "   0.5850365 ]]\n"
     ]
    }
   ],
   "source": [
    "# help2 = mf.P @ mf.Q.T\n",
    "print(mf.P,\"\\n\\n\\n\\n\", mf.Q)"
   ]
  },
  {
   "cell_type": "code",
   "execution_count": null,
   "metadata": {},
   "outputs": [
    {
     "data": {
      "text/plain": [
       "matrix([[1., 1., 1., ..., 0., 0., 0.],\n",
       "        [0., 0., 0., ..., 0., 0., 0.],\n",
       "        [0., 0., 0., ..., 0., 0., 0.],\n",
       "        ...,\n",
       "        [1., 0., 0., ..., 0., 0., 0.],\n",
       "        [1., 0., 0., ..., 1., 1., 0.],\n",
       "        [0., 0., 0., ..., 0., 0., 0.]])"
      ]
     },
     "execution_count": 31,
     "metadata": {},
     "output_type": "execute_result"
    }
   ],
   "source": [
    "train.todense()"
   ]
  },
  {
   "cell_type": "code",
   "execution_count": null,
   "metadata": {},
   "outputs": [
    {
     "ename": "AttributeError",
     "evalue": "'numpy.ndarray' object has no attribute 'toarray'",
     "output_type": "error",
     "traceback": [
      "\u001b[0;31m---------------------------------------------------------------------------\u001b[0m",
      "\u001b[0;31mAttributeError\u001b[0m                            Traceback (most recent call last)",
      "Cell \u001b[0;32mIn[32], line 3\u001b[0m\n\u001b[1;32m      1\u001b[0m predictions \u001b[38;5;241m=\u001b[39m mf\u001b[38;5;241m.\u001b[39mP\u001b[38;5;241m.\u001b[39mdot(mf\u001b[38;5;241m.\u001b[39mQ\u001b[38;5;241m.\u001b[39mT)\n\u001b[1;32m      2\u001b[0m mask \u001b[38;5;241m=\u001b[39m np\u001b[38;5;241m.\u001b[39mzeros_like(train\u001b[38;5;241m.\u001b[39mtoarray())\n\u001b[0;32m----> 3\u001b[0m \u001b[38;5;28mprint\u001b[39m(\u001b[38;5;28mtype\u001b[39m(\u001b[43mpredictions\u001b[49m\u001b[38;5;241;43m.\u001b[39;49m\u001b[43mtoarray\u001b[49m()), \u001b[38;5;28mtype\u001b[39m(train\u001b[38;5;241m.\u001b[39mtoarray()), train\u001b[38;5;241m.\u001b[39mtoarray()\u001b[38;5;241m.\u001b[39mnonzero())\n\u001b[1;32m      4\u001b[0m mask[train\u001b[38;5;241m.\u001b[39mtoarray()\u001b[38;5;241m.\u001b[39mnonzero()] \u001b[38;5;241m=\u001b[39m \u001b[38;5;241m1\u001b[39m\n\u001b[1;32m      6\u001b[0m \u001b[38;5;66;03m# Mask out unknown ratings as 0 for ease of comparison.\u001b[39;00m\n",
      "\u001b[0;31mAttributeError\u001b[0m: 'numpy.ndarray' object has no attribute 'toarray'"
     ]
    }
   ],
   "source": [
    "predictions = mf.P.dot(mf.Q.T)\n",
    "mask = np.zeros_like(train.toarray())\n",
    "print(type(predictions.toarray()), type(train.toarray()), train.toarray().nonzero())\n",
    "mask[train.toarray().nonzero()] = 1\n",
    "\n",
    "# Mask out unknown ratings as 0 for ease of comparison.\n",
    "print(np.round(predictions.toarray() * mask, 2), \"\\n\")\n",
    "print(np.round(predictions.toarray(), 2) )\n",
    "######--------\n",
    "# predictions = mf.P.dot(mf.Q.T)\n",
    "# mask = np.zeros_like(train)\n",
    "# print(type(predictions.toarray()), type(train.toarray()), train.toarray().nonzero())\n",
    "# mask[train.nonzero()] = 1\n",
    "\n",
    "# # Mask out unknown ratings as 0 for ease of comparison.\n",
    "# print(np.round(predictions * mask, 2))"
   ]
  },
  {
   "cell_type": "code",
   "execution_count": null,
   "metadata": {},
   "outputs": [],
   "source": [
    "##### File saving and download utility for Colab\n",
    "\n",
    "# from google.colab import files\n",
    "\n",
    "# user_emb_df = pd.DataFrame(P)\n",
    "# user_emb_df.to_csv(\"saved_user_emb.csv\", delimiter=\"\\t\", index=True)\n",
    "# movie_emb_df = pd.DataFrame(Q)\n",
    "# movie_emb_df.to_csv(\"saved_movie_emb.csv\", delimiter=\"\\t\", index=True)\n",
    "\n",
    "# files.download(\"saved_user_emb.csv\")\n",
    "# files.download(\"saved_movie_emb.csv\")"
   ]
  },
  {
   "cell_type": "code",
   "execution_count": null,
   "metadata": {},
   "outputs": [],
   "source": [
    "train_df.shape[0]\n",
    "train.shape[0] * train.shape[1]"
   ]
  },
  {
   "cell_type": "code",
   "execution_count": null,
   "metadata": {},
   "outputs": [],
   "source": []
  }
 ],
 "metadata": {
  "kernelspec": {
   "display_name": "RecSys_Env",
   "language": "python",
   "name": "recsys_env"
  },
  "language_info": {
   "codemirror_mode": {
    "name": "ipython",
    "version": 3
   },
   "file_extension": ".py",
   "mimetype": "text/x-python",
   "name": "python",
   "nbconvert_exporter": "python",
   "pygments_lexer": "ipython3",
   "version": "3.10.5"
  }
 },
 "nbformat": 4,
 "nbformat_minor": 2
}
