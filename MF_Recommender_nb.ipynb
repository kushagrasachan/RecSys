{
 "cells": [
  {
   "cell_type": "markdown",
   "metadata": {},
   "source": [
    "# Recommender System using Matrix Factorisation\n",
    "\n",
    "<!-- ### What this project does -->\n",
    "\n",
    "<!-- ### What this project doesn't do -->"
   ]
  },
  {
   "cell_type": "markdown",
   "metadata": {},
   "source": [
    "#### Colab Utilities"
   ]
  },
  {
   "cell_type": "code",
   "execution_count": 1,
   "metadata": {},
   "outputs": [],
   "source": [
    "####### For working on Google Colab #######\n",
    "# Uncomment the appropriate block below\n",
    "\n",
    "#### Download and unzip the 100k ratings Movielens dataset\n",
    "# !curl -O http://files.grouplens.org/datasets/movielens/ml-latest-small.zip\n",
    "# !unzip ml-latest-small.zip\n",
    "# !cd ml-latest-small/\n",
    "\n",
    "#### Download and unzip the 10 million ratings Movielens dataset\n",
    "# !curl -O https://files.grouplens.org/datasets/movielens/ml-10m.zip\n",
    "# !unzip ml-10m.zip\n",
    "# !cd ml-10M100K/"
   ]
  },
  {
   "cell_type": "code",
   "execution_count": null,
   "metadata": {},
   "outputs": [],
   "source": [
    "##### File saving and download utility for Colab. Use wherever needed #####\n",
    "\n",
    "# from google.colab import files\n",
    "\n",
    "# user_emb_df = pd.DataFrame(P)\n",
    "# user_emb_df.to_csv(\"saved_user_emb.csv\", delimiter=\"\\t\", index=True)\n",
    "# movie_emb_df = pd.DataFrame(Q)\n",
    "# movie_emb_df.to_csv(\"saved_movie_emb.csv\", delimiter=\"\\t\", index=True)\n",
    "\n",
    "# files.download(\"saved_user_emb.csv\")\n",
    "# files.download(\"saved_movie_emb.csv\")"
   ]
  },
  {
   "cell_type": "markdown",
   "metadata": {},
   "source": [
    "## Exploratory Data Analysis"
   ]
  },
  {
   "cell_type": "code",
   "execution_count": 1,
   "metadata": {},
   "outputs": [
    {
     "name": "stdout",
     "output_type": "stream",
     "text": [
      "Enabling notebook extension jupyter-js-widgets/extension...\n",
      "      - Validating: \u001b[32mOK\u001b[0m\n"
     ]
    }
   ],
   "source": [
    "import numpy as np\n",
    "import pandas as pd\n",
    "import scipy.sparse as sparse\n",
    "from numba import jit\n",
    "from sklearn.model_selection import train_test_split\n",
    "import matplotlib.pyplot as plt\n",
    "import time\n",
    "from tqdm.notebook import trange, tqdm\n",
    "import ipywidgets\n",
    "!jupyter nbextension enable --py widgetsnbextension\n",
    "%matplotlib inline"
   ]
  },
  {
   "cell_type": "markdown",
   "metadata": {},
   "source": [
    "<!-- Until now, I've encountered two types of data objects in the Pandas library—DataFrames and Series, and here is a [Scaler Topics article on core components of Pandas](https://www.scaler.com/topics/pandas/core-components-of-pandas/), confirming that these two are the important ones (for single-dimensional, and two-dimensional data respectively), apart from a third object type, `Panel` (for three-dimensional data).\n",
    "\n",
    "Here's a micro-article attempting to list the organisation of files in Pandas' architecture: [Discover Pandas Library Architecture – File Hierarchy in Pandas](https://data-flair.training/blogs/pandas-library-architecture/) -->\n"
   ]
  },
  {
   "cell_type": "code",
   "execution_count": 2,
   "metadata": {},
   "outputs": [],
   "source": [
    "ratings_df = pd.read_csv(\"./ml-latest-small/ratings.csv\")\n",
    "# ratings_df = pd.read_csv(\"./ml-10M100K/ratings.dat\", delimiter='::', names=['userId', 'movieId', 'rating', 'timestamp'])\n",
    "# ratings_df = pd.read_csv(\"./anime-ratings-matrix-factorization-v-10/anime ratings dataset/rating.csv\")"
   ]
  },
  {
   "cell_type": "code",
   "execution_count": 3,
   "metadata": {},
   "outputs": [
    {
     "data": {
      "text/html": [
       "<div>\n",
       "<style scoped>\n",
       "    .dataframe tbody tr th:only-of-type {\n",
       "        vertical-align: middle;\n",
       "    }\n",
       "\n",
       "    .dataframe tbody tr th {\n",
       "        vertical-align: top;\n",
       "    }\n",
       "\n",
       "    .dataframe thead th {\n",
       "        text-align: right;\n",
       "    }\n",
       "</style>\n",
       "<table border=\"1\" class=\"dataframe\">\n",
       "  <thead>\n",
       "    <tr style=\"text-align: right;\">\n",
       "      <th></th>\n",
       "      <th>userId</th>\n",
       "      <th>movieId</th>\n",
       "      <th>rating</th>\n",
       "      <th>timestamp</th>\n",
       "    </tr>\n",
       "  </thead>\n",
       "  <tbody>\n",
       "    <tr>\n",
       "      <th>0</th>\n",
       "      <td>1</td>\n",
       "      <td>1</td>\n",
       "      <td>4.0</td>\n",
       "      <td>964982703</td>\n",
       "    </tr>\n",
       "    <tr>\n",
       "      <th>1</th>\n",
       "      <td>1</td>\n",
       "      <td>3</td>\n",
       "      <td>4.0</td>\n",
       "      <td>964981247</td>\n",
       "    </tr>\n",
       "    <tr>\n",
       "      <th>2</th>\n",
       "      <td>1</td>\n",
       "      <td>6</td>\n",
       "      <td>4.0</td>\n",
       "      <td>964982224</td>\n",
       "    </tr>\n",
       "    <tr>\n",
       "      <th>3</th>\n",
       "      <td>1</td>\n",
       "      <td>47</td>\n",
       "      <td>5.0</td>\n",
       "      <td>964983815</td>\n",
       "    </tr>\n",
       "    <tr>\n",
       "      <th>4</th>\n",
       "      <td>1</td>\n",
       "      <td>50</td>\n",
       "      <td>5.0</td>\n",
       "      <td>964982931</td>\n",
       "    </tr>\n",
       "  </tbody>\n",
       "</table>\n",
       "</div>"
      ],
      "text/plain": [
       "   userId  movieId  rating  timestamp\n",
       "0       1        1     4.0  964982703\n",
       "1       1        3     4.0  964981247\n",
       "2       1        6     4.0  964982224\n",
       "3       1       47     5.0  964983815\n",
       "4       1       50     5.0  964982931"
      ]
     },
     "execution_count": 3,
     "metadata": {},
     "output_type": "execute_result"
    }
   ],
   "source": [
    "ratings_df.head()"
   ]
  },
  {
   "cell_type": "code",
   "execution_count": 4,
   "metadata": {},
   "outputs": [
    {
     "name": "stdout",
     "output_type": "stream",
     "text": [
      "<class 'pandas.core.frame.DataFrame'>\n",
      "RangeIndex: 100836 entries, 0 to 100835\n",
      "Data columns (total 4 columns):\n",
      " #   Column     Non-Null Count   Dtype  \n",
      "---  ------     --------------   -----  \n",
      " 0   userId     100836 non-null  int64  \n",
      " 1   movieId    100836 non-null  int64  \n",
      " 2   rating     100836 non-null  float64\n",
      " 3   timestamp  100836 non-null  int64  \n",
      "dtypes: float64(1), int64(3)\n",
      "memory usage: 3.1 MB\n"
     ]
    }
   ],
   "source": [
    "ratings_df.info()"
   ]
  },
  {
   "cell_type": "code",
   "execution_count": 5,
   "metadata": {},
   "outputs": [
    {
     "name": "stdout",
     "output_type": "stream",
     "text": [
      "There are 9724 movies and 610 users in the dataset\n"
     ]
    }
   ],
   "source": [
    "# num_movies = pd.DataFrame(ratings_df['movieId'].unique()).count().values[0]       #this is a tad more convoluted way\n",
    "# num_users = pd.DataFrame(ratings_df['userId'].unique()).count().values[0]\n",
    "num_movies = ratings_df['movieId'].unique().shape[0]                                #better way\n",
    "num_users = ratings_df['userId'].unique().shape[0]\n",
    "print(f\"There are {num_movies} movies and {num_users} users in the dataset\")"
   ]
  },
  {
   "cell_type": "code",
   "execution_count": 6,
   "metadata": {},
   "outputs": [
    {
     "name": "stdout",
     "output_type": "stream",
     "text": [
      "There are 0 user IDs exceeding 610.\n",
      "There are 4334 movie IDs exceeding 9724.\n"
     ]
    }
   ],
   "source": [
    "print(f\"There are {ratings_df.loc[ratings_df.userId > num_users].userId.unique().shape[0]} user IDs exceeding {num_users}.\")\n",
    "print(f\"There are {ratings_df.loc[ratings_df.movieId > num_movies].movieId.unique().shape[0]} movie IDs exceeding {num_movies}.\")"
   ]
  },
  {
   "cell_type": "markdown",
   "metadata": {},
   "source": [
    "For the 100k ratings dataset: it seems that the user IDs are contiguous, while the movie IDs are not.\n",
    "\n",
    "For the 10M ratings dataset: both the user IDs and movie IDs are not contiguous.\n",
    "\n",
    "We shall make the requisite IDs contiguous in following blocks after some more EDA."
   ]
  },
  {
   "cell_type": "code",
   "execution_count": 8,
   "metadata": {},
   "outputs": [],
   "source": [
    "# ratings_df.describe().T"
   ]
  },
  {
   "cell_type": "code",
   "execution_count": 9,
   "metadata": {},
   "outputs": [],
   "source": [
    "# pd.Series.value_counts(ratings_df['rating']).to_frame().T"
   ]
  },
  {
   "cell_type": "code",
   "execution_count": 10,
   "metadata": {},
   "outputs": [],
   "source": [
    "# plt.hist(ratings_df['rating'], bins=[(i-1)/2 for i in range(0, 12)])\n",
    "# plt.hist(ratings_df['rating'], bins=[i-0.5 for i in range(-1,12)])  #for anime ratings dataset"
   ]
  },
  {
   "cell_type": "code",
   "execution_count": 7,
   "metadata": {},
   "outputs": [
    {
     "name": "stdout",
     "output_type": "stream",
     "text": [
      "userId       0\n",
      "movieId      0\n",
      "rating       0\n",
      "timestamp    0\n",
      "dtype: int64 \n",
      "\n",
      "<class 'pandas.core.series.Series'>\n"
     ]
    }
   ],
   "source": [
    "print( ratings_df.isna().sum() , \"\\n\")\n",
    "print( type(ratings_df.isna().sum()) )"
   ]
  },
  {
   "cell_type": "code",
   "execution_count": 8,
   "metadata": {},
   "outputs": [
    {
     "name": "stdout",
     "output_type": "stream",
     "text": [
      "100836\n"
     ]
    },
    {
     "data": {
      "text/plain": [
       "100836"
      ]
     },
     "execution_count": 8,
     "metadata": {},
     "output_type": "execute_result"
    }
   ],
   "source": [
    "print( len(ratings_df.duplicated(subset=['userId', 'movieId'])) )\n",
    "len(np.where( ratings_df.duplicated(subset=['userId', 'movieId']) == False )[0])"
   ]
  },
  {
   "cell_type": "markdown",
   "metadata": {},
   "source": [
    "There don't seem to be any duplicates *shruggie"
   ]
  },
  {
   "cell_type": "markdown",
   "metadata": {},
   "source": [
    "## Data Preparation"
   ]
  },
  {
   "cell_type": "code",
   "execution_count": 13,
   "metadata": {},
   "outputs": [],
   "source": [
    "# toy = np.zeros((3,4))\n",
    "# toy[0,1] = 1\n",
    "# toy[2,3] = 2\n",
    "# toy"
   ]
  },
  {
   "cell_type": "code",
   "execution_count": 14,
   "metadata": {},
   "outputs": [],
   "source": [
    "# toy_csc = sparse.csc_matrix(toy)\n",
    "# print( toy_csc.data )\n",
    "# print( toy_csc.nnz )  # nnz => no. of non-zero (entries)\n",
    "# print( toy_csc.nonzero() )"
   ]
  },
  {
   "cell_type": "code",
   "execution_count": 15,
   "metadata": {},
   "outputs": [],
   "source": [
    "# toy_csc.power(2).todense()"
   ]
  },
  {
   "cell_type": "code",
   "execution_count": 16,
   "metadata": {},
   "outputs": [],
   "source": [
    "############################################################################\n",
    "## This was an unsuccessful attempt to write a general function to make IDs contiguous ##\n",
    "############################################################################\n",
    "\n",
    "# def make_id_contiguous(df:pd.DataFrame, id:str):\n",
    "#        old_new_id = np.zeros(df[id].max()+1)\n",
    "#        for new_id, old_id in enumerate(df[id].unique()):\n",
    "#               old_new_id[old_id] = new_id\n",
    "              \n",
    "#        import re\n",
    "#        RE_WORDS = re.compile(r'''\n",
    "#                      # Find words in a string. Order matters!\n",
    "#                      [A-Z]+(?=[A-Z][a-z]) |  # All upper case before a capitalized word\n",
    "#                      [A-Z]?[a-z]+ |  # Capitalized words / all lower case\n",
    "#                      [A-Z]+ |  # All upper case\n",
    "#                      \\d+  # Numbers\n",
    "#                      ''', re.VERBOSE)\n",
    "#        id_split = RE_WORDS.findall(id)\n",
    "#        print(id_split)\n",
    "#        print(np.where(id_split == 'Id'))\n",
    "#        # id_split[np.where(id_split == 'Id')] = 'newId'\n",
    "#        new_id_name = \"\".join(i for i in id_split)\n",
    "\n",
    "#        df[new_id_name] = old_new_id[df[id]]\n",
    "#        df = df.astype({new_id_name: 'int64'})\n",
    "#        print( df.head(), \"\\n\" )\n",
    "#        return old_new_id\n",
    "\n",
    "# make_id_contiguous(ratings_df, 'movieId')"
   ]
  },
  {
   "cell_type": "markdown",
   "metadata": {},
   "source": [
    "### Making the user and movie IDs contiguous"
   ]
  },
  {
   "cell_type": "code",
   "execution_count": 9,
   "metadata": {},
   "outputs": [
    {
     "name": "stdout",
     "output_type": "stream",
     "text": [
      "   userId  movieId  rating  timestamp  userNewId\n",
      "0       1        1     4.0  964982703          0\n",
      "1       1        3     4.0  964981247          0\n",
      "2       1        6     4.0  964982224          0\n",
      "3       1       47     5.0  964983815          0\n",
      "4       1       50     5.0  964982931          0 \n",
      "\n",
      "       userId  userNewId\n",
      "22684     156        155\n",
      "22685     156        155\n",
      "22686     156        155\n",
      "22687     156        155\n",
      "22688     156        155\n",
      "...       ...        ...\n",
      "23077     156        155\n",
      "23078     156        155\n",
      "23079     156        155\n",
      "23080     156        155\n",
      "23081     156        155\n",
      "\n",
      "[398 rows x 2 columns] \n",
      "\n",
      "There are 610 users and correspondingly 610.0 contiguous user IDs now\n"
     ]
    }
   ],
   "source": [
    "user_old_new_id = np.zeros(ratings_df[\"userId\"].max()+1)\n",
    "for new_id, old_id in enumerate(ratings_df['userId'].unique()):\n",
    "       user_old_new_id[old_id] = new_id\n",
    "       \n",
    "ratings_df['userNewId'] = user_old_new_id[ratings_df['userId']]\n",
    "ratings_df = ratings_df.astype({'userNewId': 'int64'})\n",
    "\n",
    "print( ratings_df.head(), \"\\n\" )\n",
    "# now just to check that we did it correctly, a movieId should be mapped to the same movieNewId\n",
    "print( ratings_df.loc[ratings_df.userId == 156][['userId', 'userNewId']], \"\\n\" ) \n",
    "print(f\"There are {num_users} users and correspondingly {max(user_old_new_id)+1} contiguous user IDs now\")"
   ]
  },
  {
   "cell_type": "code",
   "execution_count": 10,
   "metadata": {},
   "outputs": [
    {
     "name": "stdout",
     "output_type": "stream",
     "text": [
      "   userId  movieId  rating  timestamp  userNewId  movieNewId\n",
      "0       1        1     4.0  964982703          0           0\n",
      "1       1        3     4.0  964981247          0           1\n",
      "2       1        6     4.0  964982224          0           2\n",
      "3       1       47     5.0  964983815          0           3\n",
      "4       1       50     5.0  964982931          0           4 \n",
      "\n",
      "       movieId  movieNewId\n",
      "17007      156        4463\n",
      "96137      156        4463\n",
      "97391      156        4463 \n",
      "\n",
      "There are 9724 movies and correspondingly 9724.0 contiguous movie IDs now\n"
     ]
    }
   ],
   "source": [
    "movie_old_new_id = np.zeros(ratings_df[\"movieId\"].max()+1)\n",
    "for new_id, old_id in enumerate(ratings_df['movieId'].unique()):\n",
    "       movie_old_new_id[old_id] = new_id\n",
    "       \n",
    "ratings_df['movieNewId'] = movie_old_new_id[ratings_df['movieId']]\n",
    "ratings_df = ratings_df.astype({'movieNewId': 'int64'})\n",
    "\n",
    "print( ratings_df.head(), \"\\n\" )\n",
    "# now just to check that we did it correctly, a movieId should be mapped to the same movieNewId\n",
    "print( ratings_df.loc[ratings_df.movieId == 156][['movieId', 'movieNewId']], \"\\n\" ) \n",
    "print(f\"There are {num_movies} movies and correspondingly {max(movie_old_new_id)+1} contiguous movie IDs now\")"
   ]
  },
  {
   "cell_type": "code",
   "execution_count": 11,
   "metadata": {},
   "outputs": [
    {
     "name": "stdout",
     "output_type": "stream",
     "text": [
      "       userId  movieId  rating   timestamp  userNewId  movieNewId\n",
      "0         509     7347     3.0  1435994597        508        4285\n",
      "1         326    71462     4.0  1322252335        325        5629\n",
      "2          57     2115     3.0   965798155         56         134\n",
      "3         610     1127     4.0  1479544102        609          66\n",
      "4         462     2409     2.0  1174438249        461        1172\n",
      "...       ...      ...     ...         ...        ...         ...\n",
      "80663      42     4005     4.0   996259059         41        1873\n",
      "80664     364      141     4.0   869443367        363         524\n",
      "80665     480     6867     4.0  1179163171        479        2240\n",
      "80666       6      981     3.0   845556567          5         712\n",
      "80667     103     6711     5.0  1431957425        102        2046\n",
      "\n",
      "[80668 rows x 6 columns]\n",
      "       userId  movieId  rating   timestamp  userNewId  movieNewId\n",
      "0         432    77866     4.5  1335139641        431        4730\n",
      "1         288      474     3.0   978465565        287         474\n",
      "2         599     4351     3.0  1498524542        598        2631\n",
      "3          42     2987     4.0   996262677         41         194\n",
      "4          75     1610     4.0  1158989841         74         727\n",
      "...       ...      ...     ...         ...        ...         ...\n",
      "20163     380     5048     2.0  1494268065        379         279\n",
      "20164     434    54272     3.5  1270606860        433        1269\n",
      "20165     226     5989     4.5  1162428551        225         765\n",
      "20166     607     1320     3.0   963080497        606        2750\n",
      "20167     567      750     3.0  1525287719        566         722\n",
      "\n",
      "[20168 rows x 6 columns]\n",
      "(80668, 6) (20168, 6)\n"
     ]
    }
   ],
   "source": [
    "train_df, test_df = train_test_split(ratings_df, test_size=0.2, random_state=42)  #setting random_state ensures consistent splitting every time\n",
    "\n",
    "train_df = train_df.reset_index(drop=True)\n",
    "test_df = test_df.reset_index(drop=True)\n",
    "print(train_df)\n",
    "print(test_df)\n",
    "print( np.shape(train_df), np.shape(test_df) )"
   ]
  },
  {
   "cell_type": "markdown",
   "metadata": {},
   "source": [
    "Since we've chosen to make the movie IDs contiguous by mapping them to new ones, splitting the DataFrame makes creating smaller-dimensional matrix representations of the training or test sets difficult, because, say, the indices chosen in the training set can still lie out of bounds of its smaller matrix's size (similar logic holds for the test set).\n",
    "\n",
    "Instead, let's just work with the full ratings matrix, with the test entries zeroed out in the training matrix (and vice versa), which wouldn't be a bother to the memory anyway because we're using a sparse representation!"
   ]
  },
  {
   "cell_type": "code",
   "execution_count": 12,
   "metadata": {},
   "outputs": [
    {
     "name": "stdout",
     "output_type": "stream",
     "text": [
      "There are 80668 & 20168 non-zero elements in the train and test sparse matrices respectively.\n",
      " 611 9725\n"
     ]
    }
   ],
   "source": [
    "train = sparse.csc_matrix( (train_df['rating'].values, (train_df['userNewId'].values, train_df['movieNewId'].values)),\\\n",
    "                                 shape=(num_users+1, num_movies+1) )\n",
    "test = sparse.csc_matrix(  (test_df['rating'].values, (test_df['userNewId'].values, test_df['movieNewId'].values)),\\\n",
    "                                 shape=(num_users+1, num_movies+1))\n",
    "\n",
    "print(f\"There are {train.nnz} & {test.nnz} non-zero elements in the train and test sparse matrices respectively.\\n\", test.shape[0],train.shape[1] )\n",
    "# train.to_dense()\n",
    "# print( train )"
   ]
  },
  {
   "cell_type": "markdown",
   "metadata": {},
   "source": [
    "Lemme check once that the test and train matrix elements are indeed mutually exclusive (zero, non-zero in their matrices respectively).\n",
    "\n",
    "The cell below seems to show all's good"
   ]
  },
  {
   "cell_type": "code",
   "execution_count": 21,
   "metadata": {},
   "outputs": [],
   "source": [
    "# for i in zip(test.nonzero()[0], test.nonzero()[1]):\n",
    "#        if( train[i[0],i[1]] != 0 ):\n",
    "#               print(\"Hah!\")\n",
    "# for i in zip(train.nonzero()[0], train.nonzero()[1]):\n",
    "#        if( test[i[0],i[1]] != 0 ):\n",
    "#               print(\"Hah!\")"
   ]
  },
  {
   "cell_type": "code",
   "execution_count": 22,
   "metadata": {},
   "outputs": [],
   "source": [
    "# print( np.sort(train_df['userId'].values) )\n",
    "# print( mf.p_nnz_idx, \"\\n\" )\n",
    "\n",
    "# print( np.sort(train_df['movieNewId'].values) )\n",
    "# print( np.sort(mf.q_nnz_idx ) )\n",
    "# print( np.sort(train_df['userId'].values) == mf.p_nnz_idx )\n",
    "# print( np.sort(train_df['movieNewId'].values) == np.sort(mf.q_nnz_idx), \"\\n\" )\n",
    "\n",
    "# print( np.where( np.sort(train_df['userId'].values) != train.nonzero()[0]) )\n",
    "# print( np.where( np.sort(train_df['movieNewId'].values) != np.sort( train.nonzero()[1]) ) )\n",
    "# print( np.where( np.sort(train_df['movieNewId'].values) != np.sort(mf.q_nnz_idx)) )\n"
   ]
  },
  {
   "cell_type": "markdown",
   "metadata": {},
   "source": [
    "Hmmm, so the row indices seem to be all good, ~~but the column indices are playing foul.~~ as do the column indices.\n",
    "\n",
    "Wasted quite the time pursuing this!\n",
    "\n",
    "We have used the list `train_df['movieNewId'].values` as the column indices needed to generate R, but upon querying back these column indices, ~~they're coming out wrong!~~\n",
    "Previously, I wasn ony sorting the `train_df['movieNewId'].values` list, and not the list `mf.q_nnz_idx` for comparison. Upon sorting both, they indeed come out to be the same.\n",
    "***"
   ]
  },
  {
   "cell_type": "markdown",
   "metadata": {},
   "source": [
    "## Matrix Factorisation Class\n",
    "Below, I furnish a Matrix Factorisation Python class that implements:\n",
    "- gradient descent\n",
    "- (pending) gradient descent with user and item biases\n",
    "- sgd\n",
    "- ALS\n",
    "to learn the embeddings.\n",
    "\n",
    "The implementation of gradient descent and sgd considers the loss function for explicit ratings, i.e. solely over observed values.\n",
    "The ALS implementation uses the Koren et al. approach treating the entire ratings matrix as dense implicit data.\n",
    "\n",
    "The regularised loss I've used for explicit ratings: $$L(R, P, Q) = \\frac{1}{N}\\underset{(i,j):r_{ui}≠Nan}{\\sum} (r_{ui} - p_u^T\\cdot q_i)^2 + \\lambda(\\sum_u{||p_u||^2} + \\sum_i{||q_i||^2})$$\n",
    "It's a squared error (SE) loss function with regularisation terms. I wonder how using the Mean SE or RMSE would change the behaviour. ~~Conceptually, it shouldn't..~~ Oh how pathetically wrong I was! Not providing the required normalisation on the gradient terms just blew the cost up! I wonder why not providing the normalisation to the gradient calculation blows up the cost. The two seem unrelated, except, not!\n",
    "\n",
    "Still need to add the user and item bias terms to SGD and GD."
   ]
  },
  {
   "cell_type": "code",
   "execution_count": 78,
   "metadata": {},
   "outputs": [],
   "source": [
    "class MatrixFactorisation():\n",
    "       \"\"\"\n",
    "       A class implementing sparsity optimised methods to factorise a provided (m*n) sparse matrix into two factor matrices of dimensions (m*k) and (n*k), with 'k' specified; designed with collaborative-filtering recommender system applications in mind.\n",
    "\n",
    "       For a matrix R, we compute the decomposition matrices P, Q:        R{m*n} = P{m*k}•Q^T{k*n}\n",
    "       The class object is initialised with a sparse input matrix, and the value of 'k'. Even if the data is dense, consider casting it into a sparse format.\n",
    "       Class contains methods to factorise R, considering it either as explicit or implicit data, i.e. considering only the non-zero values for \n",
    "       learning, or considering the entire dense version of the matrix, including zeros, respectively.\n",
    "       For a more informative discussion on explicit and implicit interpretations of matrix data, refer to http://yifanhu.net/PUB/cf.pdf\n",
    "\n",
    "       If matrix R represents feedback values (ratings, view counts etc.) for \"items\" each described by a column of R, provided by \"users\" each described by a row of R,\n",
    "       then the factors P, Q represent vector embeddings of \"user\" and \"item\" profiles in a common k-dimensional embedding space.\n",
    "\n",
    "       The class also implements a method to plot the training and validation learning curves.\n",
    "\n",
    "       Methods:\n",
    "              - gradient_descent\n",
    "              - sgd\n",
    "              - als\n",
    "              - plot_learning_curve\n",
    "       \"\"\"\n",
    "\n",
    "       def __init__(self, R:sparse.csc_matrix, k:int, verbose:bool=False ):\n",
    "              self.R = R           # R is the \"ratings\" matrix to be factorised\n",
    "              self.k = k           # hyperparameter k is the number of latent factors desired in the factorised embeddings\n",
    "              self.m, self.n = R.shape\n",
    "              self.P = np.random.rand(self.m, k)        # initialising the first factor embedding (of \"users\")\n",
    "              self.Q = np.random.rand(self.n, k)        # initialising the second factor embedding (of \"items\")\n",
    "              self.p_nnz_idx, self.q_nnz_idx = R.nonzero()        # row and col indices in R matrix respectively, of non-zero elements\n",
    "              self.train_mse_at_epochs = []\n",
    "              self.test_mse_at_epochs = []\n",
    "              self.verbose = verbose\n",
    "              self.verbose_epoch_intvl = 50\n",
    "\n",
    "       def __predict_observed(self):\n",
    "              \"\"\"\n",
    "              Returns predicted values as a sparse matrix, corresponding to indices of non-zero elements in matrix R to be factorised\n",
    "\n",
    "              Avoids constructing a dense prediction matrix produced via naïve dense matrix multiplication of factors.\n",
    "              Instead, produces predicted values by multiplying only the requisite factor-matrix rows corresponding to non-zero entries in R.\n",
    "              \"\"\"\n",
    "              R_predicted = np.sum( np.multiply(self.P[self.p_nnz_idx], self.Q[self.q_nnz_idx]), axis=1 )       #calculating the products only for the nonzero \"observed\" rating entries: explicit MF\n",
    "              R_predicted = sparse.csc_matrix( (R_predicted, (self.p_nnz_idx, self.q_nnz_idx)), shape=(self.m,self.n))              \n",
    "              # R_predicted = self.P @ self.Q.T\n",
    "              # R_predicted = sparse.csc_matrix(R_predicted)\n",
    "              return R_predicted\n",
    "\n",
    "       def gradients(self, _lambda):\n",
    "              \"\"\"\n",
    "              Returns l2 gradients w.r.t the elements of the factor matrices, along with the prediction errors vis-a-vis actual values.\n",
    "              \"\"\"\n",
    "              R_predicted = self.__predict_observed()\n",
    "              error = self.R - R_predicted\n",
    "              norm_factor = -2 / self.R.nnz  #this factor is crucial! Can't be 1 (i.e. we can't leave the gradients unnormalised, else cost diverges!)\n",
    "              grad_P = norm_factor * (error*self.Q) + 2*(lambda_*self.P)\n",
    "              grad_Q = norm_factor * (error.T*self.P) + 2*(lambda_*self.Q)\n",
    "              return grad_P, grad_Q, error\n",
    "\n",
    "       def gradient_descent(self, iterations=2000, learning_rate = 0.3, lambda_=0.0002, beta=0.8, validation:sparse.csc_matrix=None, verbose=False):\n",
    "              \"\"\"\n",
    "              Returns factor matrices for explicit data matrix by learning their entries via full-batch gradient descent.\n",
    "\n",
    "              Returned factor matrices P,Q represent user and item embeddings, for explicit ratings data R.\n",
    "                     R = P.Q^T\n",
    "\n",
    "              Optionally provide a sparse matrix with validation data, to compute the validation performance (measured by mse) over time\n",
    "              \"\"\"\n",
    "              self.verbose = verbose\n",
    "\n",
    "              grad_P, grad_Q, error = self.gradients(lambda_)\n",
    "              v_P = grad_P\n",
    "              v_Q = grad_Q\n",
    "              beta = beta    # momentum constant\n",
    "              train_mse = error.power(2).sum()/self.R.nnz #self.R.shape[0]\n",
    "              # print(\"train mse:\", train_mse)\n",
    "              self.train_mse_at_epochs.append( [1, train_mse] )\n",
    "              self.save_test_mse(0, validation=validation)\n",
    "              for i in tqdm(range(iterations), desc=\"Gradient Descent progress:\", leave=verbose):\n",
    "                     grad_P, grad_Q, error = self.gradients(lambda_)\n",
    "                     v_P = beta*v_P + (1-beta)*grad_P   \n",
    "                     v_Q = beta*v_Q + (1-beta)*grad_Q\n",
    "                     self.P = self.P - learning_rate*v_P       # Grad Desc update rule\n",
    "                     self.Q = self.Q - learning_rate*v_Q       # Grad Desc update rule\n",
    "                     # print(\"train mse:\", error.power(2).sum()/self.R.shape[0] )  #print mse at each iteration\n",
    "                     if(not (i+1)%self.verbose_epoch_intvl):\n",
    "                            self.save_train_mse(i, error)\n",
    "                            self.save_test_mse(i, validation=validation)\n",
    "              return self.P, self.Q\n",
    "\n",
    "       def save_train_mse(self, i, error):\n",
    "              train_mse = error.power(2).sum()/self.R.nnz #self.R.shape[0]\n",
    "              self.train_mse_at_epochs.append( [i+1, train_mse])\n",
    "              if(self.verbose):\n",
    "                     print(\"\\niteration/epoch\", i+1, \":\")\n",
    "                     print(\"train mse:\", train_mse)\n",
    "\n",
    "       def save_test_mse(self, i, validation:sparse.csc_matrix=None, solver='gd'):\n",
    "              if(validation != None):\n",
    "                     valdn_p_nnz_idx, valdn_q_nnz_idx = validation.nonzero()\n",
    "                     valdn_predicted = np.sum( np.multiply(self.P[valdn_p_nnz_idx], self.Q[valdn_q_nnz_idx]), axis=1 )       #calculating the products only for the nonzero \"observed\" rating entries\n",
    "                     valdn_predicted = sparse.csc_matrix( (valdn_predicted, (valdn_p_nnz_idx, valdn_q_nnz_idx)), shape=(self.m,self.n))\n",
    "                     # if(solver == 'als'):\n",
    "                     #        valdn_Phi = validation\n",
    "                     #        valdn_Phi[valdn_Phi.nonzero()] = 1.0\n",
    "                     #        valdn_error = valdn_Phi- valdn_predicted\n",
    "                     #        # test_mse = valdn_error.power(2).sum()/self.R.nnz   #self.R.shape[0]\n",
    "                     # else:\n",
    "                     #        # valdn_p_nnz_idx, valdn_q_nnz_idx = validation.nonzero()\n",
    "                     #        # valdn_predicted = np.sum( np.multiply(self.P[valdn_p_nnz_idx], self.Q[valdn_q_nnz_idx]), axis=1 )       #calculating the products only for the nonzero \"observed\" rating entries\n",
    "                     #        # valdn_predicted = sparse.csc_matrix( (valdn_predicted, (valdn_p_nnz_idx, valdn_q_nnz_idx)), shape=(self.m,self.n))\n",
    "                     valdn_error = validation - valdn_predicted\n",
    "                     test_mse = valdn_error.power(2).sum()/validation.nnz    #self.R.nnz   #self.R.shape[0]\n",
    "                     self.test_mse_at_epochs.append([i+1, test_mse])\n",
    "                     if(self.verbose):\n",
    "                            print(\"iteration\", i+1, \":\")\n",
    "                            print(\"test mse:\", test_mse)\n",
    "\n",
    "       def sgd(self, epochs=10, learning_rate=0.03, lambda_=0.0, beta=0.8, verbose=False, validation:sparse.csc_matrix=None):\n",
    "              \"\"\"\n",
    "              Returns factor matrices for explicit data matrix by learning their entries via stochastic gradient descent.\n",
    "\n",
    "              Returned factor matrices P,Q represent user and item embeddings, for explicit ratings data R.\n",
    "                     R = P.Q^T\n",
    "\n",
    "              Optionally provide a sparse matrix with validation data, to compute the validation performance (measured by mse) over time\n",
    "              \"\"\"\n",
    "              self.verbose = verbose\n",
    "              beta = beta\n",
    "\n",
    "              num_samples = len(self.p_nnz_idx)\n",
    "              training_indices = np.arange(num_samples)\n",
    "              # I couldn't have shuffled the array p_nnz_idx itself, cuz that would require shuffling q_nnx_idx in a corresponding manner\n",
    "\n",
    "              # with tqdm(total=100) as prog_bar:\n",
    "              for epoch in tqdm(range(epochs), desc=\"Total SGD epochs completion: \", leave=verbose):\n",
    "                     np.random.shuffle(training_indices)       #stochasticity must be ensured properly!\n",
    "                     count = 0\n",
    "                     for i in tqdm(training_indices, desc=f\"Epoch #{epoch} completion: \"):        #Looping through each data-point\n",
    "                            p_idx = self.p_nnz_idx[i]\n",
    "                            q_idx = self.q_nnz_idx[i]\n",
    "\n",
    "                            R_ij = self.R[p_idx, q_idx]\n",
    "                            P_i = self.P[p_idx]\n",
    "                            Q_j = self.Q[q_idx]\n",
    "\n",
    "                            R_predicted_ij = P_i.dot(Q_j.T)\n",
    "                            error_ij = R_ij - R_predicted_ij\n",
    "                            grad_P_i = -2*(error_ij * Q_j) + 2*(lambda_ * self.P[p_idx])\n",
    "                            grad_Q_j = -2*(error_ij * P_i) + 2*(lambda_ * self.Q[q_idx])\n",
    "\n",
    "                            v_P_i = beta*v_P_i + (1-beta)*grad_P_i if epoch!=0 else grad_P_i\n",
    "                            v_Q_j = beta*v_Q_j + (1-beta)*grad_Q_j if epoch!=0 else grad_Q_j\n",
    "       \n",
    "                            self.P[p_idx] -= learning_rate * v_P_i\n",
    "                            self.Q[q_idx] -= learning_rate * v_Q_j\n",
    "                            # self.P[p_idx] -= learning_rate* grad_P_i\n",
    "                            # self.Q[q_idx] -= learning_rate* grad_Q_j\n",
    "\n",
    "                            if(not ((epoch+1)*(count+1)+1)%(1000)):\n",
    "                                   R_predicted = np.sum( np.multiply(self.P[self.p_nnz_idx], self.Q[self.q_nnz_idx]), axis=1 )       #calculating the products only for the nonzero \"observed\" rating entries\n",
    "                                   R_predicted = sparse.csc_matrix( (R_predicted, (self.p_nnz_idx, self.q_nnz_idx)), shape=(self.m,self.n))\n",
    "                                   error = self.R - R_predicted\n",
    "                                   self.save_train_mse((epoch+1)*(count+1), error)\n",
    "                                   self.save_test_mse((epoch+1)*(count+1), validation=validation)\n",
    "                            count += 1\n",
    "\n",
    "                     # if(not (epoch+1)%(self.verbose_epoch_intvl/10)):\n",
    "                     #        R_predicted = np.sum( np.multiply(self.P[self.p_nnz_idx], self.Q[self.q_nnz_idx]), axis=1 )       #calculating the products only for the nonzero \"observed\" rating entries\n",
    "                     #        R_predicted = sparse.csc_matrix( (R_predicted, (self.p_nnz_idx, self.q_nnz_idx)), shape=(self.m,self.n))\n",
    "                     #        error = self.R - R_predicted\n",
    "                     #        self.save_train_mse(count, error)\n",
    "                     #        # self.save_test_mse(i, validation=validation)\n",
    "              return self.P, self.Q\n",
    "\n",
    "       def als(self, epochs=10, alpha=40, lambda_=10, solver=\"cg\", validation:sparse.csc_matrix=None, verbose=False):\n",
    "              \"\"\"\n",
    "              Returns factor matrices for implicit data matrix by learning their entries via Alternating Least Squares method.\n",
    "\n",
    "              Returned factor matrices P,Q represent user and item embeddings, for binarised ratings matrix 'Phi' derived from R, as follows:\n",
    "                     Phi[p,q] =    { 0    for R[p,q]=0\n",
    "                                   { 1    for R[p,q]>0\n",
    "              &      Phi = P.Q^T\n",
    "\n",
    "              The parameter `solver` specifies the solver to use. Currently choose between \"cg\" (iterative conjugate gradient method) or \"lu\" (PLU decomposition).\n",
    "              \n",
    "              Optionally provide a sparse matrix with validation data, to compute the validation performance (measured by mse) over time\n",
    "              \"\"\"\n",
    "              ## should I be making the following tradeoff for precomputed memory, to speed up implementation?\n",
    "              # Cp_array = []\n",
    "              # Cq_array = []\n",
    "              # for p in range(self.m):\n",
    "              #        C_p = sparse.diags(self.R[p].toarray(), [0])\n",
    "              #        Cp_array.append(C_p)\n",
    "              # for q in range(self.n):\n",
    "              #        C_q = sparse.diags(self.R[q].toarray(), [0])\n",
    "              #        Cq_array.append(C_q)\n",
    "              self.verbose = verbose\n",
    "              lambda_eye = lambda_ * sparse.eye(self.k)\n",
    "\n",
    "              P = sparse.csc_matrix(self.P)\n",
    "              Q = sparse.csc_matrix(self.Q)\n",
    "\n",
    "              # the memory for this loop can further be optimised by eliminating the two similar loops with appropriate conditioning\n",
    "              for i in tqdm(range(epochs), desc=\"ALS iterations completion: \", leave=verbose):\n",
    "                     # Q = sparse.csc_matrix(self.Q)\n",
    "                     QTQ = Q.T.dot(Q)         #precomputation of Q.T.dot(Q) for all elements of P\n",
    "                     for p in tqdm(range(self.m), desc=\"Solving for P: \", leave=verbose):\n",
    "                            R_p = self.R[p].toarray()\n",
    "                            CpI = sparse.diags(alpha * R_p, [0])      #This acts as the (C^u - I) matrix in literature\n",
    "                            QTCpIQ = Q.T.dot(CpI).dot(Q)\n",
    "                            A = (QTQ + QTCpIQ) + lambda_eye\n",
    "\n",
    "                            phi = R_p.copy()\n",
    "                            phi[np.where(phi != 0)] = 1.0\n",
    "                            b = Q.T.dot(CpI + sparse.eye(self.n)).dot(sparse.csc_matrix(phi).T)       # why the last transpose on phi though?\n",
    "\n",
    "                            if(solver == \"lu\"):\n",
    "                                   P[p] = sparse.linalg.spsolve(A, b)\n",
    "                                   # self.P[p] = sparse.linalg.spsolve(A, b)\n",
    "                            if(solver == \"cg\"):\n",
    "                                   P[p], exitcode = sparse.linalg.cg(A, b.toarray())\n",
    "                                   if(exitcode):\n",
    "                                          print(f\"Conjugate Gradient Method couldn't converge properly, exited with convergence exitcode {exitcode}\")\n",
    "                     \n",
    "                     # P = sparse.csc_matrix(self.P)\n",
    "                     PTP = P.T.dot(P)         #precomputation of P.T.dot(P) for all elements of Q\n",
    "                     for q in tqdm(range(self.n), desc=\"Solving for Q: \", leave=verbose):\n",
    "                            R_q = self.R[:,q].T.toarray()\n",
    "                            CqI = sparse.diags(alpha * R_q, [0])      #This acts as the (C^u - I) matrix in literature\n",
    "                            PTCqIP = P.T.dot(CqI).dot(P)\n",
    "                            A = (PTP + PTCqIP) + lambda_eye\n",
    "\n",
    "                            phi = R_q.copy()\n",
    "                            phi[np.where(phi != 0)] = 1.0\n",
    "                            b = P.T.dot(CqI + sparse.eye(self.m)).dot(sparse.csc_matrix(phi).T)\n",
    "\n",
    "                            if(solver == \"lu\"):\n",
    "                                   Q[q] = sparse.linalg.spsolve(A, b)\n",
    "                                   # self.Q[q] = sparse.linalg.spsolve(A, b)\n",
    "                            if(solver == \"cg\"):\n",
    "                                   Q[q], exitcode = sparse.linalg.cg(A, b.toarray())\n",
    "                                   if(exitcode):\n",
    "                                          print(f\"Conjugate Gradient Method couldn't converge properly, exited with convergence exitcode {exitcode}\")\n",
    "\n",
    "                     # Phi_predicted = np.sum( np.multiply(self.P[self.p_nnz_idx], self.Q[self.q_nnz_idx]), axis=1 )       #calculating the products only for the nonzero \"observed\" rating entries\n",
    "                     # Phi_predicted = sparse.csc_matrix( (Phi_predicted, (self.p_nnz_idx, self.q_nnz_idx)), shape=(self.m,self.n))\n",
    "                     Phi_predicted = np.sum( np.multiply(P.toarray()[self.p_nnz_idx], Q.toarray()[self.q_nnz_idx]), axis=1 )       #calculating the products only for the nonzero \"observed\" rating entries\n",
    "                     Phi_predicted = sparse.csc_matrix( (Phi_predicted, (self.p_nnz_idx, self.q_nnz_idx)), shape=(self.m,self.n))\n",
    "                     Phi = self.R\n",
    "                     Phi[Phi.nonzero()] = 1.0\n",
    "                     error = Phi - Phi_predicted\n",
    "                     self.save_train_mse(i, error)\n",
    "\n",
    "                     valdn_p_nnz_idx, valdn_q_nnz_idx = validation.nonzero()\n",
    "                     valdn_predicted = np.sum( np.multiply(P.toarray()[valdn_p_nnz_idx], Q.toarray()[valdn_q_nnz_idx]), axis=1 )       #calculating the products only for the nonzero \"observed\" rating entries\n",
    "                     valdn_predicted = sparse.csc_matrix( (valdn_predicted, (valdn_p_nnz_idx, valdn_q_nnz_idx)), shape=(self.m,self.n))\n",
    "                     valdn_Phi = validation\n",
    "                     valdn_Phi[valdn_Phi.nonzero()] = 1.0\n",
    "                     valdn_error = valdn_Phi- valdn_predicted\n",
    "                     test_mse = valdn_error.power(2).sum()/validation.nnz    #self.R.nnz   #self.R.shape[0]\n",
    "                     self.test_mse_at_epochs.append([i+1, test_mse])\n",
    "                     if(self.verbose):\n",
    "                            print(\"iteration\", i+1, \":\")\n",
    "                            print(\"test mse:\", test_mse)\n",
    "              self.P = P\n",
    "              self.Q = Q\n",
    "              return self.P, self.Q\n",
    "\n",
    "       def plot_learning_curve(self, validation=None):\n",
    "              if(validation != None):\n",
    "                     test_mse_arr = np.array(self.test_mse_at_epochs)\n",
    "                     plt.plot(test_mse_arr[:,0], test_mse_arr[:,1], label='Test')\n",
    "              train_mse_arr = np.array(self.train_mse_at_epochs)\n",
    "              plt.plot(train_mse_arr[:,0], train_mse_arr[:,1], label='Train')\n",
    "              plt.xticks(fontsize=16)\n",
    "              plt.yticks(fontsize=16)\n",
    "              plt.xlabel('iterations', fontsize=12)\n",
    "              plt.ylabel('MSE', fontsize=12)\n",
    "              plt.legend(loc='best', fontsize=9)\n"
   ]
  },
  {
   "cell_type": "markdown",
   "metadata": {},
   "source": [
    "## Hyperparameter tuning via grid search\n",
    "Disclaimer for the code below: I'm aware that a hold-out validation set should be used for the hyperparameter tuning, instead of the test set itself. But for a lack of having created a validation set previously, I am taking the liberty to perform the tuning with the test set. This is not best practice, and I ought to add cross-validation support in future."
   ]
  },
  {
   "cell_type": "code",
   "execution_count": 299,
   "metadata": {},
   "outputs": [
    {
     "data": {
      "application/vnd.jupyter.widget-view+json": {
       "model_id": "96c8cca7dd704dbbbf827b9ead2ad2c4",
       "version_major": 2,
       "version_minor": 0
      },
      "text/plain": [
       "Grid Search Progress: : 0it [00:00, ?it/s]"
      ]
     },
     "metadata": {},
     "output_type": "display_data"
    },
    {
     "data": {
      "application/vnd.jupyter.widget-view+json": {
       "model_id": "e57d2b76206944f2a80f1817afc03613",
       "version_major": 2,
       "version_minor": 0
      },
      "text/plain": [
       "ALS iterations completion:   0%|          | 0/10 [00:00<?, ?it/s]"
      ]
     },
     "metadata": {},
     "output_type": "display_data"
    },
    {
     "data": {
      "application/vnd.jupyter.widget-view+json": {
       "model_id": "1b80005bb334430bac22feb55760eb0e",
       "version_major": 2,
       "version_minor": 0
      },
      "text/plain": [
       "Solving for P:   0%|          | 0/611 [00:00<?, ?it/s]"
      ]
     },
     "metadata": {},
     "output_type": "display_data"
    },
    {
     "data": {
      "application/vnd.jupyter.widget-view+json": {
       "model_id": "844c76544f7d4e4fb4c7d97242c614a6",
       "version_major": 2,
       "version_minor": 0
      },
      "text/plain": [
       "Solving for Q:   0%|          | 0/9725 [00:00<?, ?it/s]"
      ]
     },
     "metadata": {},
     "output_type": "display_data"
    },
    {
     "data": {
      "application/vnd.jupyter.widget-view+json": {
       "model_id": "a8ad3ab9527b4f13941cd39e4e0e5425",
       "version_major": 2,
       "version_minor": 0
      },
      "text/plain": [
       "Solving for P:   0%|          | 0/611 [00:00<?, ?it/s]"
      ]
     },
     "metadata": {},
     "output_type": "display_data"
    },
    {
     "data": {
      "application/vnd.jupyter.widget-view+json": {
       "model_id": "c5fe7eee9b3a4c50a57e2d39da8b74da",
       "version_major": 2,
       "version_minor": 0
      },
      "text/plain": [
       "Solving for Q:   0%|          | 0/9725 [00:00<?, ?it/s]"
      ]
     },
     "metadata": {},
     "output_type": "display_data"
    },
    {
     "ename": "KeyboardInterrupt",
     "evalue": "",
     "output_type": "error",
     "traceback": [
      "\u001b[0;31m---------------------------------------------------------------------------\u001b[0m",
      "\u001b[0;31mKeyboardInterrupt\u001b[0m                         Traceback (most recent call last)",
      "Cell \u001b[0;32mIn[299], line 51\u001b[0m\n\u001b[1;32m     43\u001b[0m param_grid_sgd \u001b[38;5;241m=\u001b[39m {  \u001b[38;5;124m\"\u001b[39m\u001b[38;5;124mk\u001b[39m\u001b[38;5;124m\"\u001b[39m: [\u001b[38;5;241m20\u001b[39m, \u001b[38;5;241m40\u001b[39m, \u001b[38;5;241m80\u001b[39m],\n\u001b[1;32m     44\u001b[0m                     \u001b[38;5;124m\"\u001b[39m\u001b[38;5;124mepochs\u001b[39m\u001b[38;5;124m\"\u001b[39m: [\u001b[38;5;241m2\u001b[39m, \u001b[38;5;241m5\u001b[39m, \u001b[38;5;241m10\u001b[39m],\n\u001b[1;32m     45\u001b[0m                     \u001b[38;5;124m\"\u001b[39m\u001b[38;5;124mlearning_rate\u001b[39m\u001b[38;5;124m\"\u001b[39m: [\u001b[38;5;241m0.003\u001b[39m, \u001b[38;5;241m0.03\u001b[39m, \u001b[38;5;241m0.3\u001b[39m],\n\u001b[1;32m     46\u001b[0m                     \u001b[38;5;66;03m# \"beta\": [0.5, 0.9],\u001b[39;00m\n\u001b[1;32m     47\u001b[0m                     \u001b[38;5;124m\"\u001b[39m\u001b[38;5;124m_lambda\u001b[39m\u001b[38;5;124m\"\u001b[39m: [\u001b[38;5;241m0.0\u001b[39m, \u001b[38;5;241m1e-1\u001b[39m, \u001b[38;5;241m1e-2\u001b[39m, \u001b[38;5;241m10\u001b[39m]}\n\u001b[1;32m     49\u001b[0m \u001b[38;5;66;03m# curves = grid_search(\"sgd\", train, test, param_grid_sgd)\u001b[39;00m\n\u001b[1;32m     50\u001b[0m \u001b[38;5;66;03m# curves = grid_search(\"gd\", train, test, param_grid_gd)\u001b[39;00m\n\u001b[0;32m---> 51\u001b[0m curves \u001b[38;5;241m=\u001b[39m \u001b[43mgrid_search\u001b[49m\u001b[43m(\u001b[49m\u001b[38;5;124;43m\"\u001b[39;49m\u001b[38;5;124;43mals\u001b[39;49m\u001b[38;5;124;43m\"\u001b[39;49m\u001b[43m,\u001b[49m\u001b[43m \u001b[49m\u001b[43mtrain\u001b[49m\u001b[43m,\u001b[49m\u001b[43m \u001b[49m\u001b[43mtest\u001b[49m\u001b[43m,\u001b[49m\u001b[43m \u001b[49m\u001b[43mparam_grid_als\u001b[49m\u001b[43m)\u001b[49m\n",
      "Cell \u001b[0;32mIn[299], line 11\u001b[0m, in \u001b[0;36mgrid_search\u001b[0;34m(model, train, test, param_grid, user_index)\u001b[0m\n\u001b[1;32m      9\u001b[0m func_params \u001b[38;5;241m=\u001b[39m \u001b[38;5;28mdict\u001b[39m(\u001b[38;5;28mlist\u001b[39m(params\u001b[38;5;241m.\u001b[39mitems())[\u001b[38;5;241m1\u001b[39m:])\n\u001b[1;32m     10\u001b[0m \u001b[38;5;28;01mif\u001b[39;00m(model \u001b[38;5;241m==\u001b[39m \u001b[38;5;124m\"\u001b[39m\u001b[38;5;124mals\u001b[39m\u001b[38;5;124m\"\u001b[39m):\n\u001b[0;32m---> 11\u001b[0m     \u001b[43mmf\u001b[49m\u001b[38;5;241;43m.\u001b[39;49m\u001b[43mals\u001b[49m\u001b[43m(\u001b[49m\u001b[38;5;241;43m*\u001b[39;49m\u001b[38;5;241;43m*\u001b[39;49m\u001b[43mfunc_params\u001b[49m\u001b[43m,\u001b[49m\u001b[43m \u001b[49m\u001b[43mvalidation\u001b[49m\u001b[38;5;241;43m=\u001b[39;49m\u001b[43mtest\u001b[49m\u001b[43m)\u001b[49m\n\u001b[1;32m     12\u001b[0m \u001b[38;5;28;01melif\u001b[39;00m(model \u001b[38;5;241m==\u001b[39m \u001b[38;5;124m\"\u001b[39m\u001b[38;5;124mgd\u001b[39m\u001b[38;5;124m\"\u001b[39m):\n\u001b[1;32m     13\u001b[0m     mf\u001b[38;5;241m.\u001b[39mgradient_descent(\u001b[38;5;241m*\u001b[39m\u001b[38;5;241m*\u001b[39mfunc_params, validation\u001b[38;5;241m=\u001b[39mtest)\n",
      "Cell \u001b[0;32mIn[292], line 210\u001b[0m, in \u001b[0;36mMatrixFactorisation.als\u001b[0;34m(self, epochs, alpha, _lambda, solver, validation, verbose)\u001b[0m\n\u001b[1;32m    208\u001b[0m phi \u001b[38;5;241m=\u001b[39m R_q\u001b[38;5;241m.\u001b[39mcopy()\n\u001b[1;32m    209\u001b[0m phi[np\u001b[38;5;241m.\u001b[39mwhere(phi \u001b[38;5;241m!=\u001b[39m \u001b[38;5;241m0\u001b[39m)] \u001b[38;5;241m=\u001b[39m \u001b[38;5;241m1.0\u001b[39m\n\u001b[0;32m--> 210\u001b[0m b \u001b[38;5;241m=\u001b[39m P\u001b[38;5;241m.\u001b[39mT\u001b[38;5;241m.\u001b[39mdot(CqI \u001b[38;5;241m+\u001b[39m sparse\u001b[38;5;241m.\u001b[39meye(\u001b[38;5;28mself\u001b[39m\u001b[38;5;241m.\u001b[39mm))\u001b[38;5;241m.\u001b[39mdot(\u001b[43msparse\u001b[49m\u001b[38;5;241;43m.\u001b[39;49m\u001b[43mcsc_matrix\u001b[49m\u001b[43m(\u001b[49m\u001b[43mphi\u001b[49m\u001b[43m)\u001b[49m\u001b[38;5;241m.\u001b[39mT)       \u001b[38;5;66;03m# why the last transpose on phi though?\u001b[39;00m\n\u001b[1;32m    212\u001b[0m \u001b[38;5;28;01mif\u001b[39;00m(solver \u001b[38;5;241m==\u001b[39m \u001b[38;5;124m\"\u001b[39m\u001b[38;5;124mlu\u001b[39m\u001b[38;5;124m\"\u001b[39m):\n\u001b[1;32m    213\u001b[0m        Q[q] \u001b[38;5;241m=\u001b[39m sparse\u001b[38;5;241m.\u001b[39mlinalg\u001b[38;5;241m.\u001b[39mspsolve(A, b)\n",
      "File \u001b[0;32m~/Py_VirtualEnvs/RecSys_Env/lib/python3.10/site-packages/scipy/sparse/_compressed.py:86\u001b[0m, in \u001b[0;36m_cs_matrix.__init__\u001b[0;34m(self, arg1, shape, dtype, copy)\u001b[0m\n\u001b[1;32m     83\u001b[0m         msg \u001b[38;5;241m=\u001b[39m \u001b[38;5;124mf\u001b[39m\u001b[38;5;124m\"\u001b[39m\u001b[38;5;124munrecognized \u001b[39m\u001b[38;5;132;01m{\u001b[39;00m\u001b[38;5;28mself\u001b[39m\u001b[38;5;241m.\u001b[39mformat\u001b[38;5;132;01m}\u001b[39;00m\u001b[38;5;124m_matrix constructor usage\u001b[39m\u001b[38;5;124m\"\u001b[39m\n\u001b[1;32m     84\u001b[0m         \u001b[38;5;28;01mraise\u001b[39;00m \u001b[38;5;167;01mValueError\u001b[39;00m(msg) \u001b[38;5;28;01mfrom\u001b[39;00m \u001b[38;5;21;01me\u001b[39;00m\n\u001b[1;32m     85\u001b[0m     \u001b[38;5;28mself\u001b[39m\u001b[38;5;241m.\u001b[39m_set_self(\u001b[38;5;28mself\u001b[39m\u001b[38;5;241m.\u001b[39m\u001b[38;5;18m__class__\u001b[39m(\n\u001b[0;32m---> 86\u001b[0m         \u001b[38;5;28;43mself\u001b[39;49m\u001b[38;5;241;43m.\u001b[39;49m\u001b[43m_coo_container\u001b[49m\u001b[43m(\u001b[49m\u001b[43marg1\u001b[49m\u001b[43m,\u001b[49m\u001b[43m \u001b[49m\u001b[43mdtype\u001b[49m\u001b[38;5;241;43m=\u001b[39;49m\u001b[43mdtype\u001b[49m\u001b[43m)\u001b[49m\n\u001b[1;32m     87\u001b[0m     ))\n\u001b[1;32m     89\u001b[0m \u001b[38;5;66;03m# Read matrix dimensions given, if any\u001b[39;00m\n\u001b[1;32m     90\u001b[0m \u001b[38;5;28;01mif\u001b[39;00m shape \u001b[38;5;129;01mis\u001b[39;00m \u001b[38;5;129;01mnot\u001b[39;00m \u001b[38;5;28;01mNone\u001b[39;00m:\n",
      "File \u001b[0;32m~/Py_VirtualEnvs/RecSys_Env/lib/python3.10/site-packages/scipy/sparse/_coo.py:96\u001b[0m, in \u001b[0;36m_coo_base.__init__\u001b[0;34m(self, arg1, shape, dtype, copy)\u001b[0m\n\u001b[1;32m     93\u001b[0m         \u001b[38;5;28mself\u001b[39m\u001b[38;5;241m.\u001b[39mdata \u001b[38;5;241m=\u001b[39m M[\u001b[38;5;28mself\u001b[39m\u001b[38;5;241m.\u001b[39mrow, \u001b[38;5;28mself\u001b[39m\u001b[38;5;241m.\u001b[39mcol]\n\u001b[1;32m     94\u001b[0m         \u001b[38;5;28mself\u001b[39m\u001b[38;5;241m.\u001b[39mhas_canonical_format \u001b[38;5;241m=\u001b[39m \u001b[38;5;28;01mTrue\u001b[39;00m\n\u001b[0;32m---> 96\u001b[0m \u001b[38;5;28;01mif\u001b[39;00m dtype \u001b[38;5;129;01mis\u001b[39;00m \u001b[38;5;129;01mnot\u001b[39;00m \u001b[38;5;28;01mNone\u001b[39;00m:\n\u001b[1;32m     97\u001b[0m     \u001b[38;5;28mself\u001b[39m\u001b[38;5;241m.\u001b[39mdata \u001b[38;5;241m=\u001b[39m \u001b[38;5;28mself\u001b[39m\u001b[38;5;241m.\u001b[39mdata\u001b[38;5;241m.\u001b[39mastype(dtype, copy\u001b[38;5;241m=\u001b[39m\u001b[38;5;28;01mFalse\u001b[39;00m)\n\u001b[1;32m     99\u001b[0m \u001b[38;5;28mself\u001b[39m\u001b[38;5;241m.\u001b[39m_check()\n",
      "\u001b[0;31mKeyboardInterrupt\u001b[0m: "
     ]
    }
   ],
   "source": [
    "import itertools\n",
    "def grid_search(model, train, test, param_grid, user_index=None):\n",
    "    curves = []\n",
    "    keys, values = zip(*param_grid.items())\n",
    "    for v in tqdm(itertools.product(*values), desc=\"Grid Search Progress: \"):\n",
    "        # print(v)\n",
    "        params = dict(zip(keys, v))\n",
    "        mf = MatrixFactorisation(train, params[\"k\"])\n",
    "        func_params = dict(list(params.items())[1:])\n",
    "        if(model == \"als\"):\n",
    "            mf.als(**func_params, validation=test)\n",
    "        elif(model == \"gd\"):\n",
    "            mf.gradient_descent(**func_params, validation=test)\n",
    "        elif(model == \"sgd\"):\n",
    "            mf.sgd(**func_params, validation=test)\n",
    "\n",
    "        train_mse = mf.train_mse_at_epochs\n",
    "        test_mse = mf.test_mse_at_epochs\n",
    "\n",
    "        curves.append({'params': params, 'mse': {'train': train_mse, 'test': test_mse}})\n",
    "\n",
    "        print_line = []\n",
    "        for k, v in params.items():\n",
    "            print_line.append((k, v))\n",
    "\n",
    "        print(' | '.join('{}: {}'.format(k, v) for (k, v) in print_line))\n",
    "        # _, train_patk, train_mse, test_patk, test_mse = learning_curve(this_model, train, test, epochs, k=patk, user_index=user_index)\n",
    "        # curves.append({'params': params,\n",
    "        #                'patk': {'train': train_patk, 'test': test_patk},\n",
    "        #                'mse': {'train': train_mse, 'test': test_mse}})\n",
    "    return curves\n",
    "\n",
    "param_grid_als = {  \"k\": [20, 40, 80],\n",
    "                    \"alpha\": [40, 50],\n",
    "                    \"lambda_\": [0.0, 1e-1, 1e-2, 10]}\n",
    "              \n",
    "param_grid_gd = {   \"k\": [20, 40, 80],\n",
    "                    \"iterations\": [1000, 3000, 10000],\n",
    "                    \"learning_rate\": [0.3, 0.5],\n",
    "                    # \"beta\": [0.5, 0.9],\n",
    "                    \"lambda_\": [0.0, 1e-1, 1e-2, 10]}\n",
    "\n",
    "param_grid_sgd = {  \"k\": [20, 40, 80],\n",
    "                    \"epochs\": [2, 5, 10],\n",
    "                    \"learning_rate\": [0.003, 0.03, 0.3],\n",
    "                    # \"beta\": [0.5, 0.9],\n",
    "                    \"lambda_\": [0.0, 1e-1, 1e-2, 10]}\n",
    "\n",
    "# curves = grid_search(\"sgd\", train, test, param_grid_sgd)\n",
    "# curves = grid_search(\"gd\", train, test, param_grid_gd)\n",
    "curves = grid_search(\"als\", train, test, param_grid_als)\n"
   ]
  },
  {
   "cell_type": "markdown",
   "metadata": {},
   "source": [
    "#### Visualising the learning curves from grid search\n",
    "\n",
    "I visualise the best learning curve, along with a comparative plot of all learning curves."
   ]
  },
  {
   "cell_type": "code",
   "execution_count": 513,
   "metadata": {},
   "outputs": [
    {
     "ename": "EOFError",
     "evalue": "Ran out of input",
     "output_type": "error",
     "traceback": [
      "\u001b[0;31m---------------------------------------------------------------------------\u001b[0m",
      "\u001b[0;31mEOFError\u001b[0m                                  Traceback (most recent call last)",
      "Cell \u001b[0;32mIn[513], line 3\u001b[0m\n\u001b[1;32m      1\u001b[0m \u001b[38;5;28;01mimport\u001b[39;00m \u001b[38;5;21;01mpickle\u001b[39;00m\n\u001b[1;32m      2\u001b[0m \u001b[38;5;28;01mwith\u001b[39;00m \u001b[38;5;28mopen\u001b[39m(\u001b[38;5;124m\"\u001b[39m\u001b[38;5;124mGDGridSearch\u001b[39m\u001b[38;5;124m\"\u001b[39m, \u001b[38;5;124m\"\u001b[39m\u001b[38;5;124mrb\u001b[39m\u001b[38;5;124m\"\u001b[39m) \u001b[38;5;28;01mas\u001b[39;00m f:\n\u001b[0;32m----> 3\u001b[0m        curves \u001b[38;5;241m=\u001b[39m \u001b[43mpickle\u001b[49m\u001b[38;5;241;43m.\u001b[39;49m\u001b[43mload\u001b[49m\u001b[43m(\u001b[49m\u001b[43mf\u001b[49m\u001b[43m)\u001b[49m\n",
      "\u001b[0;31mEOFError\u001b[0m: Ran out of input"
     ]
    }
   ],
   "source": [
    "import pickle\n",
    "with open(\"GDGridSearch\", \"rb\") as f:\n",
    "       curves = pickle.load(f)"
   ]
  },
  {
   "cell_type": "code",
   "execution_count": 294,
   "metadata": {},
   "outputs": [],
   "source": [
    "#### Weeding parameter mixes that resulted in algorithm divergence (inf, nan values for mse) ####\n",
    "import copy\n",
    "curves_copy = copy.deepcopy(curves)\n",
    "for curve in curves_copy:\n",
    "       mse = np.array(curve['mse']['test'])\n",
    "       if(np.isnan(mse[:,1]).any()):\n",
    "              to_rem = curve\n",
    "              curves_copy.remove(to_rem)\n",
    "\n",
    "#### Finding the best run via sorting by test_mse values\n",
    "best_curves = sorted(curves_copy, key=lambda x: np.min(np.array(x['mse']['test'])[:,1]), reverse=False)  #for each curve, use the lowest test mse as its identity, for sorting the curves\n",
    "\n",
    "# best_curves = sorted(curves_copy, key=lambda x: np.nanmin(np.array(x['mse']['test'])[:,1]), reverse=True)\n",
    "# best_curves = sorted(curves_copy, key=lambda x: np.min(np.ma.masked_array(np.array(x['mse']['test']), np.isnan(np.array(x['mse']['test'])))), reverse=True)"
   ]
  },
  {
   "cell_type": "code",
   "execution_count": 296,
   "metadata": {},
   "outputs": [
    {
     "name": "stdout",
     "output_type": "stream",
     "text": [
      "{'epochs': 10, 'learning_rate': 0.03, '_lambda': 0.0}\n",
      "0.0057034128039236374\n",
      "Epoch: [721000.]\n"
     ]
    }
   ],
   "source": [
    "rank = 1     # nth best rank of hyperparameter mix you want to see. n=1,2,..\n",
    "bestParams = best_curves[rank-1]['params']\n",
    "print(bestParams)\n",
    "\n",
    "bestTimeVsTestMseArr = np.array(best_curves[rank-1]['mse']['test'])\n",
    "bestTimeVsTrainMseArr = np.array(best_curves[rank-1]['mse']['train'])\n",
    "# print( bestTimeVsTestMseArr )\n",
    "min_loss = min(bestTimeVsTestMseArr[:,1])\n",
    "print(min_loss)\n",
    "iterations = bestTimeVsTestMseArr[:,0][np.where(bestTimeVsTestMseArr[:,1] == min_loss)]\n",
    "print('Epoch: {}'.format(iterations))"
   ]
  },
  {
   "cell_type": "code",
   "execution_count": 298,
   "metadata": {},
   "outputs": [
    {
     "data": {
      "text/plain": [
       "<matplotlib.legend.Legend at 0x15b1d6a40>"
      ]
     },
     "execution_count": 298,
     "metadata": {},
     "output_type": "execute_result"
    },
    {
     "data": {
      "image/png": "[encoded data removed]",
      "text/plain": [
       "<Figure size 640x480 with 1 Axes>"
      ]
     },
     "metadata": {},
     "output_type": "display_data"
    }
   ],
   "source": [
    "plt.plot(bestTimeVsTestMseArr[100:,0], bestTimeVsTestMseArr[100:,1], label=\"Test\")\n",
    "plt.plot(bestTimeVsTrainMseArr[100:,0], bestTimeVsTrainMseArr[100:,1], label=\"Train\")\n",
    "plt.title(f\"{bestParams}, rank {rank}\")\n",
    "plt.xlabel(\"\")\n",
    "plt.rcdefaults()\n",
    "plt.legend()"
   ]
  },
  {
   "cell_type": "code",
   "execution_count": 289,
   "metadata": {},
   "outputs": [
    {
     "data": {
      "image/png": "[encoded data removed]",
      "text/plain": [
       "<Figure size 640x480 with 1 Axes>"
      ]
     },
     "metadata": {},
     "output_type": "display_data"
    }
   ],
   "source": [
    "for i, curve_dict in enumerate(best_curves[:]):\n",
    "       mse_arr = np.array(curve_dict['mse']['test'])\n",
    "       train_mse_arr = np.array(curve_dict['mse']['train'])\n",
    "       if(mse_arr[70:,1][0] < 0.10):\n",
    "              plt.plot(mse_arr[300:,0], mse_arr[300:,1], alpha=1/(0.8*i+1), c=\"blue\")         #won't work for initial slice indices over 300\n",
    "              plt.plot(train_mse_arr[300:, 0], train_mse_arr[300:, 1], alpha=1/(0.8*i+1), c=\"brown\", linestyle='--')"
   ]
  },
  {
   "cell_type": "code",
   "execution_count": 166,
   "metadata": {},
   "outputs": [],
   "source": [
    "import pickle\n",
    "with open(\"SGDGridSearch\", \"wb\") as f:\n",
    "       pickle.dump(curves, f)"
   ]
  },
  {
   "cell_type": "markdown",
   "metadata": {},
   "source": [
    "## Matrix Factor training with different methods/models"
   ]
  },
  {
   "cell_type": "code",
   "execution_count": 96,
   "metadata": {},
   "outputs": [
    {
     "name": "stdout",
     "output_type": "stream",
     "text": [
      "(611, 25) (9725, 25)\n"
     ]
    },
    {
     "data": {
      "application/vnd.jupyter.widget-view+json": {
       "model_id": "d305e03561464cd591b9ba32526443d0",
       "version_major": 2,
       "version_minor": 0
      },
      "text/plain": [
       "ALS iterations completion:   0%|          | 0/10 [00:00<?, ?it/s]"
      ]
     },
     "metadata": {},
     "output_type": "display_data"
    },
    {
     "data": {
      "application/vnd.jupyter.widget-view+json": {
       "model_id": "dfbceb6591fa4f2eb082c779d2891a21",
       "version_major": 2,
       "version_minor": 0
      },
      "text/plain": [
       "Solving for P:   0%|          | 0/611 [00:00<?, ?it/s]"
      ]
     },
     "metadata": {},
     "output_type": "display_data"
    },
    {
     "data": {
      "application/vnd.jupyter.widget-view+json": {
       "model_id": "df1b14cce812493a8cd277ee1e22f36f",
       "version_major": 2,
       "version_minor": 0
      },
      "text/plain": [
       "Solving for Q:   0%|          | 0/9725 [00:00<?, ?it/s]"
      ]
     },
     "metadata": {},
     "output_type": "display_data"
    },
    {
     "name": "stdout",
     "output_type": "stream",
     "text": [
      "\n",
      "iteration/epoch 1 :\n",
      "train mse: 0.5726087689274062\n",
      "iteration 1 :\n",
      "test mse: 0.607234506138942\n"
     ]
    },
    {
     "data": {
      "application/vnd.jupyter.widget-view+json": {
       "model_id": "fd388f9689a1483aae701375801d5713",
       "version_major": 2,
       "version_minor": 0
      },
      "text/plain": [
       "Solving for P:   0%|          | 0/611 [00:00<?, ?it/s]"
      ]
     },
     "metadata": {},
     "output_type": "display_data"
    },
    {
     "data": {
      "application/vnd.jupyter.widget-view+json": {
       "model_id": "0f184cba40f8401fac0b1214688bd0d8",
       "version_major": 2,
       "version_minor": 0
      },
      "text/plain": [
       "Solving for Q:   0%|          | 0/9725 [00:00<?, ?it/s]"
      ]
     },
     "metadata": {},
     "output_type": "display_data"
    },
    {
     "name": "stdout",
     "output_type": "stream",
     "text": [
      "\n",
      "iteration/epoch 2 :\n",
      "train mse: 0.15082987038677687\n",
      "iteration 2 :\n",
      "test mse: 0.24818424086420562\n"
     ]
    },
    {
     "data": {
      "application/vnd.jupyter.widget-view+json": {
       "model_id": "38832315c8df45ac94539bf31ddde6a9",
       "version_major": 2,
       "version_minor": 0
      },
      "text/plain": [
       "Solving for P:   0%|          | 0/611 [00:00<?, ?it/s]"
      ]
     },
     "metadata": {},
     "output_type": "display_data"
    },
    {
     "data": {
      "application/vnd.jupyter.widget-view+json": {
       "model_id": "6cb41ccfc5774580904d8cfd30123945",
       "version_major": 2,
       "version_minor": 0
      },
      "text/plain": [
       "Solving for Q:   0%|          | 0/9725 [00:00<?, ?it/s]"
      ]
     },
     "metadata": {},
     "output_type": "display_data"
    },
    {
     "name": "stdout",
     "output_type": "stream",
     "text": [
      "\n",
      "iteration/epoch 3 :\n",
      "train mse: 0.10339266599653336\n",
      "iteration 3 :\n",
      "test mse: 0.22433404049592082\n"
     ]
    },
    {
     "data": {
      "application/vnd.jupyter.widget-view+json": {
       "model_id": "4552c0dc3eaf49439addeebceeb72b0c",
       "version_major": 2,
       "version_minor": 0
      },
      "text/plain": [
       "Solving for P:   0%|          | 0/611 [00:00<?, ?it/s]"
      ]
     },
     "metadata": {},
     "output_type": "display_data"
    },
    {
     "data": {
      "application/vnd.jupyter.widget-view+json": {
       "model_id": "bf28419b922b4fbcbf001634ff6f2034",
       "version_major": 2,
       "version_minor": 0
      },
      "text/plain": [
       "Solving for Q:   0%|          | 0/9725 [00:00<?, ?it/s]"
      ]
     },
     "metadata": {},
     "output_type": "display_data"
    },
    {
     "name": "stdout",
     "output_type": "stream",
     "text": [
      "\n",
      "iteration/epoch 4 :\n",
      "train mse: 0.09063368188324561\n",
      "iteration 4 :\n",
      "test mse: 0.22018974095289995\n"
     ]
    },
    {
     "data": {
      "application/vnd.jupyter.widget-view+json": {
       "model_id": "0ac28ab96714402c92e7055e31f92dee",
       "version_major": 2,
       "version_minor": 0
      },
      "text/plain": [
       "Solving for P:   0%|          | 0/611 [00:00<?, ?it/s]"
      ]
     },
     "metadata": {},
     "output_type": "display_data"
    },
    {
     "data": {
      "application/vnd.jupyter.widget-view+json": {
       "model_id": "0ca001ad47694fc6ba0bb5d309384efd",
       "version_major": 2,
       "version_minor": 0
      },
      "text/plain": [
       "Solving for Q:   0%|          | 0/9725 [00:00<?, ?it/s]"
      ]
     },
     "metadata": {},
     "output_type": "display_data"
    },
    {
     "name": "stdout",
     "output_type": "stream",
     "text": [
      "\n",
      "iteration/epoch 5 :\n",
      "train mse: 0.0855132319194226\n",
      "iteration 5 :\n",
      "test mse: 0.21869799335388512\n"
     ]
    },
    {
     "data": {
      "application/vnd.jupyter.widget-view+json": {
       "model_id": "d07416a285484b3691065ba00509b7b3",
       "version_major": 2,
       "version_minor": 0
      },
      "text/plain": [
       "Solving for P:   0%|          | 0/611 [00:00<?, ?it/s]"
      ]
     },
     "metadata": {},
     "output_type": "display_data"
    },
    {
     "data": {
      "application/vnd.jupyter.widget-view+json": {
       "model_id": "3137d6a128ef49ab82e7a10b83c1b504",
       "version_major": 2,
       "version_minor": 0
      },
      "text/plain": [
       "Solving for Q:   0%|          | 0/9725 [00:00<?, ?it/s]"
      ]
     },
     "metadata": {},
     "output_type": "display_data"
    },
    {
     "name": "stdout",
     "output_type": "stream",
     "text": [
      "\n",
      "iteration/epoch 6 :\n",
      "train mse: 0.08291322023329178\n",
      "iteration 6 :\n",
      "test mse: 0.21785069840982124\n"
     ]
    },
    {
     "data": {
      "application/vnd.jupyter.widget-view+json": {
       "model_id": "a1a3ce87bdc7412d934f80283a8d17e9",
       "version_major": 2,
       "version_minor": 0
      },
      "text/plain": [
       "Solving for P:   0%|          | 0/611 [00:00<?, ?it/s]"
      ]
     },
     "metadata": {},
     "output_type": "display_data"
    },
    {
     "data": {
      "application/vnd.jupyter.widget-view+json": {
       "model_id": "445c8b19510a4a1489de8a3e7e8dc83e",
       "version_major": 2,
       "version_minor": 0
      },
      "text/plain": [
       "Solving for Q:   0%|          | 0/9725 [00:00<?, ?it/s]"
      ]
     },
     "metadata": {},
     "output_type": "display_data"
    },
    {
     "name": "stdout",
     "output_type": "stream",
     "text": [
      "\n",
      "iteration/epoch 7 :\n",
      "train mse: 0.08138055230512249\n",
      "iteration 7 :\n",
      "test mse: 0.21727097237371767\n"
     ]
    },
    {
     "data": {
      "application/vnd.jupyter.widget-view+json": {
       "model_id": "1c63dfb3d7cf4c289f494d24b5a55dc8",
       "version_major": 2,
       "version_minor": 0
      },
      "text/plain": [
       "Solving for P:   0%|          | 0/611 [00:00<?, ?it/s]"
      ]
     },
     "metadata": {},
     "output_type": "display_data"
    },
    {
     "data": {
      "application/vnd.jupyter.widget-view+json": {
       "model_id": "ebca0b337bd04236b0d2ecc685636876",
       "version_major": 2,
       "version_minor": 0
      },
      "text/plain": [
       "Solving for Q:   0%|          | 0/9725 [00:00<?, ?it/s]"
      ]
     },
     "metadata": {},
     "output_type": "display_data"
    },
    {
     "name": "stdout",
     "output_type": "stream",
     "text": [
      "\n",
      "iteration/epoch 8 :\n",
      "train mse: 0.08038900515862402\n",
      "iteration 8 :\n",
      "test mse: 0.21685672921334548\n"
     ]
    },
    {
     "data": {
      "application/vnd.jupyter.widget-view+json": {
       "model_id": "94f3d5b87d524f968f5bef3d565d467d",
       "version_major": 2,
       "version_minor": 0
      },
      "text/plain": [
       "Solving for P:   0%|          | 0/611 [00:00<?, ?it/s]"
      ]
     },
     "metadata": {},
     "output_type": "display_data"
    },
    {
     "data": {
      "application/vnd.jupyter.widget-view+json": {
       "model_id": "0f74877a872545c0a4634f31266293a9",
       "version_major": 2,
       "version_minor": 0
      },
      "text/plain": [
       "Solving for Q:   0%|          | 0/9725 [00:00<?, ?it/s]"
      ]
     },
     "metadata": {},
     "output_type": "display_data"
    },
    {
     "name": "stdout",
     "output_type": "stream",
     "text": [
      "\n",
      "iteration/epoch 9 :\n",
      "train mse: 0.07970848700752509\n",
      "iteration 9 :\n",
      "test mse: 0.21656337760816682\n"
     ]
    },
    {
     "data": {
      "application/vnd.jupyter.widget-view+json": {
       "model_id": "b3e68a7adb744baab7455e5d1bf2abba",
       "version_major": 2,
       "version_minor": 0
      },
      "text/plain": [
       "Solving for P:   0%|          | 0/611 [00:00<?, ?it/s]"
      ]
     },
     "metadata": {},
     "output_type": "display_data"
    },
    {
     "data": {
      "application/vnd.jupyter.widget-view+json": {
       "model_id": "256099c10e0b4c9a805a37c9f7c9ad12",
       "version_major": 2,
       "version_minor": 0
      },
      "text/plain": [
       "Solving for Q:   0%|          | 0/9725 [00:00<?, ?it/s]"
      ]
     },
     "metadata": {},
     "output_type": "display_data"
    },
    {
     "name": "stdout",
     "output_type": "stream",
     "text": [
      "\n",
      "iteration/epoch 10 :\n",
      "train mse: 0.0792225765319829\n",
      "iteration 10 :\n",
      "test mse: 0.21636183638468853\n"
     ]
    }
   ],
   "source": [
    "######--------- Training with ALS (Alternating Least Squares) ---------######\n",
    "\n",
    "mf = MatrixFactorisation(train, 25)\n",
    "print( np.shape(mf.P), np.shape(mf.Q) )\n",
    "P, Q = mf.als(epochs=10, solver=\"lu\", lambda_=160, validation=test, verbose=True)"
   ]
  },
  {
   "cell_type": "code",
   "execution_count": 61,
   "metadata": {},
   "outputs": [
    {
     "name": "stdout",
     "output_type": "stream",
     "text": [
      "(611, 20) (9725, 20)\n"
     ]
    },
    {
     "data": {
      "application/vnd.jupyter.widget-view+json": {
       "model_id": "62fda25bcd164433bc1768dc27a95161",
       "version_major": 2,
       "version_minor": 0
      },
      "text/plain": [
       "Total SGD epochs completion:   0%|          | 0/10 [00:00<?, ?it/s]"
      ]
     },
     "metadata": {},
     "output_type": "display_data"
    },
    {
     "data": {
      "application/vnd.jupyter.widget-view+json": {
       "model_id": "b7ed912edd424ea0818b83bb510f249b",
       "version_major": 2,
       "version_minor": 0
      },
      "text/plain": [
       "Epoch #0 completion:   0%|          | 0/80668 [00:00<?, ?it/s]"
      ]
     },
     "metadata": {},
     "output_type": "display_data"
    },
    {
     "data": {
      "application/vnd.jupyter.widget-view+json": {
       "model_id": "9ccc6e7663ff4e3a9be6eac922eec89b",
       "version_major": 2,
       "version_minor": 0
      },
      "text/plain": [
       "Epoch #1 completion:   0%|          | 0/80668 [00:00<?, ?it/s]"
      ]
     },
     "metadata": {},
     "output_type": "display_data"
    },
    {
     "data": {
      "application/vnd.jupyter.widget-view+json": {
       "model_id": "a2303228f0c642c4b86a36ab986a17f8",
       "version_major": 2,
       "version_minor": 0
      },
      "text/plain": [
       "Epoch #2 completion:   0%|          | 0/80668 [00:00<?, ?it/s]"
      ]
     },
     "metadata": {},
     "output_type": "display_data"
    },
    {
     "data": {
      "application/vnd.jupyter.widget-view+json": {
       "model_id": "5df67d1402974d6f846f34830a3a14f0",
       "version_major": 2,
       "version_minor": 0
      },
      "text/plain": [
       "Epoch #3 completion:   0%|          | 0/80668 [00:00<?, ?it/s]"
      ]
     },
     "metadata": {},
     "output_type": "display_data"
    },
    {
     "data": {
      "application/vnd.jupyter.widget-view+json": {
       "model_id": "4149dcfbecb04330a10dfcbd8b47f19e",
       "version_major": 2,
       "version_minor": 0
      },
      "text/plain": [
       "Epoch #4 completion:   0%|          | 0/80668 [00:00<?, ?it/s]"
      ]
     },
     "metadata": {},
     "output_type": "display_data"
    },
    {
     "data": {
      "application/vnd.jupyter.widget-view+json": {
       "model_id": "0114135e7e0e4dd28fd7efcde0325b01",
       "version_major": 2,
       "version_minor": 0
      },
      "text/plain": [
       "Epoch #5 completion:   0%|          | 0/80668 [00:00<?, ?it/s]"
      ]
     },
     "metadata": {},
     "output_type": "display_data"
    },
    {
     "data": {
      "application/vnd.jupyter.widget-view+json": {
       "model_id": "aa2baff786864dcb9dbd14571a40d157",
       "version_major": 2,
       "version_minor": 0
      },
      "text/plain": [
       "Epoch #6 completion:   0%|          | 0/80668 [00:00<?, ?it/s]"
      ]
     },
     "metadata": {},
     "output_type": "display_data"
    },
    {
     "data": {
      "application/vnd.jupyter.widget-view+json": {
       "model_id": "5266e40187714dff88860ef2bba78be5",
       "version_major": 2,
       "version_minor": 0
      },
      "text/plain": [
       "Epoch #7 completion:   0%|          | 0/80668 [00:00<?, ?it/s]"
      ]
     },
     "metadata": {},
     "output_type": "display_data"
    },
    {
     "data": {
      "application/vnd.jupyter.widget-view+json": {
       "model_id": "c64f79d8475348379abdd9298036bc0c",
       "version_major": 2,
       "version_minor": 0
      },
      "text/plain": [
       "Epoch #8 completion:   0%|          | 0/80668 [00:00<?, ?it/s]"
      ]
     },
     "metadata": {},
     "output_type": "display_data"
    },
    {
     "data": {
      "application/vnd.jupyter.widget-view+json": {
       "model_id": "260b2444ef7640bcaebbce6b54f01da8",
       "version_major": 2,
       "version_minor": 0
      },
      "text/plain": [
       "Epoch #9 completion:   0%|          | 0/80668 [00:00<?, ?it/s]"
      ]
     },
     "metadata": {},
     "output_type": "display_data"
    },
    {
     "name": "stdout",
     "output_type": "stream",
     "text": [
      "(611, 20)\n"
     ]
    }
   ],
   "source": [
    "######--------- Training with SGD (Stochastic Gradient Descent) ---------######\n",
    "\n",
    "mf = MatrixFactorisation(train, 20)\n",
    "print( np.shape(mf.P), np.shape(mf.Q) )\n",
    "# print( mf.P )\n",
    "P, Q = mf.sgd(epochs=10, learning_rate=0.03, lambda_=0.0, validation=test, verbose=False)\n",
    "print(np.shape(P))"
   ]
  },
  {
   "cell_type": "code",
   "execution_count": 53,
   "metadata": {},
   "outputs": [
    {
     "name": "stdout",
     "output_type": "stream",
     "text": [
      "(611, 10) (9725, 10)\n"
     ]
    },
    {
     "data": {
      "application/vnd.jupyter.widget-view+json": {
       "model_id": "15ff278488b1458a99012398b9a4cb64",
       "version_major": 2,
       "version_minor": 0
      },
      "text/plain": [
       "Gradient Descent progress::   0%|          | 0/10000 [00:00<?, ?it/s]"
      ]
     },
     "metadata": {},
     "output_type": "display_data"
    },
    {
     "ename": "KeyboardInterrupt",
     "evalue": "",
     "output_type": "error",
     "traceback": [
      "\u001b[0;31m---------------------------------------------------------------------------\u001b[0m",
      "\u001b[0;31mKeyboardInterrupt\u001b[0m                         Traceback (most recent call last)",
      "Cell \u001b[0;32mIn[53], line 6\u001b[0m\n\u001b[1;32m      4\u001b[0m \u001b[38;5;28mprint\u001b[39m( np\u001b[38;5;241m.\u001b[39mshape(mf\u001b[38;5;241m.\u001b[39mP), np\u001b[38;5;241m.\u001b[39mshape(mf\u001b[38;5;241m.\u001b[39mQ) )\n\u001b[1;32m      5\u001b[0m \u001b[38;5;66;03m# print( mf.P )\u001b[39;00m\n\u001b[0;32m----> 6\u001b[0m P, Q \u001b[38;5;241m=\u001b[39m \u001b[43mmf\u001b[49m\u001b[38;5;241;43m.\u001b[39;49m\u001b[43mgradient_descent\u001b[49m\u001b[43m(\u001b[49m\u001b[43miterations\u001b[49m\u001b[38;5;241;43m=\u001b[39;49m\u001b[38;5;241;43m10000\u001b[39;49m\u001b[43m,\u001b[49m\u001b[43m \u001b[49m\u001b[43mlearning_rate\u001b[49m\u001b[38;5;241;43m=\u001b[39;49m\u001b[38;5;241;43m0.4\u001b[39;49m\u001b[43m,\u001b[49m\u001b[43m \u001b[49m\u001b[43m_lambda\u001b[49m\u001b[38;5;241;43m=\u001b[39;49m\u001b[38;5;241;43m0\u001b[39;49m\u001b[43m,\u001b[49m\u001b[43m \u001b[49m\u001b[43mvalidation\u001b[49m\u001b[38;5;241;43m=\u001b[39;49m\u001b[43mtest\u001b[49m\u001b[43m,\u001b[49m\u001b[43m \u001b[49m\u001b[43mverbose\u001b[49m\u001b[38;5;241;43m=\u001b[39;49m\u001b[38;5;28;43;01mFalse\u001b[39;49;00m\u001b[43m)\u001b[49m\n\u001b[1;32m      7\u001b[0m \u001b[38;5;66;03m# print(np.shape(P))\u001b[39;00m\n",
      "Cell \u001b[0;32mIn[42], line 79\u001b[0m, in \u001b[0;36mMatrixFactorisation.gradient_descent\u001b[0;34m(self, iterations, learning_rate, _lambda, beta, validation, verbose)\u001b[0m\n\u001b[1;32m     77\u001b[0m \u001b[38;5;28mself\u001b[39m\u001b[38;5;241m.\u001b[39msave_test_mse(\u001b[38;5;241m0\u001b[39m, validation\u001b[38;5;241m=\u001b[39mvalidation)\n\u001b[1;32m     78\u001b[0m \u001b[38;5;28;01mfor\u001b[39;00m i \u001b[38;5;129;01min\u001b[39;00m tqdm(\u001b[38;5;28mrange\u001b[39m(iterations), desc\u001b[38;5;241m=\u001b[39m\u001b[38;5;124m\"\u001b[39m\u001b[38;5;124mGradient Descent progress:\u001b[39m\u001b[38;5;124m\"\u001b[39m, leave\u001b[38;5;241m=\u001b[39mverbose):\n\u001b[0;32m---> 79\u001b[0m        grad_P, grad_Q, error \u001b[38;5;241m=\u001b[39m \u001b[38;5;28;43mself\u001b[39;49m\u001b[38;5;241;43m.\u001b[39;49m\u001b[43mgradients\u001b[49m\u001b[43m(\u001b[49m\u001b[43m_lambda\u001b[49m\u001b[43m)\u001b[49m\n\u001b[1;32m     80\u001b[0m        v_P \u001b[38;5;241m=\u001b[39m beta\u001b[38;5;241m*\u001b[39mv_P \u001b[38;5;241m+\u001b[39m (\u001b[38;5;241m1\u001b[39m\u001b[38;5;241m-\u001b[39mbeta)\u001b[38;5;241m*\u001b[39mgrad_P   \n\u001b[1;32m     81\u001b[0m        v_Q \u001b[38;5;241m=\u001b[39m beta\u001b[38;5;241m*\u001b[39mv_Q \u001b[38;5;241m+\u001b[39m (\u001b[38;5;241m1\u001b[39m\u001b[38;5;241m-\u001b[39mbeta)\u001b[38;5;241m*\u001b[39mgrad_Q\n",
      "Cell \u001b[0;32mIn[42], line 52\u001b[0m, in \u001b[0;36mMatrixFactorisation.gradients\u001b[0;34m(self, _lambda)\u001b[0m\n\u001b[1;32m     48\u001b[0m \u001b[38;5;28;01mdef\u001b[39;00m \u001b[38;5;21mgradients\u001b[39m(\u001b[38;5;28mself\u001b[39m, _lambda):\n\u001b[1;32m     49\u001b[0m \u001b[38;5;250m       \u001b[39m\u001b[38;5;124;03m\"\"\"\u001b[39;00m\n\u001b[1;32m     50\u001b[0m \u001b[38;5;124;03m       Returns l2 gradients w.r.t the elements of the factor matrices, along with the prediction errors vis-a-vis actual values.\u001b[39;00m\n\u001b[1;32m     51\u001b[0m \u001b[38;5;124;03m       \"\"\"\u001b[39;00m\n\u001b[0;32m---> 52\u001b[0m        R_predicted \u001b[38;5;241m=\u001b[39m \u001b[38;5;28;43mself\u001b[39;49m\u001b[38;5;241;43m.\u001b[39;49m\u001b[43m__predict_observed\u001b[49m\u001b[43m(\u001b[49m\u001b[43m)\u001b[49m\n\u001b[1;32m     53\u001b[0m        error \u001b[38;5;241m=\u001b[39m \u001b[38;5;28mself\u001b[39m\u001b[38;5;241m.\u001b[39mR \u001b[38;5;241m-\u001b[39m R_predicted\n\u001b[1;32m     54\u001b[0m        norm_factor \u001b[38;5;241m=\u001b[39m \u001b[38;5;241m-\u001b[39m\u001b[38;5;241m2\u001b[39m \u001b[38;5;241m/\u001b[39m \u001b[38;5;28mself\u001b[39m\u001b[38;5;241m.\u001b[39mR\u001b[38;5;241m.\u001b[39mnnz  \u001b[38;5;66;03m#this factor is crucial! Can't be 1 (i.e. we can't leave the gradients unnormalised, else cost diverges!)\u001b[39;00m\n",
      "Cell \u001b[0;32mIn[42], line 42\u001b[0m, in \u001b[0;36mMatrixFactorisation.__predict_observed\u001b[0;34m(self)\u001b[0m\n\u001b[1;32m     35\u001b[0m \u001b[38;5;28;01mdef\u001b[39;00m \u001b[38;5;21m__predict_observed\u001b[39m(\u001b[38;5;28mself\u001b[39m):\n\u001b[1;32m     36\u001b[0m \u001b[38;5;250m       \u001b[39m\u001b[38;5;124;03m\"\"\"\u001b[39;00m\n\u001b[1;32m     37\u001b[0m \u001b[38;5;124;03m       Returns predicted values as a sparse matrix, corresponding to indices of non-zero elements in matrix R to be factorised\u001b[39;00m\n\u001b[1;32m     38\u001b[0m \n\u001b[1;32m     39\u001b[0m \u001b[38;5;124;03m       Avoids constructing a dense prediction matrix produced via naïve dense matrix multiplication of factors.\u001b[39;00m\n\u001b[1;32m     40\u001b[0m \u001b[38;5;124;03m       Instead, produces predicted values by multiplying only the requisite factor-matrix rows corresponding to non-zero entries in R.\u001b[39;00m\n\u001b[1;32m     41\u001b[0m \u001b[38;5;124;03m       \"\"\"\u001b[39;00m\n\u001b[0;32m---> 42\u001b[0m        R_predicted \u001b[38;5;241m=\u001b[39m np\u001b[38;5;241m.\u001b[39msum( \u001b[43mnp\u001b[49m\u001b[38;5;241;43m.\u001b[39;49m\u001b[43mmultiply\u001b[49m\u001b[43m(\u001b[49m\u001b[38;5;28;43mself\u001b[39;49m\u001b[38;5;241;43m.\u001b[39;49m\u001b[43mP\u001b[49m\u001b[43m[\u001b[49m\u001b[38;5;28;43mself\u001b[39;49m\u001b[38;5;241;43m.\u001b[39;49m\u001b[43mp_nnz_idx\u001b[49m\u001b[43m]\u001b[49m\u001b[43m,\u001b[49m\u001b[43m \u001b[49m\u001b[38;5;28;43mself\u001b[39;49m\u001b[38;5;241;43m.\u001b[39;49m\u001b[43mQ\u001b[49m\u001b[43m[\u001b[49m\u001b[38;5;28;43mself\u001b[39;49m\u001b[38;5;241;43m.\u001b[39;49m\u001b[43mq_nnz_idx\u001b[49m\u001b[43m]\u001b[49m\u001b[43m)\u001b[49m, axis\u001b[38;5;241m=\u001b[39m\u001b[38;5;241m1\u001b[39m )       \u001b[38;5;66;03m#calculating the products only for the nonzero \"observed\" rating entries: explicit MF\u001b[39;00m\n\u001b[1;32m     43\u001b[0m        R_predicted \u001b[38;5;241m=\u001b[39m sparse\u001b[38;5;241m.\u001b[39mcsc_matrix( (R_predicted, (\u001b[38;5;28mself\u001b[39m\u001b[38;5;241m.\u001b[39mp_nnz_idx, \u001b[38;5;28mself\u001b[39m\u001b[38;5;241m.\u001b[39mq_nnz_idx)), shape\u001b[38;5;241m=\u001b[39m(\u001b[38;5;28mself\u001b[39m\u001b[38;5;241m.\u001b[39mm,\u001b[38;5;28mself\u001b[39m\u001b[38;5;241m.\u001b[39mn))              \n\u001b[1;32m     44\u001b[0m        \u001b[38;5;66;03m# R_predicted = self.P @ self.Q.T\u001b[39;00m\n\u001b[1;32m     45\u001b[0m        \u001b[38;5;66;03m# R_predicted = sparse.csc_matrix(R_predicted)\u001b[39;00m\n",
      "\u001b[0;31mKeyboardInterrupt\u001b[0m: "
     ]
    }
   ],
   "source": [
    "######--------- Training with Gradient Descent ---------######\n",
    "\n",
    "mf = MatrixFactorisation(train, 10)\n",
    "print( np.shape(mf.P), np.shape(mf.Q) )\n",
    "# print( mf.P )\n",
    "P, Q = mf.gradient_descent(iterations=10000, learning_rate=0.4, _lambda=0, validation=test, verbose=False)\n",
    "# print(np.shape(P))"
   ]
  },
  {
   "cell_type": "code",
   "execution_count": 98,
   "metadata": {},
   "outputs": [
    {
     "data": {
      "text/plain": [
       "[<matplotlib.lines.Line2D at 0x1554cd960>]"
      ]
     },
     "execution_count": 98,
     "metadata": {},
     "output_type": "execute_result"
    },
    {
     "data": {
      "image/png": "[encoded data removed]",
      "text/plain": [
       "<Figure size 640x480 with 1 Axes>"
      ]
     },
     "metadata": {},
     "output_type": "display_data"
    }
   ],
   "source": [
    "thresh = 2\n",
    "plt.plot(np.array(mf.test_mse_at_epochs)[thresh:,0], np.array(mf.test_mse_at_epochs)[thresh:,1], label=\"Test\")\n",
    "plt.plot(np.array(mf.train_mse_at_epochs)[thresh:,0], np.array(mf.train_mse_at_epochs)[thresh:,1], label=\"Test\")"
   ]
  },
  {
   "cell_type": "code",
   "execution_count": 97,
   "metadata": {},
   "outputs": [
    {
     "data": {
      "image/png": "[encoded data removed]",
      "text/plain": [
       "<Figure size 640x480 with 1 Axes>"
      ]
     },
     "metadata": {},
     "output_type": "display_data"
    }
   ],
   "source": [
    "# print( np.array(mf.train_mse_at_epochs)[:,1] )\n",
    "mf.plot_learning_curve(validation=True)\n",
    "# mf.plot_learning_curve(validation=None)"
   ]
  },
  {
   "cell_type": "markdown",
   "metadata": {},
   "source": [
    "## Recommending movies for a user"
   ]
  },
  {
   "cell_type": "markdown",
   "metadata": {},
   "source": [
    "### A look at predictions"
   ]
  },
  {
   "cell_type": "code",
   "execution_count": 68,
   "metadata": {},
   "outputs": [
    {
     "data": {
      "text/plain": [
       "matrix([[1., 1., 1., ..., 0., 0., 0.],\n",
       "        [0., 0., 0., ..., 0., 0., 0.],\n",
       "        [0., 0., 0., ..., 0., 0., 0.],\n",
       "        ...,\n",
       "        [1., 0., 0., ..., 0., 0., 0.],\n",
       "        [1., 0., 0., ..., 1., 1., 0.],\n",
       "        [0., 0., 0., ..., 0., 0., 0.]])"
      ]
     },
     "execution_count": 68,
     "metadata": {},
     "output_type": "execute_result"
    }
   ],
   "source": [
    "train.todense()"
   ]
  },
  {
   "cell_type": "code",
   "execution_count": 99,
   "metadata": {},
   "outputs": [
    {
     "name": "stdout",
     "output_type": "stream",
     "text": [
      "<class 'scipy.sparse._csc.csc_matrix'> <class 'numpy.ndarray'> (array([  0,   0,   0, ..., 609, 609, 609]), array([   0,    1,    2, ..., 9721, 9722, 9723]))\n",
      "[[0.9  0.72 0.89 ... 0.   0.   0.  ]\n",
      " [0.   0.   0.   ... 0.   0.   0.  ]\n",
      " [0.   0.   0.   ... 0.   0.   0.  ]\n",
      " ...\n",
      " [0.79 0.   0.   ... 0.   0.   0.  ]\n",
      " [1.05 0.   0.   ... 0.76 0.76 0.  ]\n",
      " [0.   0.   0.   ... 0.   0.   0.  ]] \n",
      "\n",
      "[[0.9  0.72 0.89 ... 0.   0.   0.  ]\n",
      " [0.53 0.03 0.28 ... 0.01 0.01 0.  ]\n",
      " [0.33 0.17 0.27 ... 0.   0.   0.  ]\n",
      " ...\n",
      " [0.79 0.45 0.61 ... 0.02 0.02 0.  ]\n",
      " [1.05 0.34 0.74 ... 0.76 0.76 0.  ]\n",
      " [0.   0.   0.   ... 0.   0.   0.  ]]\n"
     ]
    }
   ],
   "source": [
    "predictions = mf.P.dot(mf.Q.T)\n",
    "mask = np.zeros_like(train.toarray())\n",
    "print(type(predictions), type(train.toarray()), train.toarray().nonzero())\n",
    "mask[train.toarray().nonzero()] = 1\n",
    "\n",
    "# Mask out unknown ratings as 0 for ease of comparison.\n",
    "print(np.round(predictions.toarray() * mask, 2), \"\\n\")         # use these for als\n",
    "print(np.round(predictions.toarray(), 2) )                     # use these for als\n",
    "\n",
    "# print(np.round(predictions * mask, 2), \"\\n\")       # use these for gd\n",
    "# print(np.round(predictions, 2) )                   # use these for gd\n",
    "######--------\n",
    "# predictions = mf.P.dot(mf.Q.T)\n",
    "# mask = np.zeros_like(train)\n",
    "# print(type(predictions.toarray()), type(train.toarray()), train.toarray().nonzero())\n",
    "# mask[train.nonzero()] = 1\n",
    "\n",
    "# # Mask out unknown ratings as 0 for ease of comparison.\n",
    "# print(np.round(predictions * mask, 2))"
   ]
  },
  {
   "cell_type": "code",
   "execution_count": 71,
   "metadata": {},
   "outputs": [
    {
     "data": {
      "text/plain": [
       "matrix([[0., 0., 0., ..., 0., 0., 0.],\n",
       "        [0., 0., 0., ..., 0., 0., 0.],\n",
       "        [0., 0., 0., ..., 0., 0., 0.],\n",
       "        ...,\n",
       "        [0., 0., 0., ..., 0., 0., 0.],\n",
       "        [0., 0., 1., ..., 0., 0., 0.],\n",
       "        [0., 0., 0., ..., 0., 0., 0.]])"
      ]
     },
     "execution_count": 71,
     "metadata": {},
     "output_type": "execute_result"
    }
   ],
   "source": [
    "test.todense()"
   ]
  },
  {
   "cell_type": "code",
   "execution_count": 100,
   "metadata": {},
   "outputs": [
    {
     "name": "stdout",
     "output_type": "stream",
     "text": [
      "0.21636183638468853\n"
     ]
    }
   ],
   "source": [
    "test_p_nnz_idx, test_q_nnz_idx = test.nonzero()\n",
    "# test_predicted = np.sum( np.multiply(P[test_p_nnz_idx], Q[test_q_nnz_idx]), axis=1 )       #calculating the products only for the nonzero \"observed\" rating entries: explicit MF\n",
    "test_predicted = np.sum( np.multiply(P.toarray()[test_p_nnz_idx], Q.toarray()[test_q_nnz_idx]), axis=1 )       #for als\n",
    "test_predicted = sparse.csc_matrix( (test_predicted, (test_p_nnz_idx, test_q_nnz_idx)), shape=(num_users+1,num_movies+1))\n",
    "\n",
    "# test_error = abs(test - test_predicted)\n",
    "test_error = (test - test_predicted)\n",
    "test_mse = test_error.power(2).sum()/test.nnz\n",
    "\n",
    "print(test_mse)\n",
    "# test_error.sum()/test_error.nnz"
   ]
  },
  {
   "cell_type": "code",
   "execution_count": 104,
   "metadata": {},
   "outputs": [
    {
     "name": "stdout",
     "output_type": "stream",
     "text": [
      "   movieId                               title  \\\n",
      "0        1                    Toy Story (1995)   \n",
      "1        2                      Jumanji (1995)   \n",
      "2        3             Grumpier Old Men (1995)   \n",
      "3        4            Waiting to Exhale (1995)   \n",
      "4        5  Father of the Bride Part II (1995)   \n",
      "\n",
      "                                        genres  movieNewId  \n",
      "0  Adventure|Animation|Children|Comedy|Fantasy           0  \n",
      "1                   Adventure|Children|Fantasy         481  \n",
      "2                               Comedy|Romance           1  \n",
      "3                         Comedy|Drama|Romance         482  \n",
      "4                                       Comedy         483   \n",
      "\n",
      "     movieId  movieNewId\n",
      "129      156        4463 \n",
      "\n",
      "There are 9724 movies and correspondingly 9724.0 contiguous movie IDs now\n"
     ]
    }
   ],
   "source": [
    "movies_df = pd.read_csv(\"ml-latest-small/movies.csv\")\n",
    "\n",
    "movies_df['movieNewId'] = movie_old_new_id[movies_df['movieId']]\n",
    "movies_df = movies_df.astype({'movieNewId': 'int64'})\n",
    "\n",
    "print( movies_df.head(), \"\\n\" )\n",
    "\n",
    "# now just to check that we did it correctly, a movieId should be mapped to the same movieNewId\n",
    "print( movies_df.loc[movies_df.movieId == 156][['movieId', 'movieNewId']], \"\\n\" ) \n",
    "print(f\"There are {num_movies} movies and correspondingly {max(movie_old_new_id)+1} contiguous movie IDs now\")"
   ]
  },
  {
   "cell_type": "markdown",
   "metadata": {},
   "source": [
    "### Making the recommendations"
   ]
  },
  {
   "cell_type": "code",
   "execution_count": 101,
   "metadata": {},
   "outputs": [],
   "source": [
    "def predictions_for_user(user:int, train, P, Q):\n",
    "       predictions = P[user].dot(Q.T)\n",
    "       predictions = predictions.T        #run this if predictions are from als\n",
    "       predictions = np.array(list(enumerate(predictions)))\n",
    "\n",
    "       mask = np.zeros_like(train[user].toarray())\n",
    "       mask[train[user].toarray().nonzero()] = 1\n",
    "       # print(np.shape(mask), 1-mask)\n",
    "       masked_predictions = np.round((predictions[:,1] * (1-mask)).T, 2)\n",
    "       print(type(masked_predictions), type(predictions))\n",
    "       predictions[:, 1] = np.reshape(masked_predictions, (np.shape(masked_predictions)[0],))\n",
    "       # predictions[:, 1] = np.reshape(masked_predictions, (np.shape(masked_predictions)[0],))\n",
    "       # print(predictions)\n",
    "       \n",
    "       predictions = sorted(predictions, key= lambda x: x[1], reverse=True)\n",
    "       return predictions\n",
    "\n",
    "# print( predictions_for_user(0, train, P,Q))"
   ]
  },
  {
   "cell_type": "code",
   "execution_count": 102,
   "metadata": {},
   "outputs": [],
   "source": [
    "def user_favourites(user:int, train):\n",
    "       # print(type(train))\n",
    "       favourites = np.array(list(enumerate(train[user].toarray()[0])))\n",
    "       favourites = sorted(favourites, key= lambda x: x[1], reverse=True)\n",
    "       return favourites\n",
    "\n",
    "# user_favourites(0, train)"
   ]
  },
  {
   "cell_type": "code",
   "execution_count": 106,
   "metadata": {},
   "outputs": [
    {
     "name": "stdout",
     "output_type": "stream",
     "text": [
      "<class 'numpy.ndarray'> <class 'numpy.ndarray'>\n",
      "10 of user's favourite movies are:\n",
      "['Heat (1995)']\n",
      "['Braveheart (1995)']\n",
      "['Clear and Present Danger (1994)']\n",
      "['Forrest Gump (1994)']\n",
      "['Fugitive, The (1993)']\n",
      "['Jurassic Park (1993)']\n",
      "['Silence of the Lambs, The (1991)']\n",
      "['Rock, The (1996)']\n",
      "['Twister (1996)']\n",
      "['Star Wars: Episode VI - Return of the Jedi (1983)']\n",
      "\n",
      "10 recommendations for the user:\n",
      "['Independence Day (a.k.a. ID4) (1996)']\n",
      "['Twelve Monkeys (a.k.a. 12 Monkeys) (1995)']\n",
      "['Mission: Impossible (1996)']\n",
      "['Toy Story (1995)' 'Innocents, The (1961)' 'Niagara (1953)'\n",
      " 'For All Mankind (1989)' 'Color of Paradise, The (Rang-e khoda) (1999)'\n",
      " \"I Know Where I'm Going! (1945)\" 'Chosen, The (1981)'\n",
      " 'Road Home, The (Wo de fu qin mu qin) (1999)' 'Scrooge (1970)'\n",
      " 'Proof (1991)' 'Parallax View, The (1974)' 'This Gun for Hire (1942)'\n",
      " 'Roaring Twenties, The (1939)' 'Mutiny on the Bounty (1962)'\n",
      " 'In the Realms of the Unreal (2004)' 'Twentieth Century (1934)'\n",
      " 'Call Northside 777 (1948)' 'Browning Version, The (1951)'\n",
      " 'Chalet Girl (2011)']\n",
      "['Pulp Fiction (1994)']\n",
      "['Batman (1989)']\n",
      "['Star Wars: Episode IV - A New Hope (1977)']\n",
      "['Dances with Wolves (1990)']\n",
      "['Stargate (1994)']\n",
      "[\"Schindler's List (1993)\"]\n"
     ]
    }
   ],
   "source": [
    "def recommendations_for_user(user:int, train, P, Q, df, n=10):\n",
    "       pred = predictions_for_user(user, train, P, Q)\n",
    "       recs = np.array(pred[:n])\n",
    "       # print(recs)\n",
    "       # favs = np.array( sorted(train.toarray()[user], reverse=True)[:5] )\n",
    "       favs = user_favourites(user, train)\n",
    "       favs= np.array(favs[:n])\n",
    "       print(f\"{n} of user's favourite movies are:\")\n",
    "       for id in favs[:, 0]:\n",
    "              print( df.loc[df.movieNewId == int(id)]['title'].values)\n",
    "\n",
    "       print(f\"\\n{n} recommendations for the user:\")\n",
    "       for id in recs[:, 0]:\n",
    "              print( df.loc[df.movieNewId == int(id)]['title'].values)\n",
    "\n",
    "recommendations_for_user(10, train, P, Q, movies_df)"
   ]
  },
  {
   "cell_type": "markdown",
   "metadata": {},
   "source": [
    "## roughwork"
   ]
  },
  {
   "cell_type": "code",
   "execution_count": 381,
   "metadata": {},
   "outputs": [
    {
     "data": {
      "text/plain": [
       "3      5.0\n",
       "4      5.0\n",
       "6      5.0\n",
       "8      5.0\n",
       "9      5.0\n",
       "      ... \n",
       "223    5.0\n",
       "224    5.0\n",
       "225    5.0\n",
       "228    5.0\n",
       "231    5.0\n",
       "Name: rating, Length: 124, dtype: float64"
      ]
     },
     "execution_count": 381,
     "metadata": {},
     "output_type": "execute_result"
    }
   ],
   "source": [
    "# ratings_df.loc[ratings_df.userNewId == 0].loc[ratings_df.rating == 5.0]['rating']"
   ]
  },
  {
   "cell_type": "code",
   "execution_count": 399,
   "metadata": {},
   "outputs": [
    {
     "data": {
      "text/plain": [
       "0    \n",
       "False    9742\n",
       "Name: count, dtype: int64"
      ]
     },
     "execution_count": 399,
     "metadata": {},
     "output_type": "execute_result"
    }
   ],
   "source": [
    "movies_df.duplicated().to_frame().value_counts()"
   ]
  },
  {
   "cell_type": "code",
   "execution_count": 432,
   "metadata": {},
   "outputs": [
    {
     "data": {
      "text/html": [
       "<div>\n",
       "<style scoped>\n",
       "    .dataframe tbody tr th:only-of-type {\n",
       "        vertical-align: middle;\n",
       "    }\n",
       "\n",
       "    .dataframe tbody tr th {\n",
       "        vertical-align: top;\n",
       "    }\n",
       "\n",
       "    .dataframe thead th {\n",
       "        text-align: right;\n",
       "    }\n",
       "</style>\n",
       "<table border=\"1\" class=\"dataframe\">\n",
       "  <thead>\n",
       "    <tr style=\"text-align: right;\">\n",
       "      <th></th>\n",
       "      <th>userId</th>\n",
       "      <th>movieId</th>\n",
       "      <th>rating</th>\n",
       "      <th>timestamp</th>\n",
       "      <th>userNewId</th>\n",
       "      <th>movieNewId</th>\n",
       "      <th>title</th>\n",
       "    </tr>\n",
       "  </thead>\n",
       "  <tbody>\n",
       "    <tr>\n",
       "      <th>0</th>\n",
       "      <td>1</td>\n",
       "      <td>1</td>\n",
       "      <td>4.0</td>\n",
       "      <td>964982703</td>\n",
       "      <td>0</td>\n",
       "      <td>0</td>\n",
       "      <td>0.0</td>\n",
       "    </tr>\n",
       "    <tr>\n",
       "      <th>1</th>\n",
       "      <td>1</td>\n",
       "      <td>3</td>\n",
       "      <td>4.0</td>\n",
       "      <td>964981247</td>\n",
       "      <td>0</td>\n",
       "      <td>1</td>\n",
       "      <td>0.0</td>\n",
       "    </tr>\n",
       "    <tr>\n",
       "      <th>2</th>\n",
       "      <td>1</td>\n",
       "      <td>6</td>\n",
       "      <td>4.0</td>\n",
       "      <td>964982224</td>\n",
       "      <td>0</td>\n",
       "      <td>2</td>\n",
       "      <td>0.0</td>\n",
       "    </tr>\n",
       "    <tr>\n",
       "      <th>3</th>\n",
       "      <td>1</td>\n",
       "      <td>47</td>\n",
       "      <td>5.0</td>\n",
       "      <td>964983815</td>\n",
       "      <td>0</td>\n",
       "      <td>3</td>\n",
       "      <td>0.0</td>\n",
       "    </tr>\n",
       "    <tr>\n",
       "      <th>4</th>\n",
       "      <td>1</td>\n",
       "      <td>50</td>\n",
       "      <td>5.0</td>\n",
       "      <td>964982931</td>\n",
       "      <td>0</td>\n",
       "      <td>4</td>\n",
       "      <td>0.0</td>\n",
       "    </tr>\n",
       "  </tbody>\n",
       "</table>\n",
       "</div>"
      ],
      "text/plain": [
       "   userId  movieId  rating  timestamp  userNewId  movieNewId  title\n",
       "0       1        1     4.0  964982703          0           0    0.0\n",
       "1       1        3     4.0  964981247          0           1    0.0\n",
       "2       1        6     4.0  964982224          0           2    0.0\n",
       "3       1       47     5.0  964983815          0           3    0.0\n",
       "4       1       50     5.0  964982931          0           4    0.0"
      ]
     },
     "execution_count": 432,
     "metadata": {},
     "output_type": "execute_result"
    }
   ],
   "source": [
    "# movie_titles = np.zeros(movies_df[\"movieNewId\"].max()+1)\n",
    "# for movie_id in movies_df['movieNewId'].unique():\n",
    "#        print(movie_id, end=',')\n",
    "#        if( len(movies_df.loc[movies_df.movieNewId == movie_id]) == 1 ):\n",
    "#               movie_titles[movie_id] = movies_df.loc[movies_df.movieNewId == movie_id]['title']\n",
    "\n",
    "# movie_titles = {}\n",
    "# subset = movies_df[['movieNewId','title']]\n",
    "# # print(subset.head())\n",
    "\n",
    "# for row in subset.itertuples(index=False):\n",
    "#        # print(row.movieNewId, row.title)\n",
    "#        movie_titles[row.movieNewId] = row.title\n",
    "\n",
    "# ratings_df['title'] = movie_titles[ratings_df['movieNewId']]\n",
    "\n",
    "\n",
    "def movie_title(row):\n",
    "       id = row.movieNewId\n",
    "       # print( movies_df.loc[movies_df.movieNewId == id]['title'] )\n",
    "       return movies_df.loc[movies_df.movieNewId == id]['title']\n",
    "\n",
    "ratings_df['title'] = ratings_df.apply(movie_title, axis=1)\n",
    "\n",
    "ratings_df.head()\n",
    "# movies_df.head()\n",
    "# joined_df = ratings_df.join(movies_df, on='movieNewId', how='outer')#, lsuffix='l', rsuffix='r')\n",
    "# joined_df = ratings_df.merge(movies_df, on='movieNewId', how='left')\n",
    "# joined_df.head()"
   ]
  },
  {
   "cell_type": "code",
   "execution_count": null,
   "metadata": {},
   "outputs": [],
   "source": []
  }
 ],
 "metadata": {
  "kernelspec": {
   "display_name": "RecSys_Env",
   "language": "python",
   "name": "recsys_env"
  },
  "language_info": {
   "codemirror_mode": {
    "name": "ipython",
    "version": 3
   },
   "file_extension": ".py",
   "mimetype": "text/x-python",
   "name": "python",
   "nbconvert_exporter": "python",
   "pygments_lexer": "ipython3",
   "version": "3.10.5"
  }
 },
 "nbformat": 4,
 "nbformat_minor": 2
}
